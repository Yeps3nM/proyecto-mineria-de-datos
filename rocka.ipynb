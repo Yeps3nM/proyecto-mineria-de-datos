{
  "cells": [
    {
      "cell_type": "code",
      "execution_count": 61,
      "metadata": {},
      "outputs": [
        {
          "name": "stdout",
          "output_type": "stream",
          "text": [
            "Note: you may need to restart the kernel to use updated packages.\n"
          ]
        }
      ],
      "source": [
        "%pip install nbformat openpyxl -q\n"
      ]
    },
    {
      "cell_type": "code",
      "execution_count": 62,
      "metadata": {},
      "outputs": [],
      "source": [
        "import pandas as pd\n",
        "import numpy as np\n",
        "import plotly.express as px\n",
        "import plotly.graph_objects as go\n",
        "from plotly.subplots import make_subplots\n",
        "from sklearn.preprocessing import StandardScaler\n",
        "from sklearn.decomposition import PCA\n",
        "import warnings\n",
        "warnings.filterwarnings('ignore')\n"
      ]
    },
    {
      "cell_type": "code",
      "execution_count": 63,
      "metadata": {},
      "outputs": [
        {
          "data": {
            "text/html": [
              "<div>\n",
              "<style scoped>\n",
              "    .dataframe tbody tr th:only-of-type {\n",
              "        vertical-align: middle;\n",
              "    }\n",
              "\n",
              "    .dataframe tbody tr th {\n",
              "        vertical-align: top;\n",
              "    }\n",
              "\n",
              "    .dataframe thead th {\n",
              "        text-align: right;\n",
              "    }\n",
              "</style>\n",
              "<table border=\"1\" class=\"dataframe\">\n",
              "  <thead>\n",
              "    <tr style=\"text-align: right;\">\n",
              "      <th></th>\n",
              "      <th>Player</th>\n",
              "      <th>Nation</th>\n",
              "      <th>Pos</th>\n",
              "      <th>Age</th>\n",
              "      <th>MP</th>\n",
              "      <th>Starts</th>\n",
              "      <th>Min</th>\n",
              "      <th>90s</th>\n",
              "      <th>Gls</th>\n",
              "      <th>Ast</th>\n",
              "      <th>...</th>\n",
              "      <th>G+A-PK</th>\n",
              "      <th>xG.1</th>\n",
              "      <th>xAG.1</th>\n",
              "      <th>xG+xAG</th>\n",
              "      <th>npxG.1</th>\n",
              "      <th>npxG+xAG.1</th>\n",
              "      <th>Matches</th>\n",
              "      <th>periodo</th>\n",
              "      <th>▲</th>\n",
              "      <th>▼</th>\n",
              "    </tr>\n",
              "  </thead>\n",
              "  <tbody>\n",
              "    <tr>\n",
              "      <th>0</th>\n",
              "      <td>David Alaba</td>\n",
              "      <td>at AUT</td>\n",
              "      <td>DF</td>\n",
              "      <td>29.0</td>\n",
              "      <td>30</td>\n",
              "      <td>30</td>\n",
              "      <td>2642.0</td>\n",
              "      <td>29.4</td>\n",
              "      <td>2.0</td>\n",
              "      <td>3.0</td>\n",
              "      <td>...</td>\n",
              "      <td>0.17</td>\n",
              "      <td>0.06</td>\n",
              "      <td>0.07</td>\n",
              "      <td>0.13</td>\n",
              "      <td>0.06</td>\n",
              "      <td>0.13</td>\n",
              "      <td>Matches</td>\n",
              "      <td>21-22</td>\n",
              "      <td>NaN</td>\n",
              "      <td>NaN</td>\n",
              "    </tr>\n",
              "    <tr>\n",
              "      <th>1</th>\n",
              "      <td>Marco Asensio</td>\n",
              "      <td>es ESP</td>\n",
              "      <td>FW,MF</td>\n",
              "      <td>25.0</td>\n",
              "      <td>31</td>\n",
              "      <td>19</td>\n",
              "      <td>1731.0</td>\n",
              "      <td>19.2</td>\n",
              "      <td>10.0</td>\n",
              "      <td>0.0</td>\n",
              "      <td>...</td>\n",
              "      <td>0.52</td>\n",
              "      <td>0.39</td>\n",
              "      <td>0.13</td>\n",
              "      <td>0.52</td>\n",
              "      <td>0.39</td>\n",
              "      <td>0.52</td>\n",
              "      <td>Matches</td>\n",
              "      <td>21-22</td>\n",
              "      <td>NaN</td>\n",
              "      <td>NaN</td>\n",
              "    </tr>\n",
              "    <tr>\n",
              "      <th>2</th>\n",
              "      <td>Gareth Bale</td>\n",
              "      <td>wls WAL</td>\n",
              "      <td>FW</td>\n",
              "      <td>32.0</td>\n",
              "      <td>5</td>\n",
              "      <td>4</td>\n",
              "      <td>280.0</td>\n",
              "      <td>3.1</td>\n",
              "      <td>1.0</td>\n",
              "      <td>0.0</td>\n",
              "      <td>...</td>\n",
              "      <td>0.32</td>\n",
              "      <td>0.39</td>\n",
              "      <td>0.03</td>\n",
              "      <td>0.42</td>\n",
              "      <td>0.39</td>\n",
              "      <td>0.42</td>\n",
              "      <td>Matches</td>\n",
              "      <td>21-22</td>\n",
              "      <td>NaN</td>\n",
              "      <td>NaN</td>\n",
              "    </tr>\n",
              "    <tr>\n",
              "      <th>3</th>\n",
              "      <td>Karim Benzema</td>\n",
              "      <td>fr FRA</td>\n",
              "      <td>FW</td>\n",
              "      <td>33.0</td>\n",
              "      <td>32</td>\n",
              "      <td>31</td>\n",
              "      <td>2593.0</td>\n",
              "      <td>28.8</td>\n",
              "      <td>27.0</td>\n",
              "      <td>12.0</td>\n",
              "      <td>...</td>\n",
              "      <td>1.11</td>\n",
              "      <td>0.83</td>\n",
              "      <td>0.28</td>\n",
              "      <td>1.10</td>\n",
              "      <td>0.52</td>\n",
              "      <td>0.80</td>\n",
              "      <td>Matches</td>\n",
              "      <td>21-22</td>\n",
              "      <td>NaN</td>\n",
              "      <td>NaN</td>\n",
              "    </tr>\n",
              "    <tr>\n",
              "      <th>4</th>\n",
              "      <td>Antonio Blanco</td>\n",
              "      <td>es ESP</td>\n",
              "      <td>MF</td>\n",
              "      <td>21.0</td>\n",
              "      <td>1</td>\n",
              "      <td>0</td>\n",
              "      <td>31.0</td>\n",
              "      <td>0.3</td>\n",
              "      <td>0.0</td>\n",
              "      <td>0.0</td>\n",
              "      <td>...</td>\n",
              "      <td>0.00</td>\n",
              "      <td>0.00</td>\n",
              "      <td>0.00</td>\n",
              "      <td>0.00</td>\n",
              "      <td>0.00</td>\n",
              "      <td>0.00</td>\n",
              "      <td>Matches</td>\n",
              "      <td>21-22</td>\n",
              "      <td>NaN</td>\n",
              "      <td>NaN</td>\n",
              "    </tr>\n",
              "    <tr>\n",
              "      <th>...</th>\n",
              "      <td>...</td>\n",
              "      <td>...</td>\n",
              "      <td>...</td>\n",
              "      <td>...</td>\n",
              "      <td>...</td>\n",
              "      <td>...</td>\n",
              "      <td>...</td>\n",
              "      <td>...</td>\n",
              "      <td>...</td>\n",
              "      <td>...</td>\n",
              "      <td>...</td>\n",
              "      <td>...</td>\n",
              "      <td>...</td>\n",
              "      <td>...</td>\n",
              "      <td>...</td>\n",
              "      <td>...</td>\n",
              "      <td>...</td>\n",
              "      <td>...</td>\n",
              "      <td>...</td>\n",
              "      <td>...</td>\n",
              "      <td>...</td>\n",
              "    </tr>\n",
              "    <tr>\n",
              "      <th>147</th>\n",
              "      <td>Federico Valverde</td>\n",
              "      <td>uy URU</td>\n",
              "      <td>MF,DF</td>\n",
              "      <td>26.0</td>\n",
              "      <td>36</td>\n",
              "      <td>34</td>\n",
              "      <td>3032.0</td>\n",
              "      <td>33.7</td>\n",
              "      <td>6.0</td>\n",
              "      <td>4.0</td>\n",
              "      <td>...</td>\n",
              "      <td>0.30</td>\n",
              "      <td>0.08</td>\n",
              "      <td>0.09</td>\n",
              "      <td>0.17</td>\n",
              "      <td>0.08</td>\n",
              "      <td>0.17</td>\n",
              "      <td>Matches</td>\n",
              "      <td>24-25</td>\n",
              "      <td>NaN</td>\n",
              "      <td>NaN</td>\n",
              "    </tr>\n",
              "    <tr>\n",
              "      <th>148</th>\n",
              "      <td>Lucas Vázquez</td>\n",
              "      <td>es ESP</td>\n",
              "      <td>DF</td>\n",
              "      <td>33.0</td>\n",
              "      <td>32</td>\n",
              "      <td>25</td>\n",
              "      <td>2189.0</td>\n",
              "      <td>24.3</td>\n",
              "      <td>1.0</td>\n",
              "      <td>5.0</td>\n",
              "      <td>...</td>\n",
              "      <td>0.25</td>\n",
              "      <td>0.06</td>\n",
              "      <td>0.19</td>\n",
              "      <td>0.25</td>\n",
              "      <td>0.06</td>\n",
              "      <td>0.25</td>\n",
              "      <td>Matches</td>\n",
              "      <td>24-25</td>\n",
              "      <td>NaN</td>\n",
              "      <td>NaN</td>\n",
              "    </tr>\n",
              "    <tr>\n",
              "      <th>149</th>\n",
              "      <td>Daniel Yáñez</td>\n",
              "      <td>es ESP</td>\n",
              "      <td>FW</td>\n",
              "      <td>17.0</td>\n",
              "      <td>1</td>\n",
              "      <td>0</td>\n",
              "      <td>2.0</td>\n",
              "      <td>0.0</td>\n",
              "      <td>0.0</td>\n",
              "      <td>0.0</td>\n",
              "      <td>...</td>\n",
              "      <td>0.00</td>\n",
              "      <td>0.00</td>\n",
              "      <td>0.00</td>\n",
              "      <td>0.00</td>\n",
              "      <td>0.00</td>\n",
              "      <td>0.00</td>\n",
              "      <td>Matches</td>\n",
              "      <td>24-25</td>\n",
              "      <td>NaN</td>\n",
              "      <td>NaN</td>\n",
              "    </tr>\n",
              "    <tr>\n",
              "      <th>150</th>\n",
              "      <td>Squad Total</td>\n",
              "      <td>NaN</td>\n",
              "      <td>NaN</td>\n",
              "      <td>26.6</td>\n",
              "      <td>38</td>\n",
              "      <td>418</td>\n",
              "      <td>342.0</td>\n",
              "      <td>38.0</td>\n",
              "      <td>78.0</td>\n",
              "      <td>55.0</td>\n",
              "      <td>...</td>\n",
              "      <td>3.24</td>\n",
              "      <td>1.98</td>\n",
              "      <td>1.44</td>\n",
              "      <td>3.42</td>\n",
              "      <td>1.70</td>\n",
              "      <td>3.13</td>\n",
              "      <td>NaN</td>\n",
              "      <td>24-25</td>\n",
              "      <td>NaN</td>\n",
              "      <td>NaN</td>\n",
              "    </tr>\n",
              "    <tr>\n",
              "      <th>151</th>\n",
              "      <td>Opponent Total</td>\n",
              "      <td>NaN</td>\n",
              "      <td>NaN</td>\n",
              "      <td>26.7</td>\n",
              "      <td>38</td>\n",
              "      <td>418</td>\n",
              "      <td>342.0</td>\n",
              "      <td>38.0</td>\n",
              "      <td>37.0</td>\n",
              "      <td>27.0</td>\n",
              "      <td>...</td>\n",
              "      <td>1.61</td>\n",
              "      <td>1.13</td>\n",
              "      <td>0.84</td>\n",
              "      <td>1.97</td>\n",
              "      <td>1.07</td>\n",
              "      <td>1.92</td>\n",
              "      <td>NaN</td>\n",
              "      <td>24-25</td>\n",
              "      <td>NaN</td>\n",
              "      <td>NaN</td>\n",
              "    </tr>\n",
              "  </tbody>\n",
              "</table>\n",
              "<p>152 rows × 37 columns</p>\n",
              "</div>"
            ],
            "text/plain": [
              "                Player   Nation    Pos   Age  MP  Starts     Min   90s   Gls  \\\n",
              "0          David Alaba   at AUT     DF  29.0  30      30  2642.0  29.4   2.0   \n",
              "1        Marco Asensio   es ESP  FW,MF  25.0  31      19  1731.0  19.2  10.0   \n",
              "2          Gareth Bale  wls WAL     FW  32.0   5       4   280.0   3.1   1.0   \n",
              "3        Karim Benzema   fr FRA     FW  33.0  32      31  2593.0  28.8  27.0   \n",
              "4       Antonio Blanco   es ESP     MF  21.0   1       0    31.0   0.3   0.0   \n",
              "..                 ...      ...    ...   ...  ..     ...     ...   ...   ...   \n",
              "147  Federico Valverde   uy URU  MF,DF  26.0  36      34  3032.0  33.7   6.0   \n",
              "148      Lucas Vázquez   es ESP     DF  33.0  32      25  2189.0  24.3   1.0   \n",
              "149       Daniel Yáñez   es ESP     FW  17.0   1       0     2.0   0.0   0.0   \n",
              "150        Squad Total      NaN    NaN  26.6  38     418   342.0  38.0  78.0   \n",
              "151     Opponent Total      NaN    NaN  26.7  38     418   342.0  38.0  37.0   \n",
              "\n",
              "      Ast  ...  G+A-PK  xG.1  xAG.1  xG+xAG  npxG.1  npxG+xAG.1  Matches  \\\n",
              "0     3.0  ...    0.17  0.06   0.07    0.13    0.06        0.13  Matches   \n",
              "1     0.0  ...    0.52  0.39   0.13    0.52    0.39        0.52  Matches   \n",
              "2     0.0  ...    0.32  0.39   0.03    0.42    0.39        0.42  Matches   \n",
              "3    12.0  ...    1.11  0.83   0.28    1.10    0.52        0.80  Matches   \n",
              "4     0.0  ...    0.00  0.00   0.00    0.00    0.00        0.00  Matches   \n",
              "..    ...  ...     ...   ...    ...     ...     ...         ...      ...   \n",
              "147   4.0  ...    0.30  0.08   0.09    0.17    0.08        0.17  Matches   \n",
              "148   5.0  ...    0.25  0.06   0.19    0.25    0.06        0.25  Matches   \n",
              "149   0.0  ...    0.00  0.00   0.00    0.00    0.00        0.00  Matches   \n",
              "150  55.0  ...    3.24  1.98   1.44    3.42    1.70        3.13      NaN   \n",
              "151  27.0  ...    1.61  1.13   0.84    1.97    1.07        1.92      NaN   \n",
              "\n",
              "     periodo    ▲    ▼  \n",
              "0      21-22  NaN  NaN  \n",
              "1      21-22  NaN  NaN  \n",
              "2      21-22  NaN  NaN  \n",
              "3      21-22  NaN  NaN  \n",
              "4      21-22  NaN  NaN  \n",
              "..       ...  ...  ...  \n",
              "147    24-25  NaN  NaN  \n",
              "148    24-25  NaN  NaN  \n",
              "149    24-25  NaN  NaN  \n",
              "150    24-25  NaN  NaN  \n",
              "151    24-25  NaN  NaN  \n",
              "\n",
              "[152 rows x 37 columns]"
            ]
          },
          "execution_count": 63,
          "metadata": {},
          "output_type": "execute_result"
        }
      ],
      "source": [
        "# Cargar datasets\n",
        "files = ['datasets/rm_21_22.xlsx', 'datasets/rm_22_23.xlsx', 'datasets/rm_23_24.xlsx', 'datasets/rm_24_25.xlsx']\n",
        "dfs = []\n",
        "for f in files:\n",
        "    df = pd.read_excel(f)\n",
        "    df['periodo'] = f.split('_')[1] + '-' + f.split('_')[2].replace('.xlsx', '')\n",
        "    dfs.append(df)\n",
        "\n",
        "df = pd.concat(dfs, ignore_index=True)\n",
        "df\n"
      ]
    },
    {
      "cell_type": "code",
      "execution_count": 64,
      "metadata": {},
      "outputs": [
        {
          "data": {
            "text/plain": [
              "(152, 37)"
            ]
          },
          "execution_count": 64,
          "metadata": {},
          "output_type": "execute_result"
        }
      ],
      "source": [
        "# Limpieza\n",
        "numeric_cols = df.select_dtypes(include=[np.number]).columns\n",
        "categorical_cols = df.select_dtypes(include=['object']).columns\n",
        "\n",
        "for col in numeric_cols:\n",
        "    df[col].fillna(df[col].median(), inplace=True)\n",
        "\n",
        "for col in categorical_cols:\n",
        "    if col != 'periodo':\n",
        "        df[col].fillna(df[col].mode()[0], inplace=True)\n",
        "\n",
        "df = df.drop_duplicates()\n",
        "df.shape\n"
      ]
    },
    {
      "cell_type": "code",
      "execution_count": 65,
      "metadata": {},
      "outputs": [
        {
          "data": {
            "text/html": [
              "<div>\n",
              "<style scoped>\n",
              "    .dataframe tbody tr th:only-of-type {\n",
              "        vertical-align: middle;\n",
              "    }\n",
              "\n",
              "    .dataframe tbody tr th {\n",
              "        vertical-align: top;\n",
              "    }\n",
              "\n",
              "    .dataframe thead th {\n",
              "        text-align: right;\n",
              "    }\n",
              "</style>\n",
              "<table border=\"1\" class=\"dataframe\">\n",
              "  <thead>\n",
              "    <tr style=\"text-align: right;\">\n",
              "      <th></th>\n",
              "      <th>Age</th>\n",
              "      <th>MP</th>\n",
              "      <th>Starts</th>\n",
              "      <th>Min</th>\n",
              "      <th>90s</th>\n",
              "      <th>Gls</th>\n",
              "      <th>Ast</th>\n",
              "      <th>G+A</th>\n",
              "      <th>G-PK</th>\n",
              "      <th>PK</th>\n",
              "      <th>...</th>\n",
              "      <th>Gls.1</th>\n",
              "      <th>Ast.1</th>\n",
              "      <th>G+A.1</th>\n",
              "      <th>G-PK.1</th>\n",
              "      <th>G+A-PK</th>\n",
              "      <th>xG.1</th>\n",
              "      <th>xAG.1</th>\n",
              "      <th>xG+xAG</th>\n",
              "      <th>npxG.1</th>\n",
              "      <th>npxG+xAG.1</th>\n",
              "    </tr>\n",
              "  </thead>\n",
              "  <tbody>\n",
              "    <tr>\n",
              "      <th>count</th>\n",
              "      <td>1.520000e+02</td>\n",
              "      <td>1.520000e+02</td>\n",
              "      <td>1.520000e+02</td>\n",
              "      <td>1.520000e+02</td>\n",
              "      <td>1.520000e+02</td>\n",
              "      <td>1.520000e+02</td>\n",
              "      <td>1.520000e+02</td>\n",
              "      <td>1.520000e+02</td>\n",
              "      <td>1.520000e+02</td>\n",
              "      <td>1.520000e+02</td>\n",
              "      <td>...</td>\n",
              "      <td>1.520000e+02</td>\n",
              "      <td>1.520000e+02</td>\n",
              "      <td>1.520000e+02</td>\n",
              "      <td>152.000000</td>\n",
              "      <td>1.520000e+02</td>\n",
              "      <td>1.520000e+02</td>\n",
              "      <td>1.520000e+02</td>\n",
              "      <td>1.520000e+02</td>\n",
              "      <td>1.520000e+02</td>\n",
              "      <td>1.520000e+02</td>\n",
              "    </tr>\n",
              "    <tr>\n",
              "      <th>mean</th>\n",
              "      <td>-5.843279e-18</td>\n",
              "      <td>4.382459e-17</td>\n",
              "      <td>-3.505967e-17</td>\n",
              "      <td>-1.110223e-16</td>\n",
              "      <td>-5.843279e-17</td>\n",
              "      <td>-2.921640e-17</td>\n",
              "      <td>-5.843279e-18</td>\n",
              "      <td>1.168656e-17</td>\n",
              "      <td>3.505967e-17</td>\n",
              "      <td>2.045148e-17</td>\n",
              "      <td>...</td>\n",
              "      <td>-5.258951e-17</td>\n",
              "      <td>3.505967e-17</td>\n",
              "      <td>-2.921640e-17</td>\n",
              "      <td>0.000000</td>\n",
              "      <td>5.258951e-17</td>\n",
              "      <td>-6.135443e-17</td>\n",
              "      <td>-1.168656e-16</td>\n",
              "      <td>-3.798131e-17</td>\n",
              "      <td>-8.180591e-17</td>\n",
              "      <td>9.933574e-17</td>\n",
              "    </tr>\n",
              "    <tr>\n",
              "      <th>std</th>\n",
              "      <td>1.003306e+00</td>\n",
              "      <td>1.003306e+00</td>\n",
              "      <td>1.003306e+00</td>\n",
              "      <td>1.003306e+00</td>\n",
              "      <td>1.003306e+00</td>\n",
              "      <td>1.003306e+00</td>\n",
              "      <td>1.003306e+00</td>\n",
              "      <td>1.003306e+00</td>\n",
              "      <td>1.003306e+00</td>\n",
              "      <td>1.003306e+00</td>\n",
              "      <td>...</td>\n",
              "      <td>1.003306e+00</td>\n",
              "      <td>1.003306e+00</td>\n",
              "      <td>1.003306e+00</td>\n",
              "      <td>1.003306</td>\n",
              "      <td>1.003306e+00</td>\n",
              "      <td>1.003306e+00</td>\n",
              "      <td>1.003306e+00</td>\n",
              "      <td>1.003306e+00</td>\n",
              "      <td>1.003306e+00</td>\n",
              "      <td>1.003306e+00</td>\n",
              "    </tr>\n",
              "    <tr>\n",
              "      <th>min</th>\n",
              "      <td>-1.469682e+00</td>\n",
              "      <td>-1.200006e+00</td>\n",
              "      <td>-3.608719e-01</td>\n",
              "      <td>-1.207326e+00</td>\n",
              "      <td>-1.530092e+00</td>\n",
              "      <td>-3.746254e-01</td>\n",
              "      <td>-3.898682e-01</td>\n",
              "      <td>-3.846413e-01</td>\n",
              "      <td>-3.781782e-01</td>\n",
              "      <td>-2.765070e-01</td>\n",
              "      <td>...</td>\n",
              "      <td>-4.976954e-01</td>\n",
              "      <td>-5.873448e-01</td>\n",
              "      <td>-5.948483e-01</td>\n",
              "      <td>-0.505930</td>\n",
              "      <td>-6.030930e-01</td>\n",
              "      <td>-6.209660e-01</td>\n",
              "      <td>-6.513154e-01</td>\n",
              "      <td>-6.867265e-01</td>\n",
              "      <td>-6.348363e-01</td>\n",
              "      <td>-6.986945e-01</td>\n",
              "    </tr>\n",
              "    <tr>\n",
              "      <th>25%</th>\n",
              "      <td>-8.873264e-01</td>\n",
              "      <td>-1.077141e+00</td>\n",
              "      <td>-3.608719e-01</td>\n",
              "      <td>-8.326599e-01</td>\n",
              "      <td>-9.332705e-01</td>\n",
              "      <td>-3.746254e-01</td>\n",
              "      <td>-3.898682e-01</td>\n",
              "      <td>-3.421827e-01</td>\n",
              "      <td>-3.781782e-01</td>\n",
              "      <td>-2.765070e-01</td>\n",
              "      <td>...</td>\n",
              "      <td>-4.976954e-01</td>\n",
              "      <td>-5.873448e-01</td>\n",
              "      <td>-5.225331e-01</td>\n",
              "      <td>-0.505930</td>\n",
              "      <td>-5.270746e-01</td>\n",
              "      <td>-5.176982e-01</td>\n",
              "      <td>-4.814889e-01</td>\n",
              "      <td>-5.111329e-01</td>\n",
              "      <td>-5.203700e-01</td>\n",
              "      <td>-5.119292e-01</td>\n",
              "    </tr>\n",
              "    <tr>\n",
              "      <th>50%</th>\n",
              "      <td>-1.108519e-01</td>\n",
              "      <td>9.884574e-02</td>\n",
              "      <td>-2.296457e-01</td>\n",
              "      <td>-2.433988e-01</td>\n",
              "      <td>8.785454e-02</td>\n",
              "      <td>-3.025456e-01</td>\n",
              "      <td>-2.889142e-01</td>\n",
              "      <td>-2.997241e-01</td>\n",
              "      <td>-2.984513e-01</td>\n",
              "      <td>-2.765070e-01</td>\n",
              "      <td>...</td>\n",
              "      <td>-3.981891e-01</td>\n",
              "      <td>-2.934576e-01</td>\n",
              "      <td>-3.131993e-01</td>\n",
              "      <td>-0.396889</td>\n",
              "      <td>-3.070215e-01</td>\n",
              "      <td>-4.144303e-01</td>\n",
              "      <td>-2.759093e-01</td>\n",
              "      <td>-3.275577e-01</td>\n",
              "      <td>-4.059036e-01</td>\n",
              "      <td>-3.166745e-01</td>\n",
              "    </tr>\n",
              "    <tr>\n",
              "      <th>75%</th>\n",
              "      <td>8.597411e-01</td>\n",
              "      <td>9.764481e-01</td>\n",
              "      <td>-9.841961e-02</td>\n",
              "      <td>8.167464e-01</td>\n",
              "      <td>5.960857e-01</td>\n",
              "      <td>-2.124458e-01</td>\n",
              "      <td>-8.700636e-02</td>\n",
              "      <td>-1.298898e-01</td>\n",
              "      <td>-1.987927e-01</td>\n",
              "      <td>-2.765070e-01</td>\n",
              "      <td>...</td>\n",
              "      <td>-1.260196e-02</td>\n",
              "      <td>1.065556e-01</td>\n",
              "      <td>2.704311e-03</td>\n",
              "      <td>-0.008429</td>\n",
              "      <td>2.505868e-02</td>\n",
              "      <td>1.212718e-01</td>\n",
              "      <td>9.949672e-02</td>\n",
              "      <td>1.952324e-01</td>\n",
              "      <td>8.057827e-02</td>\n",
              "      <td>1.587282e-01</td>\n",
              "    </tr>\n",
              "    <tr>\n",
              "      <th>max</th>\n",
              "      <td>2.606809e+00</td>\n",
              "      <td>1.467905e+00</td>\n",
              "      <td>4.210172e+00</td>\n",
              "      <td>2.327657e+00</td>\n",
              "      <td>2.013538e+00</td>\n",
              "      <td>5.752160e+00</td>\n",
              "      <td>6.273092e+00</td>\n",
              "      <td>6.026606e+00</td>\n",
              "      <td>6.239154e+00</td>\n",
              "      <td>5.814662e+00</td>\n",
              "      <td>...</td>\n",
              "      <td>5.074660e+00</td>\n",
              "      <td>5.094475e+00</td>\n",
              "      <td>5.449187e+00</td>\n",
              "      <td>5.436822</td>\n",
              "      <td>5.670422e+00</td>\n",
              "      <td>4.516611e+00</td>\n",
              "      <td>4.926146e+00</td>\n",
              "      <td>4.868417e+00</td>\n",
              "      <td>4.344449e+00</td>\n",
              "      <td>4.785415e+00</td>\n",
              "    </tr>\n",
              "  </tbody>\n",
              "</table>\n",
              "<p>8 rows × 30 columns</p>\n",
              "</div>"
            ],
            "text/plain": [
              "                Age            MP        Starts           Min           90s  \\\n",
              "count  1.520000e+02  1.520000e+02  1.520000e+02  1.520000e+02  1.520000e+02   \n",
              "mean  -5.843279e-18  4.382459e-17 -3.505967e-17 -1.110223e-16 -5.843279e-17   \n",
              "std    1.003306e+00  1.003306e+00  1.003306e+00  1.003306e+00  1.003306e+00   \n",
              "min   -1.469682e+00 -1.200006e+00 -3.608719e-01 -1.207326e+00 -1.530092e+00   \n",
              "25%   -8.873264e-01 -1.077141e+00 -3.608719e-01 -8.326599e-01 -9.332705e-01   \n",
              "50%   -1.108519e-01  9.884574e-02 -2.296457e-01 -2.433988e-01  8.785454e-02   \n",
              "75%    8.597411e-01  9.764481e-01 -9.841961e-02  8.167464e-01  5.960857e-01   \n",
              "max    2.606809e+00  1.467905e+00  4.210172e+00  2.327657e+00  2.013538e+00   \n",
              "\n",
              "                Gls           Ast           G+A          G-PK            PK  \\\n",
              "count  1.520000e+02  1.520000e+02  1.520000e+02  1.520000e+02  1.520000e+02   \n",
              "mean  -2.921640e-17 -5.843279e-18  1.168656e-17  3.505967e-17  2.045148e-17   \n",
              "std    1.003306e+00  1.003306e+00  1.003306e+00  1.003306e+00  1.003306e+00   \n",
              "min   -3.746254e-01 -3.898682e-01 -3.846413e-01 -3.781782e-01 -2.765070e-01   \n",
              "25%   -3.746254e-01 -3.898682e-01 -3.421827e-01 -3.781782e-01 -2.765070e-01   \n",
              "50%   -3.025456e-01 -2.889142e-01 -2.997241e-01 -2.984513e-01 -2.765070e-01   \n",
              "75%   -2.124458e-01 -8.700636e-02 -1.298898e-01 -1.987927e-01 -2.765070e-01   \n",
              "max    5.752160e+00  6.273092e+00  6.026606e+00  6.239154e+00  5.814662e+00   \n",
              "\n",
              "       ...         Gls.1         Ast.1         G+A.1      G-PK.1  \\\n",
              "count  ...  1.520000e+02  1.520000e+02  1.520000e+02  152.000000   \n",
              "mean   ... -5.258951e-17  3.505967e-17 -2.921640e-17    0.000000   \n",
              "std    ...  1.003306e+00  1.003306e+00  1.003306e+00    1.003306   \n",
              "min    ... -4.976954e-01 -5.873448e-01 -5.948483e-01   -0.505930   \n",
              "25%    ... -4.976954e-01 -5.873448e-01 -5.225331e-01   -0.505930   \n",
              "50%    ... -3.981891e-01 -2.934576e-01 -3.131993e-01   -0.396889   \n",
              "75%    ... -1.260196e-02  1.065556e-01  2.704311e-03   -0.008429   \n",
              "max    ...  5.074660e+00  5.094475e+00  5.449187e+00    5.436822   \n",
              "\n",
              "             G+A-PK          xG.1         xAG.1        xG+xAG        npxG.1  \\\n",
              "count  1.520000e+02  1.520000e+02  1.520000e+02  1.520000e+02  1.520000e+02   \n",
              "mean   5.258951e-17 -6.135443e-17 -1.168656e-16 -3.798131e-17 -8.180591e-17   \n",
              "std    1.003306e+00  1.003306e+00  1.003306e+00  1.003306e+00  1.003306e+00   \n",
              "min   -6.030930e-01 -6.209660e-01 -6.513154e-01 -6.867265e-01 -6.348363e-01   \n",
              "25%   -5.270746e-01 -5.176982e-01 -4.814889e-01 -5.111329e-01 -5.203700e-01   \n",
              "50%   -3.070215e-01 -4.144303e-01 -2.759093e-01 -3.275577e-01 -4.059036e-01   \n",
              "75%    2.505868e-02  1.212718e-01  9.949672e-02  1.952324e-01  8.057827e-02   \n",
              "max    5.670422e+00  4.516611e+00  4.926146e+00  4.868417e+00  4.344449e+00   \n",
              "\n",
              "         npxG+xAG.1  \n",
              "count  1.520000e+02  \n",
              "mean   9.933574e-17  \n",
              "std    1.003306e+00  \n",
              "min   -6.986945e-01  \n",
              "25%   -5.119292e-01  \n",
              "50%   -3.166745e-01  \n",
              "75%    1.587282e-01  \n",
              "max    4.785415e+00  \n",
              "\n",
              "[8 rows x 30 columns]"
            ]
          },
          "execution_count": 65,
          "metadata": {},
          "output_type": "execute_result"
        }
      ],
      "source": [
        "# Escalamiento\n",
        "df_scaled = df.copy()\n",
        "scaler = StandardScaler()\n",
        "df_scaled[numeric_cols] = scaler.fit_transform(df_scaled[numeric_cols])\n",
        "df_scaled.describe()\n"
      ]
    },
    {
      "cell_type": "code",
      "execution_count": 79,
      "metadata": {},
      "outputs": [
        {
          "data": {
            "text/html": [
              "<div>\n",
              "<style scoped>\n",
              "    .dataframe tbody tr th:only-of-type {\n",
              "        vertical-align: middle;\n",
              "    }\n",
              "\n",
              "    .dataframe tbody tr th {\n",
              "        vertical-align: top;\n",
              "    }\n",
              "\n",
              "    .dataframe thead th {\n",
              "        text-align: right;\n",
              "    }\n",
              "</style>\n",
              "<table border=\"1\" class=\"dataframe\">\n",
              "  <thead>\n",
              "    <tr style=\"text-align: right;\">\n",
              "      <th></th>\n",
              "      <th>Player</th>\n",
              "      <th>Nation</th>\n",
              "      <th>Age</th>\n",
              "      <th>MP</th>\n",
              "      <th>Starts</th>\n",
              "      <th>Min</th>\n",
              "      <th>90s</th>\n",
              "      <th>Gls</th>\n",
              "      <th>Ast</th>\n",
              "      <th>G+A</th>\n",
              "      <th>...</th>\n",
              "      <th>▲</th>\n",
              "      <th>▼</th>\n",
              "      <th>Pos_DF,MF</th>\n",
              "      <th>Pos_FW</th>\n",
              "      <th>Pos_FW,DF</th>\n",
              "      <th>Pos_FW,MF</th>\n",
              "      <th>Pos_GK</th>\n",
              "      <th>Pos_MF</th>\n",
              "      <th>Pos_MF,DF</th>\n",
              "      <th>Pos_MF,FW</th>\n",
              "    </tr>\n",
              "  </thead>\n",
              "  <tbody>\n",
              "    <tr>\n",
              "      <th>0</th>\n",
              "      <td>David Alaba</td>\n",
              "      <td>at AUT</td>\n",
              "      <td>0.859741</td>\n",
              "      <td>0.906240</td>\n",
              "      <td>-0.032807</td>\n",
              "      <td>1.872810</td>\n",
              "      <td>1.211558</td>\n",
              "      <td>-0.230466</td>\n",
              "      <td>-0.087006</td>\n",
              "      <td>-0.172348</td>\n",
              "      <td>...</td>\n",
              "      <td>Andriy Lunin</td>\n",
              "      <td>Andriy Lunin</td>\n",
              "      <td>-0.081379</td>\n",
              "      <td>-0.389249</td>\n",
              "      <td>-0.11547</td>\n",
              "      <td>-0.250873</td>\n",
              "      <td>-0.411377</td>\n",
              "      <td>-0.443678</td>\n",
              "      <td>-0.202721</td>\n",
              "      <td>-0.202721</td>\n",
              "    </tr>\n",
              "    <tr>\n",
              "      <th>1</th>\n",
              "      <td>Marco Asensio</td>\n",
              "      <td>es ESP</td>\n",
              "      <td>0.083267</td>\n",
              "      <td>0.976448</td>\n",
              "      <td>-0.153097</td>\n",
              "      <td>0.810332</td>\n",
              "      <td>0.260373</td>\n",
              "      <td>0.346173</td>\n",
              "      <td>-0.389868</td>\n",
              "      <td>0.039945</td>\n",
              "      <td>...</td>\n",
              "      <td>Andriy Lunin</td>\n",
              "      <td>Andriy Lunin</td>\n",
              "      <td>-0.081379</td>\n",
              "      <td>-0.389249</td>\n",
              "      <td>-0.11547</td>\n",
              "      <td>3.986087</td>\n",
              "      <td>-0.411377</td>\n",
              "      <td>-0.443678</td>\n",
              "      <td>-0.202721</td>\n",
              "      <td>-0.202721</td>\n",
              "    </tr>\n",
              "    <tr>\n",
              "      <th>2</th>\n",
              "      <td>Gareth Bale</td>\n",
              "      <td>wls WAL</td>\n",
              "      <td>1.442097</td>\n",
              "      <td>-0.848965</td>\n",
              "      <td>-0.317130</td>\n",
              "      <td>-0.881935</td>\n",
              "      <td>-1.241007</td>\n",
              "      <td>-0.302546</td>\n",
              "      <td>-0.389868</td>\n",
              "      <td>-0.342183</td>\n",
              "      <td>...</td>\n",
              "      <td>Andriy Lunin</td>\n",
              "      <td>Andriy Lunin</td>\n",
              "      <td>-0.081379</td>\n",
              "      <td>2.569047</td>\n",
              "      <td>-0.11547</td>\n",
              "      <td>-0.250873</td>\n",
              "      <td>-0.411377</td>\n",
              "      <td>-0.443678</td>\n",
              "      <td>-0.202721</td>\n",
              "      <td>-0.202721</td>\n",
              "    </tr>\n",
              "    <tr>\n",
              "      <th>3</th>\n",
              "      <td>Karim Benzema</td>\n",
              "      <td>fr FRA</td>\n",
              "      <td>1.636216</td>\n",
              "      <td>1.046656</td>\n",
              "      <td>-0.021871</td>\n",
              "      <td>1.815662</td>\n",
              "      <td>1.155606</td>\n",
              "      <td>1.571530</td>\n",
              "      <td>0.821579</td>\n",
              "      <td>1.271244</td>\n",
              "      <td>...</td>\n",
              "      <td>Andriy Lunin</td>\n",
              "      <td>Andriy Lunin</td>\n",
              "      <td>-0.081379</td>\n",
              "      <td>2.569047</td>\n",
              "      <td>-0.11547</td>\n",
              "      <td>-0.250873</td>\n",
              "      <td>-0.411377</td>\n",
              "      <td>-0.443678</td>\n",
              "      <td>-0.202721</td>\n",
              "      <td>-0.202721</td>\n",
              "    </tr>\n",
              "    <tr>\n",
              "      <th>4</th>\n",
              "      <td>Antonio Blanco</td>\n",
              "      <td>es ESP</td>\n",
              "      <td>-0.693208</td>\n",
              "      <td>-1.129798</td>\n",
              "      <td>-0.360872</td>\n",
              "      <td>-1.172338</td>\n",
              "      <td>-1.502116</td>\n",
              "      <td>-0.374625</td>\n",
              "      <td>-0.389868</td>\n",
              "      <td>-0.384641</td>\n",
              "      <td>...</td>\n",
              "      <td>Andriy Lunin</td>\n",
              "      <td>Andriy Lunin</td>\n",
              "      <td>-0.081379</td>\n",
              "      <td>-0.389249</td>\n",
              "      <td>-0.11547</td>\n",
              "      <td>-0.250873</td>\n",
              "      <td>-0.411377</td>\n",
              "      <td>2.253886</td>\n",
              "      <td>-0.202721</td>\n",
              "      <td>-0.202721</td>\n",
              "    </tr>\n",
              "    <tr>\n",
              "      <th>...</th>\n",
              "      <td>...</td>\n",
              "      <td>...</td>\n",
              "      <td>...</td>\n",
              "      <td>...</td>\n",
              "      <td>...</td>\n",
              "      <td>...</td>\n",
              "      <td>...</td>\n",
              "      <td>...</td>\n",
              "      <td>...</td>\n",
              "      <td>...</td>\n",
              "      <td>...</td>\n",
              "      <td>...</td>\n",
              "      <td>...</td>\n",
              "      <td>...</td>\n",
              "      <td>...</td>\n",
              "      <td>...</td>\n",
              "      <td>...</td>\n",
              "      <td>...</td>\n",
              "      <td>...</td>\n",
              "      <td>...</td>\n",
              "      <td>...</td>\n",
              "    </tr>\n",
              "    <tr>\n",
              "      <th>147</th>\n",
              "      <td>Federico Valverde</td>\n",
              "      <td>uy URU</td>\n",
              "      <td>0.277385</td>\n",
              "      <td>1.327489</td>\n",
              "      <td>0.010936</td>\n",
              "      <td>2.327657</td>\n",
              "      <td>1.612548</td>\n",
              "      <td>0.057854</td>\n",
              "      <td>0.013948</td>\n",
              "      <td>0.039945</td>\n",
              "      <td>...</td>\n",
              "      <td>Andriy Lunin</td>\n",
              "      <td>Andriy Lunin</td>\n",
              "      <td>-0.081379</td>\n",
              "      <td>-0.389249</td>\n",
              "      <td>-0.11547</td>\n",
              "      <td>-0.250873</td>\n",
              "      <td>-0.411377</td>\n",
              "      <td>-0.443678</td>\n",
              "      <td>4.932883</td>\n",
              "      <td>-0.202721</td>\n",
              "    </tr>\n",
              "    <tr>\n",
              "      <th>148</th>\n",
              "      <td>Lucas Vázquez</td>\n",
              "      <td>es ESP</td>\n",
              "      <td>1.636216</td>\n",
              "      <td>1.046656</td>\n",
              "      <td>-0.087484</td>\n",
              "      <td>1.344486</td>\n",
              "      <td>0.735966</td>\n",
              "      <td>-0.302546</td>\n",
              "      <td>0.114902</td>\n",
              "      <td>-0.129890</td>\n",
              "      <td>...</td>\n",
              "      <td>Andriy Lunin</td>\n",
              "      <td>Andriy Lunin</td>\n",
              "      <td>-0.081379</td>\n",
              "      <td>-0.389249</td>\n",
              "      <td>-0.11547</td>\n",
              "      <td>-0.250873</td>\n",
              "      <td>-0.411377</td>\n",
              "      <td>-0.443678</td>\n",
              "      <td>-0.202721</td>\n",
              "      <td>-0.202721</td>\n",
              "    </tr>\n",
              "    <tr>\n",
              "      <th>149</th>\n",
              "      <td>Daniel Yáñez</td>\n",
              "      <td>es ESP</td>\n",
              "      <td>-1.469682</td>\n",
              "      <td>-1.129798</td>\n",
              "      <td>-0.360872</td>\n",
              "      <td>-1.206160</td>\n",
              "      <td>-1.530092</td>\n",
              "      <td>-0.374625</td>\n",
              "      <td>-0.389868</td>\n",
              "      <td>-0.384641</td>\n",
              "      <td>...</td>\n",
              "      <td>Andriy Lunin</td>\n",
              "      <td>Andriy Lunin</td>\n",
              "      <td>-0.081379</td>\n",
              "      <td>2.569047</td>\n",
              "      <td>-0.11547</td>\n",
              "      <td>-0.250873</td>\n",
              "      <td>-0.411377</td>\n",
              "      <td>-0.443678</td>\n",
              "      <td>-0.202721</td>\n",
              "      <td>-0.202721</td>\n",
              "    </tr>\n",
              "    <tr>\n",
              "      <th>150</th>\n",
              "      <td>Squad Total</td>\n",
              "      <td>es ESP</td>\n",
              "      <td>0.393856</td>\n",
              "      <td>1.467905</td>\n",
              "      <td>4.210172</td>\n",
              "      <td>-0.809626</td>\n",
              "      <td>2.013538</td>\n",
              "      <td>5.247601</td>\n",
              "      <td>5.162599</td>\n",
              "      <td>5.262351</td>\n",
              "      <td>...</td>\n",
              "      <td>Andriy Lunin</td>\n",
              "      <td>Andriy Lunin</td>\n",
              "      <td>-0.081379</td>\n",
              "      <td>-0.389249</td>\n",
              "      <td>-0.11547</td>\n",
              "      <td>-0.250873</td>\n",
              "      <td>-0.411377</td>\n",
              "      <td>-0.443678</td>\n",
              "      <td>-0.202721</td>\n",
              "      <td>-0.202721</td>\n",
              "    </tr>\n",
              "    <tr>\n",
              "      <th>151</th>\n",
              "      <td>Opponent Total</td>\n",
              "      <td>es ESP</td>\n",
              "      <td>0.413268</td>\n",
              "      <td>1.467905</td>\n",
              "      <td>4.210172</td>\n",
              "      <td>-0.809626</td>\n",
              "      <td>2.013538</td>\n",
              "      <td>2.292328</td>\n",
              "      <td>2.335888</td>\n",
              "      <td>2.332709</td>\n",
              "      <td>...</td>\n",
              "      <td>Andriy Lunin</td>\n",
              "      <td>Andriy Lunin</td>\n",
              "      <td>-0.081379</td>\n",
              "      <td>-0.389249</td>\n",
              "      <td>-0.11547</td>\n",
              "      <td>-0.250873</td>\n",
              "      <td>-0.411377</td>\n",
              "      <td>-0.443678</td>\n",
              "      <td>-0.202721</td>\n",
              "      <td>-0.202721</td>\n",
              "    </tr>\n",
              "  </tbody>\n",
              "</table>\n",
              "<p>152 rows × 43 columns</p>\n",
              "</div>"
            ],
            "text/plain": [
              "                Player   Nation       Age        MP    Starts       Min  \\\n",
              "0          David Alaba   at AUT  0.859741  0.906240 -0.032807  1.872810   \n",
              "1        Marco Asensio   es ESP  0.083267  0.976448 -0.153097  0.810332   \n",
              "2          Gareth Bale  wls WAL  1.442097 -0.848965 -0.317130 -0.881935   \n",
              "3        Karim Benzema   fr FRA  1.636216  1.046656 -0.021871  1.815662   \n",
              "4       Antonio Blanco   es ESP -0.693208 -1.129798 -0.360872 -1.172338   \n",
              "..                 ...      ...       ...       ...       ...       ...   \n",
              "147  Federico Valverde   uy URU  0.277385  1.327489  0.010936  2.327657   \n",
              "148      Lucas Vázquez   es ESP  1.636216  1.046656 -0.087484  1.344486   \n",
              "149       Daniel Yáñez   es ESP -1.469682 -1.129798 -0.360872 -1.206160   \n",
              "150        Squad Total   es ESP  0.393856  1.467905  4.210172 -0.809626   \n",
              "151     Opponent Total   es ESP  0.413268  1.467905  4.210172 -0.809626   \n",
              "\n",
              "          90s       Gls       Ast       G+A  ...             ▲             ▼  \\\n",
              "0    1.211558 -0.230466 -0.087006 -0.172348  ...  Andriy Lunin  Andriy Lunin   \n",
              "1    0.260373  0.346173 -0.389868  0.039945  ...  Andriy Lunin  Andriy Lunin   \n",
              "2   -1.241007 -0.302546 -0.389868 -0.342183  ...  Andriy Lunin  Andriy Lunin   \n",
              "3    1.155606  1.571530  0.821579  1.271244  ...  Andriy Lunin  Andriy Lunin   \n",
              "4   -1.502116 -0.374625 -0.389868 -0.384641  ...  Andriy Lunin  Andriy Lunin   \n",
              "..        ...       ...       ...       ...  ...           ...           ...   \n",
              "147  1.612548  0.057854  0.013948  0.039945  ...  Andriy Lunin  Andriy Lunin   \n",
              "148  0.735966 -0.302546  0.114902 -0.129890  ...  Andriy Lunin  Andriy Lunin   \n",
              "149 -1.530092 -0.374625 -0.389868 -0.384641  ...  Andriy Lunin  Andriy Lunin   \n",
              "150  2.013538  5.247601  5.162599  5.262351  ...  Andriy Lunin  Andriy Lunin   \n",
              "151  2.013538  2.292328  2.335888  2.332709  ...  Andriy Lunin  Andriy Lunin   \n",
              "\n",
              "     Pos_DF,MF    Pos_FW  Pos_FW,DF  Pos_FW,MF    Pos_GK    Pos_MF  Pos_MF,DF  \\\n",
              "0    -0.081379 -0.389249   -0.11547  -0.250873 -0.411377 -0.443678  -0.202721   \n",
              "1    -0.081379 -0.389249   -0.11547   3.986087 -0.411377 -0.443678  -0.202721   \n",
              "2    -0.081379  2.569047   -0.11547  -0.250873 -0.411377 -0.443678  -0.202721   \n",
              "3    -0.081379  2.569047   -0.11547  -0.250873 -0.411377 -0.443678  -0.202721   \n",
              "4    -0.081379 -0.389249   -0.11547  -0.250873 -0.411377  2.253886  -0.202721   \n",
              "..         ...       ...        ...        ...       ...       ...        ...   \n",
              "147  -0.081379 -0.389249   -0.11547  -0.250873 -0.411377 -0.443678   4.932883   \n",
              "148  -0.081379 -0.389249   -0.11547  -0.250873 -0.411377 -0.443678  -0.202721   \n",
              "149  -0.081379  2.569047   -0.11547  -0.250873 -0.411377 -0.443678  -0.202721   \n",
              "150  -0.081379 -0.389249   -0.11547  -0.250873 -0.411377 -0.443678  -0.202721   \n",
              "151  -0.081379 -0.389249   -0.11547  -0.250873 -0.411377 -0.443678  -0.202721   \n",
              "\n",
              "     Pos_MF,FW  \n",
              "0    -0.202721  \n",
              "1    -0.202721  \n",
              "2    -0.202721  \n",
              "3    -0.202721  \n",
              "4    -0.202721  \n",
              "..         ...  \n",
              "147  -0.202721  \n",
              "148  -0.202721  \n",
              "149  -0.202721  \n",
              "150  -0.202721  \n",
              "151  -0.202721  \n",
              "\n",
              "[152 rows x 43 columns]"
            ]
          },
          "execution_count": 79,
          "metadata": {},
          "output_type": "execute_result"
        }
      ],
      "source": [
        "# Variables dummy\n",
        "df_dummies = df.copy()\n",
        "cat_cols = [c for c in categorical_cols if c != 'periodo' and df[c].nunique() <= 10]\n",
        "\n",
        "if cat_cols:\n",
        "    df_dummies = pd.get_dummies(df_dummies, columns=cat_cols, drop_first=True, dtype=int)\n",
        "\n",
        "numeric_cols_final = df_dummies.select_dtypes(include=[np.number]).columns\n",
        "scaler_final = StandardScaler()\n",
        "df_dummies[numeric_cols_final] = scaler_final.fit_transform(df_dummies[numeric_cols_final])\n",
        "\n",
        "df_dummies\n"
      ]
    },
    {
      "cell_type": "code",
      "execution_count": 67,
      "metadata": {},
      "outputs": [
        {
          "data": {
            "application/vnd.plotly.v1+json": {
              "config": {
                "plotlyServerURL": "https://plot.ly"
              },
              "data": [
                {
                  "hovertemplate": "periodo=23-24<br>Player=%{x}<br>Gls=%{y}<extra></extra>",
                  "legendgroup": "23-24",
                  "marker": {
                    "color": "#6366f1",
                    "pattern": {
                      "shape": ""
                    }
                  },
                  "name": "23-24",
                  "orientation": "v",
                  "showlegend": true,
                  "textposition": "auto",
                  "type": "bar",
                  "x": [
                    "Andriy Lunin",
                    "Andriy Lunin"
                  ],
                  "xaxis": "x",
                  "y": {
                    "bdata": "AAAAAABAVUAAAAAAAAA5QA==",
                    "dtype": "f8"
                  },
                  "yaxis": "y"
                },
                {
                  "hovertemplate": "periodo=21-22<br>Player=%{x}<br>Gls=%{y}<extra></extra>",
                  "legendgroup": "21-22",
                  "marker": {
                    "color": "#8b5cf6",
                    "pattern": {
                      "shape": ""
                    }
                  },
                  "name": "21-22",
                  "orientation": "v",
                  "showlegend": true,
                  "textposition": "auto",
                  "type": "bar",
                  "x": [
                    "Squad Total",
                    "Opponent Total",
                    "Karim Benzema"
                  ],
                  "xaxis": "x",
                  "y": {
                    "bdata": "AAAAAAAAVEAAAAAAAAA/QAAAAAAAADtA",
                    "dtype": "f8"
                  },
                  "yaxis": "y"
                },
                {
                  "hovertemplate": "periodo=24-25<br>Player=%{x}<br>Gls=%{y}<extra></extra>",
                  "legendgroup": "24-25",
                  "marker": {
                    "color": "#ec4899",
                    "pattern": {
                      "shape": ""
                    }
                  },
                  "name": "24-25",
                  "orientation": "v",
                  "showlegend": true,
                  "textposition": "auto",
                  "type": "bar",
                  "x": [
                    "Squad Total",
                    "Opponent Total",
                    "Kylian Mbappé"
                  ],
                  "xaxis": "x",
                  "y": {
                    "bdata": "AAAAAACAU0AAAAAAAIBCQAAAAAAAAD9A",
                    "dtype": "f8"
                  },
                  "yaxis": "y"
                },
                {
                  "hovertemplate": "periodo=22-23<br>Player=%{x}<br>Gls=%{y}<extra></extra>",
                  "legendgroup": "22-23",
                  "marker": {
                    "color": "#f59e0b",
                    "pattern": {
                      "shape": ""
                    }
                  },
                  "name": "22-23",
                  "orientation": "v",
                  "showlegend": true,
                  "textposition": "auto",
                  "type": "bar",
                  "x": [
                    "Andriy Lunin",
                    "Andriy Lunin"
                  ],
                  "xaxis": "x",
                  "y": {
                    "bdata": "AAAAAABAUkAAAAAAAIBBQA==",
                    "dtype": "f8"
                  },
                  "yaxis": "y"
                }
              ],
              "layout": {
                "barmode": "relative",
                "legend": {
                  "title": {
                    "text": "periodo"
                  },
                  "tracegroupgap": 0
                },
                "margin": {
                  "t": 60
                },
                "template": {
                  "data": {
                    "bar": [
                      {
                        "error_x": {
                          "color": "#2a3f5f"
                        },
                        "error_y": {
                          "color": "#2a3f5f"
                        },
                        "marker": {
                          "line": {
                            "color": "white",
                            "width": 0.5
                          },
                          "pattern": {
                            "fillmode": "overlay",
                            "size": 10,
                            "solidity": 0.2
                          }
                        },
                        "type": "bar"
                      }
                    ],
                    "barpolar": [
                      {
                        "marker": {
                          "line": {
                            "color": "white",
                            "width": 0.5
                          },
                          "pattern": {
                            "fillmode": "overlay",
                            "size": 10,
                            "solidity": 0.2
                          }
                        },
                        "type": "barpolar"
                      }
                    ],
                    "carpet": [
                      {
                        "aaxis": {
                          "endlinecolor": "#2a3f5f",
                          "gridcolor": "#C8D4E3",
                          "linecolor": "#C8D4E3",
                          "minorgridcolor": "#C8D4E3",
                          "startlinecolor": "#2a3f5f"
                        },
                        "baxis": {
                          "endlinecolor": "#2a3f5f",
                          "gridcolor": "#C8D4E3",
                          "linecolor": "#C8D4E3",
                          "minorgridcolor": "#C8D4E3",
                          "startlinecolor": "#2a3f5f"
                        },
                        "type": "carpet"
                      }
                    ],
                    "choropleth": [
                      {
                        "colorbar": {
                          "outlinewidth": 0,
                          "ticks": ""
                        },
                        "type": "choropleth"
                      }
                    ],
                    "contour": [
                      {
                        "colorbar": {
                          "outlinewidth": 0,
                          "ticks": ""
                        },
                        "colorscale": [
                          [
                            0,
                            "#0d0887"
                          ],
                          [
                            0.1111111111111111,
                            "#46039f"
                          ],
                          [
                            0.2222222222222222,
                            "#7201a8"
                          ],
                          [
                            0.3333333333333333,
                            "#9c179e"
                          ],
                          [
                            0.4444444444444444,
                            "#bd3786"
                          ],
                          [
                            0.5555555555555556,
                            "#d8576b"
                          ],
                          [
                            0.6666666666666666,
                            "#ed7953"
                          ],
                          [
                            0.7777777777777778,
                            "#fb9f3a"
                          ],
                          [
                            0.8888888888888888,
                            "#fdca26"
                          ],
                          [
                            1,
                            "#f0f921"
                          ]
                        ],
                        "type": "contour"
                      }
                    ],
                    "contourcarpet": [
                      {
                        "colorbar": {
                          "outlinewidth": 0,
                          "ticks": ""
                        },
                        "type": "contourcarpet"
                      }
                    ],
                    "heatmap": [
                      {
                        "colorbar": {
                          "outlinewidth": 0,
                          "ticks": ""
                        },
                        "colorscale": [
                          [
                            0,
                            "#0d0887"
                          ],
                          [
                            0.1111111111111111,
                            "#46039f"
                          ],
                          [
                            0.2222222222222222,
                            "#7201a8"
                          ],
                          [
                            0.3333333333333333,
                            "#9c179e"
                          ],
                          [
                            0.4444444444444444,
                            "#bd3786"
                          ],
                          [
                            0.5555555555555556,
                            "#d8576b"
                          ],
                          [
                            0.6666666666666666,
                            "#ed7953"
                          ],
                          [
                            0.7777777777777778,
                            "#fb9f3a"
                          ],
                          [
                            0.8888888888888888,
                            "#fdca26"
                          ],
                          [
                            1,
                            "#f0f921"
                          ]
                        ],
                        "type": "heatmap"
                      }
                    ],
                    "histogram": [
                      {
                        "marker": {
                          "pattern": {
                            "fillmode": "overlay",
                            "size": 10,
                            "solidity": 0.2
                          }
                        },
                        "type": "histogram"
                      }
                    ],
                    "histogram2d": [
                      {
                        "colorbar": {
                          "outlinewidth": 0,
                          "ticks": ""
                        },
                        "colorscale": [
                          [
                            0,
                            "#0d0887"
                          ],
                          [
                            0.1111111111111111,
                            "#46039f"
                          ],
                          [
                            0.2222222222222222,
                            "#7201a8"
                          ],
                          [
                            0.3333333333333333,
                            "#9c179e"
                          ],
                          [
                            0.4444444444444444,
                            "#bd3786"
                          ],
                          [
                            0.5555555555555556,
                            "#d8576b"
                          ],
                          [
                            0.6666666666666666,
                            "#ed7953"
                          ],
                          [
                            0.7777777777777778,
                            "#fb9f3a"
                          ],
                          [
                            0.8888888888888888,
                            "#fdca26"
                          ],
                          [
                            1,
                            "#f0f921"
                          ]
                        ],
                        "type": "histogram2d"
                      }
                    ],
                    "histogram2dcontour": [
                      {
                        "colorbar": {
                          "outlinewidth": 0,
                          "ticks": ""
                        },
                        "colorscale": [
                          [
                            0,
                            "#0d0887"
                          ],
                          [
                            0.1111111111111111,
                            "#46039f"
                          ],
                          [
                            0.2222222222222222,
                            "#7201a8"
                          ],
                          [
                            0.3333333333333333,
                            "#9c179e"
                          ],
                          [
                            0.4444444444444444,
                            "#bd3786"
                          ],
                          [
                            0.5555555555555556,
                            "#d8576b"
                          ],
                          [
                            0.6666666666666666,
                            "#ed7953"
                          ],
                          [
                            0.7777777777777778,
                            "#fb9f3a"
                          ],
                          [
                            0.8888888888888888,
                            "#fdca26"
                          ],
                          [
                            1,
                            "#f0f921"
                          ]
                        ],
                        "type": "histogram2dcontour"
                      }
                    ],
                    "mesh3d": [
                      {
                        "colorbar": {
                          "outlinewidth": 0,
                          "ticks": ""
                        },
                        "type": "mesh3d"
                      }
                    ],
                    "parcoords": [
                      {
                        "line": {
                          "colorbar": {
                            "outlinewidth": 0,
                            "ticks": ""
                          }
                        },
                        "type": "parcoords"
                      }
                    ],
                    "pie": [
                      {
                        "automargin": true,
                        "type": "pie"
                      }
                    ],
                    "scatter": [
                      {
                        "fillpattern": {
                          "fillmode": "overlay",
                          "size": 10,
                          "solidity": 0.2
                        },
                        "type": "scatter"
                      }
                    ],
                    "scatter3d": [
                      {
                        "line": {
                          "colorbar": {
                            "outlinewidth": 0,
                            "ticks": ""
                          }
                        },
                        "marker": {
                          "colorbar": {
                            "outlinewidth": 0,
                            "ticks": ""
                          }
                        },
                        "type": "scatter3d"
                      }
                    ],
                    "scattercarpet": [
                      {
                        "marker": {
                          "colorbar": {
                            "outlinewidth": 0,
                            "ticks": ""
                          }
                        },
                        "type": "scattercarpet"
                      }
                    ],
                    "scattergeo": [
                      {
                        "marker": {
                          "colorbar": {
                            "outlinewidth": 0,
                            "ticks": ""
                          }
                        },
                        "type": "scattergeo"
                      }
                    ],
                    "scattergl": [
                      {
                        "marker": {
                          "colorbar": {
                            "outlinewidth": 0,
                            "ticks": ""
                          }
                        },
                        "type": "scattergl"
                      }
                    ],
                    "scattermap": [
                      {
                        "marker": {
                          "colorbar": {
                            "outlinewidth": 0,
                            "ticks": ""
                          }
                        },
                        "type": "scattermap"
                      }
                    ],
                    "scattermapbox": [
                      {
                        "marker": {
                          "colorbar": {
                            "outlinewidth": 0,
                            "ticks": ""
                          }
                        },
                        "type": "scattermapbox"
                      }
                    ],
                    "scatterpolar": [
                      {
                        "marker": {
                          "colorbar": {
                            "outlinewidth": 0,
                            "ticks": ""
                          }
                        },
                        "type": "scatterpolar"
                      }
                    ],
                    "scatterpolargl": [
                      {
                        "marker": {
                          "colorbar": {
                            "outlinewidth": 0,
                            "ticks": ""
                          }
                        },
                        "type": "scatterpolargl"
                      }
                    ],
                    "scatterternary": [
                      {
                        "marker": {
                          "colorbar": {
                            "outlinewidth": 0,
                            "ticks": ""
                          }
                        },
                        "type": "scatterternary"
                      }
                    ],
                    "surface": [
                      {
                        "colorbar": {
                          "outlinewidth": 0,
                          "ticks": ""
                        },
                        "colorscale": [
                          [
                            0,
                            "#0d0887"
                          ],
                          [
                            0.1111111111111111,
                            "#46039f"
                          ],
                          [
                            0.2222222222222222,
                            "#7201a8"
                          ],
                          [
                            0.3333333333333333,
                            "#9c179e"
                          ],
                          [
                            0.4444444444444444,
                            "#bd3786"
                          ],
                          [
                            0.5555555555555556,
                            "#d8576b"
                          ],
                          [
                            0.6666666666666666,
                            "#ed7953"
                          ],
                          [
                            0.7777777777777778,
                            "#fb9f3a"
                          ],
                          [
                            0.8888888888888888,
                            "#fdca26"
                          ],
                          [
                            1,
                            "#f0f921"
                          ]
                        ],
                        "type": "surface"
                      }
                    ],
                    "table": [
                      {
                        "cells": {
                          "fill": {
                            "color": "#EBF0F8"
                          },
                          "line": {
                            "color": "white"
                          }
                        },
                        "header": {
                          "fill": {
                            "color": "#C8D4E3"
                          },
                          "line": {
                            "color": "white"
                          }
                        },
                        "type": "table"
                      }
                    ]
                  },
                  "layout": {
                    "annotationdefaults": {
                      "arrowcolor": "#2a3f5f",
                      "arrowhead": 0,
                      "arrowwidth": 1
                    },
                    "autotypenumbers": "strict",
                    "coloraxis": {
                      "colorbar": {
                        "outlinewidth": 0,
                        "ticks": ""
                      }
                    },
                    "colorscale": {
                      "diverging": [
                        [
                          0,
                          "#8e0152"
                        ],
                        [
                          0.1,
                          "#c51b7d"
                        ],
                        [
                          0.2,
                          "#de77ae"
                        ],
                        [
                          0.3,
                          "#f1b6da"
                        ],
                        [
                          0.4,
                          "#fde0ef"
                        ],
                        [
                          0.5,
                          "#f7f7f7"
                        ],
                        [
                          0.6,
                          "#e6f5d0"
                        ],
                        [
                          0.7,
                          "#b8e186"
                        ],
                        [
                          0.8,
                          "#7fbc41"
                        ],
                        [
                          0.9,
                          "#4d9221"
                        ],
                        [
                          1,
                          "#276419"
                        ]
                      ],
                      "sequential": [
                        [
                          0,
                          "#0d0887"
                        ],
                        [
                          0.1111111111111111,
                          "#46039f"
                        ],
                        [
                          0.2222222222222222,
                          "#7201a8"
                        ],
                        [
                          0.3333333333333333,
                          "#9c179e"
                        ],
                        [
                          0.4444444444444444,
                          "#bd3786"
                        ],
                        [
                          0.5555555555555556,
                          "#d8576b"
                        ],
                        [
                          0.6666666666666666,
                          "#ed7953"
                        ],
                        [
                          0.7777777777777778,
                          "#fb9f3a"
                        ],
                        [
                          0.8888888888888888,
                          "#fdca26"
                        ],
                        [
                          1,
                          "#f0f921"
                        ]
                      ],
                      "sequentialminus": [
                        [
                          0,
                          "#0d0887"
                        ],
                        [
                          0.1111111111111111,
                          "#46039f"
                        ],
                        [
                          0.2222222222222222,
                          "#7201a8"
                        ],
                        [
                          0.3333333333333333,
                          "#9c179e"
                        ],
                        [
                          0.4444444444444444,
                          "#bd3786"
                        ],
                        [
                          0.5555555555555556,
                          "#d8576b"
                        ],
                        [
                          0.6666666666666666,
                          "#ed7953"
                        ],
                        [
                          0.7777777777777778,
                          "#fb9f3a"
                        ],
                        [
                          0.8888888888888888,
                          "#fdca26"
                        ],
                        [
                          1,
                          "#f0f921"
                        ]
                      ]
                    },
                    "colorway": [
                      "#636efa",
                      "#EF553B",
                      "#00cc96",
                      "#ab63fa",
                      "#FFA15A",
                      "#19d3f3",
                      "#FF6692",
                      "#B6E880",
                      "#FF97FF",
                      "#FECB52"
                    ],
                    "font": {
                      "color": "#2a3f5f"
                    },
                    "geo": {
                      "bgcolor": "white",
                      "lakecolor": "white",
                      "landcolor": "white",
                      "showlakes": true,
                      "showland": true,
                      "subunitcolor": "#C8D4E3"
                    },
                    "hoverlabel": {
                      "align": "left"
                    },
                    "hovermode": "closest",
                    "mapbox": {
                      "style": "light"
                    },
                    "paper_bgcolor": "white",
                    "plot_bgcolor": "white",
                    "polar": {
                      "angularaxis": {
                        "gridcolor": "#EBF0F8",
                        "linecolor": "#EBF0F8",
                        "ticks": ""
                      },
                      "bgcolor": "white",
                      "radialaxis": {
                        "gridcolor": "#EBF0F8",
                        "linecolor": "#EBF0F8",
                        "ticks": ""
                      }
                    },
                    "scene": {
                      "xaxis": {
                        "backgroundcolor": "white",
                        "gridcolor": "#DFE8F3",
                        "gridwidth": 2,
                        "linecolor": "#EBF0F8",
                        "showbackground": true,
                        "ticks": "",
                        "zerolinecolor": "#EBF0F8"
                      },
                      "yaxis": {
                        "backgroundcolor": "white",
                        "gridcolor": "#DFE8F3",
                        "gridwidth": 2,
                        "linecolor": "#EBF0F8",
                        "showbackground": true,
                        "ticks": "",
                        "zerolinecolor": "#EBF0F8"
                      },
                      "zaxis": {
                        "backgroundcolor": "white",
                        "gridcolor": "#DFE8F3",
                        "gridwidth": 2,
                        "linecolor": "#EBF0F8",
                        "showbackground": true,
                        "ticks": "",
                        "zerolinecolor": "#EBF0F8"
                      }
                    },
                    "shapedefaults": {
                      "line": {
                        "color": "#2a3f5f"
                      }
                    },
                    "ternary": {
                      "aaxis": {
                        "gridcolor": "#DFE8F3",
                        "linecolor": "#A2B1C6",
                        "ticks": ""
                      },
                      "baxis": {
                        "gridcolor": "#DFE8F3",
                        "linecolor": "#A2B1C6",
                        "ticks": ""
                      },
                      "bgcolor": "white",
                      "caxis": {
                        "gridcolor": "#DFE8F3",
                        "linecolor": "#A2B1C6",
                        "ticks": ""
                      }
                    },
                    "title": {
                      "x": 0.05
                    },
                    "xaxis": {
                      "automargin": true,
                      "gridcolor": "#EBF0F8",
                      "linecolor": "#EBF0F8",
                      "ticks": "",
                      "title": {
                        "standoff": 15
                      },
                      "zerolinecolor": "#EBF0F8",
                      "zerolinewidth": 2
                    },
                    "yaxis": {
                      "automargin": true,
                      "gridcolor": "#EBF0F8",
                      "linecolor": "#EBF0F8",
                      "ticks": "",
                      "title": {
                        "standoff": 15
                      },
                      "zerolinecolor": "#EBF0F8",
                      "zerolinewidth": 2
                    }
                  }
                },
                "title": {
                  "text": "Top 10 Goleadores"
                },
                "xaxis": {
                  "anchor": "y",
                  "domain": [
                    0,
                    1
                  ],
                  "tickangle": -45,
                  "title": {
                    "text": "Player"
                  }
                },
                "yaxis": {
                  "anchor": "x",
                  "domain": [
                    0,
                    1
                  ],
                  "title": {
                    "text": "Gls"
                  }
                }
              }
            }
          },
          "metadata": {},
          "output_type": "display_data"
        },
        {
          "data": {
            "text/html": [
              "<div>\n",
              "<style scoped>\n",
              "    .dataframe tbody tr th:only-of-type {\n",
              "        vertical-align: middle;\n",
              "    }\n",
              "\n",
              "    .dataframe tbody tr th {\n",
              "        vertical-align: top;\n",
              "    }\n",
              "\n",
              "    .dataframe thead th {\n",
              "        text-align: right;\n",
              "    }\n",
              "</style>\n",
              "<table border=\"1\" class=\"dataframe\">\n",
              "  <thead>\n",
              "    <tr style=\"text-align: right;\">\n",
              "      <th></th>\n",
              "      <th>Player</th>\n",
              "      <th>periodo</th>\n",
              "      <th>Gls</th>\n",
              "      <th>Ast</th>\n",
              "      <th>G+A</th>\n",
              "      <th>MP</th>\n",
              "      <th>Min</th>\n",
              "    </tr>\n",
              "  </thead>\n",
              "  <tbody>\n",
              "    <tr>\n",
              "      <th>112</th>\n",
              "      <td>Andriy Lunin</td>\n",
              "      <td>23-24</td>\n",
              "      <td>85.0</td>\n",
              "      <td>66.0</td>\n",
              "      <td>151.0</td>\n",
              "      <td>38</td>\n",
              "      <td>342.0</td>\n",
              "    </tr>\n",
              "    <tr>\n",
              "      <th>36</th>\n",
              "      <td>Squad Total</td>\n",
              "      <td>21-22</td>\n",
              "      <td>80.0</td>\n",
              "      <td>59.0</td>\n",
              "      <td>139.0</td>\n",
              "      <td>38</td>\n",
              "      <td>342.0</td>\n",
              "    </tr>\n",
              "    <tr>\n",
              "      <th>150</th>\n",
              "      <td>Squad Total</td>\n",
              "      <td>24-25</td>\n",
              "      <td>78.0</td>\n",
              "      <td>55.0</td>\n",
              "      <td>133.0</td>\n",
              "      <td>38</td>\n",
              "      <td>342.0</td>\n",
              "    </tr>\n",
              "    <tr>\n",
              "      <th>72</th>\n",
              "      <td>Andriy Lunin</td>\n",
              "      <td>22-23</td>\n",
              "      <td>73.0</td>\n",
              "      <td>56.0</td>\n",
              "      <td>129.0</td>\n",
              "      <td>38</td>\n",
              "      <td>342.0</td>\n",
              "    </tr>\n",
              "    <tr>\n",
              "      <th>151</th>\n",
              "      <td>Opponent Total</td>\n",
              "      <td>24-25</td>\n",
              "      <td>37.0</td>\n",
              "      <td>27.0</td>\n",
              "      <td>64.0</td>\n",
              "      <td>38</td>\n",
              "      <td>342.0</td>\n",
              "    </tr>\n",
              "    <tr>\n",
              "      <th>73</th>\n",
              "      <td>Andriy Lunin</td>\n",
              "      <td>22-23</td>\n",
              "      <td>35.0</td>\n",
              "      <td>21.0</td>\n",
              "      <td>56.0</td>\n",
              "      <td>38</td>\n",
              "      <td>342.0</td>\n",
              "    </tr>\n",
              "    <tr>\n",
              "      <th>37</th>\n",
              "      <td>Opponent Total</td>\n",
              "      <td>21-22</td>\n",
              "      <td>31.0</td>\n",
              "      <td>20.0</td>\n",
              "      <td>51.0</td>\n",
              "      <td>38</td>\n",
              "      <td>342.0</td>\n",
              "    </tr>\n",
              "    <tr>\n",
              "      <th>134</th>\n",
              "      <td>Kylian Mbappé</td>\n",
              "      <td>24-25</td>\n",
              "      <td>31.0</td>\n",
              "      <td>3.0</td>\n",
              "      <td>34.0</td>\n",
              "      <td>34</td>\n",
              "      <td>2907.0</td>\n",
              "    </tr>\n",
              "    <tr>\n",
              "      <th>3</th>\n",
              "      <td>Karim Benzema</td>\n",
              "      <td>21-22</td>\n",
              "      <td>27.0</td>\n",
              "      <td>12.0</td>\n",
              "      <td>39.0</td>\n",
              "      <td>32</td>\n",
              "      <td>2593.0</td>\n",
              "    </tr>\n",
              "    <tr>\n",
              "      <th>113</th>\n",
              "      <td>Andriy Lunin</td>\n",
              "      <td>23-24</td>\n",
              "      <td>25.0</td>\n",
              "      <td>17.0</td>\n",
              "      <td>42.0</td>\n",
              "      <td>38</td>\n",
              "      <td>342.0</td>\n",
              "    </tr>\n",
              "  </tbody>\n",
              "</table>\n",
              "</div>"
            ],
            "text/plain": [
              "             Player periodo   Gls   Ast    G+A  MP     Min\n",
              "112    Andriy Lunin   23-24  85.0  66.0  151.0  38   342.0\n",
              "36      Squad Total   21-22  80.0  59.0  139.0  38   342.0\n",
              "150     Squad Total   24-25  78.0  55.0  133.0  38   342.0\n",
              "72     Andriy Lunin   22-23  73.0  56.0  129.0  38   342.0\n",
              "151  Opponent Total   24-25  37.0  27.0   64.0  38   342.0\n",
              "73     Andriy Lunin   22-23  35.0  21.0   56.0  38   342.0\n",
              "37   Opponent Total   21-22  31.0  20.0   51.0  38   342.0\n",
              "134   Kylian Mbappé   24-25  31.0   3.0   34.0  34  2907.0\n",
              "3     Karim Benzema   21-22  27.0  12.0   39.0  32  2593.0\n",
              "113    Andriy Lunin   23-24  25.0  17.0   42.0  38   342.0"
            ]
          },
          "execution_count": 67,
          "metadata": {},
          "output_type": "execute_result"
        }
      ],
      "source": [
        "# Top 10 Goleadores\n",
        "top_goleadores = df.nlargest(10, 'Gls')[['Player', 'periodo', 'Gls', 'Ast', 'G+A', 'MP', 'Min']]\n",
        "fig = px.bar(top_goleadores, x='Player', y='Gls', color='periodo',\n",
        "            color_discrete_sequence=['#6366f1', '#8b5cf6', '#ec4899', '#f59e0b'])\n",
        "fig.update_layout(title='Top 10 Goleadores', template='plotly_white', xaxis_tickangle=-45)\n",
        "fig.show()\n",
        "top_goleadores\n"
      ]
    },
    {
      "cell_type": "code",
      "execution_count": 68,
      "metadata": {},
      "outputs": [
        {
          "data": {
            "application/vnd.plotly.v1+json": {
              "config": {
                "plotlyServerURL": "https://plot.ly"
              },
              "data": [
                {
                  "hovertemplate": "periodo=23-24<br>Player=%{x}<br>Ast=%{y}<extra></extra>",
                  "legendgroup": "23-24",
                  "marker": {
                    "color": "#6366f1",
                    "pattern": {
                      "shape": ""
                    }
                  },
                  "name": "23-24",
                  "orientation": "v",
                  "showlegend": true,
                  "textposition": "auto",
                  "type": "bar",
                  "x": [
                    "Andriy Lunin",
                    "Andriy Lunin"
                  ],
                  "xaxis": "x",
                  "y": {
                    "bdata": "AAAAAACAUEAAAAAAAAAxQA==",
                    "dtype": "f8"
                  },
                  "yaxis": "y"
                },
                {
                  "hovertemplate": "periodo=21-22<br>Player=%{x}<br>Ast=%{y}<extra></extra>",
                  "legendgroup": "21-22",
                  "marker": {
                    "color": "#8b5cf6",
                    "pattern": {
                      "shape": ""
                    }
                  },
                  "name": "21-22",
                  "orientation": "v",
                  "showlegend": true,
                  "textposition": "auto",
                  "type": "bar",
                  "x": [
                    "Squad Total",
                    "Opponent Total",
                    "Karim Benzema",
                    "Vinicius Júnior"
                  ],
                  "xaxis": "x",
                  "y": {
                    "bdata": "AAAAAACATUAAAAAAAAA0QAAAAAAAAChAAAAAAAAAJEA=",
                    "dtype": "f8"
                  },
                  "yaxis": "y"
                },
                {
                  "hovertemplate": "periodo=22-23<br>Player=%{x}<br>Ast=%{y}<extra></extra>",
                  "legendgroup": "22-23",
                  "marker": {
                    "color": "#ec4899",
                    "pattern": {
                      "shape": ""
                    }
                  },
                  "name": "22-23",
                  "orientation": "v",
                  "showlegend": true,
                  "textposition": "auto",
                  "type": "bar",
                  "x": [
                    "Andriy Lunin",
                    "Andriy Lunin"
                  ],
                  "xaxis": "x",
                  "y": {
                    "bdata": "AAAAAAAATEAAAAAAAAA1QA==",
                    "dtype": "f8"
                  },
                  "yaxis": "y"
                },
                {
                  "hovertemplate": "periodo=24-25<br>Player=%{x}<br>Ast=%{y}<extra></extra>",
                  "legendgroup": "24-25",
                  "marker": {
                    "color": "#f59e0b",
                    "pattern": {
                      "shape": ""
                    }
                  },
                  "name": "24-25",
                  "orientation": "v",
                  "showlegend": true,
                  "textposition": "auto",
                  "type": "bar",
                  "x": [
                    "Squad Total",
                    "Opponent Total"
                  ],
                  "xaxis": "x",
                  "y": {
                    "bdata": "AAAAAACAS0AAAAAAAAA7QA==",
                    "dtype": "f8"
                  },
                  "yaxis": "y"
                }
              ],
              "layout": {
                "barmode": "relative",
                "legend": {
                  "title": {
                    "text": "periodo"
                  },
                  "tracegroupgap": 0
                },
                "margin": {
                  "t": 60
                },
                "template": {
                  "data": {
                    "bar": [
                      {
                        "error_x": {
                          "color": "#2a3f5f"
                        },
                        "error_y": {
                          "color": "#2a3f5f"
                        },
                        "marker": {
                          "line": {
                            "color": "white",
                            "width": 0.5
                          },
                          "pattern": {
                            "fillmode": "overlay",
                            "size": 10,
                            "solidity": 0.2
                          }
                        },
                        "type": "bar"
                      }
                    ],
                    "barpolar": [
                      {
                        "marker": {
                          "line": {
                            "color": "white",
                            "width": 0.5
                          },
                          "pattern": {
                            "fillmode": "overlay",
                            "size": 10,
                            "solidity": 0.2
                          }
                        },
                        "type": "barpolar"
                      }
                    ],
                    "carpet": [
                      {
                        "aaxis": {
                          "endlinecolor": "#2a3f5f",
                          "gridcolor": "#C8D4E3",
                          "linecolor": "#C8D4E3",
                          "minorgridcolor": "#C8D4E3",
                          "startlinecolor": "#2a3f5f"
                        },
                        "baxis": {
                          "endlinecolor": "#2a3f5f",
                          "gridcolor": "#C8D4E3",
                          "linecolor": "#C8D4E3",
                          "minorgridcolor": "#C8D4E3",
                          "startlinecolor": "#2a3f5f"
                        },
                        "type": "carpet"
                      }
                    ],
                    "choropleth": [
                      {
                        "colorbar": {
                          "outlinewidth": 0,
                          "ticks": ""
                        },
                        "type": "choropleth"
                      }
                    ],
                    "contour": [
                      {
                        "colorbar": {
                          "outlinewidth": 0,
                          "ticks": ""
                        },
                        "colorscale": [
                          [
                            0,
                            "#0d0887"
                          ],
                          [
                            0.1111111111111111,
                            "#46039f"
                          ],
                          [
                            0.2222222222222222,
                            "#7201a8"
                          ],
                          [
                            0.3333333333333333,
                            "#9c179e"
                          ],
                          [
                            0.4444444444444444,
                            "#bd3786"
                          ],
                          [
                            0.5555555555555556,
                            "#d8576b"
                          ],
                          [
                            0.6666666666666666,
                            "#ed7953"
                          ],
                          [
                            0.7777777777777778,
                            "#fb9f3a"
                          ],
                          [
                            0.8888888888888888,
                            "#fdca26"
                          ],
                          [
                            1,
                            "#f0f921"
                          ]
                        ],
                        "type": "contour"
                      }
                    ],
                    "contourcarpet": [
                      {
                        "colorbar": {
                          "outlinewidth": 0,
                          "ticks": ""
                        },
                        "type": "contourcarpet"
                      }
                    ],
                    "heatmap": [
                      {
                        "colorbar": {
                          "outlinewidth": 0,
                          "ticks": ""
                        },
                        "colorscale": [
                          [
                            0,
                            "#0d0887"
                          ],
                          [
                            0.1111111111111111,
                            "#46039f"
                          ],
                          [
                            0.2222222222222222,
                            "#7201a8"
                          ],
                          [
                            0.3333333333333333,
                            "#9c179e"
                          ],
                          [
                            0.4444444444444444,
                            "#bd3786"
                          ],
                          [
                            0.5555555555555556,
                            "#d8576b"
                          ],
                          [
                            0.6666666666666666,
                            "#ed7953"
                          ],
                          [
                            0.7777777777777778,
                            "#fb9f3a"
                          ],
                          [
                            0.8888888888888888,
                            "#fdca26"
                          ],
                          [
                            1,
                            "#f0f921"
                          ]
                        ],
                        "type": "heatmap"
                      }
                    ],
                    "histogram": [
                      {
                        "marker": {
                          "pattern": {
                            "fillmode": "overlay",
                            "size": 10,
                            "solidity": 0.2
                          }
                        },
                        "type": "histogram"
                      }
                    ],
                    "histogram2d": [
                      {
                        "colorbar": {
                          "outlinewidth": 0,
                          "ticks": ""
                        },
                        "colorscale": [
                          [
                            0,
                            "#0d0887"
                          ],
                          [
                            0.1111111111111111,
                            "#46039f"
                          ],
                          [
                            0.2222222222222222,
                            "#7201a8"
                          ],
                          [
                            0.3333333333333333,
                            "#9c179e"
                          ],
                          [
                            0.4444444444444444,
                            "#bd3786"
                          ],
                          [
                            0.5555555555555556,
                            "#d8576b"
                          ],
                          [
                            0.6666666666666666,
                            "#ed7953"
                          ],
                          [
                            0.7777777777777778,
                            "#fb9f3a"
                          ],
                          [
                            0.8888888888888888,
                            "#fdca26"
                          ],
                          [
                            1,
                            "#f0f921"
                          ]
                        ],
                        "type": "histogram2d"
                      }
                    ],
                    "histogram2dcontour": [
                      {
                        "colorbar": {
                          "outlinewidth": 0,
                          "ticks": ""
                        },
                        "colorscale": [
                          [
                            0,
                            "#0d0887"
                          ],
                          [
                            0.1111111111111111,
                            "#46039f"
                          ],
                          [
                            0.2222222222222222,
                            "#7201a8"
                          ],
                          [
                            0.3333333333333333,
                            "#9c179e"
                          ],
                          [
                            0.4444444444444444,
                            "#bd3786"
                          ],
                          [
                            0.5555555555555556,
                            "#d8576b"
                          ],
                          [
                            0.6666666666666666,
                            "#ed7953"
                          ],
                          [
                            0.7777777777777778,
                            "#fb9f3a"
                          ],
                          [
                            0.8888888888888888,
                            "#fdca26"
                          ],
                          [
                            1,
                            "#f0f921"
                          ]
                        ],
                        "type": "histogram2dcontour"
                      }
                    ],
                    "mesh3d": [
                      {
                        "colorbar": {
                          "outlinewidth": 0,
                          "ticks": ""
                        },
                        "type": "mesh3d"
                      }
                    ],
                    "parcoords": [
                      {
                        "line": {
                          "colorbar": {
                            "outlinewidth": 0,
                            "ticks": ""
                          }
                        },
                        "type": "parcoords"
                      }
                    ],
                    "pie": [
                      {
                        "automargin": true,
                        "type": "pie"
                      }
                    ],
                    "scatter": [
                      {
                        "fillpattern": {
                          "fillmode": "overlay",
                          "size": 10,
                          "solidity": 0.2
                        },
                        "type": "scatter"
                      }
                    ],
                    "scatter3d": [
                      {
                        "line": {
                          "colorbar": {
                            "outlinewidth": 0,
                            "ticks": ""
                          }
                        },
                        "marker": {
                          "colorbar": {
                            "outlinewidth": 0,
                            "ticks": ""
                          }
                        },
                        "type": "scatter3d"
                      }
                    ],
                    "scattercarpet": [
                      {
                        "marker": {
                          "colorbar": {
                            "outlinewidth": 0,
                            "ticks": ""
                          }
                        },
                        "type": "scattercarpet"
                      }
                    ],
                    "scattergeo": [
                      {
                        "marker": {
                          "colorbar": {
                            "outlinewidth": 0,
                            "ticks": ""
                          }
                        },
                        "type": "scattergeo"
                      }
                    ],
                    "scattergl": [
                      {
                        "marker": {
                          "colorbar": {
                            "outlinewidth": 0,
                            "ticks": ""
                          }
                        },
                        "type": "scattergl"
                      }
                    ],
                    "scattermap": [
                      {
                        "marker": {
                          "colorbar": {
                            "outlinewidth": 0,
                            "ticks": ""
                          }
                        },
                        "type": "scattermap"
                      }
                    ],
                    "scattermapbox": [
                      {
                        "marker": {
                          "colorbar": {
                            "outlinewidth": 0,
                            "ticks": ""
                          }
                        },
                        "type": "scattermapbox"
                      }
                    ],
                    "scatterpolar": [
                      {
                        "marker": {
                          "colorbar": {
                            "outlinewidth": 0,
                            "ticks": ""
                          }
                        },
                        "type": "scatterpolar"
                      }
                    ],
                    "scatterpolargl": [
                      {
                        "marker": {
                          "colorbar": {
                            "outlinewidth": 0,
                            "ticks": ""
                          }
                        },
                        "type": "scatterpolargl"
                      }
                    ],
                    "scatterternary": [
                      {
                        "marker": {
                          "colorbar": {
                            "outlinewidth": 0,
                            "ticks": ""
                          }
                        },
                        "type": "scatterternary"
                      }
                    ],
                    "surface": [
                      {
                        "colorbar": {
                          "outlinewidth": 0,
                          "ticks": ""
                        },
                        "colorscale": [
                          [
                            0,
                            "#0d0887"
                          ],
                          [
                            0.1111111111111111,
                            "#46039f"
                          ],
                          [
                            0.2222222222222222,
                            "#7201a8"
                          ],
                          [
                            0.3333333333333333,
                            "#9c179e"
                          ],
                          [
                            0.4444444444444444,
                            "#bd3786"
                          ],
                          [
                            0.5555555555555556,
                            "#d8576b"
                          ],
                          [
                            0.6666666666666666,
                            "#ed7953"
                          ],
                          [
                            0.7777777777777778,
                            "#fb9f3a"
                          ],
                          [
                            0.8888888888888888,
                            "#fdca26"
                          ],
                          [
                            1,
                            "#f0f921"
                          ]
                        ],
                        "type": "surface"
                      }
                    ],
                    "table": [
                      {
                        "cells": {
                          "fill": {
                            "color": "#EBF0F8"
                          },
                          "line": {
                            "color": "white"
                          }
                        },
                        "header": {
                          "fill": {
                            "color": "#C8D4E3"
                          },
                          "line": {
                            "color": "white"
                          }
                        },
                        "type": "table"
                      }
                    ]
                  },
                  "layout": {
                    "annotationdefaults": {
                      "arrowcolor": "#2a3f5f",
                      "arrowhead": 0,
                      "arrowwidth": 1
                    },
                    "autotypenumbers": "strict",
                    "coloraxis": {
                      "colorbar": {
                        "outlinewidth": 0,
                        "ticks": ""
                      }
                    },
                    "colorscale": {
                      "diverging": [
                        [
                          0,
                          "#8e0152"
                        ],
                        [
                          0.1,
                          "#c51b7d"
                        ],
                        [
                          0.2,
                          "#de77ae"
                        ],
                        [
                          0.3,
                          "#f1b6da"
                        ],
                        [
                          0.4,
                          "#fde0ef"
                        ],
                        [
                          0.5,
                          "#f7f7f7"
                        ],
                        [
                          0.6,
                          "#e6f5d0"
                        ],
                        [
                          0.7,
                          "#b8e186"
                        ],
                        [
                          0.8,
                          "#7fbc41"
                        ],
                        [
                          0.9,
                          "#4d9221"
                        ],
                        [
                          1,
                          "#276419"
                        ]
                      ],
                      "sequential": [
                        [
                          0,
                          "#0d0887"
                        ],
                        [
                          0.1111111111111111,
                          "#46039f"
                        ],
                        [
                          0.2222222222222222,
                          "#7201a8"
                        ],
                        [
                          0.3333333333333333,
                          "#9c179e"
                        ],
                        [
                          0.4444444444444444,
                          "#bd3786"
                        ],
                        [
                          0.5555555555555556,
                          "#d8576b"
                        ],
                        [
                          0.6666666666666666,
                          "#ed7953"
                        ],
                        [
                          0.7777777777777778,
                          "#fb9f3a"
                        ],
                        [
                          0.8888888888888888,
                          "#fdca26"
                        ],
                        [
                          1,
                          "#f0f921"
                        ]
                      ],
                      "sequentialminus": [
                        [
                          0,
                          "#0d0887"
                        ],
                        [
                          0.1111111111111111,
                          "#46039f"
                        ],
                        [
                          0.2222222222222222,
                          "#7201a8"
                        ],
                        [
                          0.3333333333333333,
                          "#9c179e"
                        ],
                        [
                          0.4444444444444444,
                          "#bd3786"
                        ],
                        [
                          0.5555555555555556,
                          "#d8576b"
                        ],
                        [
                          0.6666666666666666,
                          "#ed7953"
                        ],
                        [
                          0.7777777777777778,
                          "#fb9f3a"
                        ],
                        [
                          0.8888888888888888,
                          "#fdca26"
                        ],
                        [
                          1,
                          "#f0f921"
                        ]
                      ]
                    },
                    "colorway": [
                      "#636efa",
                      "#EF553B",
                      "#00cc96",
                      "#ab63fa",
                      "#FFA15A",
                      "#19d3f3",
                      "#FF6692",
                      "#B6E880",
                      "#FF97FF",
                      "#FECB52"
                    ],
                    "font": {
                      "color": "#2a3f5f"
                    },
                    "geo": {
                      "bgcolor": "white",
                      "lakecolor": "white",
                      "landcolor": "white",
                      "showlakes": true,
                      "showland": true,
                      "subunitcolor": "#C8D4E3"
                    },
                    "hoverlabel": {
                      "align": "left"
                    },
                    "hovermode": "closest",
                    "mapbox": {
                      "style": "light"
                    },
                    "paper_bgcolor": "white",
                    "plot_bgcolor": "white",
                    "polar": {
                      "angularaxis": {
                        "gridcolor": "#EBF0F8",
                        "linecolor": "#EBF0F8",
                        "ticks": ""
                      },
                      "bgcolor": "white",
                      "radialaxis": {
                        "gridcolor": "#EBF0F8",
                        "linecolor": "#EBF0F8",
                        "ticks": ""
                      }
                    },
                    "scene": {
                      "xaxis": {
                        "backgroundcolor": "white",
                        "gridcolor": "#DFE8F3",
                        "gridwidth": 2,
                        "linecolor": "#EBF0F8",
                        "showbackground": true,
                        "ticks": "",
                        "zerolinecolor": "#EBF0F8"
                      },
                      "yaxis": {
                        "backgroundcolor": "white",
                        "gridcolor": "#DFE8F3",
                        "gridwidth": 2,
                        "linecolor": "#EBF0F8",
                        "showbackground": true,
                        "ticks": "",
                        "zerolinecolor": "#EBF0F8"
                      },
                      "zaxis": {
                        "backgroundcolor": "white",
                        "gridcolor": "#DFE8F3",
                        "gridwidth": 2,
                        "linecolor": "#EBF0F8",
                        "showbackground": true,
                        "ticks": "",
                        "zerolinecolor": "#EBF0F8"
                      }
                    },
                    "shapedefaults": {
                      "line": {
                        "color": "#2a3f5f"
                      }
                    },
                    "ternary": {
                      "aaxis": {
                        "gridcolor": "#DFE8F3",
                        "linecolor": "#A2B1C6",
                        "ticks": ""
                      },
                      "baxis": {
                        "gridcolor": "#DFE8F3",
                        "linecolor": "#A2B1C6",
                        "ticks": ""
                      },
                      "bgcolor": "white",
                      "caxis": {
                        "gridcolor": "#DFE8F3",
                        "linecolor": "#A2B1C6",
                        "ticks": ""
                      }
                    },
                    "title": {
                      "x": 0.05
                    },
                    "xaxis": {
                      "automargin": true,
                      "gridcolor": "#EBF0F8",
                      "linecolor": "#EBF0F8",
                      "ticks": "",
                      "title": {
                        "standoff": 15
                      },
                      "zerolinecolor": "#EBF0F8",
                      "zerolinewidth": 2
                    },
                    "yaxis": {
                      "automargin": true,
                      "gridcolor": "#EBF0F8",
                      "linecolor": "#EBF0F8",
                      "ticks": "",
                      "title": {
                        "standoff": 15
                      },
                      "zerolinecolor": "#EBF0F8",
                      "zerolinewidth": 2
                    }
                  }
                },
                "title": {
                  "text": "Top 10 Asistidores"
                },
                "xaxis": {
                  "anchor": "y",
                  "domain": [
                    0,
                    1
                  ],
                  "tickangle": -45,
                  "title": {
                    "text": "Player"
                  }
                },
                "yaxis": {
                  "anchor": "x",
                  "domain": [
                    0,
                    1
                  ],
                  "title": {
                    "text": "Ast"
                  }
                }
              }
            }
          },
          "metadata": {},
          "output_type": "display_data"
        },
        {
          "data": {
            "text/html": [
              "<div>\n",
              "<style scoped>\n",
              "    .dataframe tbody tr th:only-of-type {\n",
              "        vertical-align: middle;\n",
              "    }\n",
              "\n",
              "    .dataframe tbody tr th {\n",
              "        vertical-align: top;\n",
              "    }\n",
              "\n",
              "    .dataframe thead th {\n",
              "        text-align: right;\n",
              "    }\n",
              "</style>\n",
              "<table border=\"1\" class=\"dataframe\">\n",
              "  <thead>\n",
              "    <tr style=\"text-align: right;\">\n",
              "      <th></th>\n",
              "      <th>Player</th>\n",
              "      <th>periodo</th>\n",
              "      <th>Ast</th>\n",
              "      <th>Gls</th>\n",
              "      <th>G+A</th>\n",
              "      <th>MP</th>\n",
              "    </tr>\n",
              "  </thead>\n",
              "  <tbody>\n",
              "    <tr>\n",
              "      <th>112</th>\n",
              "      <td>Andriy Lunin</td>\n",
              "      <td>23-24</td>\n",
              "      <td>66.0</td>\n",
              "      <td>85.0</td>\n",
              "      <td>151.0</td>\n",
              "      <td>38</td>\n",
              "    </tr>\n",
              "    <tr>\n",
              "      <th>36</th>\n",
              "      <td>Squad Total</td>\n",
              "      <td>21-22</td>\n",
              "      <td>59.0</td>\n",
              "      <td>80.0</td>\n",
              "      <td>139.0</td>\n",
              "      <td>38</td>\n",
              "    </tr>\n",
              "    <tr>\n",
              "      <th>72</th>\n",
              "      <td>Andriy Lunin</td>\n",
              "      <td>22-23</td>\n",
              "      <td>56.0</td>\n",
              "      <td>73.0</td>\n",
              "      <td>129.0</td>\n",
              "      <td>38</td>\n",
              "    </tr>\n",
              "    <tr>\n",
              "      <th>150</th>\n",
              "      <td>Squad Total</td>\n",
              "      <td>24-25</td>\n",
              "      <td>55.0</td>\n",
              "      <td>78.0</td>\n",
              "      <td>133.0</td>\n",
              "      <td>38</td>\n",
              "    </tr>\n",
              "    <tr>\n",
              "      <th>151</th>\n",
              "      <td>Opponent Total</td>\n",
              "      <td>24-25</td>\n",
              "      <td>27.0</td>\n",
              "      <td>37.0</td>\n",
              "      <td>64.0</td>\n",
              "      <td>38</td>\n",
              "    </tr>\n",
              "    <tr>\n",
              "      <th>73</th>\n",
              "      <td>Andriy Lunin</td>\n",
              "      <td>22-23</td>\n",
              "      <td>21.0</td>\n",
              "      <td>35.0</td>\n",
              "      <td>56.0</td>\n",
              "      <td>38</td>\n",
              "    </tr>\n",
              "    <tr>\n",
              "      <th>37</th>\n",
              "      <td>Opponent Total</td>\n",
              "      <td>21-22</td>\n",
              "      <td>20.0</td>\n",
              "      <td>31.0</td>\n",
              "      <td>51.0</td>\n",
              "      <td>38</td>\n",
              "    </tr>\n",
              "    <tr>\n",
              "      <th>113</th>\n",
              "      <td>Andriy Lunin</td>\n",
              "      <td>23-24</td>\n",
              "      <td>17.0</td>\n",
              "      <td>25.0</td>\n",
              "      <td>42.0</td>\n",
              "      <td>38</td>\n",
              "    </tr>\n",
              "    <tr>\n",
              "      <th>3</th>\n",
              "      <td>Karim Benzema</td>\n",
              "      <td>21-22</td>\n",
              "      <td>12.0</td>\n",
              "      <td>27.0</td>\n",
              "      <td>39.0</td>\n",
              "      <td>32</td>\n",
              "    </tr>\n",
              "    <tr>\n",
              "      <th>17</th>\n",
              "      <td>Vinicius Júnior</td>\n",
              "      <td>21-22</td>\n",
              "      <td>10.0</td>\n",
              "      <td>17.0</td>\n",
              "      <td>27.0</td>\n",
              "      <td>35</td>\n",
              "    </tr>\n",
              "  </tbody>\n",
              "</table>\n",
              "</div>"
            ],
            "text/plain": [
              "              Player periodo   Ast   Gls    G+A  MP\n",
              "112     Andriy Lunin   23-24  66.0  85.0  151.0  38\n",
              "36       Squad Total   21-22  59.0  80.0  139.0  38\n",
              "72      Andriy Lunin   22-23  56.0  73.0  129.0  38\n",
              "150      Squad Total   24-25  55.0  78.0  133.0  38\n",
              "151   Opponent Total   24-25  27.0  37.0   64.0  38\n",
              "73      Andriy Lunin   22-23  21.0  35.0   56.0  38\n",
              "37    Opponent Total   21-22  20.0  31.0   51.0  38\n",
              "113     Andriy Lunin   23-24  17.0  25.0   42.0  38\n",
              "3      Karim Benzema   21-22  12.0  27.0   39.0  32\n",
              "17   Vinicius Júnior   21-22  10.0  17.0   27.0  35"
            ]
          },
          "execution_count": 68,
          "metadata": {},
          "output_type": "execute_result"
        }
      ],
      "source": [
        "# Top 10 Asistidores\n",
        "top_asistidores = df.nlargest(10, 'Ast')[['Player', 'periodo', 'Ast', 'Gls', 'G+A', 'MP']]\n",
        "fig = px.bar(top_asistidores, x='Player', y='Ast', color='periodo',\n",
        "            color_discrete_sequence=['#6366f1', '#8b5cf6', '#ec4899', '#f59e0b'])\n",
        "fig.update_layout(title='Top 10 Asistidores', template='plotly_white', xaxis_tickangle=-45)\n",
        "fig.show()\n",
        "top_asistidores\n"
      ]
    },
    {
      "cell_type": "code",
      "execution_count": 69,
      "metadata": {},
      "outputs": [
        {
          "data": {
            "application/vnd.plotly.v1+json": {
              "config": {
                "plotlyServerURL": "https://plot.ly"
              },
              "data": [
                {
                  "customdata": [
                    [
                      "David Alaba",
                      "21-22"
                    ],
                    [
                      "Marco Asensio",
                      "21-22"
                    ],
                    [
                      "Gareth Bale",
                      "21-22"
                    ],
                    [
                      "Karim Benzema",
                      "21-22"
                    ],
                    [
                      "Antonio Blanco",
                      "21-22"
                    ],
                    [
                      "Eduardo Camavinga",
                      "21-22"
                    ],
                    [
                      "Dani Carvajal",
                      "21-22"
                    ],
                    [
                      "Casemiro",
                      "21-22"
                    ],
                    [
                      "Dani Ceballos",
                      "21-22"
                    ],
                    [
                      "Thibaut Courtois",
                      "21-22"
                    ],
                    [
                      "Toni Fuidias",
                      "21-22"
                    ],
                    [
                      "Mario Gila",
                      "21-22"
                    ],
                    [
                      "Peter González",
                      "21-22"
                    ],
                    [
                      "Miguel Gutiérrez",
                      "21-22"
                    ],
                    [
                      "Eden Hazard",
                      "21-22"
                    ],
                    [
                      "Isco",
                      "21-22"
                    ],
                    [
                      "Luka Jović",
                      "21-22"
                    ],
                    [
                      "Vinicius Júnior",
                      "21-22"
                    ],
                    [
                      "Toni Kroos",
                      "21-22"
                    ],
                    [
                      "Juanmi Latasa",
                      "21-22"
                    ],
                    [
                      "Luis López",
                      "21-22"
                    ],
                    [
                      "Andriy Lunin",
                      "21-22"
                    ],
                    [
                      "Marcelo",
                      "21-22"
                    ],
                    [
                      "Mariano",
                      "21-22"
                    ],
                    [
                      "Rafa Marín",
                      "21-22"
                    ],
                    [
                      "Ferland Mendy",
                      "21-22"
                    ],
                    [
                      "Éder Militão",
                      "21-22"
                    ],
                    [
                      "Luka Modrić",
                      "21-22"
                    ],
                    [
                      "Nacho",
                      "21-22"
                    ],
                    [
                      "Álvaro Odriozola",
                      "21-22"
                    ],
                    [
                      "Diego Piñeiro",
                      "21-22"
                    ],
                    [
                      "Rodrygo",
                      "21-22"
                    ],
                    [
                      "Sergio Santos",
                      "21-22"
                    ],
                    [
                      "Jesús Vallejo",
                      "21-22"
                    ],
                    [
                      "Federico Valverde",
                      "21-22"
                    ],
                    [
                      "Lucas Vázquez",
                      "21-22"
                    ],
                    [
                      "Squad Total",
                      "21-22"
                    ],
                    [
                      "Opponent Total",
                      "21-22"
                    ]
                  ],
                  "hovertemplate": "periodo=%{customdata[1]}<br>Gls=%{x}<br>Ast=%{y}<br>G+A=%{marker.size}<br>Player=%{customdata[0]}<extra></extra>",
                  "legendgroup": "21-22",
                  "marker": {
                    "color": "#6366f1",
                    "size": {
                      "bdata": "AAAAAAAAFEAAAAAAAAAkQAAAAAAAAPA/AAAAAACAQ0AAAAAAAAAAAAAAAAAAAAhAAAAAAAAAEEAAAAAAAAAQQAAAAAAAAAAAAAAAAAAAAAAAAAAAAAAAQAAAAAAAAAAAAAAAAAAAAAAAAAAAAADwPwAAAAAAAPA/AAAAAAAA8D8AAAAAAAAQQAAAAAAAADtAAAAAAAAAEEAAAAAAAAAAAAAAAAAAAABAAAAAAAAAAAAAAAAAAAAAQAAAAAAAAABAAAAAAAAAAEAAAAAAAAAIQAAAAAAAAAhAAAAAAAAAJEAAAAAAAAAIQAAAAAAAAABAAAAAAAAAAEAAAAAAAAAgQAAAAAAAAAAAAAAAAAAAAAAAAAAAAADwPwAAAAAAAAhAAAAAAABgYUAAAAAAAIBJQA==",
                      "dtype": "f8"
                    },
                    "sizemode": "area",
                    "sizeref": 0.3775,
                    "symbol": "circle"
                  },
                  "mode": "markers",
                  "name": "21-22",
                  "orientation": "v",
                  "showlegend": true,
                  "type": "scatter",
                  "x": {
                    "bdata": "AAAAAAAAAEAAAAAAAAAkQAAAAAAAAPA/AAAAAAAAO0AAAAAAAAAAAAAAAAAAAABAAAAAAAAA8D8AAAAAAADwPwAAAAAAAAAAAAAAAAAAAAAAAAAAAADwPwAAAAAAAAAAAAAAAAAAAAAAAAAAAAAAAAAAAAAAAAAAAAAAAAAA8D8AAAAAAADwPwAAAAAAADFAAAAAAAAA8D8AAAAAAAAAAAAAAAAAAPA/AAAAAAAAAAAAAAAAAAAAAAAAAAAAAPA/AAAAAAAA8D8AAAAAAAAAQAAAAAAAAPA/AAAAAAAAAEAAAAAAAAAIQAAAAAAAAPA/AAAAAAAA8D8AAAAAAAAQQAAAAAAAAAAAAAAAAAAAAAAAAAAAAAAAAAAAAAAAAAhAAAAAAAAAVEAAAAAAAAA/QA==",
                    "dtype": "f8"
                  },
                  "xaxis": "x",
                  "y": {
                    "bdata": "AAAAAAAACEAAAAAAAAAAAAAAAAAAAAAAAAAAAAAAKEAAAAAAAAAAAAAAAAAAAPA/AAAAAAAACEAAAAAAAAAIQAAAAAAAAAAAAAAAAAAAAAAAAAAAAADwPwAAAAAAAAAAAAAAAAAAAAAAAAAAAADwPwAAAAAAAPA/AAAAAAAAAAAAAAAAAAAIQAAAAAAAACRAAAAAAAAACEAAAAAAAAAAAAAAAAAAAPA/AAAAAAAAAAAAAAAAAAAAQAAAAAAAAPA/AAAAAAAA8D8AAAAAAADwPwAAAAAAAABAAAAAAAAAIEAAAAAAAAAAAAAAAAAAAPA/AAAAAAAA8D8AAAAAAAAQQAAAAAAAAAAAAAAAAAAAAAAAAAAAAADwPwAAAAAAAAAAAAAAAACATUAAAAAAAAA0QA==",
                    "dtype": "f8"
                  },
                  "yaxis": "y"
                },
                {
                  "customdata": [
                    [
                      "Andriy Lunin",
                      "22-23"
                    ],
                    [
                      "Andriy Lunin",
                      "22-23"
                    ],
                    [
                      "Andriy Lunin",
                      "22-23"
                    ],
                    [
                      "Andriy Lunin",
                      "22-23"
                    ],
                    [
                      "Andriy Lunin",
                      "22-23"
                    ],
                    [
                      "Andriy Lunin",
                      "22-23"
                    ],
                    [
                      "Andriy Lunin",
                      "22-23"
                    ],
                    [
                      "Andriy Lunin",
                      "22-23"
                    ],
                    [
                      "Andriy Lunin",
                      "22-23"
                    ],
                    [
                      "Andriy Lunin",
                      "22-23"
                    ],
                    [
                      "Andriy Lunin",
                      "22-23"
                    ],
                    [
                      "Andriy Lunin",
                      "22-23"
                    ],
                    [
                      "Andriy Lunin",
                      "22-23"
                    ],
                    [
                      "Andriy Lunin",
                      "22-23"
                    ],
                    [
                      "Andriy Lunin",
                      "22-23"
                    ],
                    [
                      "Andriy Lunin",
                      "22-23"
                    ],
                    [
                      "Andriy Lunin",
                      "22-23"
                    ],
                    [
                      "Andriy Lunin",
                      "22-23"
                    ],
                    [
                      "Andriy Lunin",
                      "22-23"
                    ],
                    [
                      "Andriy Lunin",
                      "22-23"
                    ],
                    [
                      "Andriy Lunin",
                      "22-23"
                    ],
                    [
                      "Andriy Lunin",
                      "22-23"
                    ],
                    [
                      "Andriy Lunin",
                      "22-23"
                    ],
                    [
                      "Andriy Lunin",
                      "22-23"
                    ],
                    [
                      "Andriy Lunin",
                      "22-23"
                    ],
                    [
                      "Andriy Lunin",
                      "22-23"
                    ],
                    [
                      "Andriy Lunin",
                      "22-23"
                    ],
                    [
                      "Andriy Lunin",
                      "22-23"
                    ],
                    [
                      "Andriy Lunin",
                      "22-23"
                    ],
                    [
                      "Andriy Lunin",
                      "22-23"
                    ],
                    [
                      "Andriy Lunin",
                      "22-23"
                    ],
                    [
                      "Andriy Lunin",
                      "22-23"
                    ],
                    [
                      "Andriy Lunin",
                      "22-23"
                    ],
                    [
                      "Andriy Lunin",
                      "22-23"
                    ],
                    [
                      "Andriy Lunin",
                      "22-23"
                    ],
                    [
                      "Andriy Lunin",
                      "22-23"
                    ]
                  ],
                  "hovertemplate": "periodo=%{customdata[1]}<br>Gls=%{x}<br>Ast=%{y}<br>G+A=%{marker.size}<br>Player=%{customdata[0]}<extra></extra>",
                  "legendgroup": "22-23",
                  "marker": {
                    "color": "#8b5cf6",
                    "size": {
                      "bdata": "AAAAAAAAEEAAAAAAAAAAAAAAAAAAAC5AAAAAAAAANkAAAAAAAADwPwAAAAAAAABAAAAAAAAAAEAAAAAAAAAAAAAAAAAAABBAAAAAAAAAAAAAAAAAAAAAQAAAAAAAAABAAAAAAAAA8D8AAAAAAAAzQAAAAAAAABhAAAAAAAAAAEAAAAAAAAAAQAAAAAAAAAAAAAAAAAAAAAAAAAAAAAAAQAAAAAAAAPA/AAAAAAAAFEAAAAAAAAAcQAAAAAAAAABAAAAAAAAAAAAAAAAAAAAAQAAAAAAAAABAAAAAAAAAAEAAAAAAAAAxQAAAAAAAAPA/AAAAAAAAEEAAAAAAAAAAAAAAAAAAACZAAAAAAAAAFEAAAAAAACBgQAAAAAAAAExA",
                      "dtype": "f8"
                    },
                    "sizemode": "area",
                    "sizeref": 0.3775,
                    "symbol": "circle"
                  },
                  "mode": "markers",
                  "name": "22-23",
                  "orientation": "v",
                  "showlegend": true,
                  "type": "scatter",
                  "x": {
                    "bdata": "AAAAAAAA8D8AAAAAAAAAAAAAAAAAACJAAAAAAAAAM0AAAAAAAAAAAAAAAAAAAPA/AAAAAAAAAAAAAAAAAAAAAAAAAAAAAAAAAAAAAAAAAAAAAAAAAADwPwAAAAAAAPA/AAAAAAAAAAAAAAAAAAAkQAAAAAAAAABAAAAAAAAA8D8AAAAAAADwPwAAAAAAAAAAAAAAAAAAAAAAAAAAAADwPwAAAAAAAAAAAAAAAAAAFEAAAAAAAAAQQAAAAAAAAPA/AAAAAAAAAAAAAAAAAADwPwAAAAAAAPA/AAAAAAAA8D8AAAAAAAAiQAAAAAAAAPA/AAAAAAAAAAAAAAAAAAAAAAAAAAAAABxAAAAAAAAAEEAAAAAAAEBSQAAAAAAAgEFA",
                    "dtype": "f8"
                  },
                  "xaxis": "x",
                  "y": {
                    "bdata": "AAAAAAAACEAAAAAAAAAAAAAAAAAAABhAAAAAAAAACEAAAAAAAADwPwAAAAAAAPA/AAAAAAAAAEAAAAAAAAAAAAAAAAAAABBAAAAAAAAAAAAAAAAAAADwPwAAAAAAAPA/AAAAAAAA8D8AAAAAAAAiQAAAAAAAABBAAAAAAAAA8D8AAAAAAADwPwAAAAAAAAAAAAAAAAAAAAAAAAAAAADwPwAAAAAAAPA/AAAAAAAAAAAAAAAAAAAIQAAAAAAAAPA/AAAAAAAAAAAAAAAAAADwPwAAAAAAAPA/AAAAAAAA8D8AAAAAAAAgQAAAAAAAAAAAAAAAAAAAEEAAAAAAAAAAAAAAAAAAABBAAAAAAAAA8D8AAAAAAABMQAAAAAAAADVA",
                    "dtype": "f8"
                  },
                  "yaxis": "y"
                },
                {
                  "customdata": [
                    [
                      "Andriy Lunin",
                      "23-24"
                    ],
                    [
                      "Andriy Lunin",
                      "23-24"
                    ],
                    [
                      "Andriy Lunin",
                      "23-24"
                    ],
                    [
                      "Andriy Lunin",
                      "23-24"
                    ],
                    [
                      "Andriy Lunin",
                      "23-24"
                    ],
                    [
                      "Andriy Lunin",
                      "23-24"
                    ],
                    [
                      "Andriy Lunin",
                      "23-24"
                    ],
                    [
                      "Andriy Lunin",
                      "23-24"
                    ],
                    [
                      "Andriy Lunin",
                      "23-24"
                    ],
                    [
                      "Andriy Lunin",
                      "23-24"
                    ],
                    [
                      "Andriy Lunin",
                      "23-24"
                    ],
                    [
                      "Andriy Lunin",
                      "23-24"
                    ],
                    [
                      "Andriy Lunin",
                      "23-24"
                    ],
                    [
                      "Andriy Lunin",
                      "23-24"
                    ],
                    [
                      "Andriy Lunin",
                      "23-24"
                    ],
                    [
                      "Andriy Lunin",
                      "23-24"
                    ],
                    [
                      "Andriy Lunin",
                      "23-24"
                    ],
                    [
                      "Andriy Lunin",
                      "23-24"
                    ],
                    [
                      "Andriy Lunin",
                      "23-24"
                    ],
                    [
                      "Andriy Lunin",
                      "23-24"
                    ],
                    [
                      "Andriy Lunin",
                      "23-24"
                    ],
                    [
                      "Andriy Lunin",
                      "23-24"
                    ],
                    [
                      "Andriy Lunin",
                      "23-24"
                    ],
                    [
                      "Andriy Lunin",
                      "23-24"
                    ],
                    [
                      "Andriy Lunin",
                      "23-24"
                    ],
                    [
                      "Andriy Lunin",
                      "23-24"
                    ],
                    [
                      "Andriy Lunin",
                      "23-24"
                    ],
                    [
                      "Andriy Lunin",
                      "23-24"
                    ],
                    [
                      "Andriy Lunin",
                      "23-24"
                    ],
                    [
                      "Andriy Lunin",
                      "23-24"
                    ],
                    [
                      "Andriy Lunin",
                      "23-24"
                    ],
                    [
                      "Andriy Lunin",
                      "23-24"
                    ],
                    [
                      "Andriy Lunin",
                      "23-24"
                    ],
                    [
                      "Andriy Lunin",
                      "23-24"
                    ],
                    [
                      "Andriy Lunin",
                      "23-24"
                    ],
                    [
                      "Andriy Lunin",
                      "23-24"
                    ],
                    [
                      "Andriy Lunin",
                      "23-24"
                    ],
                    [
                      "Andriy Lunin",
                      "23-24"
                    ],
                    [
                      "Andriy Lunin",
                      "23-24"
                    ],
                    [
                      "Andriy Lunin",
                      "23-24"
                    ]
                  ],
                  "hovertemplate": "periodo=%{customdata[1]}<br>Gls=%{x}<br>Ast=%{y}<br>G+A=%{marker.size}<br>Player=%{customdata[0]}<extra></extra>",
                  "legendgroup": "23-24",
                  "marker": {
                    "color": "#ec4899",
                    "size": {
                      "bdata": "AAAAAAAAAEAAAAAAAAAiQAAAAAAAACJAAAAAAAAAAEAAAAAAAAAQQAAAAAAAAPA/AAAAAAAALkAAAAAAAAAAAAAAAAAAAABAAAAAAAAAAEAAAAAAAAAAQAAAAAAAAAAAAAAAAAAAAEAAAAAAAADwPwAAAAAAACBAAAAAAAAAAAAAAAAAAAAAAAAAAAAAAAAAAAAAAAAAAAAAAAAAAAAAQAAAAAAAACJAAAAAAAAANEAAAAAAAAAoQAAAAAAAABhAAAAAAAAAAEAAAAAAAAAAAAAAAAAAABhAAAAAAAAAAEAAAAAAAAAsQAAAAAAAAAAAAAAAAAAAAEAAAAAAAAAcQAAAAAAAAABAAAAAAAAAAEAAAAAAAAAAQAAAAAAAADlAAAAAAAAAAAAAAAAAAADwPwAAAAAA4GJAAAAAAAAARUA=",
                      "dtype": "f8"
                    },
                    "sizemode": "area",
                    "sizeref": 0.3775,
                    "symbol": "circle"
                  },
                  "mode": "markers",
                  "name": "23-24",
                  "orientation": "v",
                  "showlegend": true,
                  "type": "scatter",
                  "x": {
                    "bdata": "AAAAAAAA8D8AAAAAAAAIQAAAAAAAAABAAAAAAAAA8D8AAAAAAAAIQAAAAAAAAPA/AAAAAAAAJEAAAAAAAAAAAAAAAAAAAPA/AAAAAAAA8D8AAAAAAADwPwAAAAAAAAAAAAAAAAAA8D8AAAAAAAAAAAAAAAAAAABAAAAAAAAAAAAAAAAAAAAAAAAAAAAAAAAAAAAAAAAAAAAAAAAAAADwPwAAAAAAAPA/AAAAAAAALkAAAAAAAAAkQAAAAAAAABhAAAAAAAAA8D8AAAAAAAAAAAAAAAAAAPA/AAAAAAAA8D8AAAAAAAAgQAAAAAAAAAAAAAAAAAAAAAAAAAAAAAAQQAAAAAAAAPA/AAAAAAAA8D8AAAAAAAAAAAAAAAAAADNAAAAAAAAAAAAAAAAAAAAAAAAAAAAAQFVAAAAAAAAAOUA=",
                    "dtype": "f8"
                  },
                  "xaxis": "x",
                  "y": {
                    "bdata": "AAAAAAAA8D8AAAAAAAAYQAAAAAAAABxAAAAAAAAA8D8AAAAAAADwPwAAAAAAAAAAAAAAAAAAFEAAAAAAAAAAAAAAAAAAAPA/AAAAAAAA8D8AAAAAAADwPwAAAAAAAAAAAAAAAAAA8D8AAAAAAADwPwAAAAAAABhAAAAAAAAAAAAAAAAAAAAAAAAAAAAAAAAAAAAAAAAAAAAAAAAAAADwPwAAAAAAACBAAAAAAAAAFEAAAAAAAAAAQAAAAAAAAAAAAAAAAAAA8D8AAAAAAAAAAAAAAAAAABRAAAAAAAAA8D8AAAAAAAAYQAAAAAAAAAAAAAAAAAAAAEAAAAAAAAAIQAAAAAAAAPA/AAAAAAAA8D8AAAAAAAAAQAAAAAAAABhAAAAAAAAAAAAAAAAAAADwPwAAAAAAgFBAAAAAAAAAMUA=",
                    "dtype": "f8"
                  },
                  "yaxis": "y"
                },
                {
                  "customdata": [
                    [
                      "Diego Aguado",
                      "24-25"
                    ],
                    [
                      "Lorenzo Aguado",
                      "24-25"
                    ],
                    [
                      "David Alaba",
                      "24-25"
                    ],
                    [
                      "Raúl Asencio",
                      "24-25"
                    ],
                    [
                      "Jude Bellingham",
                      "24-25"
                    ],
                    [
                      "Eduardo Camavinga",
                      "24-25"
                    ],
                    [
                      "Dani Carvajal",
                      "24-25"
                    ],
                    [
                      "Dani Ceballos",
                      "24-25"
                    ],
                    [
                      "Chema",
                      "24-25"
                    ],
                    [
                      "Thibaut Courtois",
                      "24-25"
                    ],
                    [
                      "Brahim Díaz",
                      "24-25"
                    ],
                    [
                      "Endrick",
                      "24-25"
                    ],
                    [
                      "Fran",
                      "24-25"
                    ],
                    [
                      "Fran Garcia",
                      "24-25"
                    ],
                    [
                      "Gonzalo García",
                      "24-25"
                    ],
                    [
                      "Arda Güler",
                      "24-25"
                    ],
                    [
                      "David Jiménez",
                      "24-25"
                    ],
                    [
                      "Vinicius Júnior",
                      "24-25"
                    ],
                    [
                      "Youssef Lekhedim",
                      "24-25"
                    ],
                    [
                      "Andriy Lunin",
                      "24-25"
                    ],
                    [
                      "Kylian Mbappé",
                      "24-25"
                    ],
                    [
                      "Ferland Mendy",
                      "24-25"
                    ],
                    [
                      "Sergio Mestre",
                      "24-25"
                    ],
                    [
                      "Éder Militão",
                      "24-25"
                    ],
                    [
                      "Luka Modrić",
                      "24-25"
                    ],
                    [
                      "Víctor Muñoz",
                      "24-25"
                    ],
                    [
                      "Jacobo Ramón",
                      "24-25"
                    ],
                    [
                      "Mario Rivas",
                      "24-25"
                    ],
                    [
                      "Rodrygo",
                      "24-25"
                    ],
                    [
                      "Antonio Rüdiger",
                      "24-25"
                    ],
                    [
                      "Aurélien Tchouaméni",
                      "24-25"
                    ],
                    [
                      "Victor Valdepeñas",
                      "24-25"
                    ],
                    [
                      "Jesús Vallejo",
                      "24-25"
                    ],
                    [
                      "Federico Valverde",
                      "24-25"
                    ],
                    [
                      "Lucas Vázquez",
                      "24-25"
                    ],
                    [
                      "Daniel Yáñez",
                      "24-25"
                    ],
                    [
                      "Squad Total",
                      "24-25"
                    ],
                    [
                      "Opponent Total",
                      "24-25"
                    ]
                  ],
                  "hovertemplate": "periodo=%{customdata[1]}<br>Gls=%{x}<br>Ast=%{y}<br>G+A=%{marker.size}<br>Player=%{customdata[0]}<extra></extra>",
                  "legendgroup": "24-25",
                  "marker": {
                    "color": "#f59e0b",
                    "size": {
                      "bdata": "AAAAAAAAAEAAAAAAAAAAAAAAAAAAAAAAAAAAAAAA8D8AAAAAAAAxQAAAAAAAAAhAAAAAAAAA8D8AAAAAAAAAAAAAAAAAAAAAAAAAAAAAAAAAAAAAAAAYQAAAAAAAAPA/AAAAAAAAAAAAAAAAAAAAQAAAAAAAAPA/AAAAAAAAHEAAAAAAAAAAQAAAAAAAADNAAAAAAAAAAEAAAAAAAADwPwAAAAAAAEFAAAAAAAAA8D8AAAAAAAAAQAAAAAAAAABAAAAAAAAAIEAAAAAAAAAAAAAAAAAAAPA/AAAAAAAAAEAAAAAAAAAmQAAAAAAAAAAAAAAAAAAAAAAAAAAAAAAAQAAAAAAAAPA/AAAAAAAAJEAAAAAAAAAYQAAAAAAAAAAAAAAAAACgYEAAAAAAAABQQA==",
                      "dtype": "f8"
                    },
                    "sizemode": "area",
                    "sizeref": 0.3775,
                    "symbol": "circle"
                  },
                  "mode": "markers",
                  "name": "24-25",
                  "orientation": "v",
                  "showlegend": true,
                  "type": "scatter",
                  "x": {
                    "bdata": "AAAAAAAA8D8AAAAAAAAAAAAAAAAAAAAAAAAAAAAAAAAAAAAAAAAiQAAAAAAAAPA/AAAAAAAA8D8AAAAAAAAAAAAAAAAAAAAAAAAAAAAAAAAAAAAAAAAQQAAAAAAAAPA/AAAAAAAAAAAAAAAAAAAAAAAAAAAAAAAAAAAAAAAACEAAAAAAAADwPwAAAAAAACZAAAAAAAAA8D8AAAAAAAAAAAAAAAAAAD9AAAAAAAAAAAAAAAAAAADwPwAAAAAAAPA/AAAAAAAAAEAAAAAAAAAAAAAAAAAAAPA/AAAAAAAA8D8AAAAAAAAYQAAAAAAAAAAAAAAAAAAAAAAAAAAAAADwPwAAAAAAAAAAAAAAAAAAGEAAAAAAAADwPwAAAAAAAAAAAAAAAACAU0AAAAAAAIBCQA==",
                    "dtype": "f8"
                  },
                  "xaxis": "x",
                  "y": {
                    "bdata": "AAAAAAAA8D8AAAAAAAAAAAAAAAAAAAAAAAAAAAAA8D8AAAAAAAAgQAAAAAAAAABAAAAAAAAAAAAAAAAAAAAAAAAAAAAAAAAAAAAAAAAAAAAAAAAAAAAAQAAAAAAAAAAAAAAAAAAAAAAAAAAAAAAAQAAAAAAAAPA/AAAAAAAAEEAAAAAAAADwPwAAAAAAACBAAAAAAAAA8D8AAAAAAADwPwAAAAAAAAhAAAAAAAAA8D8AAAAAAADwPwAAAAAAAPA/AAAAAAAAGEAAAAAAAAAAAAAAAAAAAAAAAAAAAAAA8D8AAAAAAAAUQAAAAAAAAAAAAAAAAAAAAAAAAAAAAADwPwAAAAAAAPA/AAAAAAAAEEAAAAAAAAAUQAAAAAAAAAAAAAAAAACAS0AAAAAAAAA7QA==",
                    "dtype": "f8"
                  },
                  "yaxis": "y"
                }
              ],
              "layout": {
                "legend": {
                  "itemsizing": "constant",
                  "title": {
                    "text": "periodo"
                  },
                  "tracegroupgap": 0
                },
                "margin": {
                  "t": 60
                },
                "template": {
                  "data": {
                    "bar": [
                      {
                        "error_x": {
                          "color": "#2a3f5f"
                        },
                        "error_y": {
                          "color": "#2a3f5f"
                        },
                        "marker": {
                          "line": {
                            "color": "white",
                            "width": 0.5
                          },
                          "pattern": {
                            "fillmode": "overlay",
                            "size": 10,
                            "solidity": 0.2
                          }
                        },
                        "type": "bar"
                      }
                    ],
                    "barpolar": [
                      {
                        "marker": {
                          "line": {
                            "color": "white",
                            "width": 0.5
                          },
                          "pattern": {
                            "fillmode": "overlay",
                            "size": 10,
                            "solidity": 0.2
                          }
                        },
                        "type": "barpolar"
                      }
                    ],
                    "carpet": [
                      {
                        "aaxis": {
                          "endlinecolor": "#2a3f5f",
                          "gridcolor": "#C8D4E3",
                          "linecolor": "#C8D4E3",
                          "minorgridcolor": "#C8D4E3",
                          "startlinecolor": "#2a3f5f"
                        },
                        "baxis": {
                          "endlinecolor": "#2a3f5f",
                          "gridcolor": "#C8D4E3",
                          "linecolor": "#C8D4E3",
                          "minorgridcolor": "#C8D4E3",
                          "startlinecolor": "#2a3f5f"
                        },
                        "type": "carpet"
                      }
                    ],
                    "choropleth": [
                      {
                        "colorbar": {
                          "outlinewidth": 0,
                          "ticks": ""
                        },
                        "type": "choropleth"
                      }
                    ],
                    "contour": [
                      {
                        "colorbar": {
                          "outlinewidth": 0,
                          "ticks": ""
                        },
                        "colorscale": [
                          [
                            0,
                            "#0d0887"
                          ],
                          [
                            0.1111111111111111,
                            "#46039f"
                          ],
                          [
                            0.2222222222222222,
                            "#7201a8"
                          ],
                          [
                            0.3333333333333333,
                            "#9c179e"
                          ],
                          [
                            0.4444444444444444,
                            "#bd3786"
                          ],
                          [
                            0.5555555555555556,
                            "#d8576b"
                          ],
                          [
                            0.6666666666666666,
                            "#ed7953"
                          ],
                          [
                            0.7777777777777778,
                            "#fb9f3a"
                          ],
                          [
                            0.8888888888888888,
                            "#fdca26"
                          ],
                          [
                            1,
                            "#f0f921"
                          ]
                        ],
                        "type": "contour"
                      }
                    ],
                    "contourcarpet": [
                      {
                        "colorbar": {
                          "outlinewidth": 0,
                          "ticks": ""
                        },
                        "type": "contourcarpet"
                      }
                    ],
                    "heatmap": [
                      {
                        "colorbar": {
                          "outlinewidth": 0,
                          "ticks": ""
                        },
                        "colorscale": [
                          [
                            0,
                            "#0d0887"
                          ],
                          [
                            0.1111111111111111,
                            "#46039f"
                          ],
                          [
                            0.2222222222222222,
                            "#7201a8"
                          ],
                          [
                            0.3333333333333333,
                            "#9c179e"
                          ],
                          [
                            0.4444444444444444,
                            "#bd3786"
                          ],
                          [
                            0.5555555555555556,
                            "#d8576b"
                          ],
                          [
                            0.6666666666666666,
                            "#ed7953"
                          ],
                          [
                            0.7777777777777778,
                            "#fb9f3a"
                          ],
                          [
                            0.8888888888888888,
                            "#fdca26"
                          ],
                          [
                            1,
                            "#f0f921"
                          ]
                        ],
                        "type": "heatmap"
                      }
                    ],
                    "histogram": [
                      {
                        "marker": {
                          "pattern": {
                            "fillmode": "overlay",
                            "size": 10,
                            "solidity": 0.2
                          }
                        },
                        "type": "histogram"
                      }
                    ],
                    "histogram2d": [
                      {
                        "colorbar": {
                          "outlinewidth": 0,
                          "ticks": ""
                        },
                        "colorscale": [
                          [
                            0,
                            "#0d0887"
                          ],
                          [
                            0.1111111111111111,
                            "#46039f"
                          ],
                          [
                            0.2222222222222222,
                            "#7201a8"
                          ],
                          [
                            0.3333333333333333,
                            "#9c179e"
                          ],
                          [
                            0.4444444444444444,
                            "#bd3786"
                          ],
                          [
                            0.5555555555555556,
                            "#d8576b"
                          ],
                          [
                            0.6666666666666666,
                            "#ed7953"
                          ],
                          [
                            0.7777777777777778,
                            "#fb9f3a"
                          ],
                          [
                            0.8888888888888888,
                            "#fdca26"
                          ],
                          [
                            1,
                            "#f0f921"
                          ]
                        ],
                        "type": "histogram2d"
                      }
                    ],
                    "histogram2dcontour": [
                      {
                        "colorbar": {
                          "outlinewidth": 0,
                          "ticks": ""
                        },
                        "colorscale": [
                          [
                            0,
                            "#0d0887"
                          ],
                          [
                            0.1111111111111111,
                            "#46039f"
                          ],
                          [
                            0.2222222222222222,
                            "#7201a8"
                          ],
                          [
                            0.3333333333333333,
                            "#9c179e"
                          ],
                          [
                            0.4444444444444444,
                            "#bd3786"
                          ],
                          [
                            0.5555555555555556,
                            "#d8576b"
                          ],
                          [
                            0.6666666666666666,
                            "#ed7953"
                          ],
                          [
                            0.7777777777777778,
                            "#fb9f3a"
                          ],
                          [
                            0.8888888888888888,
                            "#fdca26"
                          ],
                          [
                            1,
                            "#f0f921"
                          ]
                        ],
                        "type": "histogram2dcontour"
                      }
                    ],
                    "mesh3d": [
                      {
                        "colorbar": {
                          "outlinewidth": 0,
                          "ticks": ""
                        },
                        "type": "mesh3d"
                      }
                    ],
                    "parcoords": [
                      {
                        "line": {
                          "colorbar": {
                            "outlinewidth": 0,
                            "ticks": ""
                          }
                        },
                        "type": "parcoords"
                      }
                    ],
                    "pie": [
                      {
                        "automargin": true,
                        "type": "pie"
                      }
                    ],
                    "scatter": [
                      {
                        "fillpattern": {
                          "fillmode": "overlay",
                          "size": 10,
                          "solidity": 0.2
                        },
                        "type": "scatter"
                      }
                    ],
                    "scatter3d": [
                      {
                        "line": {
                          "colorbar": {
                            "outlinewidth": 0,
                            "ticks": ""
                          }
                        },
                        "marker": {
                          "colorbar": {
                            "outlinewidth": 0,
                            "ticks": ""
                          }
                        },
                        "type": "scatter3d"
                      }
                    ],
                    "scattercarpet": [
                      {
                        "marker": {
                          "colorbar": {
                            "outlinewidth": 0,
                            "ticks": ""
                          }
                        },
                        "type": "scattercarpet"
                      }
                    ],
                    "scattergeo": [
                      {
                        "marker": {
                          "colorbar": {
                            "outlinewidth": 0,
                            "ticks": ""
                          }
                        },
                        "type": "scattergeo"
                      }
                    ],
                    "scattergl": [
                      {
                        "marker": {
                          "colorbar": {
                            "outlinewidth": 0,
                            "ticks": ""
                          }
                        },
                        "type": "scattergl"
                      }
                    ],
                    "scattermap": [
                      {
                        "marker": {
                          "colorbar": {
                            "outlinewidth": 0,
                            "ticks": ""
                          }
                        },
                        "type": "scattermap"
                      }
                    ],
                    "scattermapbox": [
                      {
                        "marker": {
                          "colorbar": {
                            "outlinewidth": 0,
                            "ticks": ""
                          }
                        },
                        "type": "scattermapbox"
                      }
                    ],
                    "scatterpolar": [
                      {
                        "marker": {
                          "colorbar": {
                            "outlinewidth": 0,
                            "ticks": ""
                          }
                        },
                        "type": "scatterpolar"
                      }
                    ],
                    "scatterpolargl": [
                      {
                        "marker": {
                          "colorbar": {
                            "outlinewidth": 0,
                            "ticks": ""
                          }
                        },
                        "type": "scatterpolargl"
                      }
                    ],
                    "scatterternary": [
                      {
                        "marker": {
                          "colorbar": {
                            "outlinewidth": 0,
                            "ticks": ""
                          }
                        },
                        "type": "scatterternary"
                      }
                    ],
                    "surface": [
                      {
                        "colorbar": {
                          "outlinewidth": 0,
                          "ticks": ""
                        },
                        "colorscale": [
                          [
                            0,
                            "#0d0887"
                          ],
                          [
                            0.1111111111111111,
                            "#46039f"
                          ],
                          [
                            0.2222222222222222,
                            "#7201a8"
                          ],
                          [
                            0.3333333333333333,
                            "#9c179e"
                          ],
                          [
                            0.4444444444444444,
                            "#bd3786"
                          ],
                          [
                            0.5555555555555556,
                            "#d8576b"
                          ],
                          [
                            0.6666666666666666,
                            "#ed7953"
                          ],
                          [
                            0.7777777777777778,
                            "#fb9f3a"
                          ],
                          [
                            0.8888888888888888,
                            "#fdca26"
                          ],
                          [
                            1,
                            "#f0f921"
                          ]
                        ],
                        "type": "surface"
                      }
                    ],
                    "table": [
                      {
                        "cells": {
                          "fill": {
                            "color": "#EBF0F8"
                          },
                          "line": {
                            "color": "white"
                          }
                        },
                        "header": {
                          "fill": {
                            "color": "#C8D4E3"
                          },
                          "line": {
                            "color": "white"
                          }
                        },
                        "type": "table"
                      }
                    ]
                  },
                  "layout": {
                    "annotationdefaults": {
                      "arrowcolor": "#2a3f5f",
                      "arrowhead": 0,
                      "arrowwidth": 1
                    },
                    "autotypenumbers": "strict",
                    "coloraxis": {
                      "colorbar": {
                        "outlinewidth": 0,
                        "ticks": ""
                      }
                    },
                    "colorscale": {
                      "diverging": [
                        [
                          0,
                          "#8e0152"
                        ],
                        [
                          0.1,
                          "#c51b7d"
                        ],
                        [
                          0.2,
                          "#de77ae"
                        ],
                        [
                          0.3,
                          "#f1b6da"
                        ],
                        [
                          0.4,
                          "#fde0ef"
                        ],
                        [
                          0.5,
                          "#f7f7f7"
                        ],
                        [
                          0.6,
                          "#e6f5d0"
                        ],
                        [
                          0.7,
                          "#b8e186"
                        ],
                        [
                          0.8,
                          "#7fbc41"
                        ],
                        [
                          0.9,
                          "#4d9221"
                        ],
                        [
                          1,
                          "#276419"
                        ]
                      ],
                      "sequential": [
                        [
                          0,
                          "#0d0887"
                        ],
                        [
                          0.1111111111111111,
                          "#46039f"
                        ],
                        [
                          0.2222222222222222,
                          "#7201a8"
                        ],
                        [
                          0.3333333333333333,
                          "#9c179e"
                        ],
                        [
                          0.4444444444444444,
                          "#bd3786"
                        ],
                        [
                          0.5555555555555556,
                          "#d8576b"
                        ],
                        [
                          0.6666666666666666,
                          "#ed7953"
                        ],
                        [
                          0.7777777777777778,
                          "#fb9f3a"
                        ],
                        [
                          0.8888888888888888,
                          "#fdca26"
                        ],
                        [
                          1,
                          "#f0f921"
                        ]
                      ],
                      "sequentialminus": [
                        [
                          0,
                          "#0d0887"
                        ],
                        [
                          0.1111111111111111,
                          "#46039f"
                        ],
                        [
                          0.2222222222222222,
                          "#7201a8"
                        ],
                        [
                          0.3333333333333333,
                          "#9c179e"
                        ],
                        [
                          0.4444444444444444,
                          "#bd3786"
                        ],
                        [
                          0.5555555555555556,
                          "#d8576b"
                        ],
                        [
                          0.6666666666666666,
                          "#ed7953"
                        ],
                        [
                          0.7777777777777778,
                          "#fb9f3a"
                        ],
                        [
                          0.8888888888888888,
                          "#fdca26"
                        ],
                        [
                          1,
                          "#f0f921"
                        ]
                      ]
                    },
                    "colorway": [
                      "#636efa",
                      "#EF553B",
                      "#00cc96",
                      "#ab63fa",
                      "#FFA15A",
                      "#19d3f3",
                      "#FF6692",
                      "#B6E880",
                      "#FF97FF",
                      "#FECB52"
                    ],
                    "font": {
                      "color": "#2a3f5f"
                    },
                    "geo": {
                      "bgcolor": "white",
                      "lakecolor": "white",
                      "landcolor": "white",
                      "showlakes": true,
                      "showland": true,
                      "subunitcolor": "#C8D4E3"
                    },
                    "hoverlabel": {
                      "align": "left"
                    },
                    "hovermode": "closest",
                    "mapbox": {
                      "style": "light"
                    },
                    "paper_bgcolor": "white",
                    "plot_bgcolor": "white",
                    "polar": {
                      "angularaxis": {
                        "gridcolor": "#EBF0F8",
                        "linecolor": "#EBF0F8",
                        "ticks": ""
                      },
                      "bgcolor": "white",
                      "radialaxis": {
                        "gridcolor": "#EBF0F8",
                        "linecolor": "#EBF0F8",
                        "ticks": ""
                      }
                    },
                    "scene": {
                      "xaxis": {
                        "backgroundcolor": "white",
                        "gridcolor": "#DFE8F3",
                        "gridwidth": 2,
                        "linecolor": "#EBF0F8",
                        "showbackground": true,
                        "ticks": "",
                        "zerolinecolor": "#EBF0F8"
                      },
                      "yaxis": {
                        "backgroundcolor": "white",
                        "gridcolor": "#DFE8F3",
                        "gridwidth": 2,
                        "linecolor": "#EBF0F8",
                        "showbackground": true,
                        "ticks": "",
                        "zerolinecolor": "#EBF0F8"
                      },
                      "zaxis": {
                        "backgroundcolor": "white",
                        "gridcolor": "#DFE8F3",
                        "gridwidth": 2,
                        "linecolor": "#EBF0F8",
                        "showbackground": true,
                        "ticks": "",
                        "zerolinecolor": "#EBF0F8"
                      }
                    },
                    "shapedefaults": {
                      "line": {
                        "color": "#2a3f5f"
                      }
                    },
                    "ternary": {
                      "aaxis": {
                        "gridcolor": "#DFE8F3",
                        "linecolor": "#A2B1C6",
                        "ticks": ""
                      },
                      "baxis": {
                        "gridcolor": "#DFE8F3",
                        "linecolor": "#A2B1C6",
                        "ticks": ""
                      },
                      "bgcolor": "white",
                      "caxis": {
                        "gridcolor": "#DFE8F3",
                        "linecolor": "#A2B1C6",
                        "ticks": ""
                      }
                    },
                    "title": {
                      "x": 0.05
                    },
                    "xaxis": {
                      "automargin": true,
                      "gridcolor": "#EBF0F8",
                      "linecolor": "#EBF0F8",
                      "ticks": "",
                      "title": {
                        "standoff": 15
                      },
                      "zerolinecolor": "#EBF0F8",
                      "zerolinewidth": 2
                    },
                    "yaxis": {
                      "automargin": true,
                      "gridcolor": "#EBF0F8",
                      "linecolor": "#EBF0F8",
                      "ticks": "",
                      "title": {
                        "standoff": 15
                      },
                      "zerolinecolor": "#EBF0F8",
                      "zerolinewidth": 2
                    }
                  }
                },
                "title": {
                  "text": "Goles vs Asistencias"
                },
                "xaxis": {
                  "anchor": "y",
                  "domain": [
                    0,
                    1
                  ],
                  "title": {
                    "text": "Gls"
                  }
                },
                "yaxis": {
                  "anchor": "x",
                  "domain": [
                    0,
                    1
                  ],
                  "title": {
                    "text": "Ast"
                  }
                }
              }
            }
          },
          "metadata": {},
          "output_type": "display_data"
        }
      ],
      "source": [
        "# Goles vs Asistencias\n",
        "fig = px.scatter(df, x='Gls', y='Ast', hover_data=['Player', 'periodo'], \n",
        "                size='G+A', color='periodo',\n",
        "                color_discrete_sequence=['#6366f1', '#8b5cf6', '#ec4899', '#f59e0b'])\n",
        "fig.update_layout(title='Goles vs Asistencias', template='plotly_white')\n",
        "fig.show()\n"
      ]
    },
    {
      "cell_type": "code",
      "execution_count": 70,
      "metadata": {},
      "outputs": [
        {
          "data": {
            "application/vnd.plotly.v1+json": {
              "config": {
                "plotlyServerURL": "https://plot.ly"
              },
              "data": [
                {
                  "hovertemplate": "color=21-22<br>x=%{x}<br>y=%{y}<extra></extra>",
                  "legendgroup": "21-22",
                  "marker": {
                    "color": "#6366f1",
                    "pattern": {
                      "shape": ""
                    }
                  },
                  "name": "21-22",
                  "orientation": "v",
                  "showlegend": true,
                  "textposition": "auto",
                  "type": "bar",
                  "x": [
                    "21-22"
                  ],
                  "xaxis": "x",
                  "y": {
                    "bdata": "AAAAAACAaEA=",
                    "dtype": "f8"
                  },
                  "yaxis": "y"
                },
                {
                  "hovertemplate": "color=22-23<br>x=%{x}<br>y=%{y}<extra></extra>",
                  "legendgroup": "22-23",
                  "marker": {
                    "color": "#8b5cf6",
                    "pattern": {
                      "shape": ""
                    }
                  },
                  "name": "22-23",
                  "orientation": "v",
                  "showlegend": true,
                  "textposition": "auto",
                  "type": "bar",
                  "x": [
                    "22-23"
                  ],
                  "xaxis": "x",
                  "y": {
                    "bdata": "AAAAAACgZ0A=",
                    "dtype": "f8"
                  },
                  "yaxis": "y"
                },
                {
                  "hovertemplate": "color=23-24<br>x=%{x}<br>y=%{y}<extra></extra>",
                  "legendgroup": "23-24",
                  "marker": {
                    "color": "#ec4899",
                    "pattern": {
                      "shape": ""
                    }
                  },
                  "name": "23-24",
                  "orientation": "v",
                  "showlegend": true,
                  "textposition": "auto",
                  "type": "bar",
                  "x": [
                    "23-24"
                  ],
                  "xaxis": "x",
                  "y": {
                    "bdata": "AAAAAADAaUA=",
                    "dtype": "f8"
                  },
                  "yaxis": "y"
                },
                {
                  "hovertemplate": "color=24-25<br>x=%{x}<br>y=%{y}<extra></extra>",
                  "legendgroup": "24-25",
                  "marker": {
                    "color": "#f59e0b",
                    "pattern": {
                      "shape": ""
                    }
                  },
                  "name": "24-25",
                  "orientation": "v",
                  "showlegend": true,
                  "textposition": "auto",
                  "type": "bar",
                  "x": [
                    "24-25"
                  ],
                  "xaxis": "x",
                  "y": {
                    "bdata": "AAAAAADgaEA=",
                    "dtype": "f8"
                  },
                  "yaxis": "y"
                }
              ],
              "layout": {
                "barmode": "relative",
                "legend": {
                  "title": {
                    "text": "color"
                  },
                  "tracegroupgap": 0
                },
                "margin": {
                  "t": 60
                },
                "showlegend": false,
                "template": {
                  "data": {
                    "bar": [
                      {
                        "error_x": {
                          "color": "#2a3f5f"
                        },
                        "error_y": {
                          "color": "#2a3f5f"
                        },
                        "marker": {
                          "line": {
                            "color": "white",
                            "width": 0.5
                          },
                          "pattern": {
                            "fillmode": "overlay",
                            "size": 10,
                            "solidity": 0.2
                          }
                        },
                        "type": "bar"
                      }
                    ],
                    "barpolar": [
                      {
                        "marker": {
                          "line": {
                            "color": "white",
                            "width": 0.5
                          },
                          "pattern": {
                            "fillmode": "overlay",
                            "size": 10,
                            "solidity": 0.2
                          }
                        },
                        "type": "barpolar"
                      }
                    ],
                    "carpet": [
                      {
                        "aaxis": {
                          "endlinecolor": "#2a3f5f",
                          "gridcolor": "#C8D4E3",
                          "linecolor": "#C8D4E3",
                          "minorgridcolor": "#C8D4E3",
                          "startlinecolor": "#2a3f5f"
                        },
                        "baxis": {
                          "endlinecolor": "#2a3f5f",
                          "gridcolor": "#C8D4E3",
                          "linecolor": "#C8D4E3",
                          "minorgridcolor": "#C8D4E3",
                          "startlinecolor": "#2a3f5f"
                        },
                        "type": "carpet"
                      }
                    ],
                    "choropleth": [
                      {
                        "colorbar": {
                          "outlinewidth": 0,
                          "ticks": ""
                        },
                        "type": "choropleth"
                      }
                    ],
                    "contour": [
                      {
                        "colorbar": {
                          "outlinewidth": 0,
                          "ticks": ""
                        },
                        "colorscale": [
                          [
                            0,
                            "#0d0887"
                          ],
                          [
                            0.1111111111111111,
                            "#46039f"
                          ],
                          [
                            0.2222222222222222,
                            "#7201a8"
                          ],
                          [
                            0.3333333333333333,
                            "#9c179e"
                          ],
                          [
                            0.4444444444444444,
                            "#bd3786"
                          ],
                          [
                            0.5555555555555556,
                            "#d8576b"
                          ],
                          [
                            0.6666666666666666,
                            "#ed7953"
                          ],
                          [
                            0.7777777777777778,
                            "#fb9f3a"
                          ],
                          [
                            0.8888888888888888,
                            "#fdca26"
                          ],
                          [
                            1,
                            "#f0f921"
                          ]
                        ],
                        "type": "contour"
                      }
                    ],
                    "contourcarpet": [
                      {
                        "colorbar": {
                          "outlinewidth": 0,
                          "ticks": ""
                        },
                        "type": "contourcarpet"
                      }
                    ],
                    "heatmap": [
                      {
                        "colorbar": {
                          "outlinewidth": 0,
                          "ticks": ""
                        },
                        "colorscale": [
                          [
                            0,
                            "#0d0887"
                          ],
                          [
                            0.1111111111111111,
                            "#46039f"
                          ],
                          [
                            0.2222222222222222,
                            "#7201a8"
                          ],
                          [
                            0.3333333333333333,
                            "#9c179e"
                          ],
                          [
                            0.4444444444444444,
                            "#bd3786"
                          ],
                          [
                            0.5555555555555556,
                            "#d8576b"
                          ],
                          [
                            0.6666666666666666,
                            "#ed7953"
                          ],
                          [
                            0.7777777777777778,
                            "#fb9f3a"
                          ],
                          [
                            0.8888888888888888,
                            "#fdca26"
                          ],
                          [
                            1,
                            "#f0f921"
                          ]
                        ],
                        "type": "heatmap"
                      }
                    ],
                    "histogram": [
                      {
                        "marker": {
                          "pattern": {
                            "fillmode": "overlay",
                            "size": 10,
                            "solidity": 0.2
                          }
                        },
                        "type": "histogram"
                      }
                    ],
                    "histogram2d": [
                      {
                        "colorbar": {
                          "outlinewidth": 0,
                          "ticks": ""
                        },
                        "colorscale": [
                          [
                            0,
                            "#0d0887"
                          ],
                          [
                            0.1111111111111111,
                            "#46039f"
                          ],
                          [
                            0.2222222222222222,
                            "#7201a8"
                          ],
                          [
                            0.3333333333333333,
                            "#9c179e"
                          ],
                          [
                            0.4444444444444444,
                            "#bd3786"
                          ],
                          [
                            0.5555555555555556,
                            "#d8576b"
                          ],
                          [
                            0.6666666666666666,
                            "#ed7953"
                          ],
                          [
                            0.7777777777777778,
                            "#fb9f3a"
                          ],
                          [
                            0.8888888888888888,
                            "#fdca26"
                          ],
                          [
                            1,
                            "#f0f921"
                          ]
                        ],
                        "type": "histogram2d"
                      }
                    ],
                    "histogram2dcontour": [
                      {
                        "colorbar": {
                          "outlinewidth": 0,
                          "ticks": ""
                        },
                        "colorscale": [
                          [
                            0,
                            "#0d0887"
                          ],
                          [
                            0.1111111111111111,
                            "#46039f"
                          ],
                          [
                            0.2222222222222222,
                            "#7201a8"
                          ],
                          [
                            0.3333333333333333,
                            "#9c179e"
                          ],
                          [
                            0.4444444444444444,
                            "#bd3786"
                          ],
                          [
                            0.5555555555555556,
                            "#d8576b"
                          ],
                          [
                            0.6666666666666666,
                            "#ed7953"
                          ],
                          [
                            0.7777777777777778,
                            "#fb9f3a"
                          ],
                          [
                            0.8888888888888888,
                            "#fdca26"
                          ],
                          [
                            1,
                            "#f0f921"
                          ]
                        ],
                        "type": "histogram2dcontour"
                      }
                    ],
                    "mesh3d": [
                      {
                        "colorbar": {
                          "outlinewidth": 0,
                          "ticks": ""
                        },
                        "type": "mesh3d"
                      }
                    ],
                    "parcoords": [
                      {
                        "line": {
                          "colorbar": {
                            "outlinewidth": 0,
                            "ticks": ""
                          }
                        },
                        "type": "parcoords"
                      }
                    ],
                    "pie": [
                      {
                        "automargin": true,
                        "type": "pie"
                      }
                    ],
                    "scatter": [
                      {
                        "fillpattern": {
                          "fillmode": "overlay",
                          "size": 10,
                          "solidity": 0.2
                        },
                        "type": "scatter"
                      }
                    ],
                    "scatter3d": [
                      {
                        "line": {
                          "colorbar": {
                            "outlinewidth": 0,
                            "ticks": ""
                          }
                        },
                        "marker": {
                          "colorbar": {
                            "outlinewidth": 0,
                            "ticks": ""
                          }
                        },
                        "type": "scatter3d"
                      }
                    ],
                    "scattercarpet": [
                      {
                        "marker": {
                          "colorbar": {
                            "outlinewidth": 0,
                            "ticks": ""
                          }
                        },
                        "type": "scattercarpet"
                      }
                    ],
                    "scattergeo": [
                      {
                        "marker": {
                          "colorbar": {
                            "outlinewidth": 0,
                            "ticks": ""
                          }
                        },
                        "type": "scattergeo"
                      }
                    ],
                    "scattergl": [
                      {
                        "marker": {
                          "colorbar": {
                            "outlinewidth": 0,
                            "ticks": ""
                          }
                        },
                        "type": "scattergl"
                      }
                    ],
                    "scattermap": [
                      {
                        "marker": {
                          "colorbar": {
                            "outlinewidth": 0,
                            "ticks": ""
                          }
                        },
                        "type": "scattermap"
                      }
                    ],
                    "scattermapbox": [
                      {
                        "marker": {
                          "colorbar": {
                            "outlinewidth": 0,
                            "ticks": ""
                          }
                        },
                        "type": "scattermapbox"
                      }
                    ],
                    "scatterpolar": [
                      {
                        "marker": {
                          "colorbar": {
                            "outlinewidth": 0,
                            "ticks": ""
                          }
                        },
                        "type": "scatterpolar"
                      }
                    ],
                    "scatterpolargl": [
                      {
                        "marker": {
                          "colorbar": {
                            "outlinewidth": 0,
                            "ticks": ""
                          }
                        },
                        "type": "scatterpolargl"
                      }
                    ],
                    "scatterternary": [
                      {
                        "marker": {
                          "colorbar": {
                            "outlinewidth": 0,
                            "ticks": ""
                          }
                        },
                        "type": "scatterternary"
                      }
                    ],
                    "surface": [
                      {
                        "colorbar": {
                          "outlinewidth": 0,
                          "ticks": ""
                        },
                        "colorscale": [
                          [
                            0,
                            "#0d0887"
                          ],
                          [
                            0.1111111111111111,
                            "#46039f"
                          ],
                          [
                            0.2222222222222222,
                            "#7201a8"
                          ],
                          [
                            0.3333333333333333,
                            "#9c179e"
                          ],
                          [
                            0.4444444444444444,
                            "#bd3786"
                          ],
                          [
                            0.5555555555555556,
                            "#d8576b"
                          ],
                          [
                            0.6666666666666666,
                            "#ed7953"
                          ],
                          [
                            0.7777777777777778,
                            "#fb9f3a"
                          ],
                          [
                            0.8888888888888888,
                            "#fdca26"
                          ],
                          [
                            1,
                            "#f0f921"
                          ]
                        ],
                        "type": "surface"
                      }
                    ],
                    "table": [
                      {
                        "cells": {
                          "fill": {
                            "color": "#EBF0F8"
                          },
                          "line": {
                            "color": "white"
                          }
                        },
                        "header": {
                          "fill": {
                            "color": "#C8D4E3"
                          },
                          "line": {
                            "color": "white"
                          }
                        },
                        "type": "table"
                      }
                    ]
                  },
                  "layout": {
                    "annotationdefaults": {
                      "arrowcolor": "#2a3f5f",
                      "arrowhead": 0,
                      "arrowwidth": 1
                    },
                    "autotypenumbers": "strict",
                    "coloraxis": {
                      "colorbar": {
                        "outlinewidth": 0,
                        "ticks": ""
                      }
                    },
                    "colorscale": {
                      "diverging": [
                        [
                          0,
                          "#8e0152"
                        ],
                        [
                          0.1,
                          "#c51b7d"
                        ],
                        [
                          0.2,
                          "#de77ae"
                        ],
                        [
                          0.3,
                          "#f1b6da"
                        ],
                        [
                          0.4,
                          "#fde0ef"
                        ],
                        [
                          0.5,
                          "#f7f7f7"
                        ],
                        [
                          0.6,
                          "#e6f5d0"
                        ],
                        [
                          0.7,
                          "#b8e186"
                        ],
                        [
                          0.8,
                          "#7fbc41"
                        ],
                        [
                          0.9,
                          "#4d9221"
                        ],
                        [
                          1,
                          "#276419"
                        ]
                      ],
                      "sequential": [
                        [
                          0,
                          "#0d0887"
                        ],
                        [
                          0.1111111111111111,
                          "#46039f"
                        ],
                        [
                          0.2222222222222222,
                          "#7201a8"
                        ],
                        [
                          0.3333333333333333,
                          "#9c179e"
                        ],
                        [
                          0.4444444444444444,
                          "#bd3786"
                        ],
                        [
                          0.5555555555555556,
                          "#d8576b"
                        ],
                        [
                          0.6666666666666666,
                          "#ed7953"
                        ],
                        [
                          0.7777777777777778,
                          "#fb9f3a"
                        ],
                        [
                          0.8888888888888888,
                          "#fdca26"
                        ],
                        [
                          1,
                          "#f0f921"
                        ]
                      ],
                      "sequentialminus": [
                        [
                          0,
                          "#0d0887"
                        ],
                        [
                          0.1111111111111111,
                          "#46039f"
                        ],
                        [
                          0.2222222222222222,
                          "#7201a8"
                        ],
                        [
                          0.3333333333333333,
                          "#9c179e"
                        ],
                        [
                          0.4444444444444444,
                          "#bd3786"
                        ],
                        [
                          0.5555555555555556,
                          "#d8576b"
                        ],
                        [
                          0.6666666666666666,
                          "#ed7953"
                        ],
                        [
                          0.7777777777777778,
                          "#fb9f3a"
                        ],
                        [
                          0.8888888888888888,
                          "#fdca26"
                        ],
                        [
                          1,
                          "#f0f921"
                        ]
                      ]
                    },
                    "colorway": [
                      "#636efa",
                      "#EF553B",
                      "#00cc96",
                      "#ab63fa",
                      "#FFA15A",
                      "#19d3f3",
                      "#FF6692",
                      "#B6E880",
                      "#FF97FF",
                      "#FECB52"
                    ],
                    "font": {
                      "color": "#2a3f5f"
                    },
                    "geo": {
                      "bgcolor": "white",
                      "lakecolor": "white",
                      "landcolor": "white",
                      "showlakes": true,
                      "showland": true,
                      "subunitcolor": "#C8D4E3"
                    },
                    "hoverlabel": {
                      "align": "left"
                    },
                    "hovermode": "closest",
                    "mapbox": {
                      "style": "light"
                    },
                    "paper_bgcolor": "white",
                    "plot_bgcolor": "white",
                    "polar": {
                      "angularaxis": {
                        "gridcolor": "#EBF0F8",
                        "linecolor": "#EBF0F8",
                        "ticks": ""
                      },
                      "bgcolor": "white",
                      "radialaxis": {
                        "gridcolor": "#EBF0F8",
                        "linecolor": "#EBF0F8",
                        "ticks": ""
                      }
                    },
                    "scene": {
                      "xaxis": {
                        "backgroundcolor": "white",
                        "gridcolor": "#DFE8F3",
                        "gridwidth": 2,
                        "linecolor": "#EBF0F8",
                        "showbackground": true,
                        "ticks": "",
                        "zerolinecolor": "#EBF0F8"
                      },
                      "yaxis": {
                        "backgroundcolor": "white",
                        "gridcolor": "#DFE8F3",
                        "gridwidth": 2,
                        "linecolor": "#EBF0F8",
                        "showbackground": true,
                        "ticks": "",
                        "zerolinecolor": "#EBF0F8"
                      },
                      "zaxis": {
                        "backgroundcolor": "white",
                        "gridcolor": "#DFE8F3",
                        "gridwidth": 2,
                        "linecolor": "#EBF0F8",
                        "showbackground": true,
                        "ticks": "",
                        "zerolinecolor": "#EBF0F8"
                      }
                    },
                    "shapedefaults": {
                      "line": {
                        "color": "#2a3f5f"
                      }
                    },
                    "ternary": {
                      "aaxis": {
                        "gridcolor": "#DFE8F3",
                        "linecolor": "#A2B1C6",
                        "ticks": ""
                      },
                      "baxis": {
                        "gridcolor": "#DFE8F3",
                        "linecolor": "#A2B1C6",
                        "ticks": ""
                      },
                      "bgcolor": "white",
                      "caxis": {
                        "gridcolor": "#DFE8F3",
                        "linecolor": "#A2B1C6",
                        "ticks": ""
                      }
                    },
                    "title": {
                      "x": 0.05
                    },
                    "xaxis": {
                      "automargin": true,
                      "gridcolor": "#EBF0F8",
                      "linecolor": "#EBF0F8",
                      "ticks": "",
                      "title": {
                        "standoff": 15
                      },
                      "zerolinecolor": "#EBF0F8",
                      "zerolinewidth": 2
                    },
                    "yaxis": {
                      "automargin": true,
                      "gridcolor": "#EBF0F8",
                      "linecolor": "#EBF0F8",
                      "ticks": "",
                      "title": {
                        "standoff": 15
                      },
                      "zerolinecolor": "#EBF0F8",
                      "zerolinewidth": 2
                    }
                  }
                },
                "title": {
                  "text": "Total de Goles por Periodo"
                },
                "xaxis": {
                  "anchor": "y",
                  "domain": [
                    0,
                    1
                  ],
                  "title": {
                    "text": "Periodo"
                  }
                },
                "yaxis": {
                  "anchor": "x",
                  "domain": [
                    0,
                    1
                  ],
                  "title": {
                    "text": "Goles"
                  }
                }
              }
            }
          },
          "metadata": {},
          "output_type": "display_data"
        }
      ],
      "source": [
        "# Evolución de Goles por Periodo\n",
        "goles_periodo = df.groupby('periodo')['Gls'].sum().sort_index()\n",
        "fig = px.bar(x=goles_periodo.index, y=goles_periodo.values,\n",
        "            color=goles_periodo.index,\n",
        "            color_discrete_sequence=['#6366f1', '#8b5cf6', '#ec4899', '#f59e0b'])\n",
        "fig.update_layout(title='Total de Goles por Periodo', xaxis_title='Periodo', \n",
        "                 yaxis_title='Goles', template='plotly_white', showlegend=False)\n",
        "fig.show()\n"
      ]
    },
    {
      "cell_type": "code",
      "execution_count": 71,
      "metadata": {},
      "outputs": [
        {
          "data": {
            "application/vnd.plotly.v1+json": {
              "config": {
                "plotlyServerURL": "https://plot.ly"
              },
              "data": [
                {
                  "marker": {
                    "color": "#6366f1"
                  },
                  "name": "Gls",
                  "type": "histogram",
                  "x": {
                    "bdata": "AAAAAAAAAEAAAAAAAAAkQAAAAAAAAPA/AAAAAAAAO0AAAAAAAAAAAAAAAAAAAABAAAAAAAAA8D8AAAAAAADwPwAAAAAAAAAAAAAAAAAAAAAAAAAAAADwPwAAAAAAAAAAAAAAAAAAAAAAAAAAAAAAAAAAAAAAAAAAAAAAAAAA8D8AAAAAAADwPwAAAAAAADFAAAAAAAAA8D8AAAAAAAAAAAAAAAAAAPA/AAAAAAAAAAAAAAAAAAAAAAAAAAAAAPA/AAAAAAAA8D8AAAAAAAAAQAAAAAAAAPA/AAAAAAAAAEAAAAAAAAAIQAAAAAAAAPA/AAAAAAAA8D8AAAAAAAAQQAAAAAAAAAAAAAAAAAAAAAAAAAAAAAAAAAAAAAAAAAhAAAAAAAAAVEAAAAAAAAA/QAAAAAAAAPA/AAAAAAAAAAAAAAAAAAAiQAAAAAAAADNAAAAAAAAAAAAAAAAAAADwPwAAAAAAAAAAAAAAAAAAAAAAAAAAAAAAAAAAAAAAAAAAAAAAAAAA8D8AAAAAAADwPwAAAAAAAAAAAAAAAAAAJEAAAAAAAAAAQAAAAAAAAPA/AAAAAAAA8D8AAAAAAAAAAAAAAAAAAAAAAAAAAAAA8D8AAAAAAAAAAAAAAAAAABRAAAAAAAAAEEAAAAAAAADwPwAAAAAAAAAAAAAAAAAA8D8AAAAAAADwPwAAAAAAAPA/AAAAAAAAIkAAAAAAAADwPwAAAAAAAAAAAAAAAAAAAAAAAAAAAAAcQAAAAAAAABBAAAAAAABAUkAAAAAAAIBBQAAAAAAAAPA/AAAAAAAACEAAAAAAAAAAQAAAAAAAAPA/AAAAAAAACEAAAAAAAADwPwAAAAAAACRAAAAAAAAAAAAAAAAAAADwPwAAAAAAAPA/AAAAAAAA8D8AAAAAAAAAAAAAAAAAAPA/AAAAAAAAAAAAAAAAAAAAQAAAAAAAAAAAAAAAAAAAAAAAAAAAAAAAAAAAAAAAAAAAAAAAAAAA8D8AAAAAAADwPwAAAAAAAC5AAAAAAAAAJEAAAAAAAAAYQAAAAAAAAPA/AAAAAAAAAAAAAAAAAADwPwAAAAAAAPA/AAAAAAAAIEAAAAAAAAAAAAAAAAAAAAAAAAAAAAAAEEAAAAAAAADwPwAAAAAAAPA/AAAAAAAAAAAAAAAAAAAzQAAAAAAAAAAAAAAAAAAAAAAAAAAAAEBVQAAAAAAAADlAAAAAAAAA8D8AAAAAAAAAAAAAAAAAAAAAAAAAAAAAAAAAAAAAAAAiQAAAAAAAAPA/AAAAAAAA8D8AAAAAAAAAAAAAAAAAAAAAAAAAAAAAAAAAAAAAAAAQQAAAAAAAAPA/AAAAAAAAAAAAAAAAAAAAAAAAAAAAAAAAAAAAAAAACEAAAAAAAADwPwAAAAAAACZAAAAAAAAA8D8AAAAAAAAAAAAAAAAAAD9AAAAAAAAAAAAAAAAAAADwPwAAAAAAAPA/AAAAAAAAAEAAAAAAAAAAAAAAAAAAAPA/AAAAAAAA8D8AAAAAAAAYQAAAAAAAAAAAAAAAAAAAAAAAAAAAAADwPwAAAAAAAAAAAAAAAAAAGEAAAAAAAADwPwAAAAAAAAAAAAAAAACAU0AAAAAAAIBCQA==",
                    "dtype": "f8"
                  },
                  "xaxis": "x",
                  "yaxis": "y"
                },
                {
                  "marker": {
                    "color": "#8b5cf6"
                  },
                  "name": "Ast",
                  "type": "histogram",
                  "x": {
                    "bdata": "AAAAAAAACEAAAAAAAAAAAAAAAAAAAAAAAAAAAAAAKEAAAAAAAAAAAAAAAAAAAPA/AAAAAAAACEAAAAAAAAAIQAAAAAAAAAAAAAAAAAAAAAAAAAAAAADwPwAAAAAAAAAAAAAAAAAAAAAAAAAAAADwPwAAAAAAAPA/AAAAAAAAAAAAAAAAAAAIQAAAAAAAACRAAAAAAAAACEAAAAAAAAAAAAAAAAAAAPA/AAAAAAAAAAAAAAAAAAAAQAAAAAAAAPA/AAAAAAAA8D8AAAAAAADwPwAAAAAAAABAAAAAAAAAIEAAAAAAAAAAAAAAAAAAAPA/AAAAAAAA8D8AAAAAAAAQQAAAAAAAAAAAAAAAAAAAAAAAAAAAAADwPwAAAAAAAAAAAAAAAACATUAAAAAAAAA0QAAAAAAAAAhAAAAAAAAAAAAAAAAAAAAYQAAAAAAAAAhAAAAAAAAA8D8AAAAAAADwPwAAAAAAAABAAAAAAAAAAAAAAAAAAAAQQAAAAAAAAAAAAAAAAAAA8D8AAAAAAADwPwAAAAAAAPA/AAAAAAAAIkAAAAAAAAAQQAAAAAAAAPA/AAAAAAAA8D8AAAAAAAAAAAAAAAAAAAAAAAAAAAAA8D8AAAAAAADwPwAAAAAAAAAAAAAAAAAACEAAAAAAAADwPwAAAAAAAAAAAAAAAAAA8D8AAAAAAADwPwAAAAAAAPA/AAAAAAAAIEAAAAAAAAAAAAAAAAAAABBAAAAAAAAAAAAAAAAAAAAQQAAAAAAAAPA/AAAAAAAATEAAAAAAAAA1QAAAAAAAAPA/AAAAAAAAGEAAAAAAAAAcQAAAAAAAAPA/AAAAAAAA8D8AAAAAAAAAAAAAAAAAABRAAAAAAAAAAAAAAAAAAADwPwAAAAAAAPA/AAAAAAAA8D8AAAAAAAAAAAAAAAAAAPA/AAAAAAAA8D8AAAAAAAAYQAAAAAAAAAAAAAAAAAAAAAAAAAAAAAAAAAAAAAAAAAAAAAAAAAAA8D8AAAAAAAAgQAAAAAAAABRAAAAAAAAAAEAAAAAAAAAAAAAAAAAAAPA/AAAAAAAAAAAAAAAAAAAUQAAAAAAAAPA/AAAAAAAAGEAAAAAAAAAAAAAAAAAAAABAAAAAAAAACEAAAAAAAADwPwAAAAAAAPA/AAAAAAAAAEAAAAAAAAAYQAAAAAAAAAAAAAAAAAAA8D8AAAAAAIBQQAAAAAAAADFAAAAAAAAA8D8AAAAAAAAAAAAAAAAAAAAAAAAAAAAA8D8AAAAAAAAgQAAAAAAAAABAAAAAAAAAAAAAAAAAAAAAAAAAAAAAAAAAAAAAAAAAAAAAAAAAAAAAQAAAAAAAAAAAAAAAAAAAAAAAAAAAAAAAQAAAAAAAAPA/AAAAAAAAEEAAAAAAAADwPwAAAAAAACBAAAAAAAAA8D8AAAAAAADwPwAAAAAAAAhAAAAAAAAA8D8AAAAAAADwPwAAAAAAAPA/AAAAAAAAGEAAAAAAAAAAAAAAAAAAAAAAAAAAAAAA8D8AAAAAAAAUQAAAAAAAAAAAAAAAAAAAAAAAAAAAAADwPwAAAAAAAPA/AAAAAAAAEEAAAAAAAAAUQAAAAAAAAAAAAAAAAACAS0AAAAAAAAA7QA==",
                    "dtype": "f8"
                  },
                  "xaxis": "x2",
                  "yaxis": "y2"
                },
                {
                  "marker": {
                    "color": "#ec4899"
                  },
                  "name": "MP",
                  "type": "histogram",
                  "x": {
                    "bdata": "Hh8FIAEaGCALJAACAwMSDg8jHAEAAgwJABYiHBwAACEBBR8dJiYXAh8YJQAbAR4fAAAGIR4AAAcJABIhIRsDAAAGIiEhASIXJiYAHSUAGyEiAQAAAAQAHSAKFwIVACEaIgoAAhkAHwQUHAAAHxwODiYmAAIHFx8TCBcCHh8WAR8DHAAeAAciDgAMIwIDAB4dIAAEJCABJiY=",
                    "dtype": "i1"
                  },
                  "xaxis": "x3",
                  "yaxis": "y3"
                }
              ],
              "layout": {
                "annotations": [
                  {
                    "font": {
                      "size": 16
                    },
                    "showarrow": false,
                    "text": "Goles",
                    "x": 0.14444444444444446,
                    "xanchor": "center",
                    "xref": "paper",
                    "y": 1,
                    "yanchor": "bottom",
                    "yref": "paper"
                  },
                  {
                    "font": {
                      "size": 16
                    },
                    "showarrow": false,
                    "text": "Asistencias",
                    "x": 0.5,
                    "xanchor": "center",
                    "xref": "paper",
                    "y": 1,
                    "yanchor": "bottom",
                    "yref": "paper"
                  },
                  {
                    "font": {
                      "size": 16
                    },
                    "showarrow": false,
                    "text": "Partidos",
                    "x": 0.8555555555555556,
                    "xanchor": "center",
                    "xref": "paper",
                    "y": 1,
                    "yanchor": "bottom",
                    "yref": "paper"
                  }
                ],
                "height": 400,
                "showlegend": false,
                "template": {
                  "data": {
                    "bar": [
                      {
                        "error_x": {
                          "color": "#2a3f5f"
                        },
                        "error_y": {
                          "color": "#2a3f5f"
                        },
                        "marker": {
                          "line": {
                            "color": "white",
                            "width": 0.5
                          },
                          "pattern": {
                            "fillmode": "overlay",
                            "size": 10,
                            "solidity": 0.2
                          }
                        },
                        "type": "bar"
                      }
                    ],
                    "barpolar": [
                      {
                        "marker": {
                          "line": {
                            "color": "white",
                            "width": 0.5
                          },
                          "pattern": {
                            "fillmode": "overlay",
                            "size": 10,
                            "solidity": 0.2
                          }
                        },
                        "type": "barpolar"
                      }
                    ],
                    "carpet": [
                      {
                        "aaxis": {
                          "endlinecolor": "#2a3f5f",
                          "gridcolor": "#C8D4E3",
                          "linecolor": "#C8D4E3",
                          "minorgridcolor": "#C8D4E3",
                          "startlinecolor": "#2a3f5f"
                        },
                        "baxis": {
                          "endlinecolor": "#2a3f5f",
                          "gridcolor": "#C8D4E3",
                          "linecolor": "#C8D4E3",
                          "minorgridcolor": "#C8D4E3",
                          "startlinecolor": "#2a3f5f"
                        },
                        "type": "carpet"
                      }
                    ],
                    "choropleth": [
                      {
                        "colorbar": {
                          "outlinewidth": 0,
                          "ticks": ""
                        },
                        "type": "choropleth"
                      }
                    ],
                    "contour": [
                      {
                        "colorbar": {
                          "outlinewidth": 0,
                          "ticks": ""
                        },
                        "colorscale": [
                          [
                            0,
                            "#0d0887"
                          ],
                          [
                            0.1111111111111111,
                            "#46039f"
                          ],
                          [
                            0.2222222222222222,
                            "#7201a8"
                          ],
                          [
                            0.3333333333333333,
                            "#9c179e"
                          ],
                          [
                            0.4444444444444444,
                            "#bd3786"
                          ],
                          [
                            0.5555555555555556,
                            "#d8576b"
                          ],
                          [
                            0.6666666666666666,
                            "#ed7953"
                          ],
                          [
                            0.7777777777777778,
                            "#fb9f3a"
                          ],
                          [
                            0.8888888888888888,
                            "#fdca26"
                          ],
                          [
                            1,
                            "#f0f921"
                          ]
                        ],
                        "type": "contour"
                      }
                    ],
                    "contourcarpet": [
                      {
                        "colorbar": {
                          "outlinewidth": 0,
                          "ticks": ""
                        },
                        "type": "contourcarpet"
                      }
                    ],
                    "heatmap": [
                      {
                        "colorbar": {
                          "outlinewidth": 0,
                          "ticks": ""
                        },
                        "colorscale": [
                          [
                            0,
                            "#0d0887"
                          ],
                          [
                            0.1111111111111111,
                            "#46039f"
                          ],
                          [
                            0.2222222222222222,
                            "#7201a8"
                          ],
                          [
                            0.3333333333333333,
                            "#9c179e"
                          ],
                          [
                            0.4444444444444444,
                            "#bd3786"
                          ],
                          [
                            0.5555555555555556,
                            "#d8576b"
                          ],
                          [
                            0.6666666666666666,
                            "#ed7953"
                          ],
                          [
                            0.7777777777777778,
                            "#fb9f3a"
                          ],
                          [
                            0.8888888888888888,
                            "#fdca26"
                          ],
                          [
                            1,
                            "#f0f921"
                          ]
                        ],
                        "type": "heatmap"
                      }
                    ],
                    "histogram": [
                      {
                        "marker": {
                          "pattern": {
                            "fillmode": "overlay",
                            "size": 10,
                            "solidity": 0.2
                          }
                        },
                        "type": "histogram"
                      }
                    ],
                    "histogram2d": [
                      {
                        "colorbar": {
                          "outlinewidth": 0,
                          "ticks": ""
                        },
                        "colorscale": [
                          [
                            0,
                            "#0d0887"
                          ],
                          [
                            0.1111111111111111,
                            "#46039f"
                          ],
                          [
                            0.2222222222222222,
                            "#7201a8"
                          ],
                          [
                            0.3333333333333333,
                            "#9c179e"
                          ],
                          [
                            0.4444444444444444,
                            "#bd3786"
                          ],
                          [
                            0.5555555555555556,
                            "#d8576b"
                          ],
                          [
                            0.6666666666666666,
                            "#ed7953"
                          ],
                          [
                            0.7777777777777778,
                            "#fb9f3a"
                          ],
                          [
                            0.8888888888888888,
                            "#fdca26"
                          ],
                          [
                            1,
                            "#f0f921"
                          ]
                        ],
                        "type": "histogram2d"
                      }
                    ],
                    "histogram2dcontour": [
                      {
                        "colorbar": {
                          "outlinewidth": 0,
                          "ticks": ""
                        },
                        "colorscale": [
                          [
                            0,
                            "#0d0887"
                          ],
                          [
                            0.1111111111111111,
                            "#46039f"
                          ],
                          [
                            0.2222222222222222,
                            "#7201a8"
                          ],
                          [
                            0.3333333333333333,
                            "#9c179e"
                          ],
                          [
                            0.4444444444444444,
                            "#bd3786"
                          ],
                          [
                            0.5555555555555556,
                            "#d8576b"
                          ],
                          [
                            0.6666666666666666,
                            "#ed7953"
                          ],
                          [
                            0.7777777777777778,
                            "#fb9f3a"
                          ],
                          [
                            0.8888888888888888,
                            "#fdca26"
                          ],
                          [
                            1,
                            "#f0f921"
                          ]
                        ],
                        "type": "histogram2dcontour"
                      }
                    ],
                    "mesh3d": [
                      {
                        "colorbar": {
                          "outlinewidth": 0,
                          "ticks": ""
                        },
                        "type": "mesh3d"
                      }
                    ],
                    "parcoords": [
                      {
                        "line": {
                          "colorbar": {
                            "outlinewidth": 0,
                            "ticks": ""
                          }
                        },
                        "type": "parcoords"
                      }
                    ],
                    "pie": [
                      {
                        "automargin": true,
                        "type": "pie"
                      }
                    ],
                    "scatter": [
                      {
                        "fillpattern": {
                          "fillmode": "overlay",
                          "size": 10,
                          "solidity": 0.2
                        },
                        "type": "scatter"
                      }
                    ],
                    "scatter3d": [
                      {
                        "line": {
                          "colorbar": {
                            "outlinewidth": 0,
                            "ticks": ""
                          }
                        },
                        "marker": {
                          "colorbar": {
                            "outlinewidth": 0,
                            "ticks": ""
                          }
                        },
                        "type": "scatter3d"
                      }
                    ],
                    "scattercarpet": [
                      {
                        "marker": {
                          "colorbar": {
                            "outlinewidth": 0,
                            "ticks": ""
                          }
                        },
                        "type": "scattercarpet"
                      }
                    ],
                    "scattergeo": [
                      {
                        "marker": {
                          "colorbar": {
                            "outlinewidth": 0,
                            "ticks": ""
                          }
                        },
                        "type": "scattergeo"
                      }
                    ],
                    "scattergl": [
                      {
                        "marker": {
                          "colorbar": {
                            "outlinewidth": 0,
                            "ticks": ""
                          }
                        },
                        "type": "scattergl"
                      }
                    ],
                    "scattermap": [
                      {
                        "marker": {
                          "colorbar": {
                            "outlinewidth": 0,
                            "ticks": ""
                          }
                        },
                        "type": "scattermap"
                      }
                    ],
                    "scattermapbox": [
                      {
                        "marker": {
                          "colorbar": {
                            "outlinewidth": 0,
                            "ticks": ""
                          }
                        },
                        "type": "scattermapbox"
                      }
                    ],
                    "scatterpolar": [
                      {
                        "marker": {
                          "colorbar": {
                            "outlinewidth": 0,
                            "ticks": ""
                          }
                        },
                        "type": "scatterpolar"
                      }
                    ],
                    "scatterpolargl": [
                      {
                        "marker": {
                          "colorbar": {
                            "outlinewidth": 0,
                            "ticks": ""
                          }
                        },
                        "type": "scatterpolargl"
                      }
                    ],
                    "scatterternary": [
                      {
                        "marker": {
                          "colorbar": {
                            "outlinewidth": 0,
                            "ticks": ""
                          }
                        },
                        "type": "scatterternary"
                      }
                    ],
                    "surface": [
                      {
                        "colorbar": {
                          "outlinewidth": 0,
                          "ticks": ""
                        },
                        "colorscale": [
                          [
                            0,
                            "#0d0887"
                          ],
                          [
                            0.1111111111111111,
                            "#46039f"
                          ],
                          [
                            0.2222222222222222,
                            "#7201a8"
                          ],
                          [
                            0.3333333333333333,
                            "#9c179e"
                          ],
                          [
                            0.4444444444444444,
                            "#bd3786"
                          ],
                          [
                            0.5555555555555556,
                            "#d8576b"
                          ],
                          [
                            0.6666666666666666,
                            "#ed7953"
                          ],
                          [
                            0.7777777777777778,
                            "#fb9f3a"
                          ],
                          [
                            0.8888888888888888,
                            "#fdca26"
                          ],
                          [
                            1,
                            "#f0f921"
                          ]
                        ],
                        "type": "surface"
                      }
                    ],
                    "table": [
                      {
                        "cells": {
                          "fill": {
                            "color": "#EBF0F8"
                          },
                          "line": {
                            "color": "white"
                          }
                        },
                        "header": {
                          "fill": {
                            "color": "#C8D4E3"
                          },
                          "line": {
                            "color": "white"
                          }
                        },
                        "type": "table"
                      }
                    ]
                  },
                  "layout": {
                    "annotationdefaults": {
                      "arrowcolor": "#2a3f5f",
                      "arrowhead": 0,
                      "arrowwidth": 1
                    },
                    "autotypenumbers": "strict",
                    "coloraxis": {
                      "colorbar": {
                        "outlinewidth": 0,
                        "ticks": ""
                      }
                    },
                    "colorscale": {
                      "diverging": [
                        [
                          0,
                          "#8e0152"
                        ],
                        [
                          0.1,
                          "#c51b7d"
                        ],
                        [
                          0.2,
                          "#de77ae"
                        ],
                        [
                          0.3,
                          "#f1b6da"
                        ],
                        [
                          0.4,
                          "#fde0ef"
                        ],
                        [
                          0.5,
                          "#f7f7f7"
                        ],
                        [
                          0.6,
                          "#e6f5d0"
                        ],
                        [
                          0.7,
                          "#b8e186"
                        ],
                        [
                          0.8,
                          "#7fbc41"
                        ],
                        [
                          0.9,
                          "#4d9221"
                        ],
                        [
                          1,
                          "#276419"
                        ]
                      ],
                      "sequential": [
                        [
                          0,
                          "#0d0887"
                        ],
                        [
                          0.1111111111111111,
                          "#46039f"
                        ],
                        [
                          0.2222222222222222,
                          "#7201a8"
                        ],
                        [
                          0.3333333333333333,
                          "#9c179e"
                        ],
                        [
                          0.4444444444444444,
                          "#bd3786"
                        ],
                        [
                          0.5555555555555556,
                          "#d8576b"
                        ],
                        [
                          0.6666666666666666,
                          "#ed7953"
                        ],
                        [
                          0.7777777777777778,
                          "#fb9f3a"
                        ],
                        [
                          0.8888888888888888,
                          "#fdca26"
                        ],
                        [
                          1,
                          "#f0f921"
                        ]
                      ],
                      "sequentialminus": [
                        [
                          0,
                          "#0d0887"
                        ],
                        [
                          0.1111111111111111,
                          "#46039f"
                        ],
                        [
                          0.2222222222222222,
                          "#7201a8"
                        ],
                        [
                          0.3333333333333333,
                          "#9c179e"
                        ],
                        [
                          0.4444444444444444,
                          "#bd3786"
                        ],
                        [
                          0.5555555555555556,
                          "#d8576b"
                        ],
                        [
                          0.6666666666666666,
                          "#ed7953"
                        ],
                        [
                          0.7777777777777778,
                          "#fb9f3a"
                        ],
                        [
                          0.8888888888888888,
                          "#fdca26"
                        ],
                        [
                          1,
                          "#f0f921"
                        ]
                      ]
                    },
                    "colorway": [
                      "#636efa",
                      "#EF553B",
                      "#00cc96",
                      "#ab63fa",
                      "#FFA15A",
                      "#19d3f3",
                      "#FF6692",
                      "#B6E880",
                      "#FF97FF",
                      "#FECB52"
                    ],
                    "font": {
                      "color": "#2a3f5f"
                    },
                    "geo": {
                      "bgcolor": "white",
                      "lakecolor": "white",
                      "landcolor": "white",
                      "showlakes": true,
                      "showland": true,
                      "subunitcolor": "#C8D4E3"
                    },
                    "hoverlabel": {
                      "align": "left"
                    },
                    "hovermode": "closest",
                    "mapbox": {
                      "style": "light"
                    },
                    "paper_bgcolor": "white",
                    "plot_bgcolor": "white",
                    "polar": {
                      "angularaxis": {
                        "gridcolor": "#EBF0F8",
                        "linecolor": "#EBF0F8",
                        "ticks": ""
                      },
                      "bgcolor": "white",
                      "radialaxis": {
                        "gridcolor": "#EBF0F8",
                        "linecolor": "#EBF0F8",
                        "ticks": ""
                      }
                    },
                    "scene": {
                      "xaxis": {
                        "backgroundcolor": "white",
                        "gridcolor": "#DFE8F3",
                        "gridwidth": 2,
                        "linecolor": "#EBF0F8",
                        "showbackground": true,
                        "ticks": "",
                        "zerolinecolor": "#EBF0F8"
                      },
                      "yaxis": {
                        "backgroundcolor": "white",
                        "gridcolor": "#DFE8F3",
                        "gridwidth": 2,
                        "linecolor": "#EBF0F8",
                        "showbackground": true,
                        "ticks": "",
                        "zerolinecolor": "#EBF0F8"
                      },
                      "zaxis": {
                        "backgroundcolor": "white",
                        "gridcolor": "#DFE8F3",
                        "gridwidth": 2,
                        "linecolor": "#EBF0F8",
                        "showbackground": true,
                        "ticks": "",
                        "zerolinecolor": "#EBF0F8"
                      }
                    },
                    "shapedefaults": {
                      "line": {
                        "color": "#2a3f5f"
                      }
                    },
                    "ternary": {
                      "aaxis": {
                        "gridcolor": "#DFE8F3",
                        "linecolor": "#A2B1C6",
                        "ticks": ""
                      },
                      "baxis": {
                        "gridcolor": "#DFE8F3",
                        "linecolor": "#A2B1C6",
                        "ticks": ""
                      },
                      "bgcolor": "white",
                      "caxis": {
                        "gridcolor": "#DFE8F3",
                        "linecolor": "#A2B1C6",
                        "ticks": ""
                      }
                    },
                    "title": {
                      "x": 0.05
                    },
                    "xaxis": {
                      "automargin": true,
                      "gridcolor": "#EBF0F8",
                      "linecolor": "#EBF0F8",
                      "ticks": "",
                      "title": {
                        "standoff": 15
                      },
                      "zerolinecolor": "#EBF0F8",
                      "zerolinewidth": 2
                    },
                    "yaxis": {
                      "automargin": true,
                      "gridcolor": "#EBF0F8",
                      "linecolor": "#EBF0F8",
                      "ticks": "",
                      "title": {
                        "standoff": 15
                      },
                      "zerolinecolor": "#EBF0F8",
                      "zerolinewidth": 2
                    }
                  }
                },
                "title": {
                  "text": "Distribución de Métricas"
                },
                "xaxis": {
                  "anchor": "y",
                  "domain": [
                    0,
                    0.2888888888888889
                  ]
                },
                "xaxis2": {
                  "anchor": "y2",
                  "domain": [
                    0.35555555555555557,
                    0.6444444444444445
                  ]
                },
                "xaxis3": {
                  "anchor": "y3",
                  "domain": [
                    0.7111111111111111,
                    1
                  ]
                },
                "yaxis": {
                  "anchor": "x",
                  "domain": [
                    0,
                    1
                  ]
                },
                "yaxis2": {
                  "anchor": "x2",
                  "domain": [
                    0,
                    1
                  ]
                },
                "yaxis3": {
                  "anchor": "x3",
                  "domain": [
                    0,
                    1
                  ]
                }
              }
            }
          },
          "metadata": {},
          "output_type": "display_data"
        }
      ],
      "source": [
        "# Distribución de Goles, Asistencias y Partidos\n",
        "fig = make_subplots(rows=1, cols=3, subplot_titles=['Goles', 'Asistencias', 'Partidos'])\n",
        "\n",
        "fig.add_trace(go.Histogram(x=df['Gls'], marker_color='#6366f1', name='Gls'), row=1, col=1)\n",
        "fig.add_trace(go.Histogram(x=df['Ast'], marker_color='#8b5cf6', name='Ast'), row=1, col=2)\n",
        "fig.add_trace(go.Histogram(x=df['MP'], marker_color='#ec4899', name='MP'), row=1, col=3)\n",
        "\n",
        "fig.update_layout(height=400, showlegend=False, title='Distribución de Métricas', template='plotly_white')\n",
        "fig.show()\n"
      ]
    },
    {
      "cell_type": "code",
      "execution_count": 72,
      "metadata": {},
      "outputs": [
        {
          "data": {
            "application/vnd.plotly.v1+json": {
              "config": {
                "plotlyServerURL": "https://plot.ly"
              },
              "data": [
                {
                  "coloraxis": "coloraxis",
                  "hovertemplate": "x: %{x}<br>y: %{y}<br>color: %{z}<extra></extra>",
                  "name": "0",
                  "texttemplate": "%{z:.2f}",
                  "type": "heatmap",
                  "x": [
                    "Gls",
                    "Ast",
                    "G+A",
                    "MP",
                    "Min",
                    "xG",
                    "xAG",
                    "CrdY"
                  ],
                  "xaxis": "x",
                  "y": [
                    "Gls",
                    "Ast",
                    "G+A",
                    "MP",
                    "Min",
                    "xG",
                    "xAG",
                    "CrdY"
                  ],
                  "yaxis": "y",
                  "z": {
                    "bdata": "AAAAAAAA8D++IYucP8DuP5OUeD1byO8/O6gFSFlN2z8x/gOZ2t2Rv9yHgkcOeu8/bhTcsoK07j/IZRPGNTHpP74hi5w/wO4/AAAAAAAA8D//tnFtfJLvPzX+wyhBKNs/VVxVe14mor/34sMmBGPuP/fnOyM1Ne8/ut7jKfVT6T+TlHg9W8jvP/+2cW18ku8/AAAAAAAA8D/VUNZ+AoHbP+dvCYGCypm/VKwa3T5S7z+Iy2xZSDbvP8byOEnjfek/O6gFSFlN2z81/sMoQSjbP9VQ1n4Cgds/AAAAAAAA8D/b+Oi7ZMjiPySaQKcsJNw/6UZHuGg13D/2s0y0k5/ZPzH+A5na3ZG/VVxVe14mor/nbwmBgsqZv9v46LtkyOI/AAAAAAAA8D/PWPtYyCuhv8+h6XuW/6q/JJBMdLFjvb/ch4JHDnrvP/fiwyYEY+4/VKwa3T5S7z8kmkCnLCTcP89Y+1jIK6G/AAAAAAAA8D8mwMQD1kLvP53CPnKPQ+s/bhTcsoK07j/35zsjNTXvP4jLbFlINu8/6UZHuGg13D/Poel7lv+qvybAxAPWQu8/AAAAAAAA8D9Vwp0KqxrsP8hlE8Y1Mek/ut7jKfVT6T/G8jhJ433pP/azTLSTn9k/JJBMdLFjvb+dwj5yj0PrP1XCnQqrGuw/AAAAAAAA8D8=",
                    "dtype": "f8",
                    "shape": "8, 8"
                  }
                }
              ],
              "layout": {
                "coloraxis": {
                  "colorscale": [
                    [
                      0,
                      "rgb(5,48,97)"
                    ],
                    [
                      0.1,
                      "rgb(33,102,172)"
                    ],
                    [
                      0.2,
                      "rgb(67,147,195)"
                    ],
                    [
                      0.3,
                      "rgb(146,197,222)"
                    ],
                    [
                      0.4,
                      "rgb(209,229,240)"
                    ],
                    [
                      0.5,
                      "rgb(247,247,247)"
                    ],
                    [
                      0.6,
                      "rgb(253,219,199)"
                    ],
                    [
                      0.7,
                      "rgb(244,165,130)"
                    ],
                    [
                      0.8,
                      "rgb(214,96,77)"
                    ],
                    [
                      0.9,
                      "rgb(178,24,43)"
                    ],
                    [
                      1,
                      "rgb(103,0,31)"
                    ]
                  ]
                },
                "height": 600,
                "margin": {
                  "t": 60
                },
                "template": {
                  "data": {
                    "bar": [
                      {
                        "error_x": {
                          "color": "#2a3f5f"
                        },
                        "error_y": {
                          "color": "#2a3f5f"
                        },
                        "marker": {
                          "line": {
                            "color": "white",
                            "width": 0.5
                          },
                          "pattern": {
                            "fillmode": "overlay",
                            "size": 10,
                            "solidity": 0.2
                          }
                        },
                        "type": "bar"
                      }
                    ],
                    "barpolar": [
                      {
                        "marker": {
                          "line": {
                            "color": "white",
                            "width": 0.5
                          },
                          "pattern": {
                            "fillmode": "overlay",
                            "size": 10,
                            "solidity": 0.2
                          }
                        },
                        "type": "barpolar"
                      }
                    ],
                    "carpet": [
                      {
                        "aaxis": {
                          "endlinecolor": "#2a3f5f",
                          "gridcolor": "#C8D4E3",
                          "linecolor": "#C8D4E3",
                          "minorgridcolor": "#C8D4E3",
                          "startlinecolor": "#2a3f5f"
                        },
                        "baxis": {
                          "endlinecolor": "#2a3f5f",
                          "gridcolor": "#C8D4E3",
                          "linecolor": "#C8D4E3",
                          "minorgridcolor": "#C8D4E3",
                          "startlinecolor": "#2a3f5f"
                        },
                        "type": "carpet"
                      }
                    ],
                    "choropleth": [
                      {
                        "colorbar": {
                          "outlinewidth": 0,
                          "ticks": ""
                        },
                        "type": "choropleth"
                      }
                    ],
                    "contour": [
                      {
                        "colorbar": {
                          "outlinewidth": 0,
                          "ticks": ""
                        },
                        "colorscale": [
                          [
                            0,
                            "#0d0887"
                          ],
                          [
                            0.1111111111111111,
                            "#46039f"
                          ],
                          [
                            0.2222222222222222,
                            "#7201a8"
                          ],
                          [
                            0.3333333333333333,
                            "#9c179e"
                          ],
                          [
                            0.4444444444444444,
                            "#bd3786"
                          ],
                          [
                            0.5555555555555556,
                            "#d8576b"
                          ],
                          [
                            0.6666666666666666,
                            "#ed7953"
                          ],
                          [
                            0.7777777777777778,
                            "#fb9f3a"
                          ],
                          [
                            0.8888888888888888,
                            "#fdca26"
                          ],
                          [
                            1,
                            "#f0f921"
                          ]
                        ],
                        "type": "contour"
                      }
                    ],
                    "contourcarpet": [
                      {
                        "colorbar": {
                          "outlinewidth": 0,
                          "ticks": ""
                        },
                        "type": "contourcarpet"
                      }
                    ],
                    "heatmap": [
                      {
                        "colorbar": {
                          "outlinewidth": 0,
                          "ticks": ""
                        },
                        "colorscale": [
                          [
                            0,
                            "#0d0887"
                          ],
                          [
                            0.1111111111111111,
                            "#46039f"
                          ],
                          [
                            0.2222222222222222,
                            "#7201a8"
                          ],
                          [
                            0.3333333333333333,
                            "#9c179e"
                          ],
                          [
                            0.4444444444444444,
                            "#bd3786"
                          ],
                          [
                            0.5555555555555556,
                            "#d8576b"
                          ],
                          [
                            0.6666666666666666,
                            "#ed7953"
                          ],
                          [
                            0.7777777777777778,
                            "#fb9f3a"
                          ],
                          [
                            0.8888888888888888,
                            "#fdca26"
                          ],
                          [
                            1,
                            "#f0f921"
                          ]
                        ],
                        "type": "heatmap"
                      }
                    ],
                    "histogram": [
                      {
                        "marker": {
                          "pattern": {
                            "fillmode": "overlay",
                            "size": 10,
                            "solidity": 0.2
                          }
                        },
                        "type": "histogram"
                      }
                    ],
                    "histogram2d": [
                      {
                        "colorbar": {
                          "outlinewidth": 0,
                          "ticks": ""
                        },
                        "colorscale": [
                          [
                            0,
                            "#0d0887"
                          ],
                          [
                            0.1111111111111111,
                            "#46039f"
                          ],
                          [
                            0.2222222222222222,
                            "#7201a8"
                          ],
                          [
                            0.3333333333333333,
                            "#9c179e"
                          ],
                          [
                            0.4444444444444444,
                            "#bd3786"
                          ],
                          [
                            0.5555555555555556,
                            "#d8576b"
                          ],
                          [
                            0.6666666666666666,
                            "#ed7953"
                          ],
                          [
                            0.7777777777777778,
                            "#fb9f3a"
                          ],
                          [
                            0.8888888888888888,
                            "#fdca26"
                          ],
                          [
                            1,
                            "#f0f921"
                          ]
                        ],
                        "type": "histogram2d"
                      }
                    ],
                    "histogram2dcontour": [
                      {
                        "colorbar": {
                          "outlinewidth": 0,
                          "ticks": ""
                        },
                        "colorscale": [
                          [
                            0,
                            "#0d0887"
                          ],
                          [
                            0.1111111111111111,
                            "#46039f"
                          ],
                          [
                            0.2222222222222222,
                            "#7201a8"
                          ],
                          [
                            0.3333333333333333,
                            "#9c179e"
                          ],
                          [
                            0.4444444444444444,
                            "#bd3786"
                          ],
                          [
                            0.5555555555555556,
                            "#d8576b"
                          ],
                          [
                            0.6666666666666666,
                            "#ed7953"
                          ],
                          [
                            0.7777777777777778,
                            "#fb9f3a"
                          ],
                          [
                            0.8888888888888888,
                            "#fdca26"
                          ],
                          [
                            1,
                            "#f0f921"
                          ]
                        ],
                        "type": "histogram2dcontour"
                      }
                    ],
                    "mesh3d": [
                      {
                        "colorbar": {
                          "outlinewidth": 0,
                          "ticks": ""
                        },
                        "type": "mesh3d"
                      }
                    ],
                    "parcoords": [
                      {
                        "line": {
                          "colorbar": {
                            "outlinewidth": 0,
                            "ticks": ""
                          }
                        },
                        "type": "parcoords"
                      }
                    ],
                    "pie": [
                      {
                        "automargin": true,
                        "type": "pie"
                      }
                    ],
                    "scatter": [
                      {
                        "fillpattern": {
                          "fillmode": "overlay",
                          "size": 10,
                          "solidity": 0.2
                        },
                        "type": "scatter"
                      }
                    ],
                    "scatter3d": [
                      {
                        "line": {
                          "colorbar": {
                            "outlinewidth": 0,
                            "ticks": ""
                          }
                        },
                        "marker": {
                          "colorbar": {
                            "outlinewidth": 0,
                            "ticks": ""
                          }
                        },
                        "type": "scatter3d"
                      }
                    ],
                    "scattercarpet": [
                      {
                        "marker": {
                          "colorbar": {
                            "outlinewidth": 0,
                            "ticks": ""
                          }
                        },
                        "type": "scattercarpet"
                      }
                    ],
                    "scattergeo": [
                      {
                        "marker": {
                          "colorbar": {
                            "outlinewidth": 0,
                            "ticks": ""
                          }
                        },
                        "type": "scattergeo"
                      }
                    ],
                    "scattergl": [
                      {
                        "marker": {
                          "colorbar": {
                            "outlinewidth": 0,
                            "ticks": ""
                          }
                        },
                        "type": "scattergl"
                      }
                    ],
                    "scattermap": [
                      {
                        "marker": {
                          "colorbar": {
                            "outlinewidth": 0,
                            "ticks": ""
                          }
                        },
                        "type": "scattermap"
                      }
                    ],
                    "scattermapbox": [
                      {
                        "marker": {
                          "colorbar": {
                            "outlinewidth": 0,
                            "ticks": ""
                          }
                        },
                        "type": "scattermapbox"
                      }
                    ],
                    "scatterpolar": [
                      {
                        "marker": {
                          "colorbar": {
                            "outlinewidth": 0,
                            "ticks": ""
                          }
                        },
                        "type": "scatterpolar"
                      }
                    ],
                    "scatterpolargl": [
                      {
                        "marker": {
                          "colorbar": {
                            "outlinewidth": 0,
                            "ticks": ""
                          }
                        },
                        "type": "scatterpolargl"
                      }
                    ],
                    "scatterternary": [
                      {
                        "marker": {
                          "colorbar": {
                            "outlinewidth": 0,
                            "ticks": ""
                          }
                        },
                        "type": "scatterternary"
                      }
                    ],
                    "surface": [
                      {
                        "colorbar": {
                          "outlinewidth": 0,
                          "ticks": ""
                        },
                        "colorscale": [
                          [
                            0,
                            "#0d0887"
                          ],
                          [
                            0.1111111111111111,
                            "#46039f"
                          ],
                          [
                            0.2222222222222222,
                            "#7201a8"
                          ],
                          [
                            0.3333333333333333,
                            "#9c179e"
                          ],
                          [
                            0.4444444444444444,
                            "#bd3786"
                          ],
                          [
                            0.5555555555555556,
                            "#d8576b"
                          ],
                          [
                            0.6666666666666666,
                            "#ed7953"
                          ],
                          [
                            0.7777777777777778,
                            "#fb9f3a"
                          ],
                          [
                            0.8888888888888888,
                            "#fdca26"
                          ],
                          [
                            1,
                            "#f0f921"
                          ]
                        ],
                        "type": "surface"
                      }
                    ],
                    "table": [
                      {
                        "cells": {
                          "fill": {
                            "color": "#EBF0F8"
                          },
                          "line": {
                            "color": "white"
                          }
                        },
                        "header": {
                          "fill": {
                            "color": "#C8D4E3"
                          },
                          "line": {
                            "color": "white"
                          }
                        },
                        "type": "table"
                      }
                    ]
                  },
                  "layout": {
                    "annotationdefaults": {
                      "arrowcolor": "#2a3f5f",
                      "arrowhead": 0,
                      "arrowwidth": 1
                    },
                    "autotypenumbers": "strict",
                    "coloraxis": {
                      "colorbar": {
                        "outlinewidth": 0,
                        "ticks": ""
                      }
                    },
                    "colorscale": {
                      "diverging": [
                        [
                          0,
                          "#8e0152"
                        ],
                        [
                          0.1,
                          "#c51b7d"
                        ],
                        [
                          0.2,
                          "#de77ae"
                        ],
                        [
                          0.3,
                          "#f1b6da"
                        ],
                        [
                          0.4,
                          "#fde0ef"
                        ],
                        [
                          0.5,
                          "#f7f7f7"
                        ],
                        [
                          0.6,
                          "#e6f5d0"
                        ],
                        [
                          0.7,
                          "#b8e186"
                        ],
                        [
                          0.8,
                          "#7fbc41"
                        ],
                        [
                          0.9,
                          "#4d9221"
                        ],
                        [
                          1,
                          "#276419"
                        ]
                      ],
                      "sequential": [
                        [
                          0,
                          "#0d0887"
                        ],
                        [
                          0.1111111111111111,
                          "#46039f"
                        ],
                        [
                          0.2222222222222222,
                          "#7201a8"
                        ],
                        [
                          0.3333333333333333,
                          "#9c179e"
                        ],
                        [
                          0.4444444444444444,
                          "#bd3786"
                        ],
                        [
                          0.5555555555555556,
                          "#d8576b"
                        ],
                        [
                          0.6666666666666666,
                          "#ed7953"
                        ],
                        [
                          0.7777777777777778,
                          "#fb9f3a"
                        ],
                        [
                          0.8888888888888888,
                          "#fdca26"
                        ],
                        [
                          1,
                          "#f0f921"
                        ]
                      ],
                      "sequentialminus": [
                        [
                          0,
                          "#0d0887"
                        ],
                        [
                          0.1111111111111111,
                          "#46039f"
                        ],
                        [
                          0.2222222222222222,
                          "#7201a8"
                        ],
                        [
                          0.3333333333333333,
                          "#9c179e"
                        ],
                        [
                          0.4444444444444444,
                          "#bd3786"
                        ],
                        [
                          0.5555555555555556,
                          "#d8576b"
                        ],
                        [
                          0.6666666666666666,
                          "#ed7953"
                        ],
                        [
                          0.7777777777777778,
                          "#fb9f3a"
                        ],
                        [
                          0.8888888888888888,
                          "#fdca26"
                        ],
                        [
                          1,
                          "#f0f921"
                        ]
                      ]
                    },
                    "colorway": [
                      "#636efa",
                      "#EF553B",
                      "#00cc96",
                      "#ab63fa",
                      "#FFA15A",
                      "#19d3f3",
                      "#FF6692",
                      "#B6E880",
                      "#FF97FF",
                      "#FECB52"
                    ],
                    "font": {
                      "color": "#2a3f5f"
                    },
                    "geo": {
                      "bgcolor": "white",
                      "lakecolor": "white",
                      "landcolor": "white",
                      "showlakes": true,
                      "showland": true,
                      "subunitcolor": "#C8D4E3"
                    },
                    "hoverlabel": {
                      "align": "left"
                    },
                    "hovermode": "closest",
                    "mapbox": {
                      "style": "light"
                    },
                    "paper_bgcolor": "white",
                    "plot_bgcolor": "white",
                    "polar": {
                      "angularaxis": {
                        "gridcolor": "#EBF0F8",
                        "linecolor": "#EBF0F8",
                        "ticks": ""
                      },
                      "bgcolor": "white",
                      "radialaxis": {
                        "gridcolor": "#EBF0F8",
                        "linecolor": "#EBF0F8",
                        "ticks": ""
                      }
                    },
                    "scene": {
                      "xaxis": {
                        "backgroundcolor": "white",
                        "gridcolor": "#DFE8F3",
                        "gridwidth": 2,
                        "linecolor": "#EBF0F8",
                        "showbackground": true,
                        "ticks": "",
                        "zerolinecolor": "#EBF0F8"
                      },
                      "yaxis": {
                        "backgroundcolor": "white",
                        "gridcolor": "#DFE8F3",
                        "gridwidth": 2,
                        "linecolor": "#EBF0F8",
                        "showbackground": true,
                        "ticks": "",
                        "zerolinecolor": "#EBF0F8"
                      },
                      "zaxis": {
                        "backgroundcolor": "white",
                        "gridcolor": "#DFE8F3",
                        "gridwidth": 2,
                        "linecolor": "#EBF0F8",
                        "showbackground": true,
                        "ticks": "",
                        "zerolinecolor": "#EBF0F8"
                      }
                    },
                    "shapedefaults": {
                      "line": {
                        "color": "#2a3f5f"
                      }
                    },
                    "ternary": {
                      "aaxis": {
                        "gridcolor": "#DFE8F3",
                        "linecolor": "#A2B1C6",
                        "ticks": ""
                      },
                      "baxis": {
                        "gridcolor": "#DFE8F3",
                        "linecolor": "#A2B1C6",
                        "ticks": ""
                      },
                      "bgcolor": "white",
                      "caxis": {
                        "gridcolor": "#DFE8F3",
                        "linecolor": "#A2B1C6",
                        "ticks": ""
                      }
                    },
                    "title": {
                      "x": 0.05
                    },
                    "xaxis": {
                      "automargin": true,
                      "gridcolor": "#EBF0F8",
                      "linecolor": "#EBF0F8",
                      "ticks": "",
                      "title": {
                        "standoff": 15
                      },
                      "zerolinecolor": "#EBF0F8",
                      "zerolinewidth": 2
                    },
                    "yaxis": {
                      "automargin": true,
                      "gridcolor": "#EBF0F8",
                      "linecolor": "#EBF0F8",
                      "ticks": "",
                      "title": {
                        "standoff": 15
                      },
                      "zerolinecolor": "#EBF0F8",
                      "zerolinewidth": 2
                    }
                  }
                },
                "title": {
                  "text": "Correlación entre Métricas de Rendimiento"
                },
                "xaxis": {
                  "anchor": "y",
                  "domain": [
                    0,
                    1
                  ]
                },
                "yaxis": {
                  "anchor": "x",
                  "autorange": "reversed",
                  "domain": [
                    0,
                    1
                  ]
                }
              }
            }
          },
          "metadata": {},
          "output_type": "display_data"
        }
      ],
      "source": [
        "# Correlación entre métricas de rendimiento\n",
        "metricas = ['Gls', 'Ast', 'G+A', 'MP', 'Min', 'xG', 'xAG', 'CrdY']\n",
        "corr = df[metricas].corr()\n",
        "fig = px.imshow(corr, text_auto='.2f', color_continuous_scale='RdBu_r', aspect='auto')\n",
        "fig.update_layout(title='Correlación entre Métricas de Rendimiento', template='plotly_white', height=600)\n",
        "fig.show()\n"
      ]
    },
    {
      "cell_type": "code",
      "execution_count": 87,
      "metadata": {},
      "outputs": [
        {
          "data": {
            "text/html": [
              "<div>\n",
              "<style scoped>\n",
              "    .dataframe tbody tr th:only-of-type {\n",
              "        vertical-align: middle;\n",
              "    }\n",
              "\n",
              "    .dataframe tbody tr th {\n",
              "        vertical-align: top;\n",
              "    }\n",
              "\n",
              "    .dataframe thead th {\n",
              "        text-align: right;\n",
              "    }\n",
              "</style>\n",
              "<table border=\"1\" class=\"dataframe\">\n",
              "  <thead>\n",
              "    <tr style=\"text-align: right;\">\n",
              "      <th></th>\n",
              "      <th>Age</th>\n",
              "      <th>MP</th>\n",
              "      <th>Starts</th>\n",
              "      <th>Min</th>\n",
              "      <th>90s</th>\n",
              "      <th>Gls</th>\n",
              "      <th>Ast</th>\n",
              "      <th>G+A</th>\n",
              "      <th>G-PK</th>\n",
              "      <th>PK</th>\n",
              "      <th>...</th>\n",
              "      <th>Gls.1</th>\n",
              "      <th>Ast.1</th>\n",
              "      <th>G+A.1</th>\n",
              "      <th>G-PK.1</th>\n",
              "      <th>G+A-PK</th>\n",
              "      <th>xG.1</th>\n",
              "      <th>xAG.1</th>\n",
              "      <th>xG+xAG</th>\n",
              "      <th>npxG.1</th>\n",
              "      <th>npxG+xAG.1</th>\n",
              "    </tr>\n",
              "  </thead>\n",
              "  <tbody>\n",
              "    <tr>\n",
              "      <th>0</th>\n",
              "      <td>0.859741</td>\n",
              "      <td>0.906240</td>\n",
              "      <td>-0.032807</td>\n",
              "      <td>1.872810</td>\n",
              "      <td>1.211558</td>\n",
              "      <td>-0.230466</td>\n",
              "      <td>-0.087006</td>\n",
              "      <td>-0.172348</td>\n",
              "      <td>-0.218724</td>\n",
              "      <td>-0.276507</td>\n",
              "      <td>...</td>\n",
              "      <td>-0.323559</td>\n",
              "      <td>-0.260803</td>\n",
              "      <td>-0.336036</td>\n",
              "      <td>-0.315108</td>\n",
              "      <td>-0.331027</td>\n",
              "      <td>-0.466064</td>\n",
              "      <td>-0.401045</td>\n",
              "      <td>-0.479207</td>\n",
              "      <td>-0.463137</td>\n",
              "      <td>-0.477972</td>\n",
              "    </tr>\n",
              "    <tr>\n",
              "      <th>1</th>\n",
              "      <td>0.083267</td>\n",
              "      <td>0.976448</td>\n",
              "      <td>-0.153097</td>\n",
              "      <td>0.810332</td>\n",
              "      <td>0.260373</td>\n",
              "      <td>0.346173</td>\n",
              "      <td>-0.389868</td>\n",
              "      <td>0.039945</td>\n",
              "      <td>0.419091</td>\n",
              "      <td>-0.276507</td>\n",
              "      <td>...</td>\n",
              "      <td>0.795887</td>\n",
              "      <td>-0.587345</td>\n",
              "      <td>0.196814</td>\n",
              "      <td>0.911607</td>\n",
              "      <td>0.229108</td>\n",
              "      <td>0.385896</td>\n",
              "      <td>-0.186527</td>\n",
              "      <td>0.143352</td>\n",
              "      <td>0.481210</td>\n",
              "      <td>0.184196</td>\n",
              "    </tr>\n",
              "    <tr>\n",
              "      <th>2</th>\n",
              "      <td>1.442097</td>\n",
              "      <td>-0.848965</td>\n",
              "      <td>-0.317130</td>\n",
              "      <td>-0.881935</td>\n",
              "      <td>-1.241007</td>\n",
              "      <td>-0.302546</td>\n",
              "      <td>-0.389868</td>\n",
              "      <td>-0.342183</td>\n",
              "      <td>-0.298451</td>\n",
              "      <td>-0.276507</td>\n",
              "      <td>...</td>\n",
              "      <td>0.298355</td>\n",
              "      <td>-0.587345</td>\n",
              "      <td>-0.107672</td>\n",
              "      <td>0.366400</td>\n",
              "      <td>-0.090969</td>\n",
              "      <td>0.385896</td>\n",
              "      <td>-0.544057</td>\n",
              "      <td>-0.016278</td>\n",
              "      <td>0.481210</td>\n",
              "      <td>0.014410</td>\n",
              "    </tr>\n",
              "    <tr>\n",
              "      <th>3</th>\n",
              "      <td>1.636216</td>\n",
              "      <td>1.046656</td>\n",
              "      <td>-0.021871</td>\n",
              "      <td>1.815662</td>\n",
              "      <td>1.155606</td>\n",
              "      <td>1.571530</td>\n",
              "      <td>0.821579</td>\n",
              "      <td>1.271244</td>\n",
              "      <td>1.216360</td>\n",
              "      <td>3.987311</td>\n",
              "      <td>...</td>\n",
              "      <td>1.840704</td>\n",
              "      <td>0.784129</td>\n",
              "      <td>1.460428</td>\n",
              "      <td>1.375033</td>\n",
              "      <td>1.173336</td>\n",
              "      <td>1.521842</td>\n",
              "      <td>0.349767</td>\n",
              "      <td>1.069210</td>\n",
              "      <td>0.853226</td>\n",
              "      <td>0.659599</td>\n",
              "    </tr>\n",
              "    <tr>\n",
              "      <th>4</th>\n",
              "      <td>-0.693208</td>\n",
              "      <td>-1.129798</td>\n",
              "      <td>-0.360872</td>\n",
              "      <td>-1.172338</td>\n",
              "      <td>-1.502116</td>\n",
              "      <td>-0.374625</td>\n",
              "      <td>-0.389868</td>\n",
              "      <td>-0.384641</td>\n",
              "      <td>-0.378178</td>\n",
              "      <td>-0.276507</td>\n",
              "      <td>...</td>\n",
              "      <td>-0.497695</td>\n",
              "      <td>-0.587345</td>\n",
              "      <td>-0.594848</td>\n",
              "      <td>-0.505930</td>\n",
              "      <td>-0.603093</td>\n",
              "      <td>-0.620966</td>\n",
              "      <td>-0.651315</td>\n",
              "      <td>-0.686726</td>\n",
              "      <td>-0.634836</td>\n",
              "      <td>-0.698695</td>\n",
              "    </tr>\n",
              "    <tr>\n",
              "      <th>...</th>\n",
              "      <td>...</td>\n",
              "      <td>...</td>\n",
              "      <td>...</td>\n",
              "      <td>...</td>\n",
              "      <td>...</td>\n",
              "      <td>...</td>\n",
              "      <td>...</td>\n",
              "      <td>...</td>\n",
              "      <td>...</td>\n",
              "      <td>...</td>\n",
              "      <td>...</td>\n",
              "      <td>...</td>\n",
              "      <td>...</td>\n",
              "      <td>...</td>\n",
              "      <td>...</td>\n",
              "      <td>...</td>\n",
              "      <td>...</td>\n",
              "      <td>...</td>\n",
              "      <td>...</td>\n",
              "      <td>...</td>\n",
              "      <td>...</td>\n",
              "    </tr>\n",
              "    <tr>\n",
              "      <th>147</th>\n",
              "      <td>0.277385</td>\n",
              "      <td>1.327489</td>\n",
              "      <td>0.010936</td>\n",
              "      <td>2.327657</td>\n",
              "      <td>1.612548</td>\n",
              "      <td>0.057854</td>\n",
              "      <td>0.013948</td>\n",
              "      <td>0.039945</td>\n",
              "      <td>0.100183</td>\n",
              "      <td>-0.276507</td>\n",
              "      <td>...</td>\n",
              "      <td>-0.049917</td>\n",
              "      <td>-0.195495</td>\n",
              "      <td>-0.138120</td>\n",
              "      <td>-0.015244</td>\n",
              "      <td>-0.122977</td>\n",
              "      <td>-0.414430</td>\n",
              "      <td>-0.329539</td>\n",
              "      <td>-0.415355</td>\n",
              "      <td>-0.405904</td>\n",
              "      <td>-0.410057</td>\n",
              "    </tr>\n",
              "    <tr>\n",
              "      <th>148</th>\n",
              "      <td>1.636216</td>\n",
              "      <td>1.046656</td>\n",
              "      <td>-0.087484</td>\n",
              "      <td>1.344486</td>\n",
              "      <td>0.735966</td>\n",
              "      <td>-0.302546</td>\n",
              "      <td>0.114902</td>\n",
              "      <td>-0.129890</td>\n",
              "      <td>-0.298451</td>\n",
              "      <td>-0.276507</td>\n",
              "      <td>...</td>\n",
              "      <td>-0.398189</td>\n",
              "      <td>0.098392</td>\n",
              "      <td>-0.214242</td>\n",
              "      <td>-0.396889</td>\n",
              "      <td>-0.202996</td>\n",
              "      <td>-0.466064</td>\n",
              "      <td>0.027991</td>\n",
              "      <td>-0.287650</td>\n",
              "      <td>-0.463137</td>\n",
              "      <td>-0.274228</td>\n",
              "    </tr>\n",
              "    <tr>\n",
              "      <th>149</th>\n",
              "      <td>-1.469682</td>\n",
              "      <td>-1.129798</td>\n",
              "      <td>-0.360872</td>\n",
              "      <td>-1.206160</td>\n",
              "      <td>-1.530092</td>\n",
              "      <td>-0.374625</td>\n",
              "      <td>-0.389868</td>\n",
              "      <td>-0.384641</td>\n",
              "      <td>-0.378178</td>\n",
              "      <td>-0.276507</td>\n",
              "      <td>...</td>\n",
              "      <td>-0.497695</td>\n",
              "      <td>-0.587345</td>\n",
              "      <td>-0.594848</td>\n",
              "      <td>-0.505930</td>\n",
              "      <td>-0.603093</td>\n",
              "      <td>-0.620966</td>\n",
              "      <td>-0.651315</td>\n",
              "      <td>-0.686726</td>\n",
              "      <td>-0.634836</td>\n",
              "      <td>-0.698695</td>\n",
              "    </tr>\n",
              "    <tr>\n",
              "      <th>150</th>\n",
              "      <td>0.393856</td>\n",
              "      <td>1.467905</td>\n",
              "      <td>4.210172</td>\n",
              "      <td>-0.809626</td>\n",
              "      <td>2.013538</td>\n",
              "      <td>5.247601</td>\n",
              "      <td>5.162599</td>\n",
              "      <td>5.262351</td>\n",
              "      <td>5.043250</td>\n",
              "      <td>5.814662</td>\n",
              "      <td>...</td>\n",
              "      <td>4.602005</td>\n",
              "      <td>4.147505</td>\n",
              "      <td>4.733647</td>\n",
              "      <td>4.373669</td>\n",
              "      <td>4.582159</td>\n",
              "      <td>4.490794</td>\n",
              "      <td>4.497111</td>\n",
              "      <td>4.772639</td>\n",
              "      <td>4.229983</td>\n",
              "      <td>4.615628</td>\n",
              "    </tr>\n",
              "    <tr>\n",
              "      <th>151</th>\n",
              "      <td>0.413268</td>\n",
              "      <td>1.467905</td>\n",
              "      <td>4.210172</td>\n",
              "      <td>-0.809626</td>\n",
              "      <td>2.013538</td>\n",
              "      <td>2.292328</td>\n",
              "      <td>2.335888</td>\n",
              "      <td>2.332709</td>\n",
              "      <td>2.332536</td>\n",
              "      <td>1.550844</td>\n",
              "      <td>...</td>\n",
              "      <td>1.915334</td>\n",
              "      <td>1.731099</td>\n",
              "      <td>1.962829</td>\n",
              "      <td>1.920239</td>\n",
              "      <td>1.973529</td>\n",
              "      <td>2.296351</td>\n",
              "      <td>2.351933</td>\n",
              "      <td>2.457996</td>\n",
              "      <td>2.427138</td>\n",
              "      <td>2.561210</td>\n",
              "    </tr>\n",
              "  </tbody>\n",
              "</table>\n",
              "<p>152 rows × 30 columns</p>\n",
              "</div>"
            ],
            "text/plain": [
              "          Age        MP    Starts       Min       90s       Gls       Ast  \\\n",
              "0    0.859741  0.906240 -0.032807  1.872810  1.211558 -0.230466 -0.087006   \n",
              "1    0.083267  0.976448 -0.153097  0.810332  0.260373  0.346173 -0.389868   \n",
              "2    1.442097 -0.848965 -0.317130 -0.881935 -1.241007 -0.302546 -0.389868   \n",
              "3    1.636216  1.046656 -0.021871  1.815662  1.155606  1.571530  0.821579   \n",
              "4   -0.693208 -1.129798 -0.360872 -1.172338 -1.502116 -0.374625 -0.389868   \n",
              "..        ...       ...       ...       ...       ...       ...       ...   \n",
              "147  0.277385  1.327489  0.010936  2.327657  1.612548  0.057854  0.013948   \n",
              "148  1.636216  1.046656 -0.087484  1.344486  0.735966 -0.302546  0.114902   \n",
              "149 -1.469682 -1.129798 -0.360872 -1.206160 -1.530092 -0.374625 -0.389868   \n",
              "150  0.393856  1.467905  4.210172 -0.809626  2.013538  5.247601  5.162599   \n",
              "151  0.413268  1.467905  4.210172 -0.809626  2.013538  2.292328  2.335888   \n",
              "\n",
              "          G+A      G-PK        PK  ...     Gls.1     Ast.1     G+A.1  \\\n",
              "0   -0.172348 -0.218724 -0.276507  ... -0.323559 -0.260803 -0.336036   \n",
              "1    0.039945  0.419091 -0.276507  ...  0.795887 -0.587345  0.196814   \n",
              "2   -0.342183 -0.298451 -0.276507  ...  0.298355 -0.587345 -0.107672   \n",
              "3    1.271244  1.216360  3.987311  ...  1.840704  0.784129  1.460428   \n",
              "4   -0.384641 -0.378178 -0.276507  ... -0.497695 -0.587345 -0.594848   \n",
              "..        ...       ...       ...  ...       ...       ...       ...   \n",
              "147  0.039945  0.100183 -0.276507  ... -0.049917 -0.195495 -0.138120   \n",
              "148 -0.129890 -0.298451 -0.276507  ... -0.398189  0.098392 -0.214242   \n",
              "149 -0.384641 -0.378178 -0.276507  ... -0.497695 -0.587345 -0.594848   \n",
              "150  5.262351  5.043250  5.814662  ...  4.602005  4.147505  4.733647   \n",
              "151  2.332709  2.332536  1.550844  ...  1.915334  1.731099  1.962829   \n",
              "\n",
              "       G-PK.1    G+A-PK      xG.1     xAG.1    xG+xAG    npxG.1  npxG+xAG.1  \n",
              "0   -0.315108 -0.331027 -0.466064 -0.401045 -0.479207 -0.463137   -0.477972  \n",
              "1    0.911607  0.229108  0.385896 -0.186527  0.143352  0.481210    0.184196  \n",
              "2    0.366400 -0.090969  0.385896 -0.544057 -0.016278  0.481210    0.014410  \n",
              "3    1.375033  1.173336  1.521842  0.349767  1.069210  0.853226    0.659599  \n",
              "4   -0.505930 -0.603093 -0.620966 -0.651315 -0.686726 -0.634836   -0.698695  \n",
              "..        ...       ...       ...       ...       ...       ...         ...  \n",
              "147 -0.015244 -0.122977 -0.414430 -0.329539 -0.415355 -0.405904   -0.410057  \n",
              "148 -0.396889 -0.202996 -0.466064  0.027991 -0.287650 -0.463137   -0.274228  \n",
              "149 -0.505930 -0.603093 -0.620966 -0.651315 -0.686726 -0.634836   -0.698695  \n",
              "150  4.373669  4.582159  4.490794  4.497111  4.772639  4.229983    4.615628  \n",
              "151  1.920239  1.973529  2.296351  2.351933  2.457996  2.427138    2.561210  \n",
              "\n",
              "[152 rows x 30 columns]"
            ]
          },
          "execution_count": 87,
          "metadata": {},
          "output_type": "execute_result"
        }
      ],
      "source": [
        " df_scaled.select_dtypes(include=['number'])"
      ]
    },
    {
      "cell_type": "code",
      "execution_count": 96,
      "metadata": {},
      "outputs": [
        {
          "data": {
            "text/html": [
              "<div>\n",
              "<style scoped>\n",
              "    .dataframe tbody tr th:only-of-type {\n",
              "        vertical-align: middle;\n",
              "    }\n",
              "\n",
              "    .dataframe tbody tr th {\n",
              "        vertical-align: top;\n",
              "    }\n",
              "\n",
              "    .dataframe thead th {\n",
              "        text-align: right;\n",
              "    }\n",
              "</style>\n",
              "<table border=\"1\" class=\"dataframe\">\n",
              "  <thead>\n",
              "    <tr style=\"text-align: right;\">\n",
              "      <th></th>\n",
              "      <th>Componente</th>\n",
              "      <th>Varianza_Explicada</th>\n",
              "      <th>Varianza_Acumulada</th>\n",
              "    </tr>\n",
              "  </thead>\n",
              "  <tbody>\n",
              "    <tr>\n",
              "      <th>0</th>\n",
              "      <td>PC1</td>\n",
              "      <td>74.81</td>\n",
              "      <td>74.81</td>\n",
              "    </tr>\n",
              "    <tr>\n",
              "      <th>1</th>\n",
              "      <td>PC2</td>\n",
              "      <td>8.07</td>\n",
              "      <td>82.88</td>\n",
              "    </tr>\n",
              "    <tr>\n",
              "      <th>2</th>\n",
              "      <td>PC3</td>\n",
              "      <td>4.02</td>\n",
              "      <td>86.91</td>\n",
              "    </tr>\n",
              "    <tr>\n",
              "      <th>3</th>\n",
              "      <td>PC4</td>\n",
              "      <td>2.90</td>\n",
              "      <td>89.80</td>\n",
              "    </tr>\n",
              "    <tr>\n",
              "      <th>4</th>\n",
              "      <td>PC5</td>\n",
              "      <td>2.64</td>\n",
              "      <td>92.44</td>\n",
              "    </tr>\n",
              "    <tr>\n",
              "      <th>5</th>\n",
              "      <td>PC6</td>\n",
              "      <td>2.02</td>\n",
              "      <td>94.46</td>\n",
              "    </tr>\n",
              "    <tr>\n",
              "      <th>6</th>\n",
              "      <td>PC7</td>\n",
              "      <td>1.52</td>\n",
              "      <td>95.99</td>\n",
              "    </tr>\n",
              "    <tr>\n",
              "      <th>7</th>\n",
              "      <td>PC8</td>\n",
              "      <td>1.36</td>\n",
              "      <td>97.34</td>\n",
              "    </tr>\n",
              "    <tr>\n",
              "      <th>8</th>\n",
              "      <td>PC9</td>\n",
              "      <td>0.76</td>\n",
              "      <td>98.10</td>\n",
              "    </tr>\n",
              "    <tr>\n",
              "      <th>9</th>\n",
              "      <td>PC10</td>\n",
              "      <td>0.59</td>\n",
              "      <td>98.70</td>\n",
              "    </tr>\n",
              "    <tr>\n",
              "      <th>10</th>\n",
              "      <td>PC11</td>\n",
              "      <td>0.50</td>\n",
              "      <td>99.19</td>\n",
              "    </tr>\n",
              "    <tr>\n",
              "      <th>11</th>\n",
              "      <td>PC12</td>\n",
              "      <td>0.42</td>\n",
              "      <td>99.62</td>\n",
              "    </tr>\n",
              "    <tr>\n",
              "      <th>12</th>\n",
              "      <td>PC13</td>\n",
              "      <td>0.12</td>\n",
              "      <td>99.74</td>\n",
              "    </tr>\n",
              "    <tr>\n",
              "      <th>13</th>\n",
              "      <td>PC14</td>\n",
              "      <td>0.09</td>\n",
              "      <td>99.83</td>\n",
              "    </tr>\n",
              "    <tr>\n",
              "      <th>14</th>\n",
              "      <td>PC15</td>\n",
              "      <td>0.05</td>\n",
              "      <td>99.88</td>\n",
              "    </tr>\n",
              "    <tr>\n",
              "      <th>15</th>\n",
              "      <td>PC16</td>\n",
              "      <td>0.03</td>\n",
              "      <td>99.91</td>\n",
              "    </tr>\n",
              "    <tr>\n",
              "      <th>16</th>\n",
              "      <td>PC17</td>\n",
              "      <td>0.03</td>\n",
              "      <td>99.95</td>\n",
              "    </tr>\n",
              "    <tr>\n",
              "      <th>17</th>\n",
              "      <td>PC18</td>\n",
              "      <td>0.02</td>\n",
              "      <td>99.97</td>\n",
              "    </tr>\n",
              "    <tr>\n",
              "      <th>18</th>\n",
              "      <td>PC19</td>\n",
              "      <td>0.01</td>\n",
              "      <td>99.98</td>\n",
              "    </tr>\n",
              "    <tr>\n",
              "      <th>19</th>\n",
              "      <td>PC20</td>\n",
              "      <td>0.01</td>\n",
              "      <td>99.99</td>\n",
              "    </tr>\n",
              "    <tr>\n",
              "      <th>20</th>\n",
              "      <td>PC21</td>\n",
              "      <td>0.01</td>\n",
              "      <td>100.00</td>\n",
              "    </tr>\n",
              "    <tr>\n",
              "      <th>21</th>\n",
              "      <td>PC22</td>\n",
              "      <td>0.00</td>\n",
              "      <td>100.00</td>\n",
              "    </tr>\n",
              "    <tr>\n",
              "      <th>22</th>\n",
              "      <td>PC23</td>\n",
              "      <td>0.00</td>\n",
              "      <td>100.00</td>\n",
              "    </tr>\n",
              "    <tr>\n",
              "      <th>23</th>\n",
              "      <td>PC24</td>\n",
              "      <td>0.00</td>\n",
              "      <td>100.00</td>\n",
              "    </tr>\n",
              "    <tr>\n",
              "      <th>24</th>\n",
              "      <td>PC25</td>\n",
              "      <td>0.00</td>\n",
              "      <td>100.00</td>\n",
              "    </tr>\n",
              "    <tr>\n",
              "      <th>25</th>\n",
              "      <td>PC26</td>\n",
              "      <td>0.00</td>\n",
              "      <td>100.00</td>\n",
              "    </tr>\n",
              "    <tr>\n",
              "      <th>26</th>\n",
              "      <td>PC27</td>\n",
              "      <td>0.00</td>\n",
              "      <td>100.00</td>\n",
              "    </tr>\n",
              "    <tr>\n",
              "      <th>27</th>\n",
              "      <td>PC28</td>\n",
              "      <td>0.00</td>\n",
              "      <td>100.00</td>\n",
              "    </tr>\n",
              "    <tr>\n",
              "      <th>28</th>\n",
              "      <td>PC29</td>\n",
              "      <td>0.00</td>\n",
              "      <td>100.00</td>\n",
              "    </tr>\n",
              "    <tr>\n",
              "      <th>29</th>\n",
              "      <td>PC30</td>\n",
              "      <td>0.00</td>\n",
              "      <td>100.00</td>\n",
              "    </tr>\n",
              "  </tbody>\n",
              "</table>\n",
              "</div>"
            ],
            "text/plain": [
              "   Componente  Varianza_Explicada  Varianza_Acumulada\n",
              "0         PC1               74.81               74.81\n",
              "1         PC2                8.07               82.88\n",
              "2         PC3                4.02               86.91\n",
              "3         PC4                2.90               89.80\n",
              "4         PC5                2.64               92.44\n",
              "5         PC6                2.02               94.46\n",
              "6         PC7                1.52               95.99\n",
              "7         PC8                1.36               97.34\n",
              "8         PC9                0.76               98.10\n",
              "9        PC10                0.59               98.70\n",
              "10       PC11                0.50               99.19\n",
              "11       PC12                0.42               99.62\n",
              "12       PC13                0.12               99.74\n",
              "13       PC14                0.09               99.83\n",
              "14       PC15                0.05               99.88\n",
              "15       PC16                0.03               99.91\n",
              "16       PC17                0.03               99.95\n",
              "17       PC18                0.02               99.97\n",
              "18       PC19                0.01               99.98\n",
              "19       PC20                0.01               99.99\n",
              "20       PC21                0.01              100.00\n",
              "21       PC22                0.00              100.00\n",
              "22       PC23                0.00              100.00\n",
              "23       PC24                0.00              100.00\n",
              "24       PC25                0.00              100.00\n",
              "25       PC26                0.00              100.00\n",
              "26       PC27                0.00              100.00\n",
              "27       PC28                0.00              100.00\n",
              "28       PC29                0.00              100.00\n",
              "29       PC30                0.00              100.00"
            ]
          },
          "execution_count": 96,
          "metadata": {},
          "output_type": "execute_result"
        }
      ],
      "source": [
        "# Aplicar PCA con todas las componentes\n",
        "df_pca = df_scaled.select_dtypes(include=['number'])\n",
        "\n",
        "pca = PCA()\n",
        "componentes = pca.fit_transform(df_numerico)\n",
        "\n",
        "# Varianza explicada\n",
        "varianza_df = pd.DataFrame({\n",
        "    'Componente': [f'PC{i+1}' for i in range(len(pca.explained_variance_ratio_))],\n",
        "    'Varianza_Explicada': pca.explained_variance_ratio_ * 100,\n",
        "    'Varianza_Acumulada': np.cumsum(pca.explained_variance_ratio_) * 100\n",
        "}).round(2)\n",
        "\n",
        "varianza_df\n"
      ]
    },
    {
      "cell_type": "code",
      "execution_count": 94,
      "metadata": {},
      "outputs": [
        {
          "data": {
            "application/vnd.plotly.v1+json": {
              "config": {
                "plotlyServerURL": "https://plot.ly"
              },
              "data": [
                {
                  "marker": {
                    "color": "#6366f1"
                  },
                  "name": "Varianza Explicada",
                  "type": "bar",
                  "x": [
                    "PC1",
                    "PC2",
                    "PC3",
                    "PC4",
                    "PC5",
                    "PC6",
                    "PC7",
                    "PC8",
                    "PC9",
                    "PC10",
                    "PC11",
                    "PC12",
                    "PC13",
                    "PC14",
                    "PC15",
                    "PC16",
                    "PC17",
                    "PC18",
                    "PC19",
                    "PC20",
                    "PC21",
                    "PC22",
                    "PC23",
                    "PC24",
                    "PC25",
                    "PC26",
                    "PC27",
                    "PC28",
                    "PC29",
                    "PC30"
                  ],
                  "y": {
                    "bdata": "Eou6z9azUkC/OCRvFiYgQABlqRFPFhBAHCckBs8rB0DiMBR2RR0FQBVvIizXLABA1L2tVg1c+D+LO8ma3671P2LWmviDY+g/5iCP7RX44j/i+aaUE+LfP9zO6hYqGts/X0numq80vz8CQG9E9rS2P8uQNYJfJqo/cY6kVaLhoT8SUFeoMvGgPzjBUlE30ZM/mlQZCkrhiD88LeAWDXGGP+kBzMTnF4E/kqW09QX2ST9uE4jH78JEPwiorzqKdQw/CGB1LzvM9z7PsRBL8lvnPkG6fFvwvNg+i0MXpayE0j5AZo/28z6hOUBmj/bzPqE5",
                    "dtype": "f8"
                  }
                },
                {
                  "line": {
                    "width": 3
                  },
                  "marker": {
                    "color": "#ec4899"
                  },
                  "mode": "lines+markers",
                  "name": "Varianza Acumulada",
                  "type": "scatter",
                  "x": [
                    "PC1",
                    "PC2",
                    "PC3",
                    "PC4",
                    "PC5",
                    "PC6",
                    "PC7",
                    "PC8",
                    "PC9",
                    "PC10",
                    "PC11",
                    "PC12",
                    "PC13",
                    "PC14",
                    "PC15",
                    "PC16",
                    "PC17",
                    "PC18",
                    "PC19",
                    "PC20",
                    "PC21",
                    "PC22",
                    "PC23",
                    "PC24",
                    "PC25",
                    "PC26",
                    "PC27",
                    "PC28",
                    "PC29",
                    "PC30"
                  ],
                  "y": {
                    "bdata": "Eou6z9azUkAqEp+dmbhUQHqouY7+uVVAs8nqBl1zVkA6a5syRxxXQLN+/OutnVdAqjVXIR7/V0CYWsKf2VVYQEWQs6eghlhAhq6O05CsWECAVSPncsxYQE9AOhGN51hA4fsgPVrvWECxF7J6B/VYQGNeokZM+FhA9RLteoj6WEDeHUKhpvxYQAozt7Tj/VhA1YMHv6r+WEDWOnBHXv9YQDZhrgbn/1hAEVyxAfT/WEDVPylj/v9YQKqR1Ub//1hAaH4Gpv//WED+Yr7U//9YQFpTe+3//1hA/v//////WED+//////9YQP7//////1hA",
                    "dtype": "f8"
                  }
                }
              ],
              "layout": {
                "height": 500,
                "template": {
                  "data": {
                    "bar": [
                      {
                        "error_x": {
                          "color": "#2a3f5f"
                        },
                        "error_y": {
                          "color": "#2a3f5f"
                        },
                        "marker": {
                          "line": {
                            "color": "white",
                            "width": 0.5
                          },
                          "pattern": {
                            "fillmode": "overlay",
                            "size": 10,
                            "solidity": 0.2
                          }
                        },
                        "type": "bar"
                      }
                    ],
                    "barpolar": [
                      {
                        "marker": {
                          "line": {
                            "color": "white",
                            "width": 0.5
                          },
                          "pattern": {
                            "fillmode": "overlay",
                            "size": 10,
                            "solidity": 0.2
                          }
                        },
                        "type": "barpolar"
                      }
                    ],
                    "carpet": [
                      {
                        "aaxis": {
                          "endlinecolor": "#2a3f5f",
                          "gridcolor": "#C8D4E3",
                          "linecolor": "#C8D4E3",
                          "minorgridcolor": "#C8D4E3",
                          "startlinecolor": "#2a3f5f"
                        },
                        "baxis": {
                          "endlinecolor": "#2a3f5f",
                          "gridcolor": "#C8D4E3",
                          "linecolor": "#C8D4E3",
                          "minorgridcolor": "#C8D4E3",
                          "startlinecolor": "#2a3f5f"
                        },
                        "type": "carpet"
                      }
                    ],
                    "choropleth": [
                      {
                        "colorbar": {
                          "outlinewidth": 0,
                          "ticks": ""
                        },
                        "type": "choropleth"
                      }
                    ],
                    "contour": [
                      {
                        "colorbar": {
                          "outlinewidth": 0,
                          "ticks": ""
                        },
                        "colorscale": [
                          [
                            0,
                            "#0d0887"
                          ],
                          [
                            0.1111111111111111,
                            "#46039f"
                          ],
                          [
                            0.2222222222222222,
                            "#7201a8"
                          ],
                          [
                            0.3333333333333333,
                            "#9c179e"
                          ],
                          [
                            0.4444444444444444,
                            "#bd3786"
                          ],
                          [
                            0.5555555555555556,
                            "#d8576b"
                          ],
                          [
                            0.6666666666666666,
                            "#ed7953"
                          ],
                          [
                            0.7777777777777778,
                            "#fb9f3a"
                          ],
                          [
                            0.8888888888888888,
                            "#fdca26"
                          ],
                          [
                            1,
                            "#f0f921"
                          ]
                        ],
                        "type": "contour"
                      }
                    ],
                    "contourcarpet": [
                      {
                        "colorbar": {
                          "outlinewidth": 0,
                          "ticks": ""
                        },
                        "type": "contourcarpet"
                      }
                    ],
                    "heatmap": [
                      {
                        "colorbar": {
                          "outlinewidth": 0,
                          "ticks": ""
                        },
                        "colorscale": [
                          [
                            0,
                            "#0d0887"
                          ],
                          [
                            0.1111111111111111,
                            "#46039f"
                          ],
                          [
                            0.2222222222222222,
                            "#7201a8"
                          ],
                          [
                            0.3333333333333333,
                            "#9c179e"
                          ],
                          [
                            0.4444444444444444,
                            "#bd3786"
                          ],
                          [
                            0.5555555555555556,
                            "#d8576b"
                          ],
                          [
                            0.6666666666666666,
                            "#ed7953"
                          ],
                          [
                            0.7777777777777778,
                            "#fb9f3a"
                          ],
                          [
                            0.8888888888888888,
                            "#fdca26"
                          ],
                          [
                            1,
                            "#f0f921"
                          ]
                        ],
                        "type": "heatmap"
                      }
                    ],
                    "histogram": [
                      {
                        "marker": {
                          "pattern": {
                            "fillmode": "overlay",
                            "size": 10,
                            "solidity": 0.2
                          }
                        },
                        "type": "histogram"
                      }
                    ],
                    "histogram2d": [
                      {
                        "colorbar": {
                          "outlinewidth": 0,
                          "ticks": ""
                        },
                        "colorscale": [
                          [
                            0,
                            "#0d0887"
                          ],
                          [
                            0.1111111111111111,
                            "#46039f"
                          ],
                          [
                            0.2222222222222222,
                            "#7201a8"
                          ],
                          [
                            0.3333333333333333,
                            "#9c179e"
                          ],
                          [
                            0.4444444444444444,
                            "#bd3786"
                          ],
                          [
                            0.5555555555555556,
                            "#d8576b"
                          ],
                          [
                            0.6666666666666666,
                            "#ed7953"
                          ],
                          [
                            0.7777777777777778,
                            "#fb9f3a"
                          ],
                          [
                            0.8888888888888888,
                            "#fdca26"
                          ],
                          [
                            1,
                            "#f0f921"
                          ]
                        ],
                        "type": "histogram2d"
                      }
                    ],
                    "histogram2dcontour": [
                      {
                        "colorbar": {
                          "outlinewidth": 0,
                          "ticks": ""
                        },
                        "colorscale": [
                          [
                            0,
                            "#0d0887"
                          ],
                          [
                            0.1111111111111111,
                            "#46039f"
                          ],
                          [
                            0.2222222222222222,
                            "#7201a8"
                          ],
                          [
                            0.3333333333333333,
                            "#9c179e"
                          ],
                          [
                            0.4444444444444444,
                            "#bd3786"
                          ],
                          [
                            0.5555555555555556,
                            "#d8576b"
                          ],
                          [
                            0.6666666666666666,
                            "#ed7953"
                          ],
                          [
                            0.7777777777777778,
                            "#fb9f3a"
                          ],
                          [
                            0.8888888888888888,
                            "#fdca26"
                          ],
                          [
                            1,
                            "#f0f921"
                          ]
                        ],
                        "type": "histogram2dcontour"
                      }
                    ],
                    "mesh3d": [
                      {
                        "colorbar": {
                          "outlinewidth": 0,
                          "ticks": ""
                        },
                        "type": "mesh3d"
                      }
                    ],
                    "parcoords": [
                      {
                        "line": {
                          "colorbar": {
                            "outlinewidth": 0,
                            "ticks": ""
                          }
                        },
                        "type": "parcoords"
                      }
                    ],
                    "pie": [
                      {
                        "automargin": true,
                        "type": "pie"
                      }
                    ],
                    "scatter": [
                      {
                        "fillpattern": {
                          "fillmode": "overlay",
                          "size": 10,
                          "solidity": 0.2
                        },
                        "type": "scatter"
                      }
                    ],
                    "scatter3d": [
                      {
                        "line": {
                          "colorbar": {
                            "outlinewidth": 0,
                            "ticks": ""
                          }
                        },
                        "marker": {
                          "colorbar": {
                            "outlinewidth": 0,
                            "ticks": ""
                          }
                        },
                        "type": "scatter3d"
                      }
                    ],
                    "scattercarpet": [
                      {
                        "marker": {
                          "colorbar": {
                            "outlinewidth": 0,
                            "ticks": ""
                          }
                        },
                        "type": "scattercarpet"
                      }
                    ],
                    "scattergeo": [
                      {
                        "marker": {
                          "colorbar": {
                            "outlinewidth": 0,
                            "ticks": ""
                          }
                        },
                        "type": "scattergeo"
                      }
                    ],
                    "scattergl": [
                      {
                        "marker": {
                          "colorbar": {
                            "outlinewidth": 0,
                            "ticks": ""
                          }
                        },
                        "type": "scattergl"
                      }
                    ],
                    "scattermap": [
                      {
                        "marker": {
                          "colorbar": {
                            "outlinewidth": 0,
                            "ticks": ""
                          }
                        },
                        "type": "scattermap"
                      }
                    ],
                    "scattermapbox": [
                      {
                        "marker": {
                          "colorbar": {
                            "outlinewidth": 0,
                            "ticks": ""
                          }
                        },
                        "type": "scattermapbox"
                      }
                    ],
                    "scatterpolar": [
                      {
                        "marker": {
                          "colorbar": {
                            "outlinewidth": 0,
                            "ticks": ""
                          }
                        },
                        "type": "scatterpolar"
                      }
                    ],
                    "scatterpolargl": [
                      {
                        "marker": {
                          "colorbar": {
                            "outlinewidth": 0,
                            "ticks": ""
                          }
                        },
                        "type": "scatterpolargl"
                      }
                    ],
                    "scatterternary": [
                      {
                        "marker": {
                          "colorbar": {
                            "outlinewidth": 0,
                            "ticks": ""
                          }
                        },
                        "type": "scatterternary"
                      }
                    ],
                    "surface": [
                      {
                        "colorbar": {
                          "outlinewidth": 0,
                          "ticks": ""
                        },
                        "colorscale": [
                          [
                            0,
                            "#0d0887"
                          ],
                          [
                            0.1111111111111111,
                            "#46039f"
                          ],
                          [
                            0.2222222222222222,
                            "#7201a8"
                          ],
                          [
                            0.3333333333333333,
                            "#9c179e"
                          ],
                          [
                            0.4444444444444444,
                            "#bd3786"
                          ],
                          [
                            0.5555555555555556,
                            "#d8576b"
                          ],
                          [
                            0.6666666666666666,
                            "#ed7953"
                          ],
                          [
                            0.7777777777777778,
                            "#fb9f3a"
                          ],
                          [
                            0.8888888888888888,
                            "#fdca26"
                          ],
                          [
                            1,
                            "#f0f921"
                          ]
                        ],
                        "type": "surface"
                      }
                    ],
                    "table": [
                      {
                        "cells": {
                          "fill": {
                            "color": "#EBF0F8"
                          },
                          "line": {
                            "color": "white"
                          }
                        },
                        "header": {
                          "fill": {
                            "color": "#C8D4E3"
                          },
                          "line": {
                            "color": "white"
                          }
                        },
                        "type": "table"
                      }
                    ]
                  },
                  "layout": {
                    "annotationdefaults": {
                      "arrowcolor": "#2a3f5f",
                      "arrowhead": 0,
                      "arrowwidth": 1
                    },
                    "autotypenumbers": "strict",
                    "coloraxis": {
                      "colorbar": {
                        "outlinewidth": 0,
                        "ticks": ""
                      }
                    },
                    "colorscale": {
                      "diverging": [
                        [
                          0,
                          "#8e0152"
                        ],
                        [
                          0.1,
                          "#c51b7d"
                        ],
                        [
                          0.2,
                          "#de77ae"
                        ],
                        [
                          0.3,
                          "#f1b6da"
                        ],
                        [
                          0.4,
                          "#fde0ef"
                        ],
                        [
                          0.5,
                          "#f7f7f7"
                        ],
                        [
                          0.6,
                          "#e6f5d0"
                        ],
                        [
                          0.7,
                          "#b8e186"
                        ],
                        [
                          0.8,
                          "#7fbc41"
                        ],
                        [
                          0.9,
                          "#4d9221"
                        ],
                        [
                          1,
                          "#276419"
                        ]
                      ],
                      "sequential": [
                        [
                          0,
                          "#0d0887"
                        ],
                        [
                          0.1111111111111111,
                          "#46039f"
                        ],
                        [
                          0.2222222222222222,
                          "#7201a8"
                        ],
                        [
                          0.3333333333333333,
                          "#9c179e"
                        ],
                        [
                          0.4444444444444444,
                          "#bd3786"
                        ],
                        [
                          0.5555555555555556,
                          "#d8576b"
                        ],
                        [
                          0.6666666666666666,
                          "#ed7953"
                        ],
                        [
                          0.7777777777777778,
                          "#fb9f3a"
                        ],
                        [
                          0.8888888888888888,
                          "#fdca26"
                        ],
                        [
                          1,
                          "#f0f921"
                        ]
                      ],
                      "sequentialminus": [
                        [
                          0,
                          "#0d0887"
                        ],
                        [
                          0.1111111111111111,
                          "#46039f"
                        ],
                        [
                          0.2222222222222222,
                          "#7201a8"
                        ],
                        [
                          0.3333333333333333,
                          "#9c179e"
                        ],
                        [
                          0.4444444444444444,
                          "#bd3786"
                        ],
                        [
                          0.5555555555555556,
                          "#d8576b"
                        ],
                        [
                          0.6666666666666666,
                          "#ed7953"
                        ],
                        [
                          0.7777777777777778,
                          "#fb9f3a"
                        ],
                        [
                          0.8888888888888888,
                          "#fdca26"
                        ],
                        [
                          1,
                          "#f0f921"
                        ]
                      ]
                    },
                    "colorway": [
                      "#636efa",
                      "#EF553B",
                      "#00cc96",
                      "#ab63fa",
                      "#FFA15A",
                      "#19d3f3",
                      "#FF6692",
                      "#B6E880",
                      "#FF97FF",
                      "#FECB52"
                    ],
                    "font": {
                      "color": "#2a3f5f"
                    },
                    "geo": {
                      "bgcolor": "white",
                      "lakecolor": "white",
                      "landcolor": "white",
                      "showlakes": true,
                      "showland": true,
                      "subunitcolor": "#C8D4E3"
                    },
                    "hoverlabel": {
                      "align": "left"
                    },
                    "hovermode": "closest",
                    "mapbox": {
                      "style": "light"
                    },
                    "paper_bgcolor": "white",
                    "plot_bgcolor": "white",
                    "polar": {
                      "angularaxis": {
                        "gridcolor": "#EBF0F8",
                        "linecolor": "#EBF0F8",
                        "ticks": ""
                      },
                      "bgcolor": "white",
                      "radialaxis": {
                        "gridcolor": "#EBF0F8",
                        "linecolor": "#EBF0F8",
                        "ticks": ""
                      }
                    },
                    "scene": {
                      "xaxis": {
                        "backgroundcolor": "white",
                        "gridcolor": "#DFE8F3",
                        "gridwidth": 2,
                        "linecolor": "#EBF0F8",
                        "showbackground": true,
                        "ticks": "",
                        "zerolinecolor": "#EBF0F8"
                      },
                      "yaxis": {
                        "backgroundcolor": "white",
                        "gridcolor": "#DFE8F3",
                        "gridwidth": 2,
                        "linecolor": "#EBF0F8",
                        "showbackground": true,
                        "ticks": "",
                        "zerolinecolor": "#EBF0F8"
                      },
                      "zaxis": {
                        "backgroundcolor": "white",
                        "gridcolor": "#DFE8F3",
                        "gridwidth": 2,
                        "linecolor": "#EBF0F8",
                        "showbackground": true,
                        "ticks": "",
                        "zerolinecolor": "#EBF0F8"
                      }
                    },
                    "shapedefaults": {
                      "line": {
                        "color": "#2a3f5f"
                      }
                    },
                    "ternary": {
                      "aaxis": {
                        "gridcolor": "#DFE8F3",
                        "linecolor": "#A2B1C6",
                        "ticks": ""
                      },
                      "baxis": {
                        "gridcolor": "#DFE8F3",
                        "linecolor": "#A2B1C6",
                        "ticks": ""
                      },
                      "bgcolor": "white",
                      "caxis": {
                        "gridcolor": "#DFE8F3",
                        "linecolor": "#A2B1C6",
                        "ticks": ""
                      }
                    },
                    "title": {
                      "x": 0.05
                    },
                    "xaxis": {
                      "automargin": true,
                      "gridcolor": "#EBF0F8",
                      "linecolor": "#EBF0F8",
                      "ticks": "",
                      "title": {
                        "standoff": 15
                      },
                      "zerolinecolor": "#EBF0F8",
                      "zerolinewidth": 2
                    },
                    "yaxis": {
                      "automargin": true,
                      "gridcolor": "#EBF0F8",
                      "linecolor": "#EBF0F8",
                      "ticks": "",
                      "title": {
                        "standoff": 15
                      },
                      "zerolinecolor": "#EBF0F8",
                      "zerolinewidth": 2
                    }
                  }
                },
                "title": {
                  "text": "Varianza Explicada por Componente Principal"
                },
                "xaxis": {
                  "title": {
                    "text": "Componente"
                  }
                },
                "yaxis": {
                  "title": {
                    "text": "Varianza (%)"
                  }
                }
              }
            }
          },
          "metadata": {},
          "output_type": "display_data"
        }
      ],
      "source": [
        "# Gráfico de varianza explicada por componente\n",
        "fig = go.Figure()\n",
        "fig.add_trace(go.Bar(x=[f'PC{i+1}' for i in range(len(pca.explained_variance_ratio_))], \n",
        "                     y=pca.explained_variance_ratio_ * 100,\n",
        "                     name='Varianza Explicada', marker_color='#6366f1'))\n",
        "fig.add_trace(go.Scatter(x=[f'PC{i+1}' for i in range(len(pca.explained_variance_ratio_))], \n",
        "                         y=np.cumsum(pca.explained_variance_ratio_) * 100,\n",
        "                         name='Varianza Acumulada', mode='lines+markers', \n",
        "                         marker_color='#ec4899', line=dict(width=3)))\n",
        "fig.update_layout(title='Varianza Explicada por Componente Principal',\n",
        "                 xaxis_title='Componente', yaxis_title='Varianza (%)',\n",
        "                 template='plotly_white', height=500)\n",
        "fig.show()\n"
      ]
    },
    {
      "cell_type": "code",
      "execution_count": 98,
      "metadata": {},
      "outputs": [
        {
          "data": {
            "text/html": [
              "<div>\n",
              "<style scoped>\n",
              "    .dataframe tbody tr th:only-of-type {\n",
              "        vertical-align: middle;\n",
              "    }\n",
              "\n",
              "    .dataframe tbody tr th {\n",
              "        vertical-align: top;\n",
              "    }\n",
              "\n",
              "    .dataframe thead th {\n",
              "        text-align: right;\n",
              "    }\n",
              "</style>\n",
              "<table border=\"1\" class=\"dataframe\">\n",
              "  <thead>\n",
              "    <tr style=\"text-align: right;\">\n",
              "      <th></th>\n",
              "      <th>Age</th>\n",
              "      <th>Gls</th>\n",
              "      <th>Ast</th>\n",
              "    </tr>\n",
              "  </thead>\n",
              "  <tbody>\n",
              "    <tr>\n",
              "      <th>Age</th>\n",
              "      <td>1.000000</td>\n",
              "      <td>0.134707</td>\n",
              "      <td>0.156363</td>\n",
              "    </tr>\n",
              "    <tr>\n",
              "      <th>Gls</th>\n",
              "      <td>0.134707</td>\n",
              "      <td>1.000000</td>\n",
              "      <td>0.960968</td>\n",
              "    </tr>\n",
              "    <tr>\n",
              "      <th>Ast</th>\n",
              "      <td>0.156363</td>\n",
              "      <td>0.960968</td>\n",
              "      <td>1.000000</td>\n",
              "    </tr>\n",
              "  </tbody>\n",
              "</table>\n",
              "</div>"
            ],
            "text/plain": [
              "          Age       Gls       Ast\n",
              "Age  1.000000  0.134707  0.156363\n",
              "Gls  0.134707  1.000000  0.960968\n",
              "Ast  0.156363  0.960968  1.000000"
            ]
          },
          "execution_count": 98,
          "metadata": {},
          "output_type": "execute_result"
        }
      ],
      "source": [
        "# Correlación entre Edad, Goles y Asistencias\n",
        "corr_edad = df[['Age', 'Gls', 'Ast']].corr()\n",
        "corr_edad\n"
      ]
    },
    {
      "cell_type": "code",
      "execution_count": 99,
      "metadata": {},
      "outputs": [
        {
          "data": {
            "application/vnd.plotly.v1+json": {
              "config": {
                "plotlyServerURL": "https://plot.ly"
              },
              "data": [
                {
                  "customdata": [
                    [
                      "David Alaba",
                      "21-22"
                    ],
                    [
                      "Marco Asensio",
                      "21-22"
                    ],
                    [
                      "Gareth Bale",
                      "21-22"
                    ],
                    [
                      "Karim Benzema",
                      "21-22"
                    ],
                    [
                      "Antonio Blanco",
                      "21-22"
                    ],
                    [
                      "Eduardo Camavinga",
                      "21-22"
                    ],
                    [
                      "Dani Carvajal",
                      "21-22"
                    ],
                    [
                      "Casemiro",
                      "21-22"
                    ],
                    [
                      "Dani Ceballos",
                      "21-22"
                    ],
                    [
                      "Thibaut Courtois",
                      "21-22"
                    ],
                    [
                      "Toni Fuidias",
                      "21-22"
                    ],
                    [
                      "Mario Gila",
                      "21-22"
                    ],
                    [
                      "Peter González",
                      "21-22"
                    ],
                    [
                      "Miguel Gutiérrez",
                      "21-22"
                    ],
                    [
                      "Eden Hazard",
                      "21-22"
                    ],
                    [
                      "Isco",
                      "21-22"
                    ],
                    [
                      "Luka Jović",
                      "21-22"
                    ],
                    [
                      "Vinicius Júnior",
                      "21-22"
                    ],
                    [
                      "Toni Kroos",
                      "21-22"
                    ],
                    [
                      "Juanmi Latasa",
                      "21-22"
                    ],
                    [
                      "Luis López",
                      "21-22"
                    ],
                    [
                      "Andriy Lunin",
                      "21-22"
                    ],
                    [
                      "Marcelo",
                      "21-22"
                    ],
                    [
                      "Mariano",
                      "21-22"
                    ],
                    [
                      "Rafa Marín",
                      "21-22"
                    ],
                    [
                      "Ferland Mendy",
                      "21-22"
                    ],
                    [
                      "Éder Militão",
                      "21-22"
                    ],
                    [
                      "Luka Modrić",
                      "21-22"
                    ],
                    [
                      "Nacho",
                      "21-22"
                    ],
                    [
                      "Álvaro Odriozola",
                      "21-22"
                    ],
                    [
                      "Diego Piñeiro",
                      "21-22"
                    ],
                    [
                      "Rodrygo",
                      "21-22"
                    ],
                    [
                      "Sergio Santos",
                      "21-22"
                    ],
                    [
                      "Jesús Vallejo",
                      "21-22"
                    ],
                    [
                      "Federico Valverde",
                      "21-22"
                    ],
                    [
                      "Lucas Vázquez",
                      "21-22"
                    ],
                    [
                      "Squad Total",
                      "21-22"
                    ],
                    [
                      "Opponent Total",
                      "21-22"
                    ]
                  ],
                  "hovertemplate": "periodo=%{customdata[1]}<br>Age=%{x}<br>Gls=%{y}<br>MP=%{marker.size}<br>Player=%{customdata[0]}<extra></extra>",
                  "legendgroup": "21-22",
                  "marker": {
                    "color": "#6366f1",
                    "size": {
                      "bdata": "Hh8FIAEaGCALJAACAwMSDg8jHAEAAgwJABYiHBwAACEBBR8dJiY=",
                      "dtype": "i1"
                    },
                    "sizemode": "area",
                    "sizeref": 0.095,
                    "symbol": "circle"
                  },
                  "mode": "markers",
                  "name": "21-22",
                  "orientation": "v",
                  "showlegend": true,
                  "type": "scatter",
                  "x": {
                    "bdata": "AAAAAAAAPUAAAAAAAAA5QAAAAAAAAEBAAAAAAACAQEAAAAAAAAA1QAAAAAAAADJAAAAAAAAAPUAAAAAAAAA9QAAAAAAAADhAAAAAAAAAPUAAAAAAAAA0QAAAAAAAADRAAAAAAAAAM0AAAAAAAAA0QAAAAAAAAD5AAAAAAAAAPUAAAAAAAAA3QAAAAAAAADVAAAAAAAAAP0AAAAAAAAA0QAAAAAAAADRAAAAAAAAANkAAAAAAAIBAQAAAAAAAADtAAAAAAAAAM0AAAAAAAAA6QAAAAAAAADdAAAAAAACAQUAAAAAAAAA/QAAAAAAAADlAAAAAAAAAMUAAAAAAAAA0QAAAAAAAADRAAAAAAAAAOEAAAAAAAAA3QAAAAAAAAD5AMzMzMzOzO0CamZmZmZk7QA==",
                    "dtype": "f8"
                  },
                  "xaxis": "x",
                  "y": {
                    "bdata": "AAAAAAAAAEAAAAAAAAAkQAAAAAAAAPA/AAAAAAAAO0AAAAAAAAAAAAAAAAAAAABAAAAAAAAA8D8AAAAAAADwPwAAAAAAAAAAAAAAAAAAAAAAAAAAAADwPwAAAAAAAAAAAAAAAAAAAAAAAAAAAAAAAAAAAAAAAAAAAAAAAAAA8D8AAAAAAADwPwAAAAAAADFAAAAAAAAA8D8AAAAAAAAAAAAAAAAAAPA/AAAAAAAAAAAAAAAAAAAAAAAAAAAAAPA/AAAAAAAA8D8AAAAAAAAAQAAAAAAAAPA/AAAAAAAAAEAAAAAAAAAIQAAAAAAAAPA/AAAAAAAA8D8AAAAAAAAQQAAAAAAAAAAAAAAAAAAAAAAAAAAAAAAAAAAAAAAAAAhAAAAAAAAAVEAAAAAAAAA/QA==",
                    "dtype": "f8"
                  },
                  "yaxis": "y"
                },
                {
                  "hovertemplate": "<b>OLS trendline</b><br>Gls = 0.50469 * Age + -7.4899<br>R<sup>2</sup>=0.030876<br><br>periodo=21-22<br>Age=%{x}<br>Gls=%{y} <b>(trend)</b><extra></extra>",
                  "legendgroup": "21-22",
                  "marker": {
                    "color": "#6366f1",
                    "symbol": "circle"
                  },
                  "mode": "lines",
                  "name": "21-22",
                  "showlegend": false,
                  "type": "scatter",
                  "x": {
                    "bdata": "AAAAAAAAMUAAAAAAAAAyQAAAAAAAADNAAAAAAAAAM0AAAAAAAAA0QAAAAAAAADRAAAAAAAAANEAAAAAAAAA0QAAAAAAAADRAAAAAAAAANEAAAAAAAAA0QAAAAAAAADVAAAAAAAAANUAAAAAAAAA2QAAAAAAAADdAAAAAAAAAN0AAAAAAAAA3QAAAAAAAADhAAAAAAAAAOEAAAAAAAAA5QAAAAAAAADlAAAAAAAAAOkAAAAAAAAA7QJqZmZmZmTtAMzMzMzOzO0AAAAAAAAA9QAAAAAAAAD1AAAAAAAAAPUAAAAAAAAA9QAAAAAAAAD1AAAAAAAAAPkAAAAAAAAA+QAAAAAAAAD9AAAAAAAAAP0AAAAAAAABAQAAAAAAAgEBAAAAAAACAQEAAAAAAAIBBQA==",
                    "dtype": "f8"
                  },
                  "xaxis": "x",
                  "y": {
                    "bdata": "DJ18JfBv8T8EQyDZJYP5P370YcYtywBAfvRhxi3LAEB6xzOgyNQEQHrHM6DI1ARAesczoMjUBEB6xzOgyNQEQHrHM6DI1ARAesczoMjUBEB6xzOgyNQEQHKaBXpj3ghAcpoFemPeCEBubddT/ucMQDWg1JbMeBBANaDUlsx4EEA1oNSWzHgQQLOJvQOafRJAs4m9A5p9EkAxc6ZwZ4IUQDFzpnBnghRAr1yP3TSHFkAtRnhKAowYQN9raiUXwhlA0RzoScX1GUAnGUoknZUcQCcZSiSdlRxAJxlKJJ2VHEAnGUoknZUcQCcZSiSdlRxApQIzkWqaHkClAjORapoeQBL2Df+bTyBAEvYN/5tPIEDQaoK1AlIhQI7f9mtpVCJAjt/2a2lUIkAMyd/YNlkkQA==",
                    "dtype": "f8"
                  },
                  "yaxis": "y"
                },
                {
                  "customdata": [
                    [
                      "Andriy Lunin",
                      "22-23"
                    ],
                    [
                      "Andriy Lunin",
                      "22-23"
                    ],
                    [
                      "Andriy Lunin",
                      "22-23"
                    ],
                    [
                      "Andriy Lunin",
                      "22-23"
                    ],
                    [
                      "Andriy Lunin",
                      "22-23"
                    ],
                    [
                      "Andriy Lunin",
                      "22-23"
                    ],
                    [
                      "Andriy Lunin",
                      "22-23"
                    ],
                    [
                      "Andriy Lunin",
                      "22-23"
                    ],
                    [
                      "Andriy Lunin",
                      "22-23"
                    ],
                    [
                      "Andriy Lunin",
                      "22-23"
                    ],
                    [
                      "Andriy Lunin",
                      "22-23"
                    ],
                    [
                      "Andriy Lunin",
                      "22-23"
                    ],
                    [
                      "Andriy Lunin",
                      "22-23"
                    ],
                    [
                      "Andriy Lunin",
                      "22-23"
                    ],
                    [
                      "Andriy Lunin",
                      "22-23"
                    ],
                    [
                      "Andriy Lunin",
                      "22-23"
                    ],
                    [
                      "Andriy Lunin",
                      "22-23"
                    ],
                    [
                      "Andriy Lunin",
                      "22-23"
                    ],
                    [
                      "Andriy Lunin",
                      "22-23"
                    ],
                    [
                      "Andriy Lunin",
                      "22-23"
                    ],
                    [
                      "Andriy Lunin",
                      "22-23"
                    ],
                    [
                      "Andriy Lunin",
                      "22-23"
                    ],
                    [
                      "Andriy Lunin",
                      "22-23"
                    ],
                    [
                      "Andriy Lunin",
                      "22-23"
                    ],
                    [
                      "Andriy Lunin",
                      "22-23"
                    ],
                    [
                      "Andriy Lunin",
                      "22-23"
                    ],
                    [
                      "Andriy Lunin",
                      "22-23"
                    ],
                    [
                      "Andriy Lunin",
                      "22-23"
                    ],
                    [
                      "Andriy Lunin",
                      "22-23"
                    ],
                    [
                      "Andriy Lunin",
                      "22-23"
                    ],
                    [
                      "Andriy Lunin",
                      "22-23"
                    ],
                    [
                      "Andriy Lunin",
                      "22-23"
                    ],
                    [
                      "Andriy Lunin",
                      "22-23"
                    ],
                    [
                      "Andriy Lunin",
                      "22-23"
                    ],
                    [
                      "Andriy Lunin",
                      "22-23"
                    ],
                    [
                      "Andriy Lunin",
                      "22-23"
                    ]
                  ],
                  "hovertemplate": "periodo=%{customdata[1]}<br>Age=%{x}<br>Gls=%{y}<br>MP=%{marker.size}<br>Player=%{customdata[0]}<extra></extra>",
                  "legendgroup": "22-23",
                  "marker": {
                    "color": "#8b5cf6",
                    "size": {
                      "bdata": "FwIfGCUAGwEeHwAABiEeAAAHCQASISEbAwAABiIhIQEiFyYm",
                      "dtype": "i1"
                    },
                    "sizemode": "area",
                    "sizeref": 0.095,
                    "symbol": "circle"
                  },
                  "mode": "markers",
                  "name": "22-23",
                  "orientation": "v",
                  "showlegend": true,
                  "type": "scatter",
                  "x": {
                    "bdata": "AAAAAAAAPkAAAAAAAAA0QAAAAAAAADpAAAAAAAAAQUAAAAAAAAAzQAAAAAAAADRAAAAAAAAAPkAAAAAAAAA+QAAAAAAAADlAAAAAAAAAPkAAAAAAAAA1QAAAAAAAADdAAAAAAAAAP0AAAAAAAAA2QAAAAAAAAEBAAAAAAAAANUAAAAAAAAA0QAAAAAAAADdAAAAAAAAAPEAAAAAAAAAyQAAAAAAAADtAAAAAAAAAOEAAAAAAAABCQAAAAAAAAEBAAAAAAAAAOkAAAAAAAAAxQAAAAAAAADJAAAAAAAAAMkAAAAAAAAA1QAAAAAAAAD1AAAAAAAAANkAAAAAAAAA5QAAAAAAAADhAAAAAAAAAP0BmZmZmZmY7QM3MzMzMTDtA",
                    "dtype": "f8"
                  },
                  "xaxis": "x",
                  "y": {
                    "bdata": "AAAAAAAA8D8AAAAAAAAAAAAAAAAAACJAAAAAAAAAM0AAAAAAAAAAAAAAAAAAAPA/AAAAAAAAAAAAAAAAAAAAAAAAAAAAAAAAAAAAAAAAAAAAAAAAAADwPwAAAAAAAPA/AAAAAAAAAAAAAAAAAAAkQAAAAAAAAABAAAAAAAAA8D8AAAAAAADwPwAAAAAAAAAAAAAAAAAAAAAAAAAAAADwPwAAAAAAAAAAAAAAAAAAFEAAAAAAAAAQQAAAAAAAAPA/AAAAAAAAAAAAAAAAAADwPwAAAAAAAPA/AAAAAAAA8D8AAAAAAAAiQAAAAAAAAPA/AAAAAAAAAAAAAAAAAAAAAAAAAAAAABxAAAAAAAAAEEAAAAAAAEBSQAAAAAAAgEFA",
                    "dtype": "f8"
                  },
                  "yaxis": "y"
                },
                {
                  "hovertemplate": "<b>OLS trendline</b><br>Gls = 0.402322 * Age + -4.8941<br>R<sup>2</sup>=0.023366<br><br>periodo=22-23<br>Age=%{x}<br>Gls=%{y} <b>(trend)</b><extra></extra>",
                  "legendgroup": "22-23",
                  "marker": {
                    "color": "#8b5cf6",
                    "symbol": "circle"
                  },
                  "mode": "lines",
                  "name": "22-23",
                  "showlegend": false,
                  "type": "scatter",
                  "x": {
                    "bdata": "AAAAAAAAMUAAAAAAAAAyQAAAAAAAADJAAAAAAAAAMkAAAAAAAAAzQAAAAAAAADRAAAAAAAAANEAAAAAAAAA0QAAAAAAAADVAAAAAAAAANUAAAAAAAAA1QAAAAAAAADZAAAAAAAAANkAAAAAAAAA3QAAAAAAAADdAAAAAAAAAOEAAAAAAAAA4QAAAAAAAADlAAAAAAAAAOUAAAAAAAAA6QAAAAAAAADpAAAAAAAAAO0DNzMzMzEw7QGZmZmZmZjtAAAAAAAAAPEAAAAAAAAA9QAAAAAAAAD5AAAAAAAAAPkAAAAAAAAA+QAAAAAAAAD5AAAAAAAAAP0AAAAAAAAA/QAAAAAAAAEBAAAAAAAAAQEAAAAAAAABBQAAAAAAAAEJA",
                    "dtype": "f8"
                  },
                  "xaxis": "x",
                  "y": {
                    "bdata": "iLQc3D8g/z+6rY9sFMgCQLqtj2wUyAJAuq2PbBTIAkAyARHrCAAGQKhUkmn9NwlAqFSSaf03CUCoVJJp/TcJQByoE+jxbwxAHKgT6PFvDEAcqBPo8W8MQJT7lGbmpw9AlPuUZuanD0CGJ4ty7W8RQIYni3LtbxFAQNHLsecLE0BA0cux5wsTQPx6DPHhpxRA/HoM8eGnFEC2JE0w3EMWQLYkTTDcQxZAcs6Nb9bfF0DEZ1RPblsYQIpFQe+ghBhALnjOrtB7GUDoIQ/uyhcbQKTLTy3FsxxApMtPLcWzHECky08txbMcQKTLTy3FsxxAXnWQbL9PHkBedZBsv08eQBof0au56x9AGh/Rq7nrH0BIOSkV15EhQAPjaVTRLSNA",
                    "dtype": "f8"
                  },
                  "yaxis": "y"
                },
                {
                  "customdata": [
                    [
                      "Andriy Lunin",
                      "23-24"
                    ],
                    [
                      "Andriy Lunin",
                      "23-24"
                    ],
                    [
                      "Andriy Lunin",
                      "23-24"
                    ],
                    [
                      "Andriy Lunin",
                      "23-24"
                    ],
                    [
                      "Andriy Lunin",
                      "23-24"
                    ],
                    [
                      "Andriy Lunin",
                      "23-24"
                    ],
                    [
                      "Andriy Lunin",
                      "23-24"
                    ],
                    [
                      "Andriy Lunin",
                      "23-24"
                    ],
                    [
                      "Andriy Lunin",
                      "23-24"
                    ],
                    [
                      "Andriy Lunin",
                      "23-24"
                    ],
                    [
                      "Andriy Lunin",
                      "23-24"
                    ],
                    [
                      "Andriy Lunin",
                      "23-24"
                    ],
                    [
                      "Andriy Lunin",
                      "23-24"
                    ],
                    [
                      "Andriy Lunin",
                      "23-24"
                    ],
                    [
                      "Andriy Lunin",
                      "23-24"
                    ],
                    [
                      "Andriy Lunin",
                      "23-24"
                    ],
                    [
                      "Andriy Lunin",
                      "23-24"
                    ],
                    [
                      "Andriy Lunin",
                      "23-24"
                    ],
                    [
                      "Andriy Lunin",
                      "23-24"
                    ],
                    [
                      "Andriy Lunin",
                      "23-24"
                    ],
                    [
                      "Andriy Lunin",
                      "23-24"
                    ],
                    [
                      "Andriy Lunin",
                      "23-24"
                    ],
                    [
                      "Andriy Lunin",
                      "23-24"
                    ],
                    [
                      "Andriy Lunin",
                      "23-24"
                    ],
                    [
                      "Andriy Lunin",
                      "23-24"
                    ],
                    [
                      "Andriy Lunin",
                      "23-24"
                    ],
                    [
                      "Andriy Lunin",
                      "23-24"
                    ],
                    [
                      "Andriy Lunin",
                      "23-24"
                    ],
                    [
                      "Andriy Lunin",
                      "23-24"
                    ],
                    [
                      "Andriy Lunin",
                      "23-24"
                    ],
                    [
                      "Andriy Lunin",
                      "23-24"
                    ],
                    [
                      "Andriy Lunin",
                      "23-24"
                    ],
                    [
                      "Andriy Lunin",
                      "23-24"
                    ],
                    [
                      "Andriy Lunin",
                      "23-24"
                    ],
                    [
                      "Andriy Lunin",
                      "23-24"
                    ],
                    [
                      "Andriy Lunin",
                      "23-24"
                    ],
                    [
                      "Andriy Lunin",
                      "23-24"
                    ],
                    [
                      "Andriy Lunin",
                      "23-24"
                    ],
                    [
                      "Andriy Lunin",
                      "23-24"
                    ],
                    [
                      "Andriy Lunin",
                      "23-24"
                    ]
                  ],
                  "hovertemplate": "periodo=%{customdata[1]}<br>Age=%{x}<br>Gls=%{y}<br>MP=%{marker.size}<br>Player=%{customdata[0]}<extra></extra>",
                  "legendgroup": "23-24",
                  "marker": {
                    "color": "#ec4899",
                    "size": {
                      "bdata": "AB0lABshIgEAAAAEAB0gChcCFQAhGiIKAAIZAB8EFBwAAB8cDg4mJg==",
                      "dtype": "i1"
                    },
                    "sizemode": "area",
                    "sizeref": 0.095,
                    "symbol": "circle"
                  },
                  "mode": "markers",
                  "name": "23-24",
                  "orientation": "v",
                  "showlegend": true,
                  "type": "scatter",
                  "x": {
                    "bdata": "AAAAAAAANUAAAAAAAABAQAAAAAAAADlAAAAAAAAAM0AAAAAAAAA3QAAAAAAAAD5AAAAAAAAANkAAAAAAAAAzQAAAAAAAADJAAAAAAAAAMkAAAAAAAAAzQAAAAAAAADJAAAAAAAAAO0AAAAAAAIBAQAAAAAAAgEJAAAAAAAAAOUAAAAAAAAA8QAAAAAAAADNAAAAAAAAAOEAAAAAAAAA1QAAAAAAAgEBAAAAAAAAAN0AAAAAAAIBAQAAAAAAAADJAAAAAAAAAOEAAAAAAAAAzQAAAAAAAADdAAAAAAAAAMkAAAAAAAAA3QAAAAAAAAD9AAAAAAAAAOkAAAAAAAAA/QAAAAAAAADVAAAAAAAAANUAAAAAAAAA0QAAAAAAAADRAAAAAAAAAPEAAAAAAAAA/QGZmZmZmZjtAmpmZmZkZO0A=",
                    "dtype": "f8"
                  },
                  "xaxis": "x",
                  "y": {
                    "bdata": "AAAAAAAA8D8AAAAAAAAIQAAAAAAAAABAAAAAAAAA8D8AAAAAAAAIQAAAAAAAAPA/AAAAAAAAJEAAAAAAAAAAAAAAAAAAAPA/AAAAAAAA8D8AAAAAAADwPwAAAAAAAAAAAAAAAAAA8D8AAAAAAAAAAAAAAAAAAABAAAAAAAAAAAAAAAAAAAAAAAAAAAAAAAAAAAAAAAAAAAAAAAAAAADwPwAAAAAAAPA/AAAAAAAALkAAAAAAAAAkQAAAAAAAABhAAAAAAAAA8D8AAAAAAAAAAAAAAAAAAPA/AAAAAAAA8D8AAAAAAAAgQAAAAAAAAAAAAAAAAAAAAAAAAAAAAAAQQAAAAAAAAPA/AAAAAAAA8D8AAAAAAAAAAAAAAAAAADNAAAAAAAAAAAAAAAAAAAAAAAAAAAAAQFVAAAAAAAAAOUA=",
                    "dtype": "f8"
                  },
                  "yaxis": "y"
                },
                {
                  "hovertemplate": "<b>OLS trendline</b><br>Gls = 0.250122 * Age + -0.949841<br>R<sup>2</sup>=0.008919<br><br>periodo=23-24<br>Age=%{x}<br>Gls=%{y} <b>(trend)</b><extra></extra>",
                  "legendgroup": "23-24",
                  "marker": {
                    "color": "#ec4899",
                    "symbol": "circle"
                  },
                  "mode": "lines",
                  "name": "23-24",
                  "showlegend": false,
                  "type": "scatter",
                  "x": {
                    "bdata": "AAAAAAAAMkAAAAAAAAAyQAAAAAAAADJAAAAAAAAAMkAAAAAAAAAyQAAAAAAAADNAAAAAAAAAM0AAAAAAAAAzQAAAAAAAADNAAAAAAAAAM0AAAAAAAAA0QAAAAAAAADRAAAAAAAAANUAAAAAAAAA1QAAAAAAAADVAAAAAAAAANUAAAAAAAAA2QAAAAAAAADdAAAAAAAAAN0AAAAAAAAA3QAAAAAAAADdAAAAAAAAAOEAAAAAAAAA4QAAAAAAAADlAAAAAAAAAOUAAAAAAAAA6QAAAAAAAADtAmpmZmZkZO0BmZmZmZmY7QAAAAAAAADxAAAAAAAAAPEAAAAAAAAA+QAAAAAAAAD9AAAAAAAAAP0AAAAAAAAA/QAAAAAAAAEBAAAAAAACAQEAAAAAAAIBAQAAAAAAAgEBAAAAAAACAQkA=",
                    "dtype": "f8"
                  },
                  "xaxis": "x",
                  "y": {
                    "bdata": "AYWRdDVrDEABhZF0NWsMQAGFkXQ1awxAAYWRdDVrDEABhZF0NWsMQEeePTp1aw5AR549OnVrDkBHnj06dWsOQEeePTp1aw5AR549OnVrDkDG2/R/2jUQQMbb9H/aNRBAaOjKYvo1EUBo6Mpi+jURQGjoymL6NRFAaOjKYvo1EUAM9aBFGjYSQK4Bdyg6NhNArgF3KDo2E0CuAXcoOjYTQK4Bdyg6NhNAUA5NC1o2FEBQDk0LWjYUQPQaI+55NhVA9Boj7nk2FUCWJ/nQmTYWQDg0z7O5NhdAsGixfVZQF0ASBljbLJ0XQNxApZbZNhhA3EClltk2GEAgWlFcGTcaQMJmJz85NxtAwmYnPzk3G0DCZic/OTcbQGZz/SFZNxxACIDTBHk3HUAIgNMEeTcdQAiA0wR5Nx1AStkVSPybIEA=",
                    "dtype": "f8"
                  },
                  "yaxis": "y"
                },
                {
                  "customdata": [
                    [
                      "Diego Aguado",
                      "24-25"
                    ],
                    [
                      "Lorenzo Aguado",
                      "24-25"
                    ],
                    [
                      "David Alaba",
                      "24-25"
                    ],
                    [
                      "Raúl Asencio",
                      "24-25"
                    ],
                    [
                      "Jude Bellingham",
                      "24-25"
                    ],
                    [
                      "Eduardo Camavinga",
                      "24-25"
                    ],
                    [
                      "Dani Carvajal",
                      "24-25"
                    ],
                    [
                      "Dani Ceballos",
                      "24-25"
                    ],
                    [
                      "Chema",
                      "24-25"
                    ],
                    [
                      "Thibaut Courtois",
                      "24-25"
                    ],
                    [
                      "Brahim Díaz",
                      "24-25"
                    ],
                    [
                      "Endrick",
                      "24-25"
                    ],
                    [
                      "Fran",
                      "24-25"
                    ],
                    [
                      "Fran Garcia",
                      "24-25"
                    ],
                    [
                      "Gonzalo García",
                      "24-25"
                    ],
                    [
                      "Arda Güler",
                      "24-25"
                    ],
                    [
                      "David Jiménez",
                      "24-25"
                    ],
                    [
                      "Vinicius Júnior",
                      "24-25"
                    ],
                    [
                      "Youssef Lekhedim",
                      "24-25"
                    ],
                    [
                      "Andriy Lunin",
                      "24-25"
                    ],
                    [
                      "Kylian Mbappé",
                      "24-25"
                    ],
                    [
                      "Ferland Mendy",
                      "24-25"
                    ],
                    [
                      "Sergio Mestre",
                      "24-25"
                    ],
                    [
                      "Éder Militão",
                      "24-25"
                    ],
                    [
                      "Luka Modrić",
                      "24-25"
                    ],
                    [
                      "Víctor Muñoz",
                      "24-25"
                    ],
                    [
                      "Jacobo Ramón",
                      "24-25"
                    ],
                    [
                      "Mario Rivas",
                      "24-25"
                    ],
                    [
                      "Rodrygo",
                      "24-25"
                    ],
                    [
                      "Antonio Rüdiger",
                      "24-25"
                    ],
                    [
                      "Aurélien Tchouaméni",
                      "24-25"
                    ],
                    [
                      "Victor Valdepeñas",
                      "24-25"
                    ],
                    [
                      "Jesús Vallejo",
                      "24-25"
                    ],
                    [
                      "Federico Valverde",
                      "24-25"
                    ],
                    [
                      "Lucas Vázquez",
                      "24-25"
                    ],
                    [
                      "Daniel Yáñez",
                      "24-25"
                    ],
                    [
                      "Squad Total",
                      "24-25"
                    ],
                    [
                      "Opponent Total",
                      "24-25"
                    ]
                  ],
                  "hovertemplate": "periodo=%{customdata[1]}<br>Age=%{x}<br>Gls=%{y}<br>MP=%{marker.size}<br>Player=%{customdata[0]}<extra></extra>",
                  "legendgroup": "24-25",
                  "marker": {
                    "color": "#f59e0b",
                    "size": {
                      "bdata": "AAIHFx8TCBcCHh8WAR8DHAAeAAciDgAMIwIDAB4dIAAEJCABJiY=",
                      "dtype": "i1"
                    },
                    "sizemode": "area",
                    "sizeref": 0.095,
                    "symbol": "circle"
                  },
                  "mode": "markers",
                  "name": "24-25",
                  "orientation": "v",
                  "showlegend": true,
                  "type": "scatter",
                  "x": {
                    "bdata": "AAAAAAAAMUAAAAAAAAA1QAAAAAAAAEBAAAAAAAAANUAAAAAAAAA1QAAAAAAAADVAAAAAAAAAQEAAAAAAAAA7QAAAAAAAADNAAAAAAAAAQEAAAAAAAAA4QAAAAAAAADJAAAAAAAAAM0AAAAAAAAA4QAAAAAAAADRAAAAAAAAAM0AAAAAAAAA0QAAAAAAAADhAAAAAAAAAMkAAAAAAAAA5QAAAAAAAADlAAAAAAAAAPUAAAAAAAAAzQAAAAAAAADpAAAAAAAAAQ0AAAAAAAAA1QAAAAAAAADNAAAAAAAAAMUAAAAAAAAA3QAAAAAAAAD9AAAAAAAAAOEAAAAAAAAAxQAAAAAAAADtAAAAAAAAAOkAAAAAAAIBAQAAAAAAAADFAmpmZmZmZOkAzMzMzM7M6QA==",
                    "dtype": "f8"
                  },
                  "xaxis": "x",
                  "y": {
                    "bdata": "AAAAAAAA8D8AAAAAAAAAAAAAAAAAAAAAAAAAAAAAAAAAAAAAAAAiQAAAAAAAAPA/AAAAAAAA8D8AAAAAAAAAAAAAAAAAAAAAAAAAAAAAAAAAAAAAAAAQQAAAAAAAAPA/AAAAAAAAAAAAAAAAAAAAAAAAAAAAAAAAAAAAAAAACEAAAAAAAADwPwAAAAAAACZAAAAAAAAA8D8AAAAAAAAAAAAAAAAAAD9AAAAAAAAAAAAAAAAAAADwPwAAAAAAAPA/AAAAAAAAAEAAAAAAAAAAAAAAAAAAAPA/AAAAAAAA8D8AAAAAAAAYQAAAAAAAAAAAAAAAAAAAAAAAAAAAAADwPwAAAAAAAAAAAAAAAAAAGEAAAAAAAADwPwAAAAAAAAAAAAAAAACAU0AAAAAAAIBCQA==",
                    "dtype": "f8"
                  },
                  "yaxis": "y"
                },
                {
                  "hovertemplate": "<b>OLS trendline</b><br>Gls = 0.343417 * Age + -2.89039<br>R<sup>2</sup>=0.016137<br><br>periodo=24-25<br>Age=%{x}<br>Gls=%{y} <b>(trend)</b><extra></extra>",
                  "legendgroup": "24-25",
                  "marker": {
                    "color": "#f59e0b",
                    "symbol": "circle"
                  },
                  "mode": "lines",
                  "name": "24-25",
                  "showlegend": false,
                  "type": "scatter",
                  "x": {
                    "bdata": "AAAAAAAAMUAAAAAAAAAxQAAAAAAAADFAAAAAAAAAMUAAAAAAAAAyQAAAAAAAADJAAAAAAAAAM0AAAAAAAAAzQAAAAAAAADNAAAAAAAAAM0AAAAAAAAAzQAAAAAAAADRAAAAAAAAANEAAAAAAAAA1QAAAAAAAADVAAAAAAAAANUAAAAAAAAA1QAAAAAAAADVAAAAAAAAAN0AAAAAAAAA4QAAAAAAAADhAAAAAAAAAOEAAAAAAAAA4QAAAAAAAADlAAAAAAAAAOUAAAAAAAAA6QAAAAAAAADpAmpmZmZmZOkAzMzMzM7M6QAAAAAAAADtAAAAAAAAAO0AAAAAAAAA9QAAAAAAAAD9AAAAAAAAAQEAAAAAAAABAQAAAAAAAAEBAAAAAAACAQEAAAAAAAABDQA==",
                    "dtype": "f8"
                  },
                  "xaxis": "x",
                  "y": {
                    "bdata": "WaWTAuKUB0BZpZMC4pQHQFmlkwLilAdAWaWTAuKUB0AHGZprM1QKQAcZmmszVApAs4yg1IQTDUCzjKDUhBMNQLOMoNSEEw1As4yg1IQTDUCzjKDUhBMNQF8Apz3W0g9AXwCnPdbSD0AGulbTE0kRQAa6VtMTSRFABrpW0xNJEUAGulbTE0kRQAa6VtMTSRFAsi1dPGUIFECKZ+DwDWgVQIpn4PANaBVAimfg8A1oFUCKZ+DwDWgVQGChY6W2xxZAYKFjpbbHFkA22+ZZXycYQDbb5llfJxhA6v2bLF76GECygw+liB0ZQAwVag4IhxlADBVqDgiHGUC6iHB3WUYcQGb8duCqBR9AHht9yqkyIEAeG33KqTIgQB4bfcqpMiBACbi+JH7iIEChyAboo1EkQA==",
                    "dtype": "f8"
                  },
                  "yaxis": "y"
                }
              ],
              "layout": {
                "legend": {
                  "itemsizing": "constant",
                  "title": {
                    "text": "periodo"
                  },
                  "tracegroupgap": 0
                },
                "margin": {
                  "t": 60
                },
                "template": {
                  "data": {
                    "bar": [
                      {
                        "error_x": {
                          "color": "#2a3f5f"
                        },
                        "error_y": {
                          "color": "#2a3f5f"
                        },
                        "marker": {
                          "line": {
                            "color": "white",
                            "width": 0.5
                          },
                          "pattern": {
                            "fillmode": "overlay",
                            "size": 10,
                            "solidity": 0.2
                          }
                        },
                        "type": "bar"
                      }
                    ],
                    "barpolar": [
                      {
                        "marker": {
                          "line": {
                            "color": "white",
                            "width": 0.5
                          },
                          "pattern": {
                            "fillmode": "overlay",
                            "size": 10,
                            "solidity": 0.2
                          }
                        },
                        "type": "barpolar"
                      }
                    ],
                    "carpet": [
                      {
                        "aaxis": {
                          "endlinecolor": "#2a3f5f",
                          "gridcolor": "#C8D4E3",
                          "linecolor": "#C8D4E3",
                          "minorgridcolor": "#C8D4E3",
                          "startlinecolor": "#2a3f5f"
                        },
                        "baxis": {
                          "endlinecolor": "#2a3f5f",
                          "gridcolor": "#C8D4E3",
                          "linecolor": "#C8D4E3",
                          "minorgridcolor": "#C8D4E3",
                          "startlinecolor": "#2a3f5f"
                        },
                        "type": "carpet"
                      }
                    ],
                    "choropleth": [
                      {
                        "colorbar": {
                          "outlinewidth": 0,
                          "ticks": ""
                        },
                        "type": "choropleth"
                      }
                    ],
                    "contour": [
                      {
                        "colorbar": {
                          "outlinewidth": 0,
                          "ticks": ""
                        },
                        "colorscale": [
                          [
                            0,
                            "#0d0887"
                          ],
                          [
                            0.1111111111111111,
                            "#46039f"
                          ],
                          [
                            0.2222222222222222,
                            "#7201a8"
                          ],
                          [
                            0.3333333333333333,
                            "#9c179e"
                          ],
                          [
                            0.4444444444444444,
                            "#bd3786"
                          ],
                          [
                            0.5555555555555556,
                            "#d8576b"
                          ],
                          [
                            0.6666666666666666,
                            "#ed7953"
                          ],
                          [
                            0.7777777777777778,
                            "#fb9f3a"
                          ],
                          [
                            0.8888888888888888,
                            "#fdca26"
                          ],
                          [
                            1,
                            "#f0f921"
                          ]
                        ],
                        "type": "contour"
                      }
                    ],
                    "contourcarpet": [
                      {
                        "colorbar": {
                          "outlinewidth": 0,
                          "ticks": ""
                        },
                        "type": "contourcarpet"
                      }
                    ],
                    "heatmap": [
                      {
                        "colorbar": {
                          "outlinewidth": 0,
                          "ticks": ""
                        },
                        "colorscale": [
                          [
                            0,
                            "#0d0887"
                          ],
                          [
                            0.1111111111111111,
                            "#46039f"
                          ],
                          [
                            0.2222222222222222,
                            "#7201a8"
                          ],
                          [
                            0.3333333333333333,
                            "#9c179e"
                          ],
                          [
                            0.4444444444444444,
                            "#bd3786"
                          ],
                          [
                            0.5555555555555556,
                            "#d8576b"
                          ],
                          [
                            0.6666666666666666,
                            "#ed7953"
                          ],
                          [
                            0.7777777777777778,
                            "#fb9f3a"
                          ],
                          [
                            0.8888888888888888,
                            "#fdca26"
                          ],
                          [
                            1,
                            "#f0f921"
                          ]
                        ],
                        "type": "heatmap"
                      }
                    ],
                    "histogram": [
                      {
                        "marker": {
                          "pattern": {
                            "fillmode": "overlay",
                            "size": 10,
                            "solidity": 0.2
                          }
                        },
                        "type": "histogram"
                      }
                    ],
                    "histogram2d": [
                      {
                        "colorbar": {
                          "outlinewidth": 0,
                          "ticks": ""
                        },
                        "colorscale": [
                          [
                            0,
                            "#0d0887"
                          ],
                          [
                            0.1111111111111111,
                            "#46039f"
                          ],
                          [
                            0.2222222222222222,
                            "#7201a8"
                          ],
                          [
                            0.3333333333333333,
                            "#9c179e"
                          ],
                          [
                            0.4444444444444444,
                            "#bd3786"
                          ],
                          [
                            0.5555555555555556,
                            "#d8576b"
                          ],
                          [
                            0.6666666666666666,
                            "#ed7953"
                          ],
                          [
                            0.7777777777777778,
                            "#fb9f3a"
                          ],
                          [
                            0.8888888888888888,
                            "#fdca26"
                          ],
                          [
                            1,
                            "#f0f921"
                          ]
                        ],
                        "type": "histogram2d"
                      }
                    ],
                    "histogram2dcontour": [
                      {
                        "colorbar": {
                          "outlinewidth": 0,
                          "ticks": ""
                        },
                        "colorscale": [
                          [
                            0,
                            "#0d0887"
                          ],
                          [
                            0.1111111111111111,
                            "#46039f"
                          ],
                          [
                            0.2222222222222222,
                            "#7201a8"
                          ],
                          [
                            0.3333333333333333,
                            "#9c179e"
                          ],
                          [
                            0.4444444444444444,
                            "#bd3786"
                          ],
                          [
                            0.5555555555555556,
                            "#d8576b"
                          ],
                          [
                            0.6666666666666666,
                            "#ed7953"
                          ],
                          [
                            0.7777777777777778,
                            "#fb9f3a"
                          ],
                          [
                            0.8888888888888888,
                            "#fdca26"
                          ],
                          [
                            1,
                            "#f0f921"
                          ]
                        ],
                        "type": "histogram2dcontour"
                      }
                    ],
                    "mesh3d": [
                      {
                        "colorbar": {
                          "outlinewidth": 0,
                          "ticks": ""
                        },
                        "type": "mesh3d"
                      }
                    ],
                    "parcoords": [
                      {
                        "line": {
                          "colorbar": {
                            "outlinewidth": 0,
                            "ticks": ""
                          }
                        },
                        "type": "parcoords"
                      }
                    ],
                    "pie": [
                      {
                        "automargin": true,
                        "type": "pie"
                      }
                    ],
                    "scatter": [
                      {
                        "fillpattern": {
                          "fillmode": "overlay",
                          "size": 10,
                          "solidity": 0.2
                        },
                        "type": "scatter"
                      }
                    ],
                    "scatter3d": [
                      {
                        "line": {
                          "colorbar": {
                            "outlinewidth": 0,
                            "ticks": ""
                          }
                        },
                        "marker": {
                          "colorbar": {
                            "outlinewidth": 0,
                            "ticks": ""
                          }
                        },
                        "type": "scatter3d"
                      }
                    ],
                    "scattercarpet": [
                      {
                        "marker": {
                          "colorbar": {
                            "outlinewidth": 0,
                            "ticks": ""
                          }
                        },
                        "type": "scattercarpet"
                      }
                    ],
                    "scattergeo": [
                      {
                        "marker": {
                          "colorbar": {
                            "outlinewidth": 0,
                            "ticks": ""
                          }
                        },
                        "type": "scattergeo"
                      }
                    ],
                    "scattergl": [
                      {
                        "marker": {
                          "colorbar": {
                            "outlinewidth": 0,
                            "ticks": ""
                          }
                        },
                        "type": "scattergl"
                      }
                    ],
                    "scattermap": [
                      {
                        "marker": {
                          "colorbar": {
                            "outlinewidth": 0,
                            "ticks": ""
                          }
                        },
                        "type": "scattermap"
                      }
                    ],
                    "scattermapbox": [
                      {
                        "marker": {
                          "colorbar": {
                            "outlinewidth": 0,
                            "ticks": ""
                          }
                        },
                        "type": "scattermapbox"
                      }
                    ],
                    "scatterpolar": [
                      {
                        "marker": {
                          "colorbar": {
                            "outlinewidth": 0,
                            "ticks": ""
                          }
                        },
                        "type": "scatterpolar"
                      }
                    ],
                    "scatterpolargl": [
                      {
                        "marker": {
                          "colorbar": {
                            "outlinewidth": 0,
                            "ticks": ""
                          }
                        },
                        "type": "scatterpolargl"
                      }
                    ],
                    "scatterternary": [
                      {
                        "marker": {
                          "colorbar": {
                            "outlinewidth": 0,
                            "ticks": ""
                          }
                        },
                        "type": "scatterternary"
                      }
                    ],
                    "surface": [
                      {
                        "colorbar": {
                          "outlinewidth": 0,
                          "ticks": ""
                        },
                        "colorscale": [
                          [
                            0,
                            "#0d0887"
                          ],
                          [
                            0.1111111111111111,
                            "#46039f"
                          ],
                          [
                            0.2222222222222222,
                            "#7201a8"
                          ],
                          [
                            0.3333333333333333,
                            "#9c179e"
                          ],
                          [
                            0.4444444444444444,
                            "#bd3786"
                          ],
                          [
                            0.5555555555555556,
                            "#d8576b"
                          ],
                          [
                            0.6666666666666666,
                            "#ed7953"
                          ],
                          [
                            0.7777777777777778,
                            "#fb9f3a"
                          ],
                          [
                            0.8888888888888888,
                            "#fdca26"
                          ],
                          [
                            1,
                            "#f0f921"
                          ]
                        ],
                        "type": "surface"
                      }
                    ],
                    "table": [
                      {
                        "cells": {
                          "fill": {
                            "color": "#EBF0F8"
                          },
                          "line": {
                            "color": "white"
                          }
                        },
                        "header": {
                          "fill": {
                            "color": "#C8D4E3"
                          },
                          "line": {
                            "color": "white"
                          }
                        },
                        "type": "table"
                      }
                    ]
                  },
                  "layout": {
                    "annotationdefaults": {
                      "arrowcolor": "#2a3f5f",
                      "arrowhead": 0,
                      "arrowwidth": 1
                    },
                    "autotypenumbers": "strict",
                    "coloraxis": {
                      "colorbar": {
                        "outlinewidth": 0,
                        "ticks": ""
                      }
                    },
                    "colorscale": {
                      "diverging": [
                        [
                          0,
                          "#8e0152"
                        ],
                        [
                          0.1,
                          "#c51b7d"
                        ],
                        [
                          0.2,
                          "#de77ae"
                        ],
                        [
                          0.3,
                          "#f1b6da"
                        ],
                        [
                          0.4,
                          "#fde0ef"
                        ],
                        [
                          0.5,
                          "#f7f7f7"
                        ],
                        [
                          0.6,
                          "#e6f5d0"
                        ],
                        [
                          0.7,
                          "#b8e186"
                        ],
                        [
                          0.8,
                          "#7fbc41"
                        ],
                        [
                          0.9,
                          "#4d9221"
                        ],
                        [
                          1,
                          "#276419"
                        ]
                      ],
                      "sequential": [
                        [
                          0,
                          "#0d0887"
                        ],
                        [
                          0.1111111111111111,
                          "#46039f"
                        ],
                        [
                          0.2222222222222222,
                          "#7201a8"
                        ],
                        [
                          0.3333333333333333,
                          "#9c179e"
                        ],
                        [
                          0.4444444444444444,
                          "#bd3786"
                        ],
                        [
                          0.5555555555555556,
                          "#d8576b"
                        ],
                        [
                          0.6666666666666666,
                          "#ed7953"
                        ],
                        [
                          0.7777777777777778,
                          "#fb9f3a"
                        ],
                        [
                          0.8888888888888888,
                          "#fdca26"
                        ],
                        [
                          1,
                          "#f0f921"
                        ]
                      ],
                      "sequentialminus": [
                        [
                          0,
                          "#0d0887"
                        ],
                        [
                          0.1111111111111111,
                          "#46039f"
                        ],
                        [
                          0.2222222222222222,
                          "#7201a8"
                        ],
                        [
                          0.3333333333333333,
                          "#9c179e"
                        ],
                        [
                          0.4444444444444444,
                          "#bd3786"
                        ],
                        [
                          0.5555555555555556,
                          "#d8576b"
                        ],
                        [
                          0.6666666666666666,
                          "#ed7953"
                        ],
                        [
                          0.7777777777777778,
                          "#fb9f3a"
                        ],
                        [
                          0.8888888888888888,
                          "#fdca26"
                        ],
                        [
                          1,
                          "#f0f921"
                        ]
                      ]
                    },
                    "colorway": [
                      "#636efa",
                      "#EF553B",
                      "#00cc96",
                      "#ab63fa",
                      "#FFA15A",
                      "#19d3f3",
                      "#FF6692",
                      "#B6E880",
                      "#FF97FF",
                      "#FECB52"
                    ],
                    "font": {
                      "color": "#2a3f5f"
                    },
                    "geo": {
                      "bgcolor": "white",
                      "lakecolor": "white",
                      "landcolor": "white",
                      "showlakes": true,
                      "showland": true,
                      "subunitcolor": "#C8D4E3"
                    },
                    "hoverlabel": {
                      "align": "left"
                    },
                    "hovermode": "closest",
                    "mapbox": {
                      "style": "light"
                    },
                    "paper_bgcolor": "white",
                    "plot_bgcolor": "white",
                    "polar": {
                      "angularaxis": {
                        "gridcolor": "#EBF0F8",
                        "linecolor": "#EBF0F8",
                        "ticks": ""
                      },
                      "bgcolor": "white",
                      "radialaxis": {
                        "gridcolor": "#EBF0F8",
                        "linecolor": "#EBF0F8",
                        "ticks": ""
                      }
                    },
                    "scene": {
                      "xaxis": {
                        "backgroundcolor": "white",
                        "gridcolor": "#DFE8F3",
                        "gridwidth": 2,
                        "linecolor": "#EBF0F8",
                        "showbackground": true,
                        "ticks": "",
                        "zerolinecolor": "#EBF0F8"
                      },
                      "yaxis": {
                        "backgroundcolor": "white",
                        "gridcolor": "#DFE8F3",
                        "gridwidth": 2,
                        "linecolor": "#EBF0F8",
                        "showbackground": true,
                        "ticks": "",
                        "zerolinecolor": "#EBF0F8"
                      },
                      "zaxis": {
                        "backgroundcolor": "white",
                        "gridcolor": "#DFE8F3",
                        "gridwidth": 2,
                        "linecolor": "#EBF0F8",
                        "showbackground": true,
                        "ticks": "",
                        "zerolinecolor": "#EBF0F8"
                      }
                    },
                    "shapedefaults": {
                      "line": {
                        "color": "#2a3f5f"
                      }
                    },
                    "ternary": {
                      "aaxis": {
                        "gridcolor": "#DFE8F3",
                        "linecolor": "#A2B1C6",
                        "ticks": ""
                      },
                      "baxis": {
                        "gridcolor": "#DFE8F3",
                        "linecolor": "#A2B1C6",
                        "ticks": ""
                      },
                      "bgcolor": "white",
                      "caxis": {
                        "gridcolor": "#DFE8F3",
                        "linecolor": "#A2B1C6",
                        "ticks": ""
                      }
                    },
                    "title": {
                      "x": 0.05
                    },
                    "xaxis": {
                      "automargin": true,
                      "gridcolor": "#EBF0F8",
                      "linecolor": "#EBF0F8",
                      "ticks": "",
                      "title": {
                        "standoff": 15
                      },
                      "zerolinecolor": "#EBF0F8",
                      "zerolinewidth": 2
                    },
                    "yaxis": {
                      "automargin": true,
                      "gridcolor": "#EBF0F8",
                      "linecolor": "#EBF0F8",
                      "ticks": "",
                      "title": {
                        "standoff": 15
                      },
                      "zerolinecolor": "#EBF0F8",
                      "zerolinewidth": 2
                    }
                  }
                },
                "title": {
                  "text": "Edad vs Goles (Correlación: 0.13)"
                },
                "xaxis": {
                  "anchor": "y",
                  "domain": [
                    0,
                    1
                  ],
                  "title": {
                    "text": "Edad"
                  }
                },
                "yaxis": {
                  "anchor": "x",
                  "domain": [
                    0,
                    1
                  ],
                  "title": {
                    "text": "Goles"
                  }
                }
              }
            }
          },
          "metadata": {},
          "output_type": "display_data"
        }
      ],
      "source": [
        "# Edad vs Goles\n",
        "fig = px.scatter(df, x='Age', y='Gls', hover_data=['Player', 'periodo'],\n",
        "                size='MP', color='periodo', trendline='ols',\n",
        "                color_discrete_sequence=['#6366f1', '#8b5cf6', '#ec4899', '#f59e0b'])\n",
        "fig.update_layout(title=f'Edad vs Goles (Correlación: {df[\"Age\"].corr(df[\"Gls\"]):.2f})',\n",
        "                 xaxis_title='Edad', yaxis_title='Goles', template='plotly_white')\n",
        "fig.show()\n"
      ]
    },
    {
      "cell_type": "code",
      "execution_count": 100,
      "metadata": {},
      "outputs": [
        {
          "data": {
            "application/vnd.plotly.v1+json": {
              "config": {
                "plotlyServerURL": "https://plot.ly"
              },
              "data": [
                {
                  "customdata": [
                    [
                      "David Alaba",
                      "21-22"
                    ],
                    [
                      "Marco Asensio",
                      "21-22"
                    ],
                    [
                      "Gareth Bale",
                      "21-22"
                    ],
                    [
                      "Karim Benzema",
                      "21-22"
                    ],
                    [
                      "Antonio Blanco",
                      "21-22"
                    ],
                    [
                      "Eduardo Camavinga",
                      "21-22"
                    ],
                    [
                      "Dani Carvajal",
                      "21-22"
                    ],
                    [
                      "Casemiro",
                      "21-22"
                    ],
                    [
                      "Dani Ceballos",
                      "21-22"
                    ],
                    [
                      "Thibaut Courtois",
                      "21-22"
                    ],
                    [
                      "Toni Fuidias",
                      "21-22"
                    ],
                    [
                      "Mario Gila",
                      "21-22"
                    ],
                    [
                      "Peter González",
                      "21-22"
                    ],
                    [
                      "Miguel Gutiérrez",
                      "21-22"
                    ],
                    [
                      "Eden Hazard",
                      "21-22"
                    ],
                    [
                      "Isco",
                      "21-22"
                    ],
                    [
                      "Luka Jović",
                      "21-22"
                    ],
                    [
                      "Vinicius Júnior",
                      "21-22"
                    ],
                    [
                      "Toni Kroos",
                      "21-22"
                    ],
                    [
                      "Juanmi Latasa",
                      "21-22"
                    ],
                    [
                      "Luis López",
                      "21-22"
                    ],
                    [
                      "Andriy Lunin",
                      "21-22"
                    ],
                    [
                      "Marcelo",
                      "21-22"
                    ],
                    [
                      "Mariano",
                      "21-22"
                    ],
                    [
                      "Rafa Marín",
                      "21-22"
                    ],
                    [
                      "Ferland Mendy",
                      "21-22"
                    ],
                    [
                      "Éder Militão",
                      "21-22"
                    ],
                    [
                      "Luka Modrić",
                      "21-22"
                    ],
                    [
                      "Nacho",
                      "21-22"
                    ],
                    [
                      "Álvaro Odriozola",
                      "21-22"
                    ],
                    [
                      "Diego Piñeiro",
                      "21-22"
                    ],
                    [
                      "Rodrygo",
                      "21-22"
                    ],
                    [
                      "Sergio Santos",
                      "21-22"
                    ],
                    [
                      "Jesús Vallejo",
                      "21-22"
                    ],
                    [
                      "Federico Valverde",
                      "21-22"
                    ],
                    [
                      "Lucas Vázquez",
                      "21-22"
                    ],
                    [
                      "Squad Total",
                      "21-22"
                    ],
                    [
                      "Opponent Total",
                      "21-22"
                    ]
                  ],
                  "hovertemplate": "periodo=%{customdata[1]}<br>Age=%{x}<br>Ast=%{y}<br>MP=%{marker.size}<br>Player=%{customdata[0]}<extra></extra>",
                  "legendgroup": "21-22",
                  "marker": {
                    "color": "#6366f1",
                    "size": {
                      "bdata": "Hh8FIAEaGCALJAACAwMSDg8jHAEAAgwJABYiHBwAACEBBR8dJiY=",
                      "dtype": "i1"
                    },
                    "sizemode": "area",
                    "sizeref": 0.095,
                    "symbol": "circle"
                  },
                  "mode": "markers",
                  "name": "21-22",
                  "orientation": "v",
                  "showlegend": true,
                  "type": "scatter",
                  "x": {
                    "bdata": "AAAAAAAAPUAAAAAAAAA5QAAAAAAAAEBAAAAAAACAQEAAAAAAAAA1QAAAAAAAADJAAAAAAAAAPUAAAAAAAAA9QAAAAAAAADhAAAAAAAAAPUAAAAAAAAA0QAAAAAAAADRAAAAAAAAAM0AAAAAAAAA0QAAAAAAAAD5AAAAAAAAAPUAAAAAAAAA3QAAAAAAAADVAAAAAAAAAP0AAAAAAAAA0QAAAAAAAADRAAAAAAAAANkAAAAAAAIBAQAAAAAAAADtAAAAAAAAAM0AAAAAAAAA6QAAAAAAAADdAAAAAAACAQUAAAAAAAAA/QAAAAAAAADlAAAAAAAAAMUAAAAAAAAA0QAAAAAAAADRAAAAAAAAAOEAAAAAAAAA3QAAAAAAAAD5AMzMzMzOzO0CamZmZmZk7QA==",
                    "dtype": "f8"
                  },
                  "xaxis": "x",
                  "y": {
                    "bdata": "AAAAAAAACEAAAAAAAAAAAAAAAAAAAAAAAAAAAAAAKEAAAAAAAAAAAAAAAAAAAPA/AAAAAAAACEAAAAAAAAAIQAAAAAAAAAAAAAAAAAAAAAAAAAAAAADwPwAAAAAAAAAAAAAAAAAAAAAAAAAAAADwPwAAAAAAAPA/AAAAAAAAAAAAAAAAAAAIQAAAAAAAACRAAAAAAAAACEAAAAAAAAAAAAAAAAAAAPA/AAAAAAAAAAAAAAAAAAAAQAAAAAAAAPA/AAAAAAAA8D8AAAAAAADwPwAAAAAAAABAAAAAAAAAIEAAAAAAAAAAAAAAAAAAAPA/AAAAAAAA8D8AAAAAAAAQQAAAAAAAAAAAAAAAAAAAAAAAAAAAAADwPwAAAAAAAAAAAAAAAACATUAAAAAAAAA0QA==",
                    "dtype": "f8"
                  },
                  "yaxis": "y"
                },
                {
                  "hovertemplate": "<b>OLS trendline</b><br>Ast = 0.381904 * Age + -5.80757<br>R<sup>2</sup>=0.035688<br><br>periodo=21-22<br>Age=%{x}<br>Ast=%{y} <b>(trend)</b><extra></extra>",
                  "legendgroup": "21-22",
                  "marker": {
                    "color": "#6366f1",
                    "symbol": "circle"
                  },
                  "mode": "lines",
                  "name": "21-22",
                  "showlegend": false,
                  "type": "scatter",
                  "x": {
                    "bdata": "AAAAAAAAMUAAAAAAAAAyQAAAAAAAADNAAAAAAAAAM0AAAAAAAAA0QAAAAAAAADRAAAAAAAAANEAAAAAAAAA0QAAAAAAAADRAAAAAAAAANEAAAAAAAAA0QAAAAAAAADVAAAAAAAAANUAAAAAAAAA2QAAAAAAAADdAAAAAAAAAN0AAAAAAAAA3QAAAAAAAADhAAAAAAAAAOEAAAAAAAAA5QAAAAAAAADlAAAAAAAAAOkAAAAAAAAA7QJqZmZmZmTtAMzMzMzOzO0AAAAAAAAA9QAAAAAAAAD1AAAAAAAAAPUAAAAAAAAA9QAAAAAAAAD1AAAAAAAAAPkAAAAAAAAA+QAAAAAAAAD9AAAAAAAAAP0AAAAAAAABAQAAAAAAAgEBAAAAAAACAQEAAAAAAAIBBQA==",
                    "dtype": "f8"
                  },
                  "xaxis": "x",
                  "y": {
                    "bdata": "+Hs4nO/p5T8oJjOyPxHxP1gOSpaHLfc/WA5Kloct9z+E9mB6z0n9P4T2YHrPSf0/hPZges9J/T+E9mB6z0n9P4T2YHrPSf0/hPZges9J/T+E9mB6z0n9P1jvO68LswFAWO87rwuzAUBwY0ehL8EEQITXUpNTzwdAhNdSk1PPB0CE11KTU88HQJxLXoV33QpAnEtehXfdCkC0v2l3m+sNQLS/aXeb6w1A5Jm6tN98EEDwU8Ct8QMSQMT29g+W7hJAkLyqdbEVE0AGyMufFRIVQAbIy58VEhVABsjLnxUSFUAGyMufFRIVQAbIy58VEhVAEoLRmCeZFkASgtGYJ5kWQBw815E5IBhAHDzXkTkgGEAo9tyKS6cZQDSw4oNdLhtANLDig10uG0BKJO51gTweQA==",
                    "dtype": "f8"
                  },
                  "yaxis": "y"
                },
                {
                  "customdata": [
                    [
                      "Andriy Lunin",
                      "22-23"
                    ],
                    [
                      "Andriy Lunin",
                      "22-23"
                    ],
                    [
                      "Andriy Lunin",
                      "22-23"
                    ],
                    [
                      "Andriy Lunin",
                      "22-23"
                    ],
                    [
                      "Andriy Lunin",
                      "22-23"
                    ],
                    [
                      "Andriy Lunin",
                      "22-23"
                    ],
                    [
                      "Andriy Lunin",
                      "22-23"
                    ],
                    [
                      "Andriy Lunin",
                      "22-23"
                    ],
                    [
                      "Andriy Lunin",
                      "22-23"
                    ],
                    [
                      "Andriy Lunin",
                      "22-23"
                    ],
                    [
                      "Andriy Lunin",
                      "22-23"
                    ],
                    [
                      "Andriy Lunin",
                      "22-23"
                    ],
                    [
                      "Andriy Lunin",
                      "22-23"
                    ],
                    [
                      "Andriy Lunin",
                      "22-23"
                    ],
                    [
                      "Andriy Lunin",
                      "22-23"
                    ],
                    [
                      "Andriy Lunin",
                      "22-23"
                    ],
                    [
                      "Andriy Lunin",
                      "22-23"
                    ],
                    [
                      "Andriy Lunin",
                      "22-23"
                    ],
                    [
                      "Andriy Lunin",
                      "22-23"
                    ],
                    [
                      "Andriy Lunin",
                      "22-23"
                    ],
                    [
                      "Andriy Lunin",
                      "22-23"
                    ],
                    [
                      "Andriy Lunin",
                      "22-23"
                    ],
                    [
                      "Andriy Lunin",
                      "22-23"
                    ],
                    [
                      "Andriy Lunin",
                      "22-23"
                    ],
                    [
                      "Andriy Lunin",
                      "22-23"
                    ],
                    [
                      "Andriy Lunin",
                      "22-23"
                    ],
                    [
                      "Andriy Lunin",
                      "22-23"
                    ],
                    [
                      "Andriy Lunin",
                      "22-23"
                    ],
                    [
                      "Andriy Lunin",
                      "22-23"
                    ],
                    [
                      "Andriy Lunin",
                      "22-23"
                    ],
                    [
                      "Andriy Lunin",
                      "22-23"
                    ],
                    [
                      "Andriy Lunin",
                      "22-23"
                    ],
                    [
                      "Andriy Lunin",
                      "22-23"
                    ],
                    [
                      "Andriy Lunin",
                      "22-23"
                    ],
                    [
                      "Andriy Lunin",
                      "22-23"
                    ],
                    [
                      "Andriy Lunin",
                      "22-23"
                    ]
                  ],
                  "hovertemplate": "periodo=%{customdata[1]}<br>Age=%{x}<br>Ast=%{y}<br>MP=%{marker.size}<br>Player=%{customdata[0]}<extra></extra>",
                  "legendgroup": "22-23",
                  "marker": {
                    "color": "#8b5cf6",
                    "size": {
                      "bdata": "FwIfGCUAGwEeHwAABiEeAAAHCQASISEbAwAABiIhIQEiFyYm",
                      "dtype": "i1"
                    },
                    "sizemode": "area",
                    "sizeref": 0.095,
                    "symbol": "circle"
                  },
                  "mode": "markers",
                  "name": "22-23",
                  "orientation": "v",
                  "showlegend": true,
                  "type": "scatter",
                  "x": {
                    "bdata": "AAAAAAAAPkAAAAAAAAA0QAAAAAAAADpAAAAAAAAAQUAAAAAAAAAzQAAAAAAAADRAAAAAAAAAPkAAAAAAAAA+QAAAAAAAADlAAAAAAAAAPkAAAAAAAAA1QAAAAAAAADdAAAAAAAAAP0AAAAAAAAA2QAAAAAAAAEBAAAAAAAAANUAAAAAAAAA0QAAAAAAAADdAAAAAAAAAPEAAAAAAAAAyQAAAAAAAADtAAAAAAAAAOEAAAAAAAABCQAAAAAAAAEBAAAAAAAAAOkAAAAAAAAAxQAAAAAAAADJAAAAAAAAAMkAAAAAAAAA1QAAAAAAAAD1AAAAAAAAANkAAAAAAAAA5QAAAAAAAADhAAAAAAAAAP0BmZmZmZmY7QM3MzMzMTDtA",
                    "dtype": "f8"
                  },
                  "xaxis": "x",
                  "y": {
                    "bdata": "AAAAAAAACEAAAAAAAAAAAAAAAAAAABhAAAAAAAAACEAAAAAAAADwPwAAAAAAAPA/AAAAAAAAAEAAAAAAAAAAAAAAAAAAABBAAAAAAAAAAAAAAAAAAADwPwAAAAAAAPA/AAAAAAAA8D8AAAAAAAAiQAAAAAAAABBAAAAAAAAA8D8AAAAAAADwPwAAAAAAAAAAAAAAAAAAAAAAAAAAAADwPwAAAAAAAPA/AAAAAAAAAAAAAAAAAAAIQAAAAAAAAPA/AAAAAAAAAAAAAAAAAADwPwAAAAAAAPA/AAAAAAAA8D8AAAAAAAAgQAAAAAAAAAAAAAAAAAAAEEAAAAAAAAAAAAAAAAAAABBAAAAAAAAA8D8AAAAAAABMQAAAAAAAADVA",
                    "dtype": "f8"
                  },
                  "yaxis": "y"
                },
                {
                  "hovertemplate": "<b>OLS trendline</b><br>Ast = 0.178538 * Age + -0.584974<br>R<sup>2</sup>=0.008755<br><br>periodo=22-23<br>Age=%{x}<br>Ast=%{y} <b>(trend)</b><extra></extra>",
                  "legendgroup": "22-23",
                  "marker": {
                    "color": "#8b5cf6",
                    "symbol": "circle"
                  },
                  "mode": "lines",
                  "name": "22-23",
                  "showlegend": false,
                  "type": "scatter",
                  "x": {
                    "bdata": "AAAAAAAAMUAAAAAAAAAyQAAAAAAAADJAAAAAAAAAMkAAAAAAAAAzQAAAAAAAADRAAAAAAAAANEAAAAAAAAA0QAAAAAAAADVAAAAAAAAANUAAAAAAAAA1QAAAAAAAADZAAAAAAAAANkAAAAAAAAA3QAAAAAAAADdAAAAAAAAAOEAAAAAAAAA4QAAAAAAAADlAAAAAAAAAOUAAAAAAAAA6QAAAAAAAADpAAAAAAAAAO0DNzMzMzEw7QGZmZmZmZjtAAAAAAAAAPEAAAAAAAAA9QAAAAAAAAD5AAAAAAAAAPkAAAAAAAAA+QAAAAAAAAD5AAAAAAAAAP0AAAAAAAAA/QAAAAAAAAEBAAAAAAAAAQEAAAAAAAABBQAAAAAAAAEJA",
                    "dtype": "f8"
                  },
                  "xaxis": "x",
                  "y": {
                    "bdata": "FHkp8/SZA0CsHnNamgcFQKwec1qaBwVArB5zWpoHBUBExLzBP3UGQNxpBinl4gdA3GkGKeXiB0DcaQYp5eIHQHQPUJCKUAlAdA9QkIpQCUB0D1CQilAJQAy1mfcvvgpADLWZ9y++CkCkWuNe1SsMQKRa417VKwxAPgAtxnqZDUA+AC3GepkNQNaldi0gBw9A1qV2LSAHD0C3JWDKYjoQQLclYMpiOhBAg/gEfjXxEEDAN4NNDigRQNRMrZJWOhFAT8upMQioEUAbnk7l2l4SQOdw85itFRNA53DzmK0VE0DncPOYrRUTQOdw85itFRNAs0OYTIDME0CzQ5hMgMwTQH8WPQBTgxRAfxY9AFODFEAXvIZn+PAVQK9h0M6dXhdA",
                    "dtype": "f8"
                  },
                  "yaxis": "y"
                },
                {
                  "customdata": [
                    [
                      "Andriy Lunin",
                      "23-24"
                    ],
                    [
                      "Andriy Lunin",
                      "23-24"
                    ],
                    [
                      "Andriy Lunin",
                      "23-24"
                    ],
                    [
                      "Andriy Lunin",
                      "23-24"
                    ],
                    [
                      "Andriy Lunin",
                      "23-24"
                    ],
                    [
                      "Andriy Lunin",
                      "23-24"
                    ],
                    [
                      "Andriy Lunin",
                      "23-24"
                    ],
                    [
                      "Andriy Lunin",
                      "23-24"
                    ],
                    [
                      "Andriy Lunin",
                      "23-24"
                    ],
                    [
                      "Andriy Lunin",
                      "23-24"
                    ],
                    [
                      "Andriy Lunin",
                      "23-24"
                    ],
                    [
                      "Andriy Lunin",
                      "23-24"
                    ],
                    [
                      "Andriy Lunin",
                      "23-24"
                    ],
                    [
                      "Andriy Lunin",
                      "23-24"
                    ],
                    [
                      "Andriy Lunin",
                      "23-24"
                    ],
                    [
                      "Andriy Lunin",
                      "23-24"
                    ],
                    [
                      "Andriy Lunin",
                      "23-24"
                    ],
                    [
                      "Andriy Lunin",
                      "23-24"
                    ],
                    [
                      "Andriy Lunin",
                      "23-24"
                    ],
                    [
                      "Andriy Lunin",
                      "23-24"
                    ],
                    [
                      "Andriy Lunin",
                      "23-24"
                    ],
                    [
                      "Andriy Lunin",
                      "23-24"
                    ],
                    [
                      "Andriy Lunin",
                      "23-24"
                    ],
                    [
                      "Andriy Lunin",
                      "23-24"
                    ],
                    [
                      "Andriy Lunin",
                      "23-24"
                    ],
                    [
                      "Andriy Lunin",
                      "23-24"
                    ],
                    [
                      "Andriy Lunin",
                      "23-24"
                    ],
                    [
                      "Andriy Lunin",
                      "23-24"
                    ],
                    [
                      "Andriy Lunin",
                      "23-24"
                    ],
                    [
                      "Andriy Lunin",
                      "23-24"
                    ],
                    [
                      "Andriy Lunin",
                      "23-24"
                    ],
                    [
                      "Andriy Lunin",
                      "23-24"
                    ],
                    [
                      "Andriy Lunin",
                      "23-24"
                    ],
                    [
                      "Andriy Lunin",
                      "23-24"
                    ],
                    [
                      "Andriy Lunin",
                      "23-24"
                    ],
                    [
                      "Andriy Lunin",
                      "23-24"
                    ],
                    [
                      "Andriy Lunin",
                      "23-24"
                    ],
                    [
                      "Andriy Lunin",
                      "23-24"
                    ],
                    [
                      "Andriy Lunin",
                      "23-24"
                    ],
                    [
                      "Andriy Lunin",
                      "23-24"
                    ]
                  ],
                  "hovertemplate": "periodo=%{customdata[1]}<br>Age=%{x}<br>Ast=%{y}<br>MP=%{marker.size}<br>Player=%{customdata[0]}<extra></extra>",
                  "legendgroup": "23-24",
                  "marker": {
                    "color": "#ec4899",
                    "size": {
                      "bdata": "AB0lABshIgEAAAAEAB0gChcCFQAhGiIKAAIZAB8EFBwAAB8cDg4mJg==",
                      "dtype": "i1"
                    },
                    "sizemode": "area",
                    "sizeref": 0.095,
                    "symbol": "circle"
                  },
                  "mode": "markers",
                  "name": "23-24",
                  "orientation": "v",
                  "showlegend": true,
                  "type": "scatter",
                  "x": {
                    "bdata": "AAAAAAAANUAAAAAAAABAQAAAAAAAADlAAAAAAAAAM0AAAAAAAAA3QAAAAAAAAD5AAAAAAAAANkAAAAAAAAAzQAAAAAAAADJAAAAAAAAAMkAAAAAAAAAzQAAAAAAAADJAAAAAAAAAO0AAAAAAAIBAQAAAAAAAgEJAAAAAAAAAOUAAAAAAAAA8QAAAAAAAADNAAAAAAAAAOEAAAAAAAAA1QAAAAAAAgEBAAAAAAAAAN0AAAAAAAIBAQAAAAAAAADJAAAAAAAAAOEAAAAAAAAAzQAAAAAAAADdAAAAAAAAAMkAAAAAAAAA3QAAAAAAAAD9AAAAAAAAAOkAAAAAAAAA/QAAAAAAAADVAAAAAAAAANUAAAAAAAAA0QAAAAAAAADRAAAAAAAAAPEAAAAAAAAA/QGZmZmZmZjtAmpmZmZkZO0A=",
                    "dtype": "f8"
                  },
                  "xaxis": "x",
                  "y": {
                    "bdata": "AAAAAAAA8D8AAAAAAAAYQAAAAAAAABxAAAAAAAAA8D8AAAAAAADwPwAAAAAAAAAAAAAAAAAAFEAAAAAAAAAAAAAAAAAAAPA/AAAAAAAA8D8AAAAAAADwPwAAAAAAAAAAAAAAAAAA8D8AAAAAAADwPwAAAAAAABhAAAAAAAAAAAAAAAAAAAAAAAAAAAAAAAAAAAAAAAAAAAAAAAAAAADwPwAAAAAAACBAAAAAAAAAFEAAAAAAAAAAQAAAAAAAAAAAAAAAAAAA8D8AAAAAAAAAAAAAAAAAABRAAAAAAAAA8D8AAAAAAAAYQAAAAAAAAAAAAAAAAAAAAEAAAAAAAAAIQAAAAAAAAPA/AAAAAAAA8D8AAAAAAAAAQAAAAAAAABhAAAAAAAAAAAAAAAAAAADwPwAAAAAAgFBAAAAAAAAAMUA=",
                    "dtype": "f8"
                  },
                  "yaxis": "y"
                },
                {
                  "hovertemplate": "<b>OLS trendline</b><br>Ast = 0.347589 * Age + -4.47683<br>R<sup>2</sup>=0.030458<br><br>periodo=23-24<br>Age=%{x}<br>Ast=%{y} <b>(trend)</b><extra></extra>",
                  "legendgroup": "23-24",
                  "marker": {
                    "color": "#ec4899",
                    "symbol": "circle"
                  },
                  "mode": "lines",
                  "name": "23-24",
                  "showlegend": false,
                  "type": "scatter",
                  "x": {
                    "bdata": "AAAAAAAAMkAAAAAAAAAyQAAAAAAAADJAAAAAAAAAMkAAAAAAAAAyQAAAAAAAADNAAAAAAAAAM0AAAAAAAAAzQAAAAAAAADNAAAAAAAAAM0AAAAAAAAA0QAAAAAAAADRAAAAAAAAANUAAAAAAAAA1QAAAAAAAADVAAAAAAAAANUAAAAAAAAA2QAAAAAAAADdAAAAAAAAAN0AAAAAAAAA3QAAAAAAAADdAAAAAAAAAOEAAAAAAAAA4QAAAAAAAADlAAAAAAAAAOUAAAAAAAAA6QAAAAAAAADtAmpmZmZkZO0BmZmZmZmY7QAAAAAAAADxAAAAAAAAAPEAAAAAAAAA+QAAAAAAAAD9AAAAAAAAAP0AAAAAAAAA/QAAAAAAAAEBAAAAAAACAQEAAAAAAAIBAQAAAAAAAgEBAAAAAAACAQkA=",
                    "dtype": "f8"
                  },
                  "xaxis": "x",
                  "y": {
                    "bdata": "ZKt5mfV5/D9kq3mZ9Xn8P2SreZn1efw/ZKt5mfV5/D9kq3mZ9Xn8PyiFHovXBAFAKIUei9cEAUAohR6L1wQBQCiFHovXBAFAKIUei9cEAUCcNIBJtMwDQJw0gEm0zANAEOThB5GUBkAQ5OEHkZQGQBDk4QeRlAZAEOThB5GUBkCGk0PGbVwJQPxCpYRKJAxA/EKlhEokDED8QqWESiQMQPxCpYRKJAxAcPIGQyfsDkBw8gZDJ+wOQPJQtAAC2hBA8lC0AALaEECsKOVf8D0SQGgAFr/eoRNAlK9nlXbFE0AYvVwYPjAUQCLYRh7NBRVAIthGHs0FFUCYh6jcqc0XQFJf2TuYMRlAUl/ZO5gxGUBSX9k7mDEZQAw3CpuGlRpAxg47+nT5G0DGDjv6dPkbQMYOO/p0+RtA2DZ/O5fEIEA=",
                    "dtype": "f8"
                  },
                  "yaxis": "y"
                },
                {
                  "customdata": [
                    [
                      "Diego Aguado",
                      "24-25"
                    ],
                    [
                      "Lorenzo Aguado",
                      "24-25"
                    ],
                    [
                      "David Alaba",
                      "24-25"
                    ],
                    [
                      "Raúl Asencio",
                      "24-25"
                    ],
                    [
                      "Jude Bellingham",
                      "24-25"
                    ],
                    [
                      "Eduardo Camavinga",
                      "24-25"
                    ],
                    [
                      "Dani Carvajal",
                      "24-25"
                    ],
                    [
                      "Dani Ceballos",
                      "24-25"
                    ],
                    [
                      "Chema",
                      "24-25"
                    ],
                    [
                      "Thibaut Courtois",
                      "24-25"
                    ],
                    [
                      "Brahim Díaz",
                      "24-25"
                    ],
                    [
                      "Endrick",
                      "24-25"
                    ],
                    [
                      "Fran",
                      "24-25"
                    ],
                    [
                      "Fran Garcia",
                      "24-25"
                    ],
                    [
                      "Gonzalo García",
                      "24-25"
                    ],
                    [
                      "Arda Güler",
                      "24-25"
                    ],
                    [
                      "David Jiménez",
                      "24-25"
                    ],
                    [
                      "Vinicius Júnior",
                      "24-25"
                    ],
                    [
                      "Youssef Lekhedim",
                      "24-25"
                    ],
                    [
                      "Andriy Lunin",
                      "24-25"
                    ],
                    [
                      "Kylian Mbappé",
                      "24-25"
                    ],
                    [
                      "Ferland Mendy",
                      "24-25"
                    ],
                    [
                      "Sergio Mestre",
                      "24-25"
                    ],
                    [
                      "Éder Militão",
                      "24-25"
                    ],
                    [
                      "Luka Modrić",
                      "24-25"
                    ],
                    [
                      "Víctor Muñoz",
                      "24-25"
                    ],
                    [
                      "Jacobo Ramón",
                      "24-25"
                    ],
                    [
                      "Mario Rivas",
                      "24-25"
                    ],
                    [
                      "Rodrygo",
                      "24-25"
                    ],
                    [
                      "Antonio Rüdiger",
                      "24-25"
                    ],
                    [
                      "Aurélien Tchouaméni",
                      "24-25"
                    ],
                    [
                      "Victor Valdepeñas",
                      "24-25"
                    ],
                    [
                      "Jesús Vallejo",
                      "24-25"
                    ],
                    [
                      "Federico Valverde",
                      "24-25"
                    ],
                    [
                      "Lucas Vázquez",
                      "24-25"
                    ],
                    [
                      "Daniel Yáñez",
                      "24-25"
                    ],
                    [
                      "Squad Total",
                      "24-25"
                    ],
                    [
                      "Opponent Total",
                      "24-25"
                    ]
                  ],
                  "hovertemplate": "periodo=%{customdata[1]}<br>Age=%{x}<br>Ast=%{y}<br>MP=%{marker.size}<br>Player=%{customdata[0]}<extra></extra>",
                  "legendgroup": "24-25",
                  "marker": {
                    "color": "#f59e0b",
                    "size": {
                      "bdata": "AAIHFx8TCBcCHh8WAR8DHAAeAAciDgAMIwIDAB4dIAAEJCABJiY=",
                      "dtype": "i1"
                    },
                    "sizemode": "area",
                    "sizeref": 0.095,
                    "symbol": "circle"
                  },
                  "mode": "markers",
                  "name": "24-25",
                  "orientation": "v",
                  "showlegend": true,
                  "type": "scatter",
                  "x": {
                    "bdata": "AAAAAAAAMUAAAAAAAAA1QAAAAAAAAEBAAAAAAAAANUAAAAAAAAA1QAAAAAAAADVAAAAAAAAAQEAAAAAAAAA7QAAAAAAAADNAAAAAAAAAQEAAAAAAAAA4QAAAAAAAADJAAAAAAAAAM0AAAAAAAAA4QAAAAAAAADRAAAAAAAAAM0AAAAAAAAA0QAAAAAAAADhAAAAAAAAAMkAAAAAAAAA5QAAAAAAAADlAAAAAAAAAPUAAAAAAAAAzQAAAAAAAADpAAAAAAAAAQ0AAAAAAAAA1QAAAAAAAADNAAAAAAAAAMUAAAAAAAAA3QAAAAAAAAD9AAAAAAAAAOEAAAAAAAAAxQAAAAAAAADtAAAAAAAAAOkAAAAAAAIBAQAAAAAAAADFAmpmZmZmZOkAzMzMzM7M6QA==",
                    "dtype": "f8"
                  },
                  "xaxis": "x",
                  "y": {
                    "bdata": "AAAAAAAA8D8AAAAAAAAAAAAAAAAAAAAAAAAAAAAA8D8AAAAAAAAgQAAAAAAAAABAAAAAAAAAAAAAAAAAAAAAAAAAAAAAAAAAAAAAAAAAAAAAAAAAAAAAQAAAAAAAAAAAAAAAAAAAAAAAAAAAAAAAQAAAAAAAAPA/AAAAAAAAEEAAAAAAAADwPwAAAAAAACBAAAAAAAAA8D8AAAAAAADwPwAAAAAAAAhAAAAAAAAA8D8AAAAAAADwPwAAAAAAAPA/AAAAAAAAGEAAAAAAAAAAAAAAAAAAAAAAAAAAAAAA8D8AAAAAAAAUQAAAAAAAAAAAAAAAAAAAAAAAAAAAAADwPwAAAAAAAPA/AAAAAAAAEEAAAAAAAAAUQAAAAAAAAAAAAAAAAACAS0AAAAAAAAA7QA==",
                    "dtype": "f8"
                  },
                  "yaxis": "y"
                },
                {
                  "hovertemplate": "<b>OLS trendline</b><br>Ast = 0.301094 * Age + -3.36246<br>R<sup>2</sup>=0.027284<br><br>periodo=24-25<br>Age=%{x}<br>Ast=%{y} <b>(trend)</b><extra></extra>",
                  "legendgroup": "24-25",
                  "marker": {
                    "color": "#f59e0b",
                    "symbol": "circle"
                  },
                  "mode": "lines",
                  "name": "24-25",
                  "showlegend": false,
                  "type": "scatter",
                  "x": {
                    "bdata": "AAAAAAAAMUAAAAAAAAAxQAAAAAAAADFAAAAAAAAAMUAAAAAAAAAyQAAAAAAAADJAAAAAAAAAM0AAAAAAAAAzQAAAAAAAADNAAAAAAAAAM0AAAAAAAAAzQAAAAAAAADRAAAAAAAAANEAAAAAAAAA1QAAAAAAAADVAAAAAAAAANUAAAAAAAAA1QAAAAAAAADVAAAAAAAAAN0AAAAAAAAA4QAAAAAAAADhAAAAAAAAAOEAAAAAAAAA4QAAAAAAAADlAAAAAAAAAOUAAAAAAAAA6QAAAAAAAADpAmpmZmZmZOkAzMzMzM7M6QAAAAAAAADtAAAAAAAAAO0AAAAAAAAA9QAAAAAAAAD9AAAAAAAAAQEAAAAAAAABAQAAAAAAAAEBAAAAAAACAQEAAAAAAAABDQA==",
                    "dtype": "f8"
                  },
                  "xaxis": "x",
                  "y": {
                    "bdata": "nrpk5hsZ/D+eumTmGxn8P566ZOYbGfw/nrpk5hsZ/D9/YbbOMXUAQH9hts4xdQBAsWU6qtXdAkCxZTqq1d0CQLFlOqrV3QJAsWU6qtXdAkCxZTqq1d0CQOFpvoV5RgVA4Wm+hXlGBUATbkJhHa8HQBNuQmEdrwdAE25CYR2vB0ATbkJhHa8HQBNuQmEdrwdAdXZKGGWADECnes7zCOkOQKd6zvMI6Q5Ap3rO8wjpDkCnes7zCOkOQGw/qWfWqBBAbD+pZ9aoEECEQWtVKN0RQIRBa1Uo3RFAyEJ5SiaWEkD8QqZI+7QSQJ5DLUN6ERNAnkMtQ3oRE0DOR7EeHnoVQABMNfrB4hdAGE735xMXGUAYTvfnExcZQBhO9+cTFxlAMFC51WVLGkBWrUG9fyggQA==",
                    "dtype": "f8"
                  },
                  "yaxis": "y"
                }
              ],
              "layout": {
                "legend": {
                  "itemsizing": "constant",
                  "title": {
                    "text": "periodo"
                  },
                  "tracegroupgap": 0
                },
                "margin": {
                  "t": 60
                },
                "template": {
                  "data": {
                    "bar": [
                      {
                        "error_x": {
                          "color": "#2a3f5f"
                        },
                        "error_y": {
                          "color": "#2a3f5f"
                        },
                        "marker": {
                          "line": {
                            "color": "white",
                            "width": 0.5
                          },
                          "pattern": {
                            "fillmode": "overlay",
                            "size": 10,
                            "solidity": 0.2
                          }
                        },
                        "type": "bar"
                      }
                    ],
                    "barpolar": [
                      {
                        "marker": {
                          "line": {
                            "color": "white",
                            "width": 0.5
                          },
                          "pattern": {
                            "fillmode": "overlay",
                            "size": 10,
                            "solidity": 0.2
                          }
                        },
                        "type": "barpolar"
                      }
                    ],
                    "carpet": [
                      {
                        "aaxis": {
                          "endlinecolor": "#2a3f5f",
                          "gridcolor": "#C8D4E3",
                          "linecolor": "#C8D4E3",
                          "minorgridcolor": "#C8D4E3",
                          "startlinecolor": "#2a3f5f"
                        },
                        "baxis": {
                          "endlinecolor": "#2a3f5f",
                          "gridcolor": "#C8D4E3",
                          "linecolor": "#C8D4E3",
                          "minorgridcolor": "#C8D4E3",
                          "startlinecolor": "#2a3f5f"
                        },
                        "type": "carpet"
                      }
                    ],
                    "choropleth": [
                      {
                        "colorbar": {
                          "outlinewidth": 0,
                          "ticks": ""
                        },
                        "type": "choropleth"
                      }
                    ],
                    "contour": [
                      {
                        "colorbar": {
                          "outlinewidth": 0,
                          "ticks": ""
                        },
                        "colorscale": [
                          [
                            0,
                            "#0d0887"
                          ],
                          [
                            0.1111111111111111,
                            "#46039f"
                          ],
                          [
                            0.2222222222222222,
                            "#7201a8"
                          ],
                          [
                            0.3333333333333333,
                            "#9c179e"
                          ],
                          [
                            0.4444444444444444,
                            "#bd3786"
                          ],
                          [
                            0.5555555555555556,
                            "#d8576b"
                          ],
                          [
                            0.6666666666666666,
                            "#ed7953"
                          ],
                          [
                            0.7777777777777778,
                            "#fb9f3a"
                          ],
                          [
                            0.8888888888888888,
                            "#fdca26"
                          ],
                          [
                            1,
                            "#f0f921"
                          ]
                        ],
                        "type": "contour"
                      }
                    ],
                    "contourcarpet": [
                      {
                        "colorbar": {
                          "outlinewidth": 0,
                          "ticks": ""
                        },
                        "type": "contourcarpet"
                      }
                    ],
                    "heatmap": [
                      {
                        "colorbar": {
                          "outlinewidth": 0,
                          "ticks": ""
                        },
                        "colorscale": [
                          [
                            0,
                            "#0d0887"
                          ],
                          [
                            0.1111111111111111,
                            "#46039f"
                          ],
                          [
                            0.2222222222222222,
                            "#7201a8"
                          ],
                          [
                            0.3333333333333333,
                            "#9c179e"
                          ],
                          [
                            0.4444444444444444,
                            "#bd3786"
                          ],
                          [
                            0.5555555555555556,
                            "#d8576b"
                          ],
                          [
                            0.6666666666666666,
                            "#ed7953"
                          ],
                          [
                            0.7777777777777778,
                            "#fb9f3a"
                          ],
                          [
                            0.8888888888888888,
                            "#fdca26"
                          ],
                          [
                            1,
                            "#f0f921"
                          ]
                        ],
                        "type": "heatmap"
                      }
                    ],
                    "histogram": [
                      {
                        "marker": {
                          "pattern": {
                            "fillmode": "overlay",
                            "size": 10,
                            "solidity": 0.2
                          }
                        },
                        "type": "histogram"
                      }
                    ],
                    "histogram2d": [
                      {
                        "colorbar": {
                          "outlinewidth": 0,
                          "ticks": ""
                        },
                        "colorscale": [
                          [
                            0,
                            "#0d0887"
                          ],
                          [
                            0.1111111111111111,
                            "#46039f"
                          ],
                          [
                            0.2222222222222222,
                            "#7201a8"
                          ],
                          [
                            0.3333333333333333,
                            "#9c179e"
                          ],
                          [
                            0.4444444444444444,
                            "#bd3786"
                          ],
                          [
                            0.5555555555555556,
                            "#d8576b"
                          ],
                          [
                            0.6666666666666666,
                            "#ed7953"
                          ],
                          [
                            0.7777777777777778,
                            "#fb9f3a"
                          ],
                          [
                            0.8888888888888888,
                            "#fdca26"
                          ],
                          [
                            1,
                            "#f0f921"
                          ]
                        ],
                        "type": "histogram2d"
                      }
                    ],
                    "histogram2dcontour": [
                      {
                        "colorbar": {
                          "outlinewidth": 0,
                          "ticks": ""
                        },
                        "colorscale": [
                          [
                            0,
                            "#0d0887"
                          ],
                          [
                            0.1111111111111111,
                            "#46039f"
                          ],
                          [
                            0.2222222222222222,
                            "#7201a8"
                          ],
                          [
                            0.3333333333333333,
                            "#9c179e"
                          ],
                          [
                            0.4444444444444444,
                            "#bd3786"
                          ],
                          [
                            0.5555555555555556,
                            "#d8576b"
                          ],
                          [
                            0.6666666666666666,
                            "#ed7953"
                          ],
                          [
                            0.7777777777777778,
                            "#fb9f3a"
                          ],
                          [
                            0.8888888888888888,
                            "#fdca26"
                          ],
                          [
                            1,
                            "#f0f921"
                          ]
                        ],
                        "type": "histogram2dcontour"
                      }
                    ],
                    "mesh3d": [
                      {
                        "colorbar": {
                          "outlinewidth": 0,
                          "ticks": ""
                        },
                        "type": "mesh3d"
                      }
                    ],
                    "parcoords": [
                      {
                        "line": {
                          "colorbar": {
                            "outlinewidth": 0,
                            "ticks": ""
                          }
                        },
                        "type": "parcoords"
                      }
                    ],
                    "pie": [
                      {
                        "automargin": true,
                        "type": "pie"
                      }
                    ],
                    "scatter": [
                      {
                        "fillpattern": {
                          "fillmode": "overlay",
                          "size": 10,
                          "solidity": 0.2
                        },
                        "type": "scatter"
                      }
                    ],
                    "scatter3d": [
                      {
                        "line": {
                          "colorbar": {
                            "outlinewidth": 0,
                            "ticks": ""
                          }
                        },
                        "marker": {
                          "colorbar": {
                            "outlinewidth": 0,
                            "ticks": ""
                          }
                        },
                        "type": "scatter3d"
                      }
                    ],
                    "scattercarpet": [
                      {
                        "marker": {
                          "colorbar": {
                            "outlinewidth": 0,
                            "ticks": ""
                          }
                        },
                        "type": "scattercarpet"
                      }
                    ],
                    "scattergeo": [
                      {
                        "marker": {
                          "colorbar": {
                            "outlinewidth": 0,
                            "ticks": ""
                          }
                        },
                        "type": "scattergeo"
                      }
                    ],
                    "scattergl": [
                      {
                        "marker": {
                          "colorbar": {
                            "outlinewidth": 0,
                            "ticks": ""
                          }
                        },
                        "type": "scattergl"
                      }
                    ],
                    "scattermap": [
                      {
                        "marker": {
                          "colorbar": {
                            "outlinewidth": 0,
                            "ticks": ""
                          }
                        },
                        "type": "scattermap"
                      }
                    ],
                    "scattermapbox": [
                      {
                        "marker": {
                          "colorbar": {
                            "outlinewidth": 0,
                            "ticks": ""
                          }
                        },
                        "type": "scattermapbox"
                      }
                    ],
                    "scatterpolar": [
                      {
                        "marker": {
                          "colorbar": {
                            "outlinewidth": 0,
                            "ticks": ""
                          }
                        },
                        "type": "scatterpolar"
                      }
                    ],
                    "scatterpolargl": [
                      {
                        "marker": {
                          "colorbar": {
                            "outlinewidth": 0,
                            "ticks": ""
                          }
                        },
                        "type": "scatterpolargl"
                      }
                    ],
                    "scatterternary": [
                      {
                        "marker": {
                          "colorbar": {
                            "outlinewidth": 0,
                            "ticks": ""
                          }
                        },
                        "type": "scatterternary"
                      }
                    ],
                    "surface": [
                      {
                        "colorbar": {
                          "outlinewidth": 0,
                          "ticks": ""
                        },
                        "colorscale": [
                          [
                            0,
                            "#0d0887"
                          ],
                          [
                            0.1111111111111111,
                            "#46039f"
                          ],
                          [
                            0.2222222222222222,
                            "#7201a8"
                          ],
                          [
                            0.3333333333333333,
                            "#9c179e"
                          ],
                          [
                            0.4444444444444444,
                            "#bd3786"
                          ],
                          [
                            0.5555555555555556,
                            "#d8576b"
                          ],
                          [
                            0.6666666666666666,
                            "#ed7953"
                          ],
                          [
                            0.7777777777777778,
                            "#fb9f3a"
                          ],
                          [
                            0.8888888888888888,
                            "#fdca26"
                          ],
                          [
                            1,
                            "#f0f921"
                          ]
                        ],
                        "type": "surface"
                      }
                    ],
                    "table": [
                      {
                        "cells": {
                          "fill": {
                            "color": "#EBF0F8"
                          },
                          "line": {
                            "color": "white"
                          }
                        },
                        "header": {
                          "fill": {
                            "color": "#C8D4E3"
                          },
                          "line": {
                            "color": "white"
                          }
                        },
                        "type": "table"
                      }
                    ]
                  },
                  "layout": {
                    "annotationdefaults": {
                      "arrowcolor": "#2a3f5f",
                      "arrowhead": 0,
                      "arrowwidth": 1
                    },
                    "autotypenumbers": "strict",
                    "coloraxis": {
                      "colorbar": {
                        "outlinewidth": 0,
                        "ticks": ""
                      }
                    },
                    "colorscale": {
                      "diverging": [
                        [
                          0,
                          "#8e0152"
                        ],
                        [
                          0.1,
                          "#c51b7d"
                        ],
                        [
                          0.2,
                          "#de77ae"
                        ],
                        [
                          0.3,
                          "#f1b6da"
                        ],
                        [
                          0.4,
                          "#fde0ef"
                        ],
                        [
                          0.5,
                          "#f7f7f7"
                        ],
                        [
                          0.6,
                          "#e6f5d0"
                        ],
                        [
                          0.7,
                          "#b8e186"
                        ],
                        [
                          0.8,
                          "#7fbc41"
                        ],
                        [
                          0.9,
                          "#4d9221"
                        ],
                        [
                          1,
                          "#276419"
                        ]
                      ],
                      "sequential": [
                        [
                          0,
                          "#0d0887"
                        ],
                        [
                          0.1111111111111111,
                          "#46039f"
                        ],
                        [
                          0.2222222222222222,
                          "#7201a8"
                        ],
                        [
                          0.3333333333333333,
                          "#9c179e"
                        ],
                        [
                          0.4444444444444444,
                          "#bd3786"
                        ],
                        [
                          0.5555555555555556,
                          "#d8576b"
                        ],
                        [
                          0.6666666666666666,
                          "#ed7953"
                        ],
                        [
                          0.7777777777777778,
                          "#fb9f3a"
                        ],
                        [
                          0.8888888888888888,
                          "#fdca26"
                        ],
                        [
                          1,
                          "#f0f921"
                        ]
                      ],
                      "sequentialminus": [
                        [
                          0,
                          "#0d0887"
                        ],
                        [
                          0.1111111111111111,
                          "#46039f"
                        ],
                        [
                          0.2222222222222222,
                          "#7201a8"
                        ],
                        [
                          0.3333333333333333,
                          "#9c179e"
                        ],
                        [
                          0.4444444444444444,
                          "#bd3786"
                        ],
                        [
                          0.5555555555555556,
                          "#d8576b"
                        ],
                        [
                          0.6666666666666666,
                          "#ed7953"
                        ],
                        [
                          0.7777777777777778,
                          "#fb9f3a"
                        ],
                        [
                          0.8888888888888888,
                          "#fdca26"
                        ],
                        [
                          1,
                          "#f0f921"
                        ]
                      ]
                    },
                    "colorway": [
                      "#636efa",
                      "#EF553B",
                      "#00cc96",
                      "#ab63fa",
                      "#FFA15A",
                      "#19d3f3",
                      "#FF6692",
                      "#B6E880",
                      "#FF97FF",
                      "#FECB52"
                    ],
                    "font": {
                      "color": "#2a3f5f"
                    },
                    "geo": {
                      "bgcolor": "white",
                      "lakecolor": "white",
                      "landcolor": "white",
                      "showlakes": true,
                      "showland": true,
                      "subunitcolor": "#C8D4E3"
                    },
                    "hoverlabel": {
                      "align": "left"
                    },
                    "hovermode": "closest",
                    "mapbox": {
                      "style": "light"
                    },
                    "paper_bgcolor": "white",
                    "plot_bgcolor": "white",
                    "polar": {
                      "angularaxis": {
                        "gridcolor": "#EBF0F8",
                        "linecolor": "#EBF0F8",
                        "ticks": ""
                      },
                      "bgcolor": "white",
                      "radialaxis": {
                        "gridcolor": "#EBF0F8",
                        "linecolor": "#EBF0F8",
                        "ticks": ""
                      }
                    },
                    "scene": {
                      "xaxis": {
                        "backgroundcolor": "white",
                        "gridcolor": "#DFE8F3",
                        "gridwidth": 2,
                        "linecolor": "#EBF0F8",
                        "showbackground": true,
                        "ticks": "",
                        "zerolinecolor": "#EBF0F8"
                      },
                      "yaxis": {
                        "backgroundcolor": "white",
                        "gridcolor": "#DFE8F3",
                        "gridwidth": 2,
                        "linecolor": "#EBF0F8",
                        "showbackground": true,
                        "ticks": "",
                        "zerolinecolor": "#EBF0F8"
                      },
                      "zaxis": {
                        "backgroundcolor": "white",
                        "gridcolor": "#DFE8F3",
                        "gridwidth": 2,
                        "linecolor": "#EBF0F8",
                        "showbackground": true,
                        "ticks": "",
                        "zerolinecolor": "#EBF0F8"
                      }
                    },
                    "shapedefaults": {
                      "line": {
                        "color": "#2a3f5f"
                      }
                    },
                    "ternary": {
                      "aaxis": {
                        "gridcolor": "#DFE8F3",
                        "linecolor": "#A2B1C6",
                        "ticks": ""
                      },
                      "baxis": {
                        "gridcolor": "#DFE8F3",
                        "linecolor": "#A2B1C6",
                        "ticks": ""
                      },
                      "bgcolor": "white",
                      "caxis": {
                        "gridcolor": "#DFE8F3",
                        "linecolor": "#A2B1C6",
                        "ticks": ""
                      }
                    },
                    "title": {
                      "x": 0.05
                    },
                    "xaxis": {
                      "automargin": true,
                      "gridcolor": "#EBF0F8",
                      "linecolor": "#EBF0F8",
                      "ticks": "",
                      "title": {
                        "standoff": 15
                      },
                      "zerolinecolor": "#EBF0F8",
                      "zerolinewidth": 2
                    },
                    "yaxis": {
                      "automargin": true,
                      "gridcolor": "#EBF0F8",
                      "linecolor": "#EBF0F8",
                      "ticks": "",
                      "title": {
                        "standoff": 15
                      },
                      "zerolinecolor": "#EBF0F8",
                      "zerolinewidth": 2
                    }
                  }
                },
                "title": {
                  "text": "Edad vs Asistencias (Correlación: 0.16)"
                },
                "xaxis": {
                  "anchor": "y",
                  "domain": [
                    0,
                    1
                  ],
                  "title": {
                    "text": "Edad"
                  }
                },
                "yaxis": {
                  "anchor": "x",
                  "domain": [
                    0,
                    1
                  ],
                  "title": {
                    "text": "Asistencias"
                  }
                }
              }
            }
          },
          "metadata": {},
          "output_type": "display_data"
        }
      ],
      "source": [
        "# Edad vs Asistencias\n",
        "fig = px.scatter(df, x='Age', y='Ast', hover_data=['Player', 'periodo'],\n",
        "                size='MP', color='periodo', trendline='ols',\n",
        "                color_discrete_sequence=['#6366f1', '#8b5cf6', '#ec4899', '#f59e0b'])\n",
        "fig.update_layout(title=f'Edad vs Asistencias (Correlación: {df[\"Age\"].corr(df[\"Ast\"]):.2f})',\n",
        "                 xaxis_title='Edad', yaxis_title='Asistencias', template='plotly_white')\n",
        "fig.show()\n"
      ]
    },
    {
      "cell_type": "code",
      "execution_count": 101,
      "metadata": {},
      "outputs": [
        {
          "data": {
            "application/vnd.plotly.v1+json": {
              "config": {
                "plotlyServerURL": "https://plot.ly"
              },
              "data": [
                {
                  "coloraxis": "coloraxis",
                  "hovertemplate": "x: %{x}<br>y: %{y}<br>color: %{z}<extra></extra>",
                  "name": "0",
                  "texttemplate": "%{z:.3f}",
                  "type": "heatmap",
                  "x": [
                    "Age",
                    "Gls",
                    "Ast"
                  ],
                  "xaxis": "x",
                  "y": [
                    "Age",
                    "Gls",
                    "Ast"
                  ],
                  "yaxis": "y",
                  "z": {
                    "bdata": "AAAAAAAA8D//o7VcFj7BPzM+N5axA8Q//6O1XBY+wT8AAAAAAADwP74hi5w/wO4/Mz43lrEDxD++IYucP8DuPwAAAAAAAPA/",
                    "dtype": "f8",
                    "shape": "3, 3"
                  }
                }
              ],
              "layout": {
                "coloraxis": {
                  "colorscale": [
                    [
                      0,
                      "rgb(5,48,97)"
                    ],
                    [
                      0.1,
                      "rgb(33,102,172)"
                    ],
                    [
                      0.2,
                      "rgb(67,147,195)"
                    ],
                    [
                      0.3,
                      "rgb(146,197,222)"
                    ],
                    [
                      0.4,
                      "rgb(209,229,240)"
                    ],
                    [
                      0.5,
                      "rgb(247,247,247)"
                    ],
                    [
                      0.6,
                      "rgb(253,219,199)"
                    ],
                    [
                      0.7,
                      "rgb(244,165,130)"
                    ],
                    [
                      0.8,
                      "rgb(214,96,77)"
                    ],
                    [
                      0.9,
                      "rgb(178,24,43)"
                    ],
                    [
                      1,
                      "rgb(103,0,31)"
                    ]
                  ]
                },
                "height": 500,
                "margin": {
                  "t": 60
                },
                "template": {
                  "data": {
                    "bar": [
                      {
                        "error_x": {
                          "color": "#2a3f5f"
                        },
                        "error_y": {
                          "color": "#2a3f5f"
                        },
                        "marker": {
                          "line": {
                            "color": "white",
                            "width": 0.5
                          },
                          "pattern": {
                            "fillmode": "overlay",
                            "size": 10,
                            "solidity": 0.2
                          }
                        },
                        "type": "bar"
                      }
                    ],
                    "barpolar": [
                      {
                        "marker": {
                          "line": {
                            "color": "white",
                            "width": 0.5
                          },
                          "pattern": {
                            "fillmode": "overlay",
                            "size": 10,
                            "solidity": 0.2
                          }
                        },
                        "type": "barpolar"
                      }
                    ],
                    "carpet": [
                      {
                        "aaxis": {
                          "endlinecolor": "#2a3f5f",
                          "gridcolor": "#C8D4E3",
                          "linecolor": "#C8D4E3",
                          "minorgridcolor": "#C8D4E3",
                          "startlinecolor": "#2a3f5f"
                        },
                        "baxis": {
                          "endlinecolor": "#2a3f5f",
                          "gridcolor": "#C8D4E3",
                          "linecolor": "#C8D4E3",
                          "minorgridcolor": "#C8D4E3",
                          "startlinecolor": "#2a3f5f"
                        },
                        "type": "carpet"
                      }
                    ],
                    "choropleth": [
                      {
                        "colorbar": {
                          "outlinewidth": 0,
                          "ticks": ""
                        },
                        "type": "choropleth"
                      }
                    ],
                    "contour": [
                      {
                        "colorbar": {
                          "outlinewidth": 0,
                          "ticks": ""
                        },
                        "colorscale": [
                          [
                            0,
                            "#0d0887"
                          ],
                          [
                            0.1111111111111111,
                            "#46039f"
                          ],
                          [
                            0.2222222222222222,
                            "#7201a8"
                          ],
                          [
                            0.3333333333333333,
                            "#9c179e"
                          ],
                          [
                            0.4444444444444444,
                            "#bd3786"
                          ],
                          [
                            0.5555555555555556,
                            "#d8576b"
                          ],
                          [
                            0.6666666666666666,
                            "#ed7953"
                          ],
                          [
                            0.7777777777777778,
                            "#fb9f3a"
                          ],
                          [
                            0.8888888888888888,
                            "#fdca26"
                          ],
                          [
                            1,
                            "#f0f921"
                          ]
                        ],
                        "type": "contour"
                      }
                    ],
                    "contourcarpet": [
                      {
                        "colorbar": {
                          "outlinewidth": 0,
                          "ticks": ""
                        },
                        "type": "contourcarpet"
                      }
                    ],
                    "heatmap": [
                      {
                        "colorbar": {
                          "outlinewidth": 0,
                          "ticks": ""
                        },
                        "colorscale": [
                          [
                            0,
                            "#0d0887"
                          ],
                          [
                            0.1111111111111111,
                            "#46039f"
                          ],
                          [
                            0.2222222222222222,
                            "#7201a8"
                          ],
                          [
                            0.3333333333333333,
                            "#9c179e"
                          ],
                          [
                            0.4444444444444444,
                            "#bd3786"
                          ],
                          [
                            0.5555555555555556,
                            "#d8576b"
                          ],
                          [
                            0.6666666666666666,
                            "#ed7953"
                          ],
                          [
                            0.7777777777777778,
                            "#fb9f3a"
                          ],
                          [
                            0.8888888888888888,
                            "#fdca26"
                          ],
                          [
                            1,
                            "#f0f921"
                          ]
                        ],
                        "type": "heatmap"
                      }
                    ],
                    "histogram": [
                      {
                        "marker": {
                          "pattern": {
                            "fillmode": "overlay",
                            "size": 10,
                            "solidity": 0.2
                          }
                        },
                        "type": "histogram"
                      }
                    ],
                    "histogram2d": [
                      {
                        "colorbar": {
                          "outlinewidth": 0,
                          "ticks": ""
                        },
                        "colorscale": [
                          [
                            0,
                            "#0d0887"
                          ],
                          [
                            0.1111111111111111,
                            "#46039f"
                          ],
                          [
                            0.2222222222222222,
                            "#7201a8"
                          ],
                          [
                            0.3333333333333333,
                            "#9c179e"
                          ],
                          [
                            0.4444444444444444,
                            "#bd3786"
                          ],
                          [
                            0.5555555555555556,
                            "#d8576b"
                          ],
                          [
                            0.6666666666666666,
                            "#ed7953"
                          ],
                          [
                            0.7777777777777778,
                            "#fb9f3a"
                          ],
                          [
                            0.8888888888888888,
                            "#fdca26"
                          ],
                          [
                            1,
                            "#f0f921"
                          ]
                        ],
                        "type": "histogram2d"
                      }
                    ],
                    "histogram2dcontour": [
                      {
                        "colorbar": {
                          "outlinewidth": 0,
                          "ticks": ""
                        },
                        "colorscale": [
                          [
                            0,
                            "#0d0887"
                          ],
                          [
                            0.1111111111111111,
                            "#46039f"
                          ],
                          [
                            0.2222222222222222,
                            "#7201a8"
                          ],
                          [
                            0.3333333333333333,
                            "#9c179e"
                          ],
                          [
                            0.4444444444444444,
                            "#bd3786"
                          ],
                          [
                            0.5555555555555556,
                            "#d8576b"
                          ],
                          [
                            0.6666666666666666,
                            "#ed7953"
                          ],
                          [
                            0.7777777777777778,
                            "#fb9f3a"
                          ],
                          [
                            0.8888888888888888,
                            "#fdca26"
                          ],
                          [
                            1,
                            "#f0f921"
                          ]
                        ],
                        "type": "histogram2dcontour"
                      }
                    ],
                    "mesh3d": [
                      {
                        "colorbar": {
                          "outlinewidth": 0,
                          "ticks": ""
                        },
                        "type": "mesh3d"
                      }
                    ],
                    "parcoords": [
                      {
                        "line": {
                          "colorbar": {
                            "outlinewidth": 0,
                            "ticks": ""
                          }
                        },
                        "type": "parcoords"
                      }
                    ],
                    "pie": [
                      {
                        "automargin": true,
                        "type": "pie"
                      }
                    ],
                    "scatter": [
                      {
                        "fillpattern": {
                          "fillmode": "overlay",
                          "size": 10,
                          "solidity": 0.2
                        },
                        "type": "scatter"
                      }
                    ],
                    "scatter3d": [
                      {
                        "line": {
                          "colorbar": {
                            "outlinewidth": 0,
                            "ticks": ""
                          }
                        },
                        "marker": {
                          "colorbar": {
                            "outlinewidth": 0,
                            "ticks": ""
                          }
                        },
                        "type": "scatter3d"
                      }
                    ],
                    "scattercarpet": [
                      {
                        "marker": {
                          "colorbar": {
                            "outlinewidth": 0,
                            "ticks": ""
                          }
                        },
                        "type": "scattercarpet"
                      }
                    ],
                    "scattergeo": [
                      {
                        "marker": {
                          "colorbar": {
                            "outlinewidth": 0,
                            "ticks": ""
                          }
                        },
                        "type": "scattergeo"
                      }
                    ],
                    "scattergl": [
                      {
                        "marker": {
                          "colorbar": {
                            "outlinewidth": 0,
                            "ticks": ""
                          }
                        },
                        "type": "scattergl"
                      }
                    ],
                    "scattermap": [
                      {
                        "marker": {
                          "colorbar": {
                            "outlinewidth": 0,
                            "ticks": ""
                          }
                        },
                        "type": "scattermap"
                      }
                    ],
                    "scattermapbox": [
                      {
                        "marker": {
                          "colorbar": {
                            "outlinewidth": 0,
                            "ticks": ""
                          }
                        },
                        "type": "scattermapbox"
                      }
                    ],
                    "scatterpolar": [
                      {
                        "marker": {
                          "colorbar": {
                            "outlinewidth": 0,
                            "ticks": ""
                          }
                        },
                        "type": "scatterpolar"
                      }
                    ],
                    "scatterpolargl": [
                      {
                        "marker": {
                          "colorbar": {
                            "outlinewidth": 0,
                            "ticks": ""
                          }
                        },
                        "type": "scatterpolargl"
                      }
                    ],
                    "scatterternary": [
                      {
                        "marker": {
                          "colorbar": {
                            "outlinewidth": 0,
                            "ticks": ""
                          }
                        },
                        "type": "scatterternary"
                      }
                    ],
                    "surface": [
                      {
                        "colorbar": {
                          "outlinewidth": 0,
                          "ticks": ""
                        },
                        "colorscale": [
                          [
                            0,
                            "#0d0887"
                          ],
                          [
                            0.1111111111111111,
                            "#46039f"
                          ],
                          [
                            0.2222222222222222,
                            "#7201a8"
                          ],
                          [
                            0.3333333333333333,
                            "#9c179e"
                          ],
                          [
                            0.4444444444444444,
                            "#bd3786"
                          ],
                          [
                            0.5555555555555556,
                            "#d8576b"
                          ],
                          [
                            0.6666666666666666,
                            "#ed7953"
                          ],
                          [
                            0.7777777777777778,
                            "#fb9f3a"
                          ],
                          [
                            0.8888888888888888,
                            "#fdca26"
                          ],
                          [
                            1,
                            "#f0f921"
                          ]
                        ],
                        "type": "surface"
                      }
                    ],
                    "table": [
                      {
                        "cells": {
                          "fill": {
                            "color": "#EBF0F8"
                          },
                          "line": {
                            "color": "white"
                          }
                        },
                        "header": {
                          "fill": {
                            "color": "#C8D4E3"
                          },
                          "line": {
                            "color": "white"
                          }
                        },
                        "type": "table"
                      }
                    ]
                  },
                  "layout": {
                    "annotationdefaults": {
                      "arrowcolor": "#2a3f5f",
                      "arrowhead": 0,
                      "arrowwidth": 1
                    },
                    "autotypenumbers": "strict",
                    "coloraxis": {
                      "colorbar": {
                        "outlinewidth": 0,
                        "ticks": ""
                      }
                    },
                    "colorscale": {
                      "diverging": [
                        [
                          0,
                          "#8e0152"
                        ],
                        [
                          0.1,
                          "#c51b7d"
                        ],
                        [
                          0.2,
                          "#de77ae"
                        ],
                        [
                          0.3,
                          "#f1b6da"
                        ],
                        [
                          0.4,
                          "#fde0ef"
                        ],
                        [
                          0.5,
                          "#f7f7f7"
                        ],
                        [
                          0.6,
                          "#e6f5d0"
                        ],
                        [
                          0.7,
                          "#b8e186"
                        ],
                        [
                          0.8,
                          "#7fbc41"
                        ],
                        [
                          0.9,
                          "#4d9221"
                        ],
                        [
                          1,
                          "#276419"
                        ]
                      ],
                      "sequential": [
                        [
                          0,
                          "#0d0887"
                        ],
                        [
                          0.1111111111111111,
                          "#46039f"
                        ],
                        [
                          0.2222222222222222,
                          "#7201a8"
                        ],
                        [
                          0.3333333333333333,
                          "#9c179e"
                        ],
                        [
                          0.4444444444444444,
                          "#bd3786"
                        ],
                        [
                          0.5555555555555556,
                          "#d8576b"
                        ],
                        [
                          0.6666666666666666,
                          "#ed7953"
                        ],
                        [
                          0.7777777777777778,
                          "#fb9f3a"
                        ],
                        [
                          0.8888888888888888,
                          "#fdca26"
                        ],
                        [
                          1,
                          "#f0f921"
                        ]
                      ],
                      "sequentialminus": [
                        [
                          0,
                          "#0d0887"
                        ],
                        [
                          0.1111111111111111,
                          "#46039f"
                        ],
                        [
                          0.2222222222222222,
                          "#7201a8"
                        ],
                        [
                          0.3333333333333333,
                          "#9c179e"
                        ],
                        [
                          0.4444444444444444,
                          "#bd3786"
                        ],
                        [
                          0.5555555555555556,
                          "#d8576b"
                        ],
                        [
                          0.6666666666666666,
                          "#ed7953"
                        ],
                        [
                          0.7777777777777778,
                          "#fb9f3a"
                        ],
                        [
                          0.8888888888888888,
                          "#fdca26"
                        ],
                        [
                          1,
                          "#f0f921"
                        ]
                      ]
                    },
                    "colorway": [
                      "#636efa",
                      "#EF553B",
                      "#00cc96",
                      "#ab63fa",
                      "#FFA15A",
                      "#19d3f3",
                      "#FF6692",
                      "#B6E880",
                      "#FF97FF",
                      "#FECB52"
                    ],
                    "font": {
                      "color": "#2a3f5f"
                    },
                    "geo": {
                      "bgcolor": "white",
                      "lakecolor": "white",
                      "landcolor": "white",
                      "showlakes": true,
                      "showland": true,
                      "subunitcolor": "#C8D4E3"
                    },
                    "hoverlabel": {
                      "align": "left"
                    },
                    "hovermode": "closest",
                    "mapbox": {
                      "style": "light"
                    },
                    "paper_bgcolor": "white",
                    "plot_bgcolor": "white",
                    "polar": {
                      "angularaxis": {
                        "gridcolor": "#EBF0F8",
                        "linecolor": "#EBF0F8",
                        "ticks": ""
                      },
                      "bgcolor": "white",
                      "radialaxis": {
                        "gridcolor": "#EBF0F8",
                        "linecolor": "#EBF0F8",
                        "ticks": ""
                      }
                    },
                    "scene": {
                      "xaxis": {
                        "backgroundcolor": "white",
                        "gridcolor": "#DFE8F3",
                        "gridwidth": 2,
                        "linecolor": "#EBF0F8",
                        "showbackground": true,
                        "ticks": "",
                        "zerolinecolor": "#EBF0F8"
                      },
                      "yaxis": {
                        "backgroundcolor": "white",
                        "gridcolor": "#DFE8F3",
                        "gridwidth": 2,
                        "linecolor": "#EBF0F8",
                        "showbackground": true,
                        "ticks": "",
                        "zerolinecolor": "#EBF0F8"
                      },
                      "zaxis": {
                        "backgroundcolor": "white",
                        "gridcolor": "#DFE8F3",
                        "gridwidth": 2,
                        "linecolor": "#EBF0F8",
                        "showbackground": true,
                        "ticks": "",
                        "zerolinecolor": "#EBF0F8"
                      }
                    },
                    "shapedefaults": {
                      "line": {
                        "color": "#2a3f5f"
                      }
                    },
                    "ternary": {
                      "aaxis": {
                        "gridcolor": "#DFE8F3",
                        "linecolor": "#A2B1C6",
                        "ticks": ""
                      },
                      "baxis": {
                        "gridcolor": "#DFE8F3",
                        "linecolor": "#A2B1C6",
                        "ticks": ""
                      },
                      "bgcolor": "white",
                      "caxis": {
                        "gridcolor": "#DFE8F3",
                        "linecolor": "#A2B1C6",
                        "ticks": ""
                      }
                    },
                    "title": {
                      "x": 0.05
                    },
                    "xaxis": {
                      "automargin": true,
                      "gridcolor": "#EBF0F8",
                      "linecolor": "#EBF0F8",
                      "ticks": "",
                      "title": {
                        "standoff": 15
                      },
                      "zerolinecolor": "#EBF0F8",
                      "zerolinewidth": 2
                    },
                    "yaxis": {
                      "automargin": true,
                      "gridcolor": "#EBF0F8",
                      "linecolor": "#EBF0F8",
                      "ticks": "",
                      "title": {
                        "standoff": 15
                      },
                      "zerolinecolor": "#EBF0F8",
                      "zerolinewidth": 2
                    }
                  }
                },
                "title": {
                  "text": "Correlación: Edad, Goles y Asistencias"
                },
                "width": 500,
                "xaxis": {
                  "anchor": "y",
                  "domain": [
                    0,
                    1
                  ]
                },
                "yaxis": {
                  "anchor": "x",
                  "autorange": "reversed",
                  "domain": [
                    0,
                    1
                  ]
                }
              }
            }
          },
          "metadata": {},
          "output_type": "display_data"
        }
      ],
      "source": [
        "# Heatmap Edad-Goles-Asistencias\n",
        "fig = px.imshow(corr_edad, text_auto='.3f', color_continuous_scale='RdBu_r', aspect='auto')\n",
        "fig.update_layout(title='Correlación: Edad, Goles y Asistencias',\n",
        "                 template='plotly_white', height=500, width=500)\n",
        "fig.show()\n"
      ]
    }
  ],
  "metadata": {
    "language_info": {
      "name": "python"
    }
  },
  "nbformat": 4,
  "nbformat_minor": 2
}
