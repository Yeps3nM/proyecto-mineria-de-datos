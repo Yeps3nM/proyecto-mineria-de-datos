{
  "cells": [
    {
      "cell_type": "code",
      "execution_count": null,
      "metadata": {},
      "outputs": [
        {
          "name": "stdout",
          "output_type": "stream",
          "text": [
            "Note: you may need to restart the kernel to use updated packages.\n"
          ]
        }
      ],
      "source": [
        "%pip install nbformat openpyxl -q\n"
      ]
    },
    {
      "cell_type": "code",
      "execution_count": 72,
      "metadata": {},
      "outputs": [],
      "source": [
        "import pandas as pd\n",
        "import numpy as np\n",
        "import plotly.express as px\n",
        "import plotly.graph_objects as go\n",
        "from plotly.subplots import make_subplots\n",
        "from sklearn.preprocessing import StandardScaler\n",
        "from sklearn.decomposition import PCA\n",
        "import warnings\n",
        "warnings.filterwarnings('ignore')\n"
      ]
    },
    {
      "cell_type": "code",
      "execution_count": 116,
      "metadata": {},
      "outputs": [
        {
          "name": "stdout",
          "output_type": "stream",
          "text": [
            "Index(['Player', 'Nation', 'Pos', 'Age', 'MP', 'Starts', 'Min', '90s', 'Gls',\n",
            "       'Ast', 'G+A', 'G-PK', 'PK', 'PKatt', 'CrdY', 'CrdR', 'xG', 'npxG',\n",
            "       'xAG', 'npxG+xAG', 'PrgC', 'PrgP', 'PrgR', 'Gls.1', 'Ast.1', 'G+A.1',\n",
            "       'G-PK.1', 'G+A-PK', 'xG.1', 'xAG.1', 'xG+xAG', 'npxG.1', 'npxG+xAG.1',\n",
            "       'Matches', 'periodo'],\n",
            "      dtype='object')\n",
            "Index(['Player', 'Nation', 'Pos', 'Age', 'MP', 'Starts', 'Min', '90s', 'Gls',\n",
            "       'Ast', 'G+A', 'G-PK', 'PK', 'PKatt', 'CrdY', 'CrdR', 'xG', 'npxG',\n",
            "       'xAG', 'npxG+xAG', 'PrgC', 'PrgP', 'PrgR', 'Gls.1', 'Ast.1', 'G+A.1',\n",
            "       'G-PK.1', 'G+A-PK', 'xG.1', 'xAG.1', 'xG+xAG', 'npxG.1', 'npxG+xAG.1',\n",
            "       'Matches', 'periodo'],\n",
            "      dtype='object')\n",
            "Index(['Player', 'Nation', 'Pos', 'Age', 'MP', 'Starts', 'Min', '90s', 'Gls',\n",
            "       'Ast', 'G+A', 'G-PK', 'PK', 'PKatt', 'CrdY', 'CrdR', 'xG', 'npxG',\n",
            "       'xAG', 'npxG+xAG', 'PrgC', 'PrgP', 'PrgR', 'Gls.1', 'Ast.1', 'G+A.1',\n",
            "       'G-PK.1', 'G+A-PK', 'xG.1', 'xAG.1', 'xG+xAG', 'npxG.1', 'npxG+xAG.1',\n",
            "       'Matches', 'periodo'],\n",
            "      dtype='object')\n",
            "Index(['Player', 'Nation', 'Pos', 'Age', 'MP', 'Starts', 'Min', '90s', 'Gls',\n",
            "       'Ast', 'G+A', 'G-PK', 'PK', 'PKatt', 'CrdY', 'CrdR', 'xG', 'npxG',\n",
            "       'xAG', 'npxG+xAG', 'PrgC', 'PrgP', 'PrgR', 'Gls.1', 'Ast.1', 'G+A.1',\n",
            "       'G-PK.1', 'G+A-PK', 'xG.1', 'xAG.1', 'xG+xAG', 'npxG.1', 'npxG+xAG.1',\n",
            "       'Matches', 'periodo'],\n",
            "      dtype='object')\n"
          ]
        },
        {
          "data": {
            "text/html": [
              "<div>\n",
              "<style scoped>\n",
              "    .dataframe tbody tr th:only-of-type {\n",
              "        vertical-align: middle;\n",
              "    }\n",
              "\n",
              "    .dataframe tbody tr th {\n",
              "        vertical-align: top;\n",
              "    }\n",
              "\n",
              "    .dataframe thead th {\n",
              "        text-align: right;\n",
              "    }\n",
              "</style>\n",
              "<table border=\"1\" class=\"dataframe\">\n",
              "  <thead>\n",
              "    <tr style=\"text-align: right;\">\n",
              "      <th></th>\n",
              "      <th>Player</th>\n",
              "      <th>Nation</th>\n",
              "      <th>Pos</th>\n",
              "      <th>Age</th>\n",
              "      <th>MP</th>\n",
              "      <th>Starts</th>\n",
              "      <th>Min</th>\n",
              "      <th>90s</th>\n",
              "      <th>Gls</th>\n",
              "      <th>Ast</th>\n",
              "      <th>...</th>\n",
              "      <th>G+A.1</th>\n",
              "      <th>G-PK.1</th>\n",
              "      <th>G+A-PK</th>\n",
              "      <th>xG.1</th>\n",
              "      <th>xAG.1</th>\n",
              "      <th>xG+xAG</th>\n",
              "      <th>npxG.1</th>\n",
              "      <th>npxG+xAG.1</th>\n",
              "      <th>Matches</th>\n",
              "      <th>periodo</th>\n",
              "    </tr>\n",
              "  </thead>\n",
              "  <tbody>\n",
              "    <tr>\n",
              "      <th>0</th>\n",
              "      <td>David Alaba</td>\n",
              "      <td>at AUT</td>\n",
              "      <td>DF</td>\n",
              "      <td>29.0</td>\n",
              "      <td>30</td>\n",
              "      <td>30</td>\n",
              "      <td>2642.0</td>\n",
              "      <td>29.4</td>\n",
              "      <td>2.0</td>\n",
              "      <td>3.0</td>\n",
              "      <td>...</td>\n",
              "      <td>0.17</td>\n",
              "      <td>0.07</td>\n",
              "      <td>0.17</td>\n",
              "      <td>0.06</td>\n",
              "      <td>0.07</td>\n",
              "      <td>0.13</td>\n",
              "      <td>0.06</td>\n",
              "      <td>0.13</td>\n",
              "      <td>Matches</td>\n",
              "      <td>21-22</td>\n",
              "    </tr>\n",
              "    <tr>\n",
              "      <th>1</th>\n",
              "      <td>Marco Asensio</td>\n",
              "      <td>es ESP</td>\n",
              "      <td>FW,MF</td>\n",
              "      <td>25.0</td>\n",
              "      <td>31</td>\n",
              "      <td>19</td>\n",
              "      <td>1731.0</td>\n",
              "      <td>19.2</td>\n",
              "      <td>10.0</td>\n",
              "      <td>0.0</td>\n",
              "      <td>...</td>\n",
              "      <td>0.52</td>\n",
              "      <td>0.52</td>\n",
              "      <td>0.52</td>\n",
              "      <td>0.39</td>\n",
              "      <td>0.13</td>\n",
              "      <td>0.52</td>\n",
              "      <td>0.39</td>\n",
              "      <td>0.52</td>\n",
              "      <td>Matches</td>\n",
              "      <td>21-22</td>\n",
              "    </tr>\n",
              "    <tr>\n",
              "      <th>2</th>\n",
              "      <td>Gareth Bale</td>\n",
              "      <td>wls WAL</td>\n",
              "      <td>FW</td>\n",
              "      <td>32.0</td>\n",
              "      <td>5</td>\n",
              "      <td>4</td>\n",
              "      <td>280.0</td>\n",
              "      <td>3.1</td>\n",
              "      <td>1.0</td>\n",
              "      <td>0.0</td>\n",
              "      <td>...</td>\n",
              "      <td>0.32</td>\n",
              "      <td>0.32</td>\n",
              "      <td>0.32</td>\n",
              "      <td>0.39</td>\n",
              "      <td>0.03</td>\n",
              "      <td>0.42</td>\n",
              "      <td>0.39</td>\n",
              "      <td>0.42</td>\n",
              "      <td>Matches</td>\n",
              "      <td>21-22</td>\n",
              "    </tr>\n",
              "    <tr>\n",
              "      <th>3</th>\n",
              "      <td>Karim Benzema</td>\n",
              "      <td>fr FRA</td>\n",
              "      <td>FW</td>\n",
              "      <td>33.0</td>\n",
              "      <td>32</td>\n",
              "      <td>31</td>\n",
              "      <td>2593.0</td>\n",
              "      <td>28.8</td>\n",
              "      <td>27.0</td>\n",
              "      <td>12.0</td>\n",
              "      <td>...</td>\n",
              "      <td>1.35</td>\n",
              "      <td>0.69</td>\n",
              "      <td>1.11</td>\n",
              "      <td>0.83</td>\n",
              "      <td>0.28</td>\n",
              "      <td>1.10</td>\n",
              "      <td>0.52</td>\n",
              "      <td>0.80</td>\n",
              "      <td>Matches</td>\n",
              "      <td>21-22</td>\n",
              "    </tr>\n",
              "    <tr>\n",
              "      <th>4</th>\n",
              "      <td>Antonio Blanco</td>\n",
              "      <td>es ESP</td>\n",
              "      <td>MF</td>\n",
              "      <td>21.0</td>\n",
              "      <td>1</td>\n",
              "      <td>0</td>\n",
              "      <td>31.0</td>\n",
              "      <td>0.3</td>\n",
              "      <td>0.0</td>\n",
              "      <td>0.0</td>\n",
              "      <td>...</td>\n",
              "      <td>0.00</td>\n",
              "      <td>0.00</td>\n",
              "      <td>0.00</td>\n",
              "      <td>0.00</td>\n",
              "      <td>0.00</td>\n",
              "      <td>0.00</td>\n",
              "      <td>0.00</td>\n",
              "      <td>0.00</td>\n",
              "      <td>Matches</td>\n",
              "      <td>21-22</td>\n",
              "    </tr>\n",
              "    <tr>\n",
              "      <th>...</th>\n",
              "      <td>...</td>\n",
              "      <td>...</td>\n",
              "      <td>...</td>\n",
              "      <td>...</td>\n",
              "      <td>...</td>\n",
              "      <td>...</td>\n",
              "      <td>...</td>\n",
              "      <td>...</td>\n",
              "      <td>...</td>\n",
              "      <td>...</td>\n",
              "      <td>...</td>\n",
              "      <td>...</td>\n",
              "      <td>...</td>\n",
              "      <td>...</td>\n",
              "      <td>...</td>\n",
              "      <td>...</td>\n",
              "      <td>...</td>\n",
              "      <td>...</td>\n",
              "      <td>...</td>\n",
              "      <td>...</td>\n",
              "      <td>...</td>\n",
              "    </tr>\n",
              "    <tr>\n",
              "      <th>147</th>\n",
              "      <td>Federico Valverde</td>\n",
              "      <td>uy URU</td>\n",
              "      <td>MF,DF</td>\n",
              "      <td>26.0</td>\n",
              "      <td>36</td>\n",
              "      <td>34</td>\n",
              "      <td>3032.0</td>\n",
              "      <td>33.7</td>\n",
              "      <td>6.0</td>\n",
              "      <td>4.0</td>\n",
              "      <td>...</td>\n",
              "      <td>0.30</td>\n",
              "      <td>0.18</td>\n",
              "      <td>0.30</td>\n",
              "      <td>0.08</td>\n",
              "      <td>0.09</td>\n",
              "      <td>0.17</td>\n",
              "      <td>0.08</td>\n",
              "      <td>0.17</td>\n",
              "      <td>Matches</td>\n",
              "      <td>24-25</td>\n",
              "    </tr>\n",
              "    <tr>\n",
              "      <th>148</th>\n",
              "      <td>Lucas Vázquez</td>\n",
              "      <td>es ESP</td>\n",
              "      <td>DF</td>\n",
              "      <td>33.0</td>\n",
              "      <td>32</td>\n",
              "      <td>25</td>\n",
              "      <td>2189.0</td>\n",
              "      <td>24.3</td>\n",
              "      <td>1.0</td>\n",
              "      <td>5.0</td>\n",
              "      <td>...</td>\n",
              "      <td>0.25</td>\n",
              "      <td>0.04</td>\n",
              "      <td>0.25</td>\n",
              "      <td>0.06</td>\n",
              "      <td>0.19</td>\n",
              "      <td>0.25</td>\n",
              "      <td>0.06</td>\n",
              "      <td>0.25</td>\n",
              "      <td>Matches</td>\n",
              "      <td>24-25</td>\n",
              "    </tr>\n",
              "    <tr>\n",
              "      <th>149</th>\n",
              "      <td>Daniel Yáñez</td>\n",
              "      <td>es ESP</td>\n",
              "      <td>FW</td>\n",
              "      <td>17.0</td>\n",
              "      <td>1</td>\n",
              "      <td>0</td>\n",
              "      <td>2.0</td>\n",
              "      <td>0.0</td>\n",
              "      <td>0.0</td>\n",
              "      <td>0.0</td>\n",
              "      <td>...</td>\n",
              "      <td>0.00</td>\n",
              "      <td>0.00</td>\n",
              "      <td>0.00</td>\n",
              "      <td>0.00</td>\n",
              "      <td>0.00</td>\n",
              "      <td>0.00</td>\n",
              "      <td>0.00</td>\n",
              "      <td>0.00</td>\n",
              "      <td>Matches</td>\n",
              "      <td>24-25</td>\n",
              "    </tr>\n",
              "    <tr>\n",
              "      <th>150</th>\n",
              "      <td>Squad Total</td>\n",
              "      <td>NaN</td>\n",
              "      <td>NaN</td>\n",
              "      <td>26.6</td>\n",
              "      <td>38</td>\n",
              "      <td>418</td>\n",
              "      <td>342.0</td>\n",
              "      <td>38.0</td>\n",
              "      <td>78.0</td>\n",
              "      <td>55.0</td>\n",
              "      <td>...</td>\n",
              "      <td>3.50</td>\n",
              "      <td>1.79</td>\n",
              "      <td>3.24</td>\n",
              "      <td>1.98</td>\n",
              "      <td>1.44</td>\n",
              "      <td>3.42</td>\n",
              "      <td>1.70</td>\n",
              "      <td>3.13</td>\n",
              "      <td>NaN</td>\n",
              "      <td>24-25</td>\n",
              "    </tr>\n",
              "    <tr>\n",
              "      <th>151</th>\n",
              "      <td>Opponent Total</td>\n",
              "      <td>NaN</td>\n",
              "      <td>NaN</td>\n",
              "      <td>26.7</td>\n",
              "      <td>38</td>\n",
              "      <td>418</td>\n",
              "      <td>342.0</td>\n",
              "      <td>38.0</td>\n",
              "      <td>37.0</td>\n",
              "      <td>27.0</td>\n",
              "      <td>...</td>\n",
              "      <td>1.68</td>\n",
              "      <td>0.89</td>\n",
              "      <td>1.61</td>\n",
              "      <td>1.13</td>\n",
              "      <td>0.84</td>\n",
              "      <td>1.97</td>\n",
              "      <td>1.07</td>\n",
              "      <td>1.92</td>\n",
              "      <td>NaN</td>\n",
              "      <td>24-25</td>\n",
              "    </tr>\n",
              "  </tbody>\n",
              "</table>\n",
              "<p>152 rows × 35 columns</p>\n",
              "</div>"
            ],
            "text/plain": [
              "                Player   Nation    Pos   Age  MP  Starts     Min   90s   Gls  \\\n",
              "0          David Alaba   at AUT     DF  29.0  30      30  2642.0  29.4   2.0   \n",
              "1        Marco Asensio   es ESP  FW,MF  25.0  31      19  1731.0  19.2  10.0   \n",
              "2          Gareth Bale  wls WAL     FW  32.0   5       4   280.0   3.1   1.0   \n",
              "3        Karim Benzema   fr FRA     FW  33.0  32      31  2593.0  28.8  27.0   \n",
              "4       Antonio Blanco   es ESP     MF  21.0   1       0    31.0   0.3   0.0   \n",
              "..                 ...      ...    ...   ...  ..     ...     ...   ...   ...   \n",
              "147  Federico Valverde   uy URU  MF,DF  26.0  36      34  3032.0  33.7   6.0   \n",
              "148      Lucas Vázquez   es ESP     DF  33.0  32      25  2189.0  24.3   1.0   \n",
              "149       Daniel Yáñez   es ESP     FW  17.0   1       0     2.0   0.0   0.0   \n",
              "150        Squad Total      NaN    NaN  26.6  38     418   342.0  38.0  78.0   \n",
              "151     Opponent Total      NaN    NaN  26.7  38     418   342.0  38.0  37.0   \n",
              "\n",
              "      Ast  ...  G+A.1  G-PK.1  G+A-PK  xG.1  xAG.1  xG+xAG  npxG.1  \\\n",
              "0     3.0  ...   0.17    0.07    0.17  0.06   0.07    0.13    0.06   \n",
              "1     0.0  ...   0.52    0.52    0.52  0.39   0.13    0.52    0.39   \n",
              "2     0.0  ...   0.32    0.32    0.32  0.39   0.03    0.42    0.39   \n",
              "3    12.0  ...   1.35    0.69    1.11  0.83   0.28    1.10    0.52   \n",
              "4     0.0  ...   0.00    0.00    0.00  0.00   0.00    0.00    0.00   \n",
              "..    ...  ...    ...     ...     ...   ...    ...     ...     ...   \n",
              "147   4.0  ...   0.30    0.18    0.30  0.08   0.09    0.17    0.08   \n",
              "148   5.0  ...   0.25    0.04    0.25  0.06   0.19    0.25    0.06   \n",
              "149   0.0  ...   0.00    0.00    0.00  0.00   0.00    0.00    0.00   \n",
              "150  55.0  ...   3.50    1.79    3.24  1.98   1.44    3.42    1.70   \n",
              "151  27.0  ...   1.68    0.89    1.61  1.13   0.84    1.97    1.07   \n",
              "\n",
              "     npxG+xAG.1  Matches  periodo  \n",
              "0          0.13  Matches    21-22  \n",
              "1          0.52  Matches    21-22  \n",
              "2          0.42  Matches    21-22  \n",
              "3          0.80  Matches    21-22  \n",
              "4          0.00  Matches    21-22  \n",
              "..          ...      ...      ...  \n",
              "147        0.17  Matches    24-25  \n",
              "148        0.25  Matches    24-25  \n",
              "149        0.00  Matches    24-25  \n",
              "150        3.13      NaN    24-25  \n",
              "151        1.92      NaN    24-25  \n",
              "\n",
              "[152 rows x 35 columns]"
            ]
          },
          "execution_count": 116,
          "metadata": {},
          "output_type": "execute_result"
        }
      ],
      "source": [
        "# Cargar datasets\n",
        "files = ['datasets/rm_21_22.xlsx', 'datasets/rm_22_23.xlsx', 'datasets/rm_23_24.xlsx', 'datasets/rm_24_25.xlsx']\n",
        "dfs = []\n",
        "for f in files:\n",
        "    df = pd.read_excel(f)\n",
        "    df['periodo'] = f.split('_')[1] + '-' + f.split('_')[2].replace('.xlsx', '')\n",
        "    print(df.columns)\n",
        "    dfs.append(df)\n",
        "\n",
        "df = pd.concat(dfs, ignore_index=True)\n",
        "df\n"
      ]
    },
    {
      "cell_type": "code",
      "execution_count": 117,
      "metadata": {},
      "outputs": [
        {
          "data": {
            "text/plain": [
              "Index(['Player', 'Nation', 'Pos', 'Age', 'MP', 'Starts', 'Min', '90s', 'Gls',\n",
              "       'Ast', 'G+A', 'G-PK', 'PK', 'PKatt', 'CrdY', 'CrdR', 'xG', 'npxG',\n",
              "       'xAG', 'npxG+xAG', 'PrgC', 'PrgP', 'PrgR', 'Gls.1', 'Ast.1', 'G+A.1',\n",
              "       'G-PK.1', 'G+A-PK', 'xG.1', 'xAG.1', 'xG+xAG', 'npxG.1', 'npxG+xAG.1',\n",
              "       'Matches', 'periodo'],\n",
              "      dtype='object')"
            ]
          },
          "execution_count": 117,
          "metadata": {},
          "output_type": "execute_result"
        }
      ],
      "source": [
        "df.columns"
      ]
    },
    {
      "cell_type": "code",
      "execution_count": 118,
      "metadata": {},
      "outputs": [
        {
          "data": {
            "text/html": [
              "<div>\n",
              "<style scoped>\n",
              "    .dataframe tbody tr th:only-of-type {\n",
              "        vertical-align: middle;\n",
              "    }\n",
              "\n",
              "    .dataframe tbody tr th {\n",
              "        vertical-align: top;\n",
              "    }\n",
              "\n",
              "    .dataframe thead th {\n",
              "        text-align: right;\n",
              "    }\n",
              "</style>\n",
              "<table border=\"1\" class=\"dataframe\">\n",
              "  <thead>\n",
              "    <tr style=\"text-align: right;\">\n",
              "      <th></th>\n",
              "      <th>Player</th>\n",
              "      <th>Nation</th>\n",
              "      <th>Pos</th>\n",
              "      <th>Age</th>\n",
              "      <th>MP</th>\n",
              "      <th>Starts</th>\n",
              "      <th>Min</th>\n",
              "      <th>90s</th>\n",
              "      <th>Gls</th>\n",
              "      <th>Ast</th>\n",
              "      <th>...</th>\n",
              "      <th>G+A.1</th>\n",
              "      <th>G-PK.1</th>\n",
              "      <th>G+A-PK</th>\n",
              "      <th>xG.1</th>\n",
              "      <th>xAG.1</th>\n",
              "      <th>xG+xAG</th>\n",
              "      <th>npxG.1</th>\n",
              "      <th>npxG+xAG.1</th>\n",
              "      <th>Matches</th>\n",
              "      <th>periodo</th>\n",
              "    </tr>\n",
              "  </thead>\n",
              "  <tbody>\n",
              "    <tr>\n",
              "      <th>10</th>\n",
              "      <td>Toni Fuidias</td>\n",
              "      <td>es ESP</td>\n",
              "      <td>GK</td>\n",
              "      <td>20.0</td>\n",
              "      <td>0</td>\n",
              "      <td>0</td>\n",
              "      <td>NaN</td>\n",
              "      <td>NaN</td>\n",
              "      <td>NaN</td>\n",
              "      <td>NaN</td>\n",
              "      <td>...</td>\n",
              "      <td>NaN</td>\n",
              "      <td>NaN</td>\n",
              "      <td>NaN</td>\n",
              "      <td>NaN</td>\n",
              "      <td>NaN</td>\n",
              "      <td>NaN</td>\n",
              "      <td>NaN</td>\n",
              "      <td>NaN</td>\n",
              "      <td>Matches</td>\n",
              "      <td>21-22</td>\n",
              "    </tr>\n",
              "    <tr>\n",
              "      <th>20</th>\n",
              "      <td>Luis López</td>\n",
              "      <td>es ESP</td>\n",
              "      <td>GK</td>\n",
              "      <td>20.0</td>\n",
              "      <td>0</td>\n",
              "      <td>0</td>\n",
              "      <td>NaN</td>\n",
              "      <td>NaN</td>\n",
              "      <td>NaN</td>\n",
              "      <td>NaN</td>\n",
              "      <td>...</td>\n",
              "      <td>NaN</td>\n",
              "      <td>NaN</td>\n",
              "      <td>NaN</td>\n",
              "      <td>NaN</td>\n",
              "      <td>NaN</td>\n",
              "      <td>NaN</td>\n",
              "      <td>NaN</td>\n",
              "      <td>NaN</td>\n",
              "      <td>Matches</td>\n",
              "      <td>21-22</td>\n",
              "    </tr>\n",
              "    <tr>\n",
              "      <th>24</th>\n",
              "      <td>Rafa Marín</td>\n",
              "      <td>es ESP</td>\n",
              "      <td>DF</td>\n",
              "      <td>19.0</td>\n",
              "      <td>0</td>\n",
              "      <td>0</td>\n",
              "      <td>NaN</td>\n",
              "      <td>NaN</td>\n",
              "      <td>NaN</td>\n",
              "      <td>NaN</td>\n",
              "      <td>...</td>\n",
              "      <td>NaN</td>\n",
              "      <td>NaN</td>\n",
              "      <td>NaN</td>\n",
              "      <td>NaN</td>\n",
              "      <td>NaN</td>\n",
              "      <td>NaN</td>\n",
              "      <td>NaN</td>\n",
              "      <td>NaN</td>\n",
              "      <td>Matches</td>\n",
              "      <td>21-22</td>\n",
              "    </tr>\n",
              "    <tr>\n",
              "      <th>29</th>\n",
              "      <td>Álvaro Odriozola</td>\n",
              "      <td>es ESP</td>\n",
              "      <td>DF</td>\n",
              "      <td>25.0</td>\n",
              "      <td>0</td>\n",
              "      <td>0</td>\n",
              "      <td>NaN</td>\n",
              "      <td>NaN</td>\n",
              "      <td>NaN</td>\n",
              "      <td>NaN</td>\n",
              "      <td>...</td>\n",
              "      <td>NaN</td>\n",
              "      <td>NaN</td>\n",
              "      <td>NaN</td>\n",
              "      <td>NaN</td>\n",
              "      <td>NaN</td>\n",
              "      <td>NaN</td>\n",
              "      <td>NaN</td>\n",
              "      <td>NaN</td>\n",
              "      <td>Matches</td>\n",
              "      <td>21-22</td>\n",
              "    </tr>\n",
              "    <tr>\n",
              "      <th>30</th>\n",
              "      <td>Diego Piñeiro</td>\n",
              "      <td>es ESP</td>\n",
              "      <td>GK</td>\n",
              "      <td>17.0</td>\n",
              "      <td>0</td>\n",
              "      <td>0</td>\n",
              "      <td>NaN</td>\n",
              "      <td>NaN</td>\n",
              "      <td>NaN</td>\n",
              "      <td>NaN</td>\n",
              "      <td>...</td>\n",
              "      <td>NaN</td>\n",
              "      <td>NaN</td>\n",
              "      <td>NaN</td>\n",
              "      <td>NaN</td>\n",
              "      <td>NaN</td>\n",
              "      <td>NaN</td>\n",
              "      <td>NaN</td>\n",
              "      <td>NaN</td>\n",
              "      <td>Matches</td>\n",
              "      <td>21-22</td>\n",
              "    </tr>\n",
              "    <tr>\n",
              "      <th>36</th>\n",
              "      <td>Squad Total</td>\n",
              "      <td>NaN</td>\n",
              "      <td>NaN</td>\n",
              "      <td>27.7</td>\n",
              "      <td>38</td>\n",
              "      <td>418</td>\n",
              "      <td>342.0</td>\n",
              "      <td>38.0</td>\n",
              "      <td>80.0</td>\n",
              "      <td>59.0</td>\n",
              "      <td>...</td>\n",
              "      <td>3.66</td>\n",
              "      <td>1.89</td>\n",
              "      <td>3.45</td>\n",
              "      <td>1.89</td>\n",
              "      <td>1.33</td>\n",
              "      <td>3.22</td>\n",
              "      <td>1.64</td>\n",
              "      <td>2.97</td>\n",
              "      <td>NaN</td>\n",
              "      <td>21-22</td>\n",
              "    </tr>\n",
              "    <tr>\n",
              "      <th>37</th>\n",
              "      <td>Opponent Total</td>\n",
              "      <td>NaN</td>\n",
              "      <td>NaN</td>\n",
              "      <td>27.6</td>\n",
              "      <td>38</td>\n",
              "      <td>418</td>\n",
              "      <td>342.0</td>\n",
              "      <td>38.0</td>\n",
              "      <td>31.0</td>\n",
              "      <td>20.0</td>\n",
              "      <td>...</td>\n",
              "      <td>1.34</td>\n",
              "      <td>0.74</td>\n",
              "      <td>1.26</td>\n",
              "      <td>1.15</td>\n",
              "      <td>0.85</td>\n",
              "      <td>2.00</td>\n",
              "      <td>1.05</td>\n",
              "      <td>1.89</td>\n",
              "      <td>NaN</td>\n",
              "      <td>21-22</td>\n",
              "    </tr>\n",
              "    <tr>\n",
              "      <th>43</th>\n",
              "      <td>Lucas Cañizares</td>\n",
              "      <td>es ESP</td>\n",
              "      <td>GK</td>\n",
              "      <td>20.0</td>\n",
              "      <td>0</td>\n",
              "      <td>0</td>\n",
              "      <td>NaN</td>\n",
              "      <td>NaN</td>\n",
              "      <td>NaN</td>\n",
              "      <td>NaN</td>\n",
              "      <td>...</td>\n",
              "      <td>NaN</td>\n",
              "      <td>NaN</td>\n",
              "      <td>NaN</td>\n",
              "      <td>NaN</td>\n",
              "      <td>NaN</td>\n",
              "      <td>NaN</td>\n",
              "      <td>NaN</td>\n",
              "      <td>NaN</td>\n",
              "      <td>Matches</td>\n",
              "      <td>22-23</td>\n",
              "    </tr>\n",
              "    <tr>\n",
              "      <th>48</th>\n",
              "      <td>Carlos Dotor</td>\n",
              "      <td>es ESP</td>\n",
              "      <td>MF</td>\n",
              "      <td>21.0</td>\n",
              "      <td>0</td>\n",
              "      <td>0</td>\n",
              "      <td>NaN</td>\n",
              "      <td>NaN</td>\n",
              "      <td>NaN</td>\n",
              "      <td>NaN</td>\n",
              "      <td>...</td>\n",
              "      <td>NaN</td>\n",
              "      <td>NaN</td>\n",
              "      <td>NaN</td>\n",
              "      <td>NaN</td>\n",
              "      <td>NaN</td>\n",
              "      <td>NaN</td>\n",
              "      <td>NaN</td>\n",
              "      <td>NaN</td>\n",
              "      <td>Matches</td>\n",
              "      <td>22-23</td>\n",
              "    </tr>\n",
              "    <tr>\n",
              "      <th>49</th>\n",
              "      <td>Fran González</td>\n",
              "      <td>es ESP</td>\n",
              "      <td>DF</td>\n",
              "      <td>23.0</td>\n",
              "      <td>0</td>\n",
              "      <td>0</td>\n",
              "      <td>NaN</td>\n",
              "      <td>NaN</td>\n",
              "      <td>NaN</td>\n",
              "      <td>NaN</td>\n",
              "      <td>...</td>\n",
              "      <td>NaN</td>\n",
              "      <td>NaN</td>\n",
              "      <td>NaN</td>\n",
              "      <td>NaN</td>\n",
              "      <td>NaN</td>\n",
              "      <td>NaN</td>\n",
              "      <td>NaN</td>\n",
              "      <td>NaN</td>\n",
              "      <td>Matches</td>\n",
              "      <td>22-23</td>\n",
              "    </tr>\n",
              "    <tr>\n",
              "      <th>53</th>\n",
              "      <td>Luis López</td>\n",
              "      <td>es ESP</td>\n",
              "      <td>GK</td>\n",
              "      <td>21.0</td>\n",
              "      <td>0</td>\n",
              "      <td>0</td>\n",
              "      <td>NaN</td>\n",
              "      <td>NaN</td>\n",
              "      <td>NaN</td>\n",
              "      <td>NaN</td>\n",
              "      <td>...</td>\n",
              "      <td>NaN</td>\n",
              "      <td>NaN</td>\n",
              "      <td>NaN</td>\n",
              "      <td>NaN</td>\n",
              "      <td>NaN</td>\n",
              "      <td>NaN</td>\n",
              "      <td>NaN</td>\n",
              "      <td>NaN</td>\n",
              "      <td>Matches</td>\n",
              "      <td>22-23</td>\n",
              "    </tr>\n",
              "    <tr>\n",
              "      <th>54</th>\n",
              "      <td>Mario de Luis</td>\n",
              "      <td>es ESP</td>\n",
              "      <td>GK</td>\n",
              "      <td>20.0</td>\n",
              "      <td>0</td>\n",
              "      <td>0</td>\n",
              "      <td>NaN</td>\n",
              "      <td>NaN</td>\n",
              "      <td>NaN</td>\n",
              "      <td>NaN</td>\n",
              "      <td>...</td>\n",
              "      <td>NaN</td>\n",
              "      <td>NaN</td>\n",
              "      <td>NaN</td>\n",
              "      <td>NaN</td>\n",
              "      <td>NaN</td>\n",
              "      <td>NaN</td>\n",
              "      <td>NaN</td>\n",
              "      <td>NaN</td>\n",
              "      <td>Matches</td>\n",
              "      <td>22-23</td>\n",
              "    </tr>\n",
              "    <tr>\n",
              "      <th>57</th>\n",
              "      <td>Mario Martín</td>\n",
              "      <td>es ESP</td>\n",
              "      <td>MF</td>\n",
              "      <td>18.0</td>\n",
              "      <td>0</td>\n",
              "      <td>0</td>\n",
              "      <td>NaN</td>\n",
              "      <td>NaN</td>\n",
              "      <td>NaN</td>\n",
              "      <td>NaN</td>\n",
              "      <td>...</td>\n",
              "      <td>NaN</td>\n",
              "      <td>NaN</td>\n",
              "      <td>NaN</td>\n",
              "      <td>NaN</td>\n",
              "      <td>NaN</td>\n",
              "      <td>NaN</td>\n",
              "      <td>NaN</td>\n",
              "      <td>NaN</td>\n",
              "      <td>Matches</td>\n",
              "      <td>22-23</td>\n",
              "    </tr>\n",
              "    <tr>\n",
              "      <th>63</th>\n",
              "      <td>Nicolás Paz</td>\n",
              "      <td>ar ARG</td>\n",
              "      <td>MF</td>\n",
              "      <td>17.0</td>\n",
              "      <td>0</td>\n",
              "      <td>0</td>\n",
              "      <td>NaN</td>\n",
              "      <td>NaN</td>\n",
              "      <td>NaN</td>\n",
              "      <td>NaN</td>\n",
              "      <td>...</td>\n",
              "      <td>NaN</td>\n",
              "      <td>NaN</td>\n",
              "      <td>NaN</td>\n",
              "      <td>NaN</td>\n",
              "      <td>NaN</td>\n",
              "      <td>NaN</td>\n",
              "      <td>NaN</td>\n",
              "      <td>NaN</td>\n",
              "      <td>Matches</td>\n",
              "      <td>22-23</td>\n",
              "    </tr>\n",
              "    <tr>\n",
              "      <th>64</th>\n",
              "      <td>Diego Piñeiro</td>\n",
              "      <td>es ESP</td>\n",
              "      <td>GK</td>\n",
              "      <td>18.0</td>\n",
              "      <td>0</td>\n",
              "      <td>0</td>\n",
              "      <td>NaN</td>\n",
              "      <td>NaN</td>\n",
              "      <td>NaN</td>\n",
              "      <td>NaN</td>\n",
              "      <td>...</td>\n",
              "      <td>NaN</td>\n",
              "      <td>NaN</td>\n",
              "      <td>NaN</td>\n",
              "      <td>NaN</td>\n",
              "      <td>NaN</td>\n",
              "      <td>NaN</td>\n",
              "      <td>NaN</td>\n",
              "      <td>NaN</td>\n",
              "      <td>Matches</td>\n",
              "      <td>22-23</td>\n",
              "    </tr>\n",
              "    <tr>\n",
              "      <th>72</th>\n",
              "      <td>Squad Total</td>\n",
              "      <td>NaN</td>\n",
              "      <td>NaN</td>\n",
              "      <td>27.4</td>\n",
              "      <td>38</td>\n",
              "      <td>418</td>\n",
              "      <td>342.0</td>\n",
              "      <td>38.0</td>\n",
              "      <td>73.0</td>\n",
              "      <td>56.0</td>\n",
              "      <td>...</td>\n",
              "      <td>3.39</td>\n",
              "      <td>1.68</td>\n",
              "      <td>3.16</td>\n",
              "      <td>1.99</td>\n",
              "      <td>1.49</td>\n",
              "      <td>3.48</td>\n",
              "      <td>1.74</td>\n",
              "      <td>3.23</td>\n",
              "      <td>NaN</td>\n",
              "      <td>22-23</td>\n",
              "    </tr>\n",
              "    <tr>\n",
              "      <th>73</th>\n",
              "      <td>Opponent Total</td>\n",
              "      <td>NaN</td>\n",
              "      <td>NaN</td>\n",
              "      <td>27.3</td>\n",
              "      <td>38</td>\n",
              "      <td>418</td>\n",
              "      <td>342.0</td>\n",
              "      <td>38.0</td>\n",
              "      <td>35.0</td>\n",
              "      <td>21.0</td>\n",
              "      <td>...</td>\n",
              "      <td>1.47</td>\n",
              "      <td>0.82</td>\n",
              "      <td>1.37</td>\n",
              "      <td>1.02</td>\n",
              "      <td>0.73</td>\n",
              "      <td>1.76</td>\n",
              "      <td>0.92</td>\n",
              "      <td>1.65</td>\n",
              "      <td>NaN</td>\n",
              "      <td>22-23</td>\n",
              "    </tr>\n",
              "    <tr>\n",
              "      <th>74</th>\n",
              "      <td>Theo Zidane</td>\n",
              "      <td>fr FRA</td>\n",
              "      <td>MF</td>\n",
              "      <td>21.0</td>\n",
              "      <td>0</td>\n",
              "      <td>0</td>\n",
              "      <td>NaN</td>\n",
              "      <td>NaN</td>\n",
              "      <td>NaN</td>\n",
              "      <td>NaN</td>\n",
              "      <td>...</td>\n",
              "      <td>NaN</td>\n",
              "      <td>NaN</td>\n",
              "      <td>NaN</td>\n",
              "      <td>NaN</td>\n",
              "      <td>NaN</td>\n",
              "      <td>NaN</td>\n",
              "      <td>NaN</td>\n",
              "      <td>NaN</td>\n",
              "      <td>Matches</td>\n",
              "      <td>23-24</td>\n",
              "    </tr>\n",
              "    <tr>\n",
              "      <th>77</th>\n",
              "      <td>Vinicius Tobias</td>\n",
              "      <td>br BRA</td>\n",
              "      <td>DF</td>\n",
              "      <td>19.0</td>\n",
              "      <td>0</td>\n",
              "      <td>0</td>\n",
              "      <td>NaN</td>\n",
              "      <td>NaN</td>\n",
              "      <td>NaN</td>\n",
              "      <td>NaN</td>\n",
              "      <td>...</td>\n",
              "      <td>NaN</td>\n",
              "      <td>NaN</td>\n",
              "      <td>NaN</td>\n",
              "      <td>NaN</td>\n",
              "      <td>NaN</td>\n",
              "      <td>NaN</td>\n",
              "      <td>NaN</td>\n",
              "      <td>NaN</td>\n",
              "      <td>Matches</td>\n",
              "      <td>23-24</td>\n",
              "    </tr>\n",
              "    <tr>\n",
              "      <th>82</th>\n",
              "      <td>Jacobo Ramón</td>\n",
              "      <td>es ESP</td>\n",
              "      <td>DF</td>\n",
              "      <td>18.0</td>\n",
              "      <td>0</td>\n",
              "      <td>0</td>\n",
              "      <td>NaN</td>\n",
              "      <td>NaN</td>\n",
              "      <td>NaN</td>\n",
              "      <td>NaN</td>\n",
              "      <td>...</td>\n",
              "      <td>NaN</td>\n",
              "      <td>NaN</td>\n",
              "      <td>NaN</td>\n",
              "      <td>NaN</td>\n",
              "      <td>NaN</td>\n",
              "      <td>NaN</td>\n",
              "      <td>NaN</td>\n",
              "      <td>NaN</td>\n",
              "      <td>Matches</td>\n",
              "      <td>23-24</td>\n",
              "    </tr>\n",
              "    <tr>\n",
              "      <th>83</th>\n",
              "      <td>Edgar Pujol</td>\n",
              "      <td>do DOM</td>\n",
              "      <td>DF</td>\n",
              "      <td>18.0</td>\n",
              "      <td>0</td>\n",
              "      <td>0</td>\n",
              "      <td>NaN</td>\n",
              "      <td>NaN</td>\n",
              "      <td>NaN</td>\n",
              "      <td>NaN</td>\n",
              "      <td>...</td>\n",
              "      <td>NaN</td>\n",
              "      <td>NaN</td>\n",
              "      <td>NaN</td>\n",
              "      <td>NaN</td>\n",
              "      <td>NaN</td>\n",
              "      <td>NaN</td>\n",
              "      <td>NaN</td>\n",
              "      <td>NaN</td>\n",
              "      <td>Matches</td>\n",
              "      <td>23-24</td>\n",
              "    </tr>\n",
              "    <tr>\n",
              "      <th>84</th>\n",
              "      <td>Diego Piñeiro</td>\n",
              "      <td>es ESP</td>\n",
              "      <td>GK</td>\n",
              "      <td>19.0</td>\n",
              "      <td>0</td>\n",
              "      <td>0</td>\n",
              "      <td>NaN</td>\n",
              "      <td>NaN</td>\n",
              "      <td>NaN</td>\n",
              "      <td>NaN</td>\n",
              "      <td>...</td>\n",
              "      <td>NaN</td>\n",
              "      <td>NaN</td>\n",
              "      <td>NaN</td>\n",
              "      <td>NaN</td>\n",
              "      <td>NaN</td>\n",
              "      <td>NaN</td>\n",
              "      <td>NaN</td>\n",
              "      <td>NaN</td>\n",
              "      <td>Matches</td>\n",
              "      <td>23-24</td>\n",
              "    </tr>\n",
              "    <tr>\n",
              "      <th>86</th>\n",
              "      <td>Álvaro Odriozola</td>\n",
              "      <td>es ESP</td>\n",
              "      <td>DF</td>\n",
              "      <td>27.0</td>\n",
              "      <td>0</td>\n",
              "      <td>0</td>\n",
              "      <td>NaN</td>\n",
              "      <td>NaN</td>\n",
              "      <td>NaN</td>\n",
              "      <td>NaN</td>\n",
              "      <td>...</td>\n",
              "      <td>NaN</td>\n",
              "      <td>NaN</td>\n",
              "      <td>NaN</td>\n",
              "      <td>NaN</td>\n",
              "      <td>NaN</td>\n",
              "      <td>NaN</td>\n",
              "      <td>NaN</td>\n",
              "      <td>NaN</td>\n",
              "      <td>Matches</td>\n",
              "      <td>23-24</td>\n",
              "    </tr>\n",
              "    <tr>\n",
              "      <th>93</th>\n",
              "      <td>Mario de Luis</td>\n",
              "      <td>es ESP</td>\n",
              "      <td>GK</td>\n",
              "      <td>21.0</td>\n",
              "      <td>0</td>\n",
              "      <td>0</td>\n",
              "      <td>NaN</td>\n",
              "      <td>NaN</td>\n",
              "      <td>NaN</td>\n",
              "      <td>NaN</td>\n",
              "      <td>...</td>\n",
              "      <td>NaN</td>\n",
              "      <td>NaN</td>\n",
              "      <td>NaN</td>\n",
              "      <td>NaN</td>\n",
              "      <td>NaN</td>\n",
              "      <td>NaN</td>\n",
              "      <td>NaN</td>\n",
              "      <td>NaN</td>\n",
              "      <td>Matches</td>\n",
              "      <td>23-24</td>\n",
              "    </tr>\n",
              "    <tr>\n",
              "      <th>98</th>\n",
              "      <td>Fran González</td>\n",
              "      <td>es ESP</td>\n",
              "      <td>DF</td>\n",
              "      <td>24.0</td>\n",
              "      <td>0</td>\n",
              "      <td>0</td>\n",
              "      <td>NaN</td>\n",
              "      <td>NaN</td>\n",
              "      <td>NaN</td>\n",
              "      <td>NaN</td>\n",
              "      <td>...</td>\n",
              "      <td>NaN</td>\n",
              "      <td>NaN</td>\n",
              "      <td>NaN</td>\n",
              "      <td>NaN</td>\n",
              "      <td>NaN</td>\n",
              "      <td>NaN</td>\n",
              "      <td>NaN</td>\n",
              "      <td>NaN</td>\n",
              "      <td>Matches</td>\n",
              "      <td>23-24</td>\n",
              "    </tr>\n",
              "    <tr>\n",
              "      <th>101</th>\n",
              "      <td>Fran</td>\n",
              "      <td>es ESP</td>\n",
              "      <td>GK</td>\n",
              "      <td>18.0</td>\n",
              "      <td>0</td>\n",
              "      <td>0</td>\n",
              "      <td>NaN</td>\n",
              "      <td>NaN</td>\n",
              "      <td>NaN</td>\n",
              "      <td>NaN</td>\n",
              "      <td>...</td>\n",
              "      <td>NaN</td>\n",
              "      <td>NaN</td>\n",
              "      <td>NaN</td>\n",
              "      <td>NaN</td>\n",
              "      <td>NaN</td>\n",
              "      <td>NaN</td>\n",
              "      <td>NaN</td>\n",
              "      <td>NaN</td>\n",
              "      <td>Matches</td>\n",
              "      <td>23-24</td>\n",
              "    </tr>\n",
              "    <tr>\n",
              "      <th>106</th>\n",
              "      <td>Álvaro Carrillo</td>\n",
              "      <td>es ESP</td>\n",
              "      <td>DF</td>\n",
              "      <td>21.0</td>\n",
              "      <td>0</td>\n",
              "      <td>0</td>\n",
              "      <td>NaN</td>\n",
              "      <td>NaN</td>\n",
              "      <td>NaN</td>\n",
              "      <td>NaN</td>\n",
              "      <td>...</td>\n",
              "      <td>NaN</td>\n",
              "      <td>NaN</td>\n",
              "      <td>NaN</td>\n",
              "      <td>NaN</td>\n",
              "      <td>NaN</td>\n",
              "      <td>NaN</td>\n",
              "      <td>NaN</td>\n",
              "      <td>NaN</td>\n",
              "      <td>Matches</td>\n",
              "      <td>23-24</td>\n",
              "    </tr>\n",
              "    <tr>\n",
              "      <th>107</th>\n",
              "      <td>Lucas Cañizares</td>\n",
              "      <td>es ESP</td>\n",
              "      <td>GK</td>\n",
              "      <td>21.0</td>\n",
              "      <td>0</td>\n",
              "      <td>0</td>\n",
              "      <td>NaN</td>\n",
              "      <td>NaN</td>\n",
              "      <td>NaN</td>\n",
              "      <td>NaN</td>\n",
              "      <td>...</td>\n",
              "      <td>NaN</td>\n",
              "      <td>NaN</td>\n",
              "      <td>NaN</td>\n",
              "      <td>NaN</td>\n",
              "      <td>NaN</td>\n",
              "      <td>NaN</td>\n",
              "      <td>NaN</td>\n",
              "      <td>NaN</td>\n",
              "      <td>Matches</td>\n",
              "      <td>23-24</td>\n",
              "    </tr>\n",
              "    <tr>\n",
              "      <th>112</th>\n",
              "      <td>Squad Total</td>\n",
              "      <td>NaN</td>\n",
              "      <td>NaN</td>\n",
              "      <td>27.4</td>\n",
              "      <td>38</td>\n",
              "      <td>418</td>\n",
              "      <td>342.0</td>\n",
              "      <td>38.0</td>\n",
              "      <td>85.0</td>\n",
              "      <td>66.0</td>\n",
              "      <td>...</td>\n",
              "      <td>3.97</td>\n",
              "      <td>2.18</td>\n",
              "      <td>3.92</td>\n",
              "      <td>1.81</td>\n",
              "      <td>1.38</td>\n",
              "      <td>3.19</td>\n",
              "      <td>1.71</td>\n",
              "      <td>3.10</td>\n",
              "      <td>NaN</td>\n",
              "      <td>23-24</td>\n",
              "    </tr>\n",
              "    <tr>\n",
              "      <th>113</th>\n",
              "      <td>Opponent Total</td>\n",
              "      <td>NaN</td>\n",
              "      <td>NaN</td>\n",
              "      <td>27.1</td>\n",
              "      <td>38</td>\n",
              "      <td>418</td>\n",
              "      <td>342.0</td>\n",
              "      <td>38.0</td>\n",
              "      <td>25.0</td>\n",
              "      <td>17.0</td>\n",
              "      <td>...</td>\n",
              "      <td>1.11</td>\n",
              "      <td>0.63</td>\n",
              "      <td>1.08</td>\n",
              "      <td>0.93</td>\n",
              "      <td>0.69</td>\n",
              "      <td>1.63</td>\n",
              "      <td>0.91</td>\n",
              "      <td>1.61</td>\n",
              "      <td>NaN</td>\n",
              "      <td>23-24</td>\n",
              "    </tr>\n",
              "    <tr>\n",
              "      <th>114</th>\n",
              "      <td>Diego Aguado</td>\n",
              "      <td>es ESP</td>\n",
              "      <td>DF</td>\n",
              "      <td>17.0</td>\n",
              "      <td>0</td>\n",
              "      <td>0</td>\n",
              "      <td>NaN</td>\n",
              "      <td>NaN</td>\n",
              "      <td>NaN</td>\n",
              "      <td>NaN</td>\n",
              "      <td>...</td>\n",
              "      <td>NaN</td>\n",
              "      <td>NaN</td>\n",
              "      <td>NaN</td>\n",
              "      <td>NaN</td>\n",
              "      <td>NaN</td>\n",
              "      <td>NaN</td>\n",
              "      <td>NaN</td>\n",
              "      <td>NaN</td>\n",
              "      <td>Matches</td>\n",
              "      <td>24-25</td>\n",
              "    </tr>\n",
              "    <tr>\n",
              "      <th>130</th>\n",
              "      <td>David Jiménez</td>\n",
              "      <td>es ESP</td>\n",
              "      <td>DF</td>\n",
              "      <td>20.0</td>\n",
              "      <td>0</td>\n",
              "      <td>0</td>\n",
              "      <td>NaN</td>\n",
              "      <td>NaN</td>\n",
              "      <td>NaN</td>\n",
              "      <td>NaN</td>\n",
              "      <td>...</td>\n",
              "      <td>NaN</td>\n",
              "      <td>NaN</td>\n",
              "      <td>NaN</td>\n",
              "      <td>NaN</td>\n",
              "      <td>NaN</td>\n",
              "      <td>NaN</td>\n",
              "      <td>NaN</td>\n",
              "      <td>NaN</td>\n",
              "      <td>Matches</td>\n",
              "      <td>24-25</td>\n",
              "    </tr>\n",
              "    <tr>\n",
              "      <th>132</th>\n",
              "      <td>Youssef Lekhedim</td>\n",
              "      <td>es ESP</td>\n",
              "      <td>DF</td>\n",
              "      <td>18.0</td>\n",
              "      <td>0</td>\n",
              "      <td>0</td>\n",
              "      <td>NaN</td>\n",
              "      <td>NaN</td>\n",
              "      <td>NaN</td>\n",
              "      <td>NaN</td>\n",
              "      <td>...</td>\n",
              "      <td>NaN</td>\n",
              "      <td>NaN</td>\n",
              "      <td>NaN</td>\n",
              "      <td>NaN</td>\n",
              "      <td>NaN</td>\n",
              "      <td>NaN</td>\n",
              "      <td>NaN</td>\n",
              "      <td>NaN</td>\n",
              "      <td>Matches</td>\n",
              "      <td>24-25</td>\n",
              "    </tr>\n",
              "    <tr>\n",
              "      <th>136</th>\n",
              "      <td>Sergio Mestre</td>\n",
              "      <td>es ESP</td>\n",
              "      <td>GK</td>\n",
              "      <td>19.0</td>\n",
              "      <td>0</td>\n",
              "      <td>0</td>\n",
              "      <td>NaN</td>\n",
              "      <td>NaN</td>\n",
              "      <td>NaN</td>\n",
              "      <td>NaN</td>\n",
              "      <td>...</td>\n",
              "      <td>NaN</td>\n",
              "      <td>NaN</td>\n",
              "      <td>NaN</td>\n",
              "      <td>NaN</td>\n",
              "      <td>NaN</td>\n",
              "      <td>NaN</td>\n",
              "      <td>NaN</td>\n",
              "      <td>NaN</td>\n",
              "      <td>Matches</td>\n",
              "      <td>24-25</td>\n",
              "    </tr>\n",
              "    <tr>\n",
              "      <th>141</th>\n",
              "      <td>Mario Rivas</td>\n",
              "      <td>es ESP</td>\n",
              "      <td>DF</td>\n",
              "      <td>17.0</td>\n",
              "      <td>0</td>\n",
              "      <td>0</td>\n",
              "      <td>NaN</td>\n",
              "      <td>NaN</td>\n",
              "      <td>NaN</td>\n",
              "      <td>NaN</td>\n",
              "      <td>...</td>\n",
              "      <td>NaN</td>\n",
              "      <td>NaN</td>\n",
              "      <td>NaN</td>\n",
              "      <td>NaN</td>\n",
              "      <td>NaN</td>\n",
              "      <td>NaN</td>\n",
              "      <td>NaN</td>\n",
              "      <td>NaN</td>\n",
              "      <td>Matches</td>\n",
              "      <td>24-25</td>\n",
              "    </tr>\n",
              "    <tr>\n",
              "      <th>145</th>\n",
              "      <td>Victor Valdepeñas</td>\n",
              "      <td>es ESP</td>\n",
              "      <td>DF</td>\n",
              "      <td>17.0</td>\n",
              "      <td>0</td>\n",
              "      <td>0</td>\n",
              "      <td>NaN</td>\n",
              "      <td>NaN</td>\n",
              "      <td>NaN</td>\n",
              "      <td>NaN</td>\n",
              "      <td>...</td>\n",
              "      <td>NaN</td>\n",
              "      <td>NaN</td>\n",
              "      <td>NaN</td>\n",
              "      <td>NaN</td>\n",
              "      <td>NaN</td>\n",
              "      <td>NaN</td>\n",
              "      <td>NaN</td>\n",
              "      <td>NaN</td>\n",
              "      <td>Matches</td>\n",
              "      <td>24-25</td>\n",
              "    </tr>\n",
              "    <tr>\n",
              "      <th>150</th>\n",
              "      <td>Squad Total</td>\n",
              "      <td>NaN</td>\n",
              "      <td>NaN</td>\n",
              "      <td>26.6</td>\n",
              "      <td>38</td>\n",
              "      <td>418</td>\n",
              "      <td>342.0</td>\n",
              "      <td>38.0</td>\n",
              "      <td>78.0</td>\n",
              "      <td>55.0</td>\n",
              "      <td>...</td>\n",
              "      <td>3.50</td>\n",
              "      <td>1.79</td>\n",
              "      <td>3.24</td>\n",
              "      <td>1.98</td>\n",
              "      <td>1.44</td>\n",
              "      <td>3.42</td>\n",
              "      <td>1.70</td>\n",
              "      <td>3.13</td>\n",
              "      <td>NaN</td>\n",
              "      <td>24-25</td>\n",
              "    </tr>\n",
              "    <tr>\n",
              "      <th>151</th>\n",
              "      <td>Opponent Total</td>\n",
              "      <td>NaN</td>\n",
              "      <td>NaN</td>\n",
              "      <td>26.7</td>\n",
              "      <td>38</td>\n",
              "      <td>418</td>\n",
              "      <td>342.0</td>\n",
              "      <td>38.0</td>\n",
              "      <td>37.0</td>\n",
              "      <td>27.0</td>\n",
              "      <td>...</td>\n",
              "      <td>1.68</td>\n",
              "      <td>0.89</td>\n",
              "      <td>1.61</td>\n",
              "      <td>1.13</td>\n",
              "      <td>0.84</td>\n",
              "      <td>1.97</td>\n",
              "      <td>1.07</td>\n",
              "      <td>1.92</td>\n",
              "      <td>NaN</td>\n",
              "      <td>24-25</td>\n",
              "    </tr>\n",
              "  </tbody>\n",
              "</table>\n",
              "<p>38 rows × 35 columns</p>\n",
              "</div>"
            ],
            "text/plain": [
              "                Player  Nation  Pos   Age  MP  Starts    Min   90s   Gls  \\\n",
              "10        Toni Fuidias  es ESP   GK  20.0   0       0    NaN   NaN   NaN   \n",
              "20          Luis López  es ESP   GK  20.0   0       0    NaN   NaN   NaN   \n",
              "24          Rafa Marín  es ESP   DF  19.0   0       0    NaN   NaN   NaN   \n",
              "29    Álvaro Odriozola  es ESP   DF  25.0   0       0    NaN   NaN   NaN   \n",
              "30       Diego Piñeiro  es ESP   GK  17.0   0       0    NaN   NaN   NaN   \n",
              "36         Squad Total     NaN  NaN  27.7  38     418  342.0  38.0  80.0   \n",
              "37      Opponent Total     NaN  NaN  27.6  38     418  342.0  38.0  31.0   \n",
              "43     Lucas Cañizares  es ESP   GK  20.0   0       0    NaN   NaN   NaN   \n",
              "48        Carlos Dotor  es ESP   MF  21.0   0       0    NaN   NaN   NaN   \n",
              "49       Fran González  es ESP   DF  23.0   0       0    NaN   NaN   NaN   \n",
              "53          Luis López  es ESP   GK  21.0   0       0    NaN   NaN   NaN   \n",
              "54       Mario de Luis  es ESP   GK  20.0   0       0    NaN   NaN   NaN   \n",
              "57        Mario Martín  es ESP   MF  18.0   0       0    NaN   NaN   NaN   \n",
              "63         Nicolás Paz  ar ARG   MF  17.0   0       0    NaN   NaN   NaN   \n",
              "64       Diego Piñeiro  es ESP   GK  18.0   0       0    NaN   NaN   NaN   \n",
              "72         Squad Total     NaN  NaN  27.4  38     418  342.0  38.0  73.0   \n",
              "73      Opponent Total     NaN  NaN  27.3  38     418  342.0  38.0  35.0   \n",
              "74         Theo Zidane  fr FRA   MF  21.0   0       0    NaN   NaN   NaN   \n",
              "77     Vinicius Tobias  br BRA   DF  19.0   0       0    NaN   NaN   NaN   \n",
              "82        Jacobo Ramón  es ESP   DF  18.0   0       0    NaN   NaN   NaN   \n",
              "83         Edgar Pujol  do DOM   DF  18.0   0       0    NaN   NaN   NaN   \n",
              "84       Diego Piñeiro  es ESP   GK  19.0   0       0    NaN   NaN   NaN   \n",
              "86    Álvaro Odriozola  es ESP   DF  27.0   0       0    NaN   NaN   NaN   \n",
              "93       Mario de Luis  es ESP   GK  21.0   0       0    NaN   NaN   NaN   \n",
              "98       Fran González  es ESP   DF  24.0   0       0    NaN   NaN   NaN   \n",
              "101               Fran  es ESP   GK  18.0   0       0    NaN   NaN   NaN   \n",
              "106   Álvaro Carrillo  es ESP   DF  21.0   0       0    NaN   NaN   NaN   \n",
              "107    Lucas Cañizares  es ESP   GK  21.0   0       0    NaN   NaN   NaN   \n",
              "112        Squad Total     NaN  NaN  27.4  38     418  342.0  38.0  85.0   \n",
              "113     Opponent Total     NaN  NaN  27.1  38     418  342.0  38.0  25.0   \n",
              "114       Diego Aguado  es ESP   DF  17.0   0       0    NaN   NaN   NaN   \n",
              "130      David Jiménez  es ESP   DF  20.0   0       0    NaN   NaN   NaN   \n",
              "132   Youssef Lekhedim  es ESP   DF  18.0   0       0    NaN   NaN   NaN   \n",
              "136      Sergio Mestre  es ESP   GK  19.0   0       0    NaN   NaN   NaN   \n",
              "141        Mario Rivas  es ESP   DF  17.0   0       0    NaN   NaN   NaN   \n",
              "145  Victor Valdepeñas  es ESP   DF  17.0   0       0    NaN   NaN   NaN   \n",
              "150        Squad Total     NaN  NaN  26.6  38     418  342.0  38.0  78.0   \n",
              "151     Opponent Total     NaN  NaN  26.7  38     418  342.0  38.0  37.0   \n",
              "\n",
              "      Ast  ...  G+A.1  G-PK.1  G+A-PK  xG.1  xAG.1  xG+xAG  npxG.1  \\\n",
              "10    NaN  ...    NaN     NaN     NaN   NaN    NaN     NaN     NaN   \n",
              "20    NaN  ...    NaN     NaN     NaN   NaN    NaN     NaN     NaN   \n",
              "24    NaN  ...    NaN     NaN     NaN   NaN    NaN     NaN     NaN   \n",
              "29    NaN  ...    NaN     NaN     NaN   NaN    NaN     NaN     NaN   \n",
              "30    NaN  ...    NaN     NaN     NaN   NaN    NaN     NaN     NaN   \n",
              "36   59.0  ...   3.66    1.89    3.45  1.89   1.33    3.22    1.64   \n",
              "37   20.0  ...   1.34    0.74    1.26  1.15   0.85    2.00    1.05   \n",
              "43    NaN  ...    NaN     NaN     NaN   NaN    NaN     NaN     NaN   \n",
              "48    NaN  ...    NaN     NaN     NaN   NaN    NaN     NaN     NaN   \n",
              "49    NaN  ...    NaN     NaN     NaN   NaN    NaN     NaN     NaN   \n",
              "53    NaN  ...    NaN     NaN     NaN   NaN    NaN     NaN     NaN   \n",
              "54    NaN  ...    NaN     NaN     NaN   NaN    NaN     NaN     NaN   \n",
              "57    NaN  ...    NaN     NaN     NaN   NaN    NaN     NaN     NaN   \n",
              "63    NaN  ...    NaN     NaN     NaN   NaN    NaN     NaN     NaN   \n",
              "64    NaN  ...    NaN     NaN     NaN   NaN    NaN     NaN     NaN   \n",
              "72   56.0  ...   3.39    1.68    3.16  1.99   1.49    3.48    1.74   \n",
              "73   21.0  ...   1.47    0.82    1.37  1.02   0.73    1.76    0.92   \n",
              "74    NaN  ...    NaN     NaN     NaN   NaN    NaN     NaN     NaN   \n",
              "77    NaN  ...    NaN     NaN     NaN   NaN    NaN     NaN     NaN   \n",
              "82    NaN  ...    NaN     NaN     NaN   NaN    NaN     NaN     NaN   \n",
              "83    NaN  ...    NaN     NaN     NaN   NaN    NaN     NaN     NaN   \n",
              "84    NaN  ...    NaN     NaN     NaN   NaN    NaN     NaN     NaN   \n",
              "86    NaN  ...    NaN     NaN     NaN   NaN    NaN     NaN     NaN   \n",
              "93    NaN  ...    NaN     NaN     NaN   NaN    NaN     NaN     NaN   \n",
              "98    NaN  ...    NaN     NaN     NaN   NaN    NaN     NaN     NaN   \n",
              "101   NaN  ...    NaN     NaN     NaN   NaN    NaN     NaN     NaN   \n",
              "106   NaN  ...    NaN     NaN     NaN   NaN    NaN     NaN     NaN   \n",
              "107   NaN  ...    NaN     NaN     NaN   NaN    NaN     NaN     NaN   \n",
              "112  66.0  ...   3.97    2.18    3.92  1.81   1.38    3.19    1.71   \n",
              "113  17.0  ...   1.11    0.63    1.08  0.93   0.69    1.63    0.91   \n",
              "114   NaN  ...    NaN     NaN     NaN   NaN    NaN     NaN     NaN   \n",
              "130   NaN  ...    NaN     NaN     NaN   NaN    NaN     NaN     NaN   \n",
              "132   NaN  ...    NaN     NaN     NaN   NaN    NaN     NaN     NaN   \n",
              "136   NaN  ...    NaN     NaN     NaN   NaN    NaN     NaN     NaN   \n",
              "141   NaN  ...    NaN     NaN     NaN   NaN    NaN     NaN     NaN   \n",
              "145   NaN  ...    NaN     NaN     NaN   NaN    NaN     NaN     NaN   \n",
              "150  55.0  ...   3.50    1.79    3.24  1.98   1.44    3.42    1.70   \n",
              "151  27.0  ...   1.68    0.89    1.61  1.13   0.84    1.97    1.07   \n",
              "\n",
              "     npxG+xAG.1  Matches  periodo  \n",
              "10          NaN  Matches    21-22  \n",
              "20          NaN  Matches    21-22  \n",
              "24          NaN  Matches    21-22  \n",
              "29          NaN  Matches    21-22  \n",
              "30          NaN  Matches    21-22  \n",
              "36         2.97      NaN    21-22  \n",
              "37         1.89      NaN    21-22  \n",
              "43          NaN  Matches    22-23  \n",
              "48          NaN  Matches    22-23  \n",
              "49          NaN  Matches    22-23  \n",
              "53          NaN  Matches    22-23  \n",
              "54          NaN  Matches    22-23  \n",
              "57          NaN  Matches    22-23  \n",
              "63          NaN  Matches    22-23  \n",
              "64          NaN  Matches    22-23  \n",
              "72         3.23      NaN    22-23  \n",
              "73         1.65      NaN    22-23  \n",
              "74          NaN  Matches    23-24  \n",
              "77          NaN  Matches    23-24  \n",
              "82          NaN  Matches    23-24  \n",
              "83          NaN  Matches    23-24  \n",
              "84          NaN  Matches    23-24  \n",
              "86          NaN  Matches    23-24  \n",
              "93          NaN  Matches    23-24  \n",
              "98          NaN  Matches    23-24  \n",
              "101         NaN  Matches    23-24  \n",
              "106         NaN  Matches    23-24  \n",
              "107         NaN  Matches    23-24  \n",
              "112        3.10      NaN    23-24  \n",
              "113        1.61      NaN    23-24  \n",
              "114         NaN  Matches    24-25  \n",
              "130         NaN  Matches    24-25  \n",
              "132         NaN  Matches    24-25  \n",
              "136         NaN  Matches    24-25  \n",
              "141         NaN  Matches    24-25  \n",
              "145         NaN  Matches    24-25  \n",
              "150        3.13      NaN    24-25  \n",
              "151        1.92      NaN    24-25  \n",
              "\n",
              "[38 rows x 35 columns]"
            ]
          },
          "execution_count": 118,
          "metadata": {},
          "output_type": "execute_result"
        }
      ],
      "source": [
        "df_nan = df[df.isna().any(axis=1)].copy()\n",
        "df = df.dropna().drop_duplicates().copy()\n",
        "\n",
        "df_nan"
      ]
    },
    {
      "cell_type": "code",
      "execution_count": 119,
      "metadata": {},
      "outputs": [
        {
          "data": {
            "text/html": [
              "<div>\n",
              "<style scoped>\n",
              "    .dataframe tbody tr th:only-of-type {\n",
              "        vertical-align: middle;\n",
              "    }\n",
              "\n",
              "    .dataframe tbody tr th {\n",
              "        vertical-align: top;\n",
              "    }\n",
              "\n",
              "    .dataframe thead th {\n",
              "        text-align: right;\n",
              "    }\n",
              "</style>\n",
              "<table border=\"1\" class=\"dataframe\">\n",
              "  <thead>\n",
              "    <tr style=\"text-align: right;\">\n",
              "      <th></th>\n",
              "      <th>Player</th>\n",
              "      <th>Nation</th>\n",
              "      <th>Pos</th>\n",
              "      <th>Age</th>\n",
              "      <th>MP</th>\n",
              "      <th>Starts</th>\n",
              "      <th>Min</th>\n",
              "      <th>90s</th>\n",
              "      <th>Gls</th>\n",
              "      <th>Ast</th>\n",
              "      <th>...</th>\n",
              "      <th>G+A.1</th>\n",
              "      <th>G-PK.1</th>\n",
              "      <th>G+A-PK</th>\n",
              "      <th>xG.1</th>\n",
              "      <th>xAG.1</th>\n",
              "      <th>xG+xAG</th>\n",
              "      <th>npxG.1</th>\n",
              "      <th>npxG+xAG.1</th>\n",
              "      <th>Matches</th>\n",
              "      <th>periodo</th>\n",
              "    </tr>\n",
              "  </thead>\n",
              "  <tbody>\n",
              "    <tr>\n",
              "      <th>0</th>\n",
              "      <td>David Alaba</td>\n",
              "      <td>at AUT</td>\n",
              "      <td>DF</td>\n",
              "      <td>29.0</td>\n",
              "      <td>30</td>\n",
              "      <td>30</td>\n",
              "      <td>2642.0</td>\n",
              "      <td>29.4</td>\n",
              "      <td>2.0</td>\n",
              "      <td>3.0</td>\n",
              "      <td>...</td>\n",
              "      <td>0.17</td>\n",
              "      <td>0.07</td>\n",
              "      <td>0.17</td>\n",
              "      <td>0.06</td>\n",
              "      <td>0.07</td>\n",
              "      <td>0.13</td>\n",
              "      <td>0.06</td>\n",
              "      <td>0.13</td>\n",
              "      <td>Matches</td>\n",
              "      <td>21-22</td>\n",
              "    </tr>\n",
              "    <tr>\n",
              "      <th>1</th>\n",
              "      <td>Marco Asensio</td>\n",
              "      <td>es ESP</td>\n",
              "      <td>FW,MF</td>\n",
              "      <td>25.0</td>\n",
              "      <td>31</td>\n",
              "      <td>19</td>\n",
              "      <td>1731.0</td>\n",
              "      <td>19.2</td>\n",
              "      <td>10.0</td>\n",
              "      <td>0.0</td>\n",
              "      <td>...</td>\n",
              "      <td>0.52</td>\n",
              "      <td>0.52</td>\n",
              "      <td>0.52</td>\n",
              "      <td>0.39</td>\n",
              "      <td>0.13</td>\n",
              "      <td>0.52</td>\n",
              "      <td>0.39</td>\n",
              "      <td>0.52</td>\n",
              "      <td>Matches</td>\n",
              "      <td>21-22</td>\n",
              "    </tr>\n",
              "    <tr>\n",
              "      <th>2</th>\n",
              "      <td>Gareth Bale</td>\n",
              "      <td>wls WAL</td>\n",
              "      <td>FW</td>\n",
              "      <td>32.0</td>\n",
              "      <td>5</td>\n",
              "      <td>4</td>\n",
              "      <td>280.0</td>\n",
              "      <td>3.1</td>\n",
              "      <td>1.0</td>\n",
              "      <td>0.0</td>\n",
              "      <td>...</td>\n",
              "      <td>0.32</td>\n",
              "      <td>0.32</td>\n",
              "      <td>0.32</td>\n",
              "      <td>0.39</td>\n",
              "      <td>0.03</td>\n",
              "      <td>0.42</td>\n",
              "      <td>0.39</td>\n",
              "      <td>0.42</td>\n",
              "      <td>Matches</td>\n",
              "      <td>21-22</td>\n",
              "    </tr>\n",
              "    <tr>\n",
              "      <th>3</th>\n",
              "      <td>Karim Benzema</td>\n",
              "      <td>fr FRA</td>\n",
              "      <td>FW</td>\n",
              "      <td>33.0</td>\n",
              "      <td>32</td>\n",
              "      <td>31</td>\n",
              "      <td>2593.0</td>\n",
              "      <td>28.8</td>\n",
              "      <td>27.0</td>\n",
              "      <td>12.0</td>\n",
              "      <td>...</td>\n",
              "      <td>1.35</td>\n",
              "      <td>0.69</td>\n",
              "      <td>1.11</td>\n",
              "      <td>0.83</td>\n",
              "      <td>0.28</td>\n",
              "      <td>1.10</td>\n",
              "      <td>0.52</td>\n",
              "      <td>0.80</td>\n",
              "      <td>Matches</td>\n",
              "      <td>21-22</td>\n",
              "    </tr>\n",
              "    <tr>\n",
              "      <th>4</th>\n",
              "      <td>Antonio Blanco</td>\n",
              "      <td>es ESP</td>\n",
              "      <td>MF</td>\n",
              "      <td>21.0</td>\n",
              "      <td>1</td>\n",
              "      <td>0</td>\n",
              "      <td>31.0</td>\n",
              "      <td>0.3</td>\n",
              "      <td>0.0</td>\n",
              "      <td>0.0</td>\n",
              "      <td>...</td>\n",
              "      <td>0.00</td>\n",
              "      <td>0.00</td>\n",
              "      <td>0.00</td>\n",
              "      <td>0.00</td>\n",
              "      <td>0.00</td>\n",
              "      <td>0.00</td>\n",
              "      <td>0.00</td>\n",
              "      <td>0.00</td>\n",
              "      <td>Matches</td>\n",
              "      <td>21-22</td>\n",
              "    </tr>\n",
              "    <tr>\n",
              "      <th>...</th>\n",
              "      <td>...</td>\n",
              "      <td>...</td>\n",
              "      <td>...</td>\n",
              "      <td>...</td>\n",
              "      <td>...</td>\n",
              "      <td>...</td>\n",
              "      <td>...</td>\n",
              "      <td>...</td>\n",
              "      <td>...</td>\n",
              "      <td>...</td>\n",
              "      <td>...</td>\n",
              "      <td>...</td>\n",
              "      <td>...</td>\n",
              "      <td>...</td>\n",
              "      <td>...</td>\n",
              "      <td>...</td>\n",
              "      <td>...</td>\n",
              "      <td>...</td>\n",
              "      <td>...</td>\n",
              "      <td>...</td>\n",
              "      <td>...</td>\n",
              "    </tr>\n",
              "    <tr>\n",
              "      <th>144</th>\n",
              "      <td>Aurélien Tchouaméni</td>\n",
              "      <td>fr FRA</td>\n",
              "      <td>DF,MF</td>\n",
              "      <td>24.0</td>\n",
              "      <td>32</td>\n",
              "      <td>31</td>\n",
              "      <td>2689.0</td>\n",
              "      <td>29.9</td>\n",
              "      <td>0.0</td>\n",
              "      <td>0.0</td>\n",
              "      <td>...</td>\n",
              "      <td>0.00</td>\n",
              "      <td>0.00</td>\n",
              "      <td>0.00</td>\n",
              "      <td>0.06</td>\n",
              "      <td>0.02</td>\n",
              "      <td>0.07</td>\n",
              "      <td>0.06</td>\n",
              "      <td>0.07</td>\n",
              "      <td>Matches</td>\n",
              "      <td>24-25</td>\n",
              "    </tr>\n",
              "    <tr>\n",
              "      <th>146</th>\n",
              "      <td>Jesús Vallejo</td>\n",
              "      <td>es ESP</td>\n",
              "      <td>DF</td>\n",
              "      <td>27.0</td>\n",
              "      <td>4</td>\n",
              "      <td>1</td>\n",
              "      <td>138.0</td>\n",
              "      <td>1.5</td>\n",
              "      <td>0.0</td>\n",
              "      <td>1.0</td>\n",
              "      <td>...</td>\n",
              "      <td>0.65</td>\n",
              "      <td>0.00</td>\n",
              "      <td>0.65</td>\n",
              "      <td>0.00</td>\n",
              "      <td>0.08</td>\n",
              "      <td>0.08</td>\n",
              "      <td>0.00</td>\n",
              "      <td>0.08</td>\n",
              "      <td>Matches</td>\n",
              "      <td>24-25</td>\n",
              "    </tr>\n",
              "    <tr>\n",
              "      <th>147</th>\n",
              "      <td>Federico Valverde</td>\n",
              "      <td>uy URU</td>\n",
              "      <td>MF,DF</td>\n",
              "      <td>26.0</td>\n",
              "      <td>36</td>\n",
              "      <td>34</td>\n",
              "      <td>3032.0</td>\n",
              "      <td>33.7</td>\n",
              "      <td>6.0</td>\n",
              "      <td>4.0</td>\n",
              "      <td>...</td>\n",
              "      <td>0.30</td>\n",
              "      <td>0.18</td>\n",
              "      <td>0.30</td>\n",
              "      <td>0.08</td>\n",
              "      <td>0.09</td>\n",
              "      <td>0.17</td>\n",
              "      <td>0.08</td>\n",
              "      <td>0.17</td>\n",
              "      <td>Matches</td>\n",
              "      <td>24-25</td>\n",
              "    </tr>\n",
              "    <tr>\n",
              "      <th>148</th>\n",
              "      <td>Lucas Vázquez</td>\n",
              "      <td>es ESP</td>\n",
              "      <td>DF</td>\n",
              "      <td>33.0</td>\n",
              "      <td>32</td>\n",
              "      <td>25</td>\n",
              "      <td>2189.0</td>\n",
              "      <td>24.3</td>\n",
              "      <td>1.0</td>\n",
              "      <td>5.0</td>\n",
              "      <td>...</td>\n",
              "      <td>0.25</td>\n",
              "      <td>0.04</td>\n",
              "      <td>0.25</td>\n",
              "      <td>0.06</td>\n",
              "      <td>0.19</td>\n",
              "      <td>0.25</td>\n",
              "      <td>0.06</td>\n",
              "      <td>0.25</td>\n",
              "      <td>Matches</td>\n",
              "      <td>24-25</td>\n",
              "    </tr>\n",
              "    <tr>\n",
              "      <th>149</th>\n",
              "      <td>Daniel Yáñez</td>\n",
              "      <td>es ESP</td>\n",
              "      <td>FW</td>\n",
              "      <td>17.0</td>\n",
              "      <td>1</td>\n",
              "      <td>0</td>\n",
              "      <td>2.0</td>\n",
              "      <td>0.0</td>\n",
              "      <td>0.0</td>\n",
              "      <td>0.0</td>\n",
              "      <td>...</td>\n",
              "      <td>0.00</td>\n",
              "      <td>0.00</td>\n",
              "      <td>0.00</td>\n",
              "      <td>0.00</td>\n",
              "      <td>0.00</td>\n",
              "      <td>0.00</td>\n",
              "      <td>0.00</td>\n",
              "      <td>0.00</td>\n",
              "      <td>Matches</td>\n",
              "      <td>24-25</td>\n",
              "    </tr>\n",
              "  </tbody>\n",
              "</table>\n",
              "<p>114 rows × 35 columns</p>\n",
              "</div>"
            ],
            "text/plain": [
              "                  Player   Nation    Pos   Age  MP  Starts     Min   90s  \\\n",
              "0            David Alaba   at AUT     DF  29.0  30      30  2642.0  29.4   \n",
              "1          Marco Asensio   es ESP  FW,MF  25.0  31      19  1731.0  19.2   \n",
              "2            Gareth Bale  wls WAL     FW  32.0   5       4   280.0   3.1   \n",
              "3          Karim Benzema   fr FRA     FW  33.0  32      31  2593.0  28.8   \n",
              "4         Antonio Blanco   es ESP     MF  21.0   1       0    31.0   0.3   \n",
              "..                   ...      ...    ...   ...  ..     ...     ...   ...   \n",
              "144  Aurélien Tchouaméni   fr FRA  DF,MF  24.0  32      31  2689.0  29.9   \n",
              "146        Jesús Vallejo   es ESP     DF  27.0   4       1   138.0   1.5   \n",
              "147    Federico Valverde   uy URU  MF,DF  26.0  36      34  3032.0  33.7   \n",
              "148        Lucas Vázquez   es ESP     DF  33.0  32      25  2189.0  24.3   \n",
              "149         Daniel Yáñez   es ESP     FW  17.0   1       0     2.0   0.0   \n",
              "\n",
              "      Gls   Ast  ...  G+A.1  G-PK.1  G+A-PK  xG.1  xAG.1  xG+xAG  npxG.1  \\\n",
              "0     2.0   3.0  ...   0.17    0.07    0.17  0.06   0.07    0.13    0.06   \n",
              "1    10.0   0.0  ...   0.52    0.52    0.52  0.39   0.13    0.52    0.39   \n",
              "2     1.0   0.0  ...   0.32    0.32    0.32  0.39   0.03    0.42    0.39   \n",
              "3    27.0  12.0  ...   1.35    0.69    1.11  0.83   0.28    1.10    0.52   \n",
              "4     0.0   0.0  ...   0.00    0.00    0.00  0.00   0.00    0.00    0.00   \n",
              "..    ...   ...  ...    ...     ...     ...   ...    ...     ...     ...   \n",
              "144   0.0   0.0  ...   0.00    0.00    0.00  0.06   0.02    0.07    0.06   \n",
              "146   0.0   1.0  ...   0.65    0.00    0.65  0.00   0.08    0.08    0.00   \n",
              "147   6.0   4.0  ...   0.30    0.18    0.30  0.08   0.09    0.17    0.08   \n",
              "148   1.0   5.0  ...   0.25    0.04    0.25  0.06   0.19    0.25    0.06   \n",
              "149   0.0   0.0  ...   0.00    0.00    0.00  0.00   0.00    0.00    0.00   \n",
              "\n",
              "     npxG+xAG.1  Matches  periodo  \n",
              "0          0.13  Matches    21-22  \n",
              "1          0.52  Matches    21-22  \n",
              "2          0.42  Matches    21-22  \n",
              "3          0.80  Matches    21-22  \n",
              "4          0.00  Matches    21-22  \n",
              "..          ...      ...      ...  \n",
              "144        0.07  Matches    24-25  \n",
              "146        0.08  Matches    24-25  \n",
              "147        0.17  Matches    24-25  \n",
              "148        0.25  Matches    24-25  \n",
              "149        0.00  Matches    24-25  \n",
              "\n",
              "[114 rows x 35 columns]"
            ]
          },
          "execution_count": 119,
          "metadata": {},
          "output_type": "execute_result"
        }
      ],
      "source": [
        "df"
      ]
    },
    {
      "cell_type": "code",
      "execution_count": 120,
      "metadata": {},
      "outputs": [
        {
          "data": {
            "text/plain": [
              "array(['Matches'], dtype=object)"
            ]
          },
          "execution_count": 120,
          "metadata": {},
          "output_type": "execute_result"
        }
      ],
      "source": [
        "df[\"Matches\"].unique() # Hay que borrar"
      ]
    },
    {
      "cell_type": "code",
      "execution_count": 121,
      "metadata": {},
      "outputs": [
        {
          "data": {
            "text/plain": [
              "Index(['Player', 'Pos', 'Age', 'MP', 'Starts', 'Min', '90s', 'Gls', 'Ast',\n",
              "       'G+A', 'G-PK', 'PK', 'PKatt', 'CrdY', 'CrdR', 'xG', 'npxG', 'xAG',\n",
              "       'npxG+xAG', 'PrgC', 'PrgP', 'PrgR', 'Gls.1', 'Ast.1', 'G+A.1', 'G-PK.1',\n",
              "       'G+A-PK', 'xG.1', 'xAG.1', 'xG+xAG', 'npxG.1', 'npxG+xAG.1', 'periodo'],\n",
              "      dtype='object')"
            ]
          },
          "execution_count": 121,
          "metadata": {},
          "output_type": "execute_result"
        }
      ],
      "source": [
        "df.drop([\"Matches\", \"Nation\"], inplace=True, axis=1) # Nation no creo que sea etico, puede encontrar relacion entre razas mejores para el deporte xd\n",
        "df.columns"
      ]
    },
    {
      "cell_type": "code",
      "execution_count": 122,
      "metadata": {},
      "outputs": [
        {
          "data": {
            "text/plain": [
              "Index(['Player', 'Pos', 'Age', 'MP', 'Starts', 'Min', '90s', 'Gls', 'Ast',\n",
              "       'G+A', 'G-PK', 'PK', 'PKatt', 'CrdY', 'CrdR', 'xG', 'npxG', 'xAG',\n",
              "       'npxG+xAG', 'PrgC', 'PrgP', 'PrgR', 'Gls.1', 'Ast.1', 'G+A.1', 'G-PK.1',\n",
              "       'G+A-PK', 'xG.1', 'xAG.1', 'xG+xAG', 'npxG.1', 'npxG+xAG.1', 'periodo'],\n",
              "      dtype='object')"
            ]
          },
          "execution_count": 122,
          "metadata": {},
          "output_type": "execute_result"
        }
      ],
      "source": [
        "df.columns"
      ]
    },
    {
      "cell_type": "code",
      "execution_count": 123,
      "metadata": {},
      "outputs": [],
      "source": [
        "\n",
        "num_cols = df.select_dtypes(include=[np.number]).columns.tolist()\n",
        "cat_cols = df.select_dtypes(include=['object', 'category', 'bool']).columns.tolist()\n"
      ]
    },
    {
      "cell_type": "code",
      "execution_count": 124,
      "metadata": {},
      "outputs": [],
      "source": [
        "cat_cols # Hacerlo por player es mala idea\n",
        "cat_cols.remove('Player')\n",
        "cat_cols.remove('periodo')"
      ]
    },
    {
      "cell_type": "code",
      "execution_count": 125,
      "metadata": {},
      "outputs": [
        {
          "data": {
            "text/plain": [
              "['Pos']"
            ]
          },
          "execution_count": 125,
          "metadata": {},
          "output_type": "execute_result"
        }
      ],
      "source": [
        "cat_cols"
      ]
    },
    {
      "cell_type": "code",
      "execution_count": 126,
      "metadata": {},
      "outputs": [],
      "source": [
        "scaler = StandardScaler()\n",
        "df_num_scaled = pd.DataFrame(scaler.fit_transform(df[num_cols]), columns=num_cols, index=df.index)\n",
        "\n",
        "if len(cat_cols) > 0:\n",
        "    df_cat_dummies = pd.get_dummies(df[cat_cols], drop_first=False, dtype=int)\n",
        "else:\n",
        "    df_cat_dummies = pd.DataFrame(index=df.index)\n",
        "\n",
        "others = df.drop(columns=num_cols + cat_cols, errors='ignore')\n",
        "df_std = pd.concat([others, df_num_scaled, df_cat_dummies], axis=1)"
      ]
    },
    {
      "cell_type": "code",
      "execution_count": 127,
      "metadata": {},
      "outputs": [
        {
          "data": {
            "text/html": [
              "<div>\n",
              "<style scoped>\n",
              "    .dataframe tbody tr th:only-of-type {\n",
              "        vertical-align: middle;\n",
              "    }\n",
              "\n",
              "    .dataframe tbody tr th {\n",
              "        vertical-align: top;\n",
              "    }\n",
              "\n",
              "    .dataframe thead th {\n",
              "        text-align: right;\n",
              "    }\n",
              "</style>\n",
              "<table border=\"1\" class=\"dataframe\">\n",
              "  <thead>\n",
              "    <tr style=\"text-align: right;\">\n",
              "      <th></th>\n",
              "      <th>Player</th>\n",
              "      <th>periodo</th>\n",
              "      <th>Age</th>\n",
              "      <th>MP</th>\n",
              "      <th>Starts</th>\n",
              "      <th>Min</th>\n",
              "      <th>90s</th>\n",
              "      <th>Gls</th>\n",
              "      <th>Ast</th>\n",
              "      <th>G+A</th>\n",
              "      <th>...</th>\n",
              "      <th>npxG+xAG.1</th>\n",
              "      <th>Pos_DF</th>\n",
              "      <th>Pos_DF,MF</th>\n",
              "      <th>Pos_FW</th>\n",
              "      <th>Pos_FW,DF</th>\n",
              "      <th>Pos_FW,MF</th>\n",
              "      <th>Pos_GK</th>\n",
              "      <th>Pos_MF</th>\n",
              "      <th>Pos_MF,DF</th>\n",
              "      <th>Pos_MF,FW</th>\n",
              "    </tr>\n",
              "  </thead>\n",
              "  <tbody>\n",
              "    <tr>\n",
              "      <th>0</th>\n",
              "      <td>David Alaba</td>\n",
              "      <td>21-22</td>\n",
              "      <td>0.656422</td>\n",
              "      <td>0.796556</td>\n",
              "      <td>1.370430</td>\n",
              "      <td>1.562531</td>\n",
              "      <td>1.362587</td>\n",
              "      <td>-0.144840</td>\n",
              "      <td>0.349814</td>\n",
              "      <td>0.021857</td>\n",
              "      <td>...</td>\n",
              "      <td>-0.534696</td>\n",
              "      <td>1</td>\n",
              "      <td>0</td>\n",
              "      <td>0</td>\n",
              "      <td>0</td>\n",
              "      <td>0</td>\n",
              "      <td>0</td>\n",
              "      <td>0</td>\n",
              "      <td>0</td>\n",
              "      <td>0</td>\n",
              "    </tr>\n",
              "    <tr>\n",
              "      <th>1</th>\n",
              "      <td>Marco Asensio</td>\n",
              "      <td>21-22</td>\n",
              "      <td>-0.125114</td>\n",
              "      <td>0.877202</td>\n",
              "      <td>0.387295</td>\n",
              "      <td>0.614923</td>\n",
              "      <td>0.420659</td>\n",
              "      <td>1.356225</td>\n",
              "      <td>-0.778831</td>\n",
              "      <td>0.713998</td>\n",
              "      <td>...</td>\n",
              "      <td>0.572035</td>\n",
              "      <td>0</td>\n",
              "      <td>0</td>\n",
              "      <td>0</td>\n",
              "      <td>0</td>\n",
              "      <td>1</td>\n",
              "      <td>0</td>\n",
              "      <td>0</td>\n",
              "      <td>0</td>\n",
              "      <td>0</td>\n",
              "    </tr>\n",
              "    <tr>\n",
              "      <th>2</th>\n",
              "      <td>Gareth Bale</td>\n",
              "      <td>21-22</td>\n",
              "      <td>1.242574</td>\n",
              "      <td>-1.219594</td>\n",
              "      <td>-0.953342</td>\n",
              "      <td>-0.894386</td>\n",
              "      <td>-1.066108</td>\n",
              "      <td>-0.332473</td>\n",
              "      <td>-0.778831</td>\n",
              "      <td>-0.531856</td>\n",
              "      <td>...</td>\n",
              "      <td>0.288258</td>\n",
              "      <td>0</td>\n",
              "      <td>0</td>\n",
              "      <td>1</td>\n",
              "      <td>0</td>\n",
              "      <td>0</td>\n",
              "      <td>0</td>\n",
              "      <td>0</td>\n",
              "      <td>0</td>\n",
              "      <td>0</td>\n",
              "    </tr>\n",
              "    <tr>\n",
              "      <th>3</th>\n",
              "      <td>Karim Benzema</td>\n",
              "      <td>21-22</td>\n",
              "      <td>1.437958</td>\n",
              "      <td>0.957848</td>\n",
              "      <td>1.459805</td>\n",
              "      <td>1.511562</td>\n",
              "      <td>1.307179</td>\n",
              "      <td>4.545986</td>\n",
              "      <td>3.735750</td>\n",
              "      <td>4.728417</td>\n",
              "      <td>...</td>\n",
              "      <td>1.366611</td>\n",
              "      <td>0</td>\n",
              "      <td>0</td>\n",
              "      <td>1</td>\n",
              "      <td>0</td>\n",
              "      <td>0</td>\n",
              "      <td>0</td>\n",
              "      <td>0</td>\n",
              "      <td>0</td>\n",
              "      <td>0</td>\n",
              "    </tr>\n",
              "    <tr>\n",
              "      <th>4</th>\n",
              "      <td>Antonio Blanco</td>\n",
              "      <td>21-22</td>\n",
              "      <td>-0.906650</td>\n",
              "      <td>-1.542178</td>\n",
              "      <td>-1.310846</td>\n",
              "      <td>-1.153392</td>\n",
              "      <td>-1.324676</td>\n",
              "      <td>-0.520106</td>\n",
              "      <td>-0.778831</td>\n",
              "      <td>-0.670284</td>\n",
              "      <td>...</td>\n",
              "      <td>-0.903606</td>\n",
              "      <td>0</td>\n",
              "      <td>0</td>\n",
              "      <td>0</td>\n",
              "      <td>0</td>\n",
              "      <td>0</td>\n",
              "      <td>0</td>\n",
              "      <td>1</td>\n",
              "      <td>0</td>\n",
              "      <td>0</td>\n",
              "    </tr>\n",
              "    <tr>\n",
              "      <th>...</th>\n",
              "      <td>...</td>\n",
              "      <td>...</td>\n",
              "      <td>...</td>\n",
              "      <td>...</td>\n",
              "      <td>...</td>\n",
              "      <td>...</td>\n",
              "      <td>...</td>\n",
              "      <td>...</td>\n",
              "      <td>...</td>\n",
              "      <td>...</td>\n",
              "      <td>...</td>\n",
              "      <td>...</td>\n",
              "      <td>...</td>\n",
              "      <td>...</td>\n",
              "      <td>...</td>\n",
              "      <td>...</td>\n",
              "      <td>...</td>\n",
              "      <td>...</td>\n",
              "      <td>...</td>\n",
              "      <td>...</td>\n",
              "      <td>...</td>\n",
              "    </tr>\n",
              "    <tr>\n",
              "      <th>144</th>\n",
              "      <td>Aurélien Tchouaméni</td>\n",
              "      <td>24-25</td>\n",
              "      <td>-0.320498</td>\n",
              "      <td>0.957848</td>\n",
              "      <td>1.459805</td>\n",
              "      <td>1.611420</td>\n",
              "      <td>1.408760</td>\n",
              "      <td>-0.520106</td>\n",
              "      <td>-0.778831</td>\n",
              "      <td>-0.670284</td>\n",
              "      <td>...</td>\n",
              "      <td>-0.704962</td>\n",
              "      <td>0</td>\n",
              "      <td>1</td>\n",
              "      <td>0</td>\n",
              "      <td>0</td>\n",
              "      <td>0</td>\n",
              "      <td>0</td>\n",
              "      <td>0</td>\n",
              "      <td>0</td>\n",
              "      <td>0</td>\n",
              "    </tr>\n",
              "    <tr>\n",
              "      <th>146</th>\n",
              "      <td>Jesús Vallejo</td>\n",
              "      <td>24-25</td>\n",
              "      <td>0.265654</td>\n",
              "      <td>-1.300240</td>\n",
              "      <td>-1.221470</td>\n",
              "      <td>-1.042092</td>\n",
              "      <td>-1.213861</td>\n",
              "      <td>-0.520106</td>\n",
              "      <td>-0.402616</td>\n",
              "      <td>-0.531856</td>\n",
              "      <td>...</td>\n",
              "      <td>-0.676584</td>\n",
              "      <td>1</td>\n",
              "      <td>0</td>\n",
              "      <td>0</td>\n",
              "      <td>0</td>\n",
              "      <td>0</td>\n",
              "      <td>0</td>\n",
              "      <td>0</td>\n",
              "      <td>0</td>\n",
              "      <td>0</td>\n",
              "    </tr>\n",
              "    <tr>\n",
              "      <th>147</th>\n",
              "      <td>Federico Valverde</td>\n",
              "      <td>24-25</td>\n",
              "      <td>0.070270</td>\n",
              "      <td>1.280432</td>\n",
              "      <td>1.727933</td>\n",
              "      <td>1.968204</td>\n",
              "      <td>1.759674</td>\n",
              "      <td>0.605693</td>\n",
              "      <td>0.726029</td>\n",
              "      <td>0.713998</td>\n",
              "      <td>...</td>\n",
              "      <td>-0.421185</td>\n",
              "      <td>0</td>\n",
              "      <td>0</td>\n",
              "      <td>0</td>\n",
              "      <td>0</td>\n",
              "      <td>0</td>\n",
              "      <td>0</td>\n",
              "      <td>0</td>\n",
              "      <td>1</td>\n",
              "      <td>0</td>\n",
              "    </tr>\n",
              "    <tr>\n",
              "      <th>148</th>\n",
              "      <td>Lucas Vázquez</td>\n",
              "      <td>24-25</td>\n",
              "      <td>1.437958</td>\n",
              "      <td>0.957848</td>\n",
              "      <td>0.923550</td>\n",
              "      <td>1.091328</td>\n",
              "      <td>0.891623</td>\n",
              "      <td>-0.332473</td>\n",
              "      <td>1.102244</td>\n",
              "      <td>0.160285</td>\n",
              "      <td>...</td>\n",
              "      <td>-0.194163</td>\n",
              "      <td>1</td>\n",
              "      <td>0</td>\n",
              "      <td>0</td>\n",
              "      <td>0</td>\n",
              "      <td>0</td>\n",
              "      <td>0</td>\n",
              "      <td>0</td>\n",
              "      <td>0</td>\n",
              "      <td>0</td>\n",
              "    </tr>\n",
              "    <tr>\n",
              "      <th>149</th>\n",
              "      <td>Daniel Yáñez</td>\n",
              "      <td>24-25</td>\n",
              "      <td>-1.688186</td>\n",
              "      <td>-1.542178</td>\n",
              "      <td>-1.310846</td>\n",
              "      <td>-1.183557</td>\n",
              "      <td>-1.352380</td>\n",
              "      <td>-0.520106</td>\n",
              "      <td>-0.778831</td>\n",
              "      <td>-0.670284</td>\n",
              "      <td>...</td>\n",
              "      <td>-0.903606</td>\n",
              "      <td>0</td>\n",
              "      <td>0</td>\n",
              "      <td>1</td>\n",
              "      <td>0</td>\n",
              "      <td>0</td>\n",
              "      <td>0</td>\n",
              "      <td>0</td>\n",
              "      <td>0</td>\n",
              "      <td>0</td>\n",
              "    </tr>\n",
              "  </tbody>\n",
              "</table>\n",
              "<p>114 rows × 41 columns</p>\n",
              "</div>"
            ],
            "text/plain": [
              "                  Player periodo       Age        MP    Starts       Min  \\\n",
              "0            David Alaba   21-22  0.656422  0.796556  1.370430  1.562531   \n",
              "1          Marco Asensio   21-22 -0.125114  0.877202  0.387295  0.614923   \n",
              "2            Gareth Bale   21-22  1.242574 -1.219594 -0.953342 -0.894386   \n",
              "3          Karim Benzema   21-22  1.437958  0.957848  1.459805  1.511562   \n",
              "4         Antonio Blanco   21-22 -0.906650 -1.542178 -1.310846 -1.153392   \n",
              "..                   ...     ...       ...       ...       ...       ...   \n",
              "144  Aurélien Tchouaméni   24-25 -0.320498  0.957848  1.459805  1.611420   \n",
              "146        Jesús Vallejo   24-25  0.265654 -1.300240 -1.221470 -1.042092   \n",
              "147    Federico Valverde   24-25  0.070270  1.280432  1.727933  1.968204   \n",
              "148        Lucas Vázquez   24-25  1.437958  0.957848  0.923550  1.091328   \n",
              "149         Daniel Yáñez   24-25 -1.688186 -1.542178 -1.310846 -1.183557   \n",
              "\n",
              "          90s       Gls       Ast       G+A  ...  npxG+xAG.1  Pos_DF  \\\n",
              "0    1.362587 -0.144840  0.349814  0.021857  ...   -0.534696       1   \n",
              "1    0.420659  1.356225 -0.778831  0.713998  ...    0.572035       0   \n",
              "2   -1.066108 -0.332473 -0.778831 -0.531856  ...    0.288258       0   \n",
              "3    1.307179  4.545986  3.735750  4.728417  ...    1.366611       0   \n",
              "4   -1.324676 -0.520106 -0.778831 -0.670284  ...   -0.903606       0   \n",
              "..        ...       ...       ...       ...  ...         ...     ...   \n",
              "144  1.408760 -0.520106 -0.778831 -0.670284  ...   -0.704962       0   \n",
              "146 -1.213861 -0.520106 -0.402616 -0.531856  ...   -0.676584       1   \n",
              "147  1.759674  0.605693  0.726029  0.713998  ...   -0.421185       0   \n",
              "148  0.891623 -0.332473  1.102244  0.160285  ...   -0.194163       1   \n",
              "149 -1.352380 -0.520106 -0.778831 -0.670284  ...   -0.903606       0   \n",
              "\n",
              "     Pos_DF,MF  Pos_FW  Pos_FW,DF  Pos_FW,MF  Pos_GK  Pos_MF  Pos_MF,DF  \\\n",
              "0            0       0          0          0       0       0          0   \n",
              "1            0       0          0          1       0       0          0   \n",
              "2            0       1          0          0       0       0          0   \n",
              "3            0       1          0          0       0       0          0   \n",
              "4            0       0          0          0       0       1          0   \n",
              "..         ...     ...        ...        ...     ...     ...        ...   \n",
              "144          1       0          0          0       0       0          0   \n",
              "146          0       0          0          0       0       0          0   \n",
              "147          0       0          0          0       0       0          1   \n",
              "148          0       0          0          0       0       0          0   \n",
              "149          0       1          0          0       0       0          0   \n",
              "\n",
              "     Pos_MF,FW  \n",
              "0            0  \n",
              "1            0  \n",
              "2            0  \n",
              "3            0  \n",
              "4            0  \n",
              "..         ...  \n",
              "144          0  \n",
              "146          0  \n",
              "147          0  \n",
              "148          0  \n",
              "149          0  \n",
              "\n",
              "[114 rows x 41 columns]"
            ]
          },
          "execution_count": 127,
          "metadata": {},
          "output_type": "execute_result"
        }
      ],
      "source": [
        "df_std"
      ]
    },
    {
      "cell_type": "code",
      "execution_count": 129,
      "metadata": {},
      "outputs": [
        {
          "data": {
            "text/plain": [
              "Index(['Player', 'periodo', 'Age', 'MP', 'Starts', 'Min', '90s', 'Gls', 'Ast',\n",
              "       'G+A', 'G-PK', 'PK', 'PKatt', 'CrdY', 'CrdR', 'xG', 'npxG', 'xAG',\n",
              "       'npxG+xAG', 'PrgC', 'PrgP', 'PrgR', 'Gls.1', 'Ast.1', 'G+A.1', 'G-PK.1',\n",
              "       'G+A-PK', 'xG.1', 'xAG.1', 'xG+xAG', 'npxG.1', 'npxG+xAG.1', 'Pos_DF',\n",
              "       'Pos_DF,MF', 'Pos_FW', 'Pos_FW,DF', 'Pos_FW,MF', 'Pos_GK', 'Pos_MF',\n",
              "       'Pos_MF,DF', 'Pos_MF,FW'],\n",
              "      dtype='object')"
            ]
          },
          "execution_count": 129,
          "metadata": {},
          "output_type": "execute_result"
        }
      ],
      "source": [
        "df_std.columns"
      ]
    },
    {
      "cell_type": "code",
      "execution_count": 131,
      "metadata": {},
      "outputs": [
        {
          "data": {
            "application/vnd.plotly.v1+json": {
              "config": {
                "plotlyServerURL": "https://plot.ly"
              },
              "data": [
                {
                  "hovertemplate": "periodo=24-25<br>Player=%{x}<br>Gls=%{y}<extra></extra>",
                  "legendgroup": "24-25",
                  "marker": {
                    "color": "#6366f1",
                    "pattern": {
                      "shape": ""
                    }
                  },
                  "name": "24-25",
                  "orientation": "v",
                  "showlegend": true,
                  "textposition": "auto",
                  "type": "bar",
                  "x": [
                    "Kylian Mbappé",
                    "Vinicius Júnior"
                  ],
                  "xaxis": "x",
                  "y": {
                    "bdata": "AAAAAAAAP0AAAAAAAAAmQA==",
                    "dtype": "f8"
                  },
                  "yaxis": "y"
                },
                {
                  "hovertemplate": "periodo=21-22<br>Player=%{x}<br>Gls=%{y}<extra></extra>",
                  "legendgroup": "21-22",
                  "marker": {
                    "color": "#8b5cf6",
                    "pattern": {
                      "shape": ""
                    }
                  },
                  "name": "21-22",
                  "orientation": "v",
                  "showlegend": true,
                  "textposition": "auto",
                  "type": "bar",
                  "x": [
                    "Karim Benzema",
                    "Vinicius Júnior",
                    "Marco Asensio"
                  ],
                  "xaxis": "x",
                  "y": {
                    "bdata": "AAAAAAAAO0AAAAAAAAAxQAAAAAAAACRA",
                    "dtype": "f8"
                  },
                  "yaxis": "y"
                },
                {
                  "hovertemplate": "periodo=22-23<br>Player=%{x}<br>Gls=%{y}<extra></extra>",
                  "legendgroup": "22-23",
                  "marker": {
                    "color": "#ec4899",
                    "pattern": {
                      "shape": ""
                    }
                  },
                  "name": "22-23",
                  "orientation": "v",
                  "showlegend": true,
                  "textposition": "auto",
                  "type": "bar",
                  "x": [
                    "Karim Benzema",
                    "Vinicius Júnior"
                  ],
                  "xaxis": "x",
                  "y": {
                    "bdata": "AAAAAAAAM0AAAAAAAAAkQA==",
                    "dtype": "f8"
                  },
                  "yaxis": "y"
                },
                {
                  "hovertemplate": "periodo=23-24<br>Player=%{x}<br>Gls=%{y}<extra></extra>",
                  "legendgroup": "23-24",
                  "marker": {
                    "color": "#f59e0b",
                    "pattern": {
                      "shape": ""
                    }
                  },
                  "name": "23-24",
                  "orientation": "v",
                  "showlegend": true,
                  "textposition": "auto",
                  "type": "bar",
                  "x": [
                    "Jude Bellingham",
                    "Vinicius Júnior",
                    "Rodrygo"
                  ],
                  "xaxis": "x",
                  "y": {
                    "bdata": "AAAAAAAAM0AAAAAAAAAuQAAAAAAAACRA",
                    "dtype": "f8"
                  },
                  "yaxis": "y"
                }
              ],
              "layout": {
                "barmode": "relative",
                "legend": {
                  "title": {
                    "text": "periodo"
                  },
                  "tracegroupgap": 0
                },
                "margin": {
                  "t": 60
                },
                "template": {
                  "data": {
                    "bar": [
                      {
                        "error_x": {
                          "color": "#2a3f5f"
                        },
                        "error_y": {
                          "color": "#2a3f5f"
                        },
                        "marker": {
                          "line": {
                            "color": "white",
                            "width": 0.5
                          },
                          "pattern": {
                            "fillmode": "overlay",
                            "size": 10,
                            "solidity": 0.2
                          }
                        },
                        "type": "bar"
                      }
                    ],
                    "barpolar": [
                      {
                        "marker": {
                          "line": {
                            "color": "white",
                            "width": 0.5
                          },
                          "pattern": {
                            "fillmode": "overlay",
                            "size": 10,
                            "solidity": 0.2
                          }
                        },
                        "type": "barpolar"
                      }
                    ],
                    "carpet": [
                      {
                        "aaxis": {
                          "endlinecolor": "#2a3f5f",
                          "gridcolor": "#C8D4E3",
                          "linecolor": "#C8D4E3",
                          "minorgridcolor": "#C8D4E3",
                          "startlinecolor": "#2a3f5f"
                        },
                        "baxis": {
                          "endlinecolor": "#2a3f5f",
                          "gridcolor": "#C8D4E3",
                          "linecolor": "#C8D4E3",
                          "minorgridcolor": "#C8D4E3",
                          "startlinecolor": "#2a3f5f"
                        },
                        "type": "carpet"
                      }
                    ],
                    "choropleth": [
                      {
                        "colorbar": {
                          "outlinewidth": 0,
                          "ticks": ""
                        },
                        "type": "choropleth"
                      }
                    ],
                    "contour": [
                      {
                        "colorbar": {
                          "outlinewidth": 0,
                          "ticks": ""
                        },
                        "colorscale": [
                          [
                            0,
                            "#0d0887"
                          ],
                          [
                            0.1111111111111111,
                            "#46039f"
                          ],
                          [
                            0.2222222222222222,
                            "#7201a8"
                          ],
                          [
                            0.3333333333333333,
                            "#9c179e"
                          ],
                          [
                            0.4444444444444444,
                            "#bd3786"
                          ],
                          [
                            0.5555555555555556,
                            "#d8576b"
                          ],
                          [
                            0.6666666666666666,
                            "#ed7953"
                          ],
                          [
                            0.7777777777777778,
                            "#fb9f3a"
                          ],
                          [
                            0.8888888888888888,
                            "#fdca26"
                          ],
                          [
                            1,
                            "#f0f921"
                          ]
                        ],
                        "type": "contour"
                      }
                    ],
                    "contourcarpet": [
                      {
                        "colorbar": {
                          "outlinewidth": 0,
                          "ticks": ""
                        },
                        "type": "contourcarpet"
                      }
                    ],
                    "heatmap": [
                      {
                        "colorbar": {
                          "outlinewidth": 0,
                          "ticks": ""
                        },
                        "colorscale": [
                          [
                            0,
                            "#0d0887"
                          ],
                          [
                            0.1111111111111111,
                            "#46039f"
                          ],
                          [
                            0.2222222222222222,
                            "#7201a8"
                          ],
                          [
                            0.3333333333333333,
                            "#9c179e"
                          ],
                          [
                            0.4444444444444444,
                            "#bd3786"
                          ],
                          [
                            0.5555555555555556,
                            "#d8576b"
                          ],
                          [
                            0.6666666666666666,
                            "#ed7953"
                          ],
                          [
                            0.7777777777777778,
                            "#fb9f3a"
                          ],
                          [
                            0.8888888888888888,
                            "#fdca26"
                          ],
                          [
                            1,
                            "#f0f921"
                          ]
                        ],
                        "type": "heatmap"
                      }
                    ],
                    "histogram": [
                      {
                        "marker": {
                          "pattern": {
                            "fillmode": "overlay",
                            "size": 10,
                            "solidity": 0.2
                          }
                        },
                        "type": "histogram"
                      }
                    ],
                    "histogram2d": [
                      {
                        "colorbar": {
                          "outlinewidth": 0,
                          "ticks": ""
                        },
                        "colorscale": [
                          [
                            0,
                            "#0d0887"
                          ],
                          [
                            0.1111111111111111,
                            "#46039f"
                          ],
                          [
                            0.2222222222222222,
                            "#7201a8"
                          ],
                          [
                            0.3333333333333333,
                            "#9c179e"
                          ],
                          [
                            0.4444444444444444,
                            "#bd3786"
                          ],
                          [
                            0.5555555555555556,
                            "#d8576b"
                          ],
                          [
                            0.6666666666666666,
                            "#ed7953"
                          ],
                          [
                            0.7777777777777778,
                            "#fb9f3a"
                          ],
                          [
                            0.8888888888888888,
                            "#fdca26"
                          ],
                          [
                            1,
                            "#f0f921"
                          ]
                        ],
                        "type": "histogram2d"
                      }
                    ],
                    "histogram2dcontour": [
                      {
                        "colorbar": {
                          "outlinewidth": 0,
                          "ticks": ""
                        },
                        "colorscale": [
                          [
                            0,
                            "#0d0887"
                          ],
                          [
                            0.1111111111111111,
                            "#46039f"
                          ],
                          [
                            0.2222222222222222,
                            "#7201a8"
                          ],
                          [
                            0.3333333333333333,
                            "#9c179e"
                          ],
                          [
                            0.4444444444444444,
                            "#bd3786"
                          ],
                          [
                            0.5555555555555556,
                            "#d8576b"
                          ],
                          [
                            0.6666666666666666,
                            "#ed7953"
                          ],
                          [
                            0.7777777777777778,
                            "#fb9f3a"
                          ],
                          [
                            0.8888888888888888,
                            "#fdca26"
                          ],
                          [
                            1,
                            "#f0f921"
                          ]
                        ],
                        "type": "histogram2dcontour"
                      }
                    ],
                    "mesh3d": [
                      {
                        "colorbar": {
                          "outlinewidth": 0,
                          "ticks": ""
                        },
                        "type": "mesh3d"
                      }
                    ],
                    "parcoords": [
                      {
                        "line": {
                          "colorbar": {
                            "outlinewidth": 0,
                            "ticks": ""
                          }
                        },
                        "type": "parcoords"
                      }
                    ],
                    "pie": [
                      {
                        "automargin": true,
                        "type": "pie"
                      }
                    ],
                    "scatter": [
                      {
                        "fillpattern": {
                          "fillmode": "overlay",
                          "size": 10,
                          "solidity": 0.2
                        },
                        "type": "scatter"
                      }
                    ],
                    "scatter3d": [
                      {
                        "line": {
                          "colorbar": {
                            "outlinewidth": 0,
                            "ticks": ""
                          }
                        },
                        "marker": {
                          "colorbar": {
                            "outlinewidth": 0,
                            "ticks": ""
                          }
                        },
                        "type": "scatter3d"
                      }
                    ],
                    "scattercarpet": [
                      {
                        "marker": {
                          "colorbar": {
                            "outlinewidth": 0,
                            "ticks": ""
                          }
                        },
                        "type": "scattercarpet"
                      }
                    ],
                    "scattergeo": [
                      {
                        "marker": {
                          "colorbar": {
                            "outlinewidth": 0,
                            "ticks": ""
                          }
                        },
                        "type": "scattergeo"
                      }
                    ],
                    "scattergl": [
                      {
                        "marker": {
                          "colorbar": {
                            "outlinewidth": 0,
                            "ticks": ""
                          }
                        },
                        "type": "scattergl"
                      }
                    ],
                    "scattermap": [
                      {
                        "marker": {
                          "colorbar": {
                            "outlinewidth": 0,
                            "ticks": ""
                          }
                        },
                        "type": "scattermap"
                      }
                    ],
                    "scattermapbox": [
                      {
                        "marker": {
                          "colorbar": {
                            "outlinewidth": 0,
                            "ticks": ""
                          }
                        },
                        "type": "scattermapbox"
                      }
                    ],
                    "scatterpolar": [
                      {
                        "marker": {
                          "colorbar": {
                            "outlinewidth": 0,
                            "ticks": ""
                          }
                        },
                        "type": "scatterpolar"
                      }
                    ],
                    "scatterpolargl": [
                      {
                        "marker": {
                          "colorbar": {
                            "outlinewidth": 0,
                            "ticks": ""
                          }
                        },
                        "type": "scatterpolargl"
                      }
                    ],
                    "scatterternary": [
                      {
                        "marker": {
                          "colorbar": {
                            "outlinewidth": 0,
                            "ticks": ""
                          }
                        },
                        "type": "scatterternary"
                      }
                    ],
                    "surface": [
                      {
                        "colorbar": {
                          "outlinewidth": 0,
                          "ticks": ""
                        },
                        "colorscale": [
                          [
                            0,
                            "#0d0887"
                          ],
                          [
                            0.1111111111111111,
                            "#46039f"
                          ],
                          [
                            0.2222222222222222,
                            "#7201a8"
                          ],
                          [
                            0.3333333333333333,
                            "#9c179e"
                          ],
                          [
                            0.4444444444444444,
                            "#bd3786"
                          ],
                          [
                            0.5555555555555556,
                            "#d8576b"
                          ],
                          [
                            0.6666666666666666,
                            "#ed7953"
                          ],
                          [
                            0.7777777777777778,
                            "#fb9f3a"
                          ],
                          [
                            0.8888888888888888,
                            "#fdca26"
                          ],
                          [
                            1,
                            "#f0f921"
                          ]
                        ],
                        "type": "surface"
                      }
                    ],
                    "table": [
                      {
                        "cells": {
                          "fill": {
                            "color": "#EBF0F8"
                          },
                          "line": {
                            "color": "white"
                          }
                        },
                        "header": {
                          "fill": {
                            "color": "#C8D4E3"
                          },
                          "line": {
                            "color": "white"
                          }
                        },
                        "type": "table"
                      }
                    ]
                  },
                  "layout": {
                    "annotationdefaults": {
                      "arrowcolor": "#2a3f5f",
                      "arrowhead": 0,
                      "arrowwidth": 1
                    },
                    "autotypenumbers": "strict",
                    "coloraxis": {
                      "colorbar": {
                        "outlinewidth": 0,
                        "ticks": ""
                      }
                    },
                    "colorscale": {
                      "diverging": [
                        [
                          0,
                          "#8e0152"
                        ],
                        [
                          0.1,
                          "#c51b7d"
                        ],
                        [
                          0.2,
                          "#de77ae"
                        ],
                        [
                          0.3,
                          "#f1b6da"
                        ],
                        [
                          0.4,
                          "#fde0ef"
                        ],
                        [
                          0.5,
                          "#f7f7f7"
                        ],
                        [
                          0.6,
                          "#e6f5d0"
                        ],
                        [
                          0.7,
                          "#b8e186"
                        ],
                        [
                          0.8,
                          "#7fbc41"
                        ],
                        [
                          0.9,
                          "#4d9221"
                        ],
                        [
                          1,
                          "#276419"
                        ]
                      ],
                      "sequential": [
                        [
                          0,
                          "#0d0887"
                        ],
                        [
                          0.1111111111111111,
                          "#46039f"
                        ],
                        [
                          0.2222222222222222,
                          "#7201a8"
                        ],
                        [
                          0.3333333333333333,
                          "#9c179e"
                        ],
                        [
                          0.4444444444444444,
                          "#bd3786"
                        ],
                        [
                          0.5555555555555556,
                          "#d8576b"
                        ],
                        [
                          0.6666666666666666,
                          "#ed7953"
                        ],
                        [
                          0.7777777777777778,
                          "#fb9f3a"
                        ],
                        [
                          0.8888888888888888,
                          "#fdca26"
                        ],
                        [
                          1,
                          "#f0f921"
                        ]
                      ],
                      "sequentialminus": [
                        [
                          0,
                          "#0d0887"
                        ],
                        [
                          0.1111111111111111,
                          "#46039f"
                        ],
                        [
                          0.2222222222222222,
                          "#7201a8"
                        ],
                        [
                          0.3333333333333333,
                          "#9c179e"
                        ],
                        [
                          0.4444444444444444,
                          "#bd3786"
                        ],
                        [
                          0.5555555555555556,
                          "#d8576b"
                        ],
                        [
                          0.6666666666666666,
                          "#ed7953"
                        ],
                        [
                          0.7777777777777778,
                          "#fb9f3a"
                        ],
                        [
                          0.8888888888888888,
                          "#fdca26"
                        ],
                        [
                          1,
                          "#f0f921"
                        ]
                      ]
                    },
                    "colorway": [
                      "#636efa",
                      "#EF553B",
                      "#00cc96",
                      "#ab63fa",
                      "#FFA15A",
                      "#19d3f3",
                      "#FF6692",
                      "#B6E880",
                      "#FF97FF",
                      "#FECB52"
                    ],
                    "font": {
                      "color": "#2a3f5f"
                    },
                    "geo": {
                      "bgcolor": "white",
                      "lakecolor": "white",
                      "landcolor": "white",
                      "showlakes": true,
                      "showland": true,
                      "subunitcolor": "#C8D4E3"
                    },
                    "hoverlabel": {
                      "align": "left"
                    },
                    "hovermode": "closest",
                    "mapbox": {
                      "style": "light"
                    },
                    "paper_bgcolor": "white",
                    "plot_bgcolor": "white",
                    "polar": {
                      "angularaxis": {
                        "gridcolor": "#EBF0F8",
                        "linecolor": "#EBF0F8",
                        "ticks": ""
                      },
                      "bgcolor": "white",
                      "radialaxis": {
                        "gridcolor": "#EBF0F8",
                        "linecolor": "#EBF0F8",
                        "ticks": ""
                      }
                    },
                    "scene": {
                      "xaxis": {
                        "backgroundcolor": "white",
                        "gridcolor": "#DFE8F3",
                        "gridwidth": 2,
                        "linecolor": "#EBF0F8",
                        "showbackground": true,
                        "ticks": "",
                        "zerolinecolor": "#EBF0F8"
                      },
                      "yaxis": {
                        "backgroundcolor": "white",
                        "gridcolor": "#DFE8F3",
                        "gridwidth": 2,
                        "linecolor": "#EBF0F8",
                        "showbackground": true,
                        "ticks": "",
                        "zerolinecolor": "#EBF0F8"
                      },
                      "zaxis": {
                        "backgroundcolor": "white",
                        "gridcolor": "#DFE8F3",
                        "gridwidth": 2,
                        "linecolor": "#EBF0F8",
                        "showbackground": true,
                        "ticks": "",
                        "zerolinecolor": "#EBF0F8"
                      }
                    },
                    "shapedefaults": {
                      "line": {
                        "color": "#2a3f5f"
                      }
                    },
                    "ternary": {
                      "aaxis": {
                        "gridcolor": "#DFE8F3",
                        "linecolor": "#A2B1C6",
                        "ticks": ""
                      },
                      "baxis": {
                        "gridcolor": "#DFE8F3",
                        "linecolor": "#A2B1C6",
                        "ticks": ""
                      },
                      "bgcolor": "white",
                      "caxis": {
                        "gridcolor": "#DFE8F3",
                        "linecolor": "#A2B1C6",
                        "ticks": ""
                      }
                    },
                    "title": {
                      "x": 0.05
                    },
                    "xaxis": {
                      "automargin": true,
                      "gridcolor": "#EBF0F8",
                      "linecolor": "#EBF0F8",
                      "ticks": "",
                      "title": {
                        "standoff": 15
                      },
                      "zerolinecolor": "#EBF0F8",
                      "zerolinewidth": 2
                    },
                    "yaxis": {
                      "automargin": true,
                      "gridcolor": "#EBF0F8",
                      "linecolor": "#EBF0F8",
                      "ticks": "",
                      "title": {
                        "standoff": 15
                      },
                      "zerolinecolor": "#EBF0F8",
                      "zerolinewidth": 2
                    }
                  }
                },
                "title": {
                  "text": "Top 10 Goleadores"
                },
                "xaxis": {
                  "anchor": "y",
                  "domain": [
                    0,
                    1
                  ],
                  "tickangle": -45,
                  "title": {
                    "text": "Player"
                  }
                },
                "yaxis": {
                  "anchor": "x",
                  "domain": [
                    0,
                    1
                  ],
                  "title": {
                    "text": "Gls"
                  }
                }
              }
            }
          },
          "metadata": {},
          "output_type": "display_data"
        },
        {
          "data": {
            "text/html": [
              "<div>\n",
              "<style scoped>\n",
              "    .dataframe tbody tr th:only-of-type {\n",
              "        vertical-align: middle;\n",
              "    }\n",
              "\n",
              "    .dataframe tbody tr th {\n",
              "        vertical-align: top;\n",
              "    }\n",
              "\n",
              "    .dataframe thead th {\n",
              "        text-align: right;\n",
              "    }\n",
              "</style>\n",
              "<table border=\"1\" class=\"dataframe\">\n",
              "  <thead>\n",
              "    <tr style=\"text-align: right;\">\n",
              "      <th></th>\n",
              "      <th>Player</th>\n",
              "      <th>periodo</th>\n",
              "      <th>Gls</th>\n",
              "      <th>Ast</th>\n",
              "      <th>G+A</th>\n",
              "      <th>MP</th>\n",
              "      <th>Min</th>\n",
              "    </tr>\n",
              "  </thead>\n",
              "  <tbody>\n",
              "    <tr>\n",
              "      <th>134</th>\n",
              "      <td>Kylian Mbappé</td>\n",
              "      <td>24-25</td>\n",
              "      <td>31.0</td>\n",
              "      <td>3.0</td>\n",
              "      <td>34.0</td>\n",
              "      <td>34</td>\n",
              "      <td>2907.0</td>\n",
              "    </tr>\n",
              "    <tr>\n",
              "      <th>3</th>\n",
              "      <td>Karim Benzema</td>\n",
              "      <td>21-22</td>\n",
              "      <td>27.0</td>\n",
              "      <td>12.0</td>\n",
              "      <td>39.0</td>\n",
              "      <td>32</td>\n",
              "      <td>2593.0</td>\n",
              "    </tr>\n",
              "    <tr>\n",
              "      <th>41</th>\n",
              "      <td>Karim Benzema</td>\n",
              "      <td>22-23</td>\n",
              "      <td>19.0</td>\n",
              "      <td>3.0</td>\n",
              "      <td>22.0</td>\n",
              "      <td>24</td>\n",
              "      <td>2038.0</td>\n",
              "    </tr>\n",
              "    <tr>\n",
              "      <th>109</th>\n",
              "      <td>Jude Bellingham</td>\n",
              "      <td>23-24</td>\n",
              "      <td>19.0</td>\n",
              "      <td>6.0</td>\n",
              "      <td>25.0</td>\n",
              "      <td>28</td>\n",
              "      <td>2315.0</td>\n",
              "    </tr>\n",
              "    <tr>\n",
              "      <th>17</th>\n",
              "      <td>Vinicius Júnior</td>\n",
              "      <td>21-22</td>\n",
              "      <td>17.0</td>\n",
              "      <td>10.0</td>\n",
              "      <td>27.0</td>\n",
              "      <td>35</td>\n",
              "      <td>269.0</td>\n",
              "    </tr>\n",
              "    <tr>\n",
              "      <th>95</th>\n",
              "      <td>Vinicius Júnior</td>\n",
              "      <td>23-24</td>\n",
              "      <td>15.0</td>\n",
              "      <td>5.0</td>\n",
              "      <td>20.0</td>\n",
              "      <td>26</td>\n",
              "      <td>1864.0</td>\n",
              "    </tr>\n",
              "    <tr>\n",
              "      <th>131</th>\n",
              "      <td>Vinicius Júnior</td>\n",
              "      <td>24-25</td>\n",
              "      <td>11.0</td>\n",
              "      <td>8.0</td>\n",
              "      <td>19.0</td>\n",
              "      <td>30</td>\n",
              "      <td>2253.0</td>\n",
              "    </tr>\n",
              "    <tr>\n",
              "      <th>1</th>\n",
              "      <td>Marco Asensio</td>\n",
              "      <td>21-22</td>\n",
              "      <td>10.0</td>\n",
              "      <td>0.0</td>\n",
              "      <td>10.0</td>\n",
              "      <td>31</td>\n",
              "      <td>1731.0</td>\n",
              "    </tr>\n",
              "    <tr>\n",
              "      <th>51</th>\n",
              "      <td>Vinicius Júnior</td>\n",
              "      <td>22-23</td>\n",
              "      <td>10.0</td>\n",
              "      <td>9.0</td>\n",
              "      <td>19.0</td>\n",
              "      <td>33</td>\n",
              "      <td>2823.0</td>\n",
              "    </tr>\n",
              "    <tr>\n",
              "      <th>80</th>\n",
              "      <td>Rodrygo</td>\n",
              "      <td>23-24</td>\n",
              "      <td>10.0</td>\n",
              "      <td>5.0</td>\n",
              "      <td>15.0</td>\n",
              "      <td>34</td>\n",
              "      <td>238.0</td>\n",
              "    </tr>\n",
              "  </tbody>\n",
              "</table>\n",
              "</div>"
            ],
            "text/plain": [
              "              Player periodo   Gls   Ast   G+A  MP     Min\n",
              "134    Kylian Mbappé   24-25  31.0   3.0  34.0  34  2907.0\n",
              "3      Karim Benzema   21-22  27.0  12.0  39.0  32  2593.0\n",
              "41     Karim Benzema   22-23  19.0   3.0  22.0  24  2038.0\n",
              "109  Jude Bellingham   23-24  19.0   6.0  25.0  28  2315.0\n",
              "17   Vinicius Júnior   21-22  17.0  10.0  27.0  35   269.0\n",
              "95   Vinicius Júnior   23-24  15.0   5.0  20.0  26  1864.0\n",
              "131  Vinicius Júnior   24-25  11.0   8.0  19.0  30  2253.0\n",
              "1      Marco Asensio   21-22  10.0   0.0  10.0  31  1731.0\n",
              "51   Vinicius Júnior   22-23  10.0   9.0  19.0  33  2823.0\n",
              "80           Rodrygo   23-24  10.0   5.0  15.0  34   238.0"
            ]
          },
          "execution_count": 131,
          "metadata": {},
          "output_type": "execute_result"
        }
      ],
      "source": [
        "# Top 10 Goleadores\n",
        "top_goleadores = df.nlargest(10, 'Gls')[['Player', 'periodo', 'Gls', 'Ast', 'G+A', 'MP', 'Min']]\n",
        "fig = px.bar(top_goleadores, x='Player', y='Gls', color='periodo',\n",
        "            color_discrete_sequence=['#6366f1', '#8b5cf6', '#ec4899', '#f59e0b'])\n",
        "fig.update_layout(title='Top 10 Goleadores', template='plotly_white', xaxis_tickangle=-45)\n",
        "fig.show()\n",
        "top_goleadores\n"
      ]
    },
    {
      "cell_type": "code",
      "execution_count": 132,
      "metadata": {},
      "outputs": [
        {
          "data": {
            "application/vnd.plotly.v1+json": {
              "config": {
                "plotlyServerURL": "https://plot.ly"
              },
              "data": [
                {
                  "hovertemplate": "periodo=21-22<br>Player=%{x}<br>Ast=%{y}<extra></extra>",
                  "legendgroup": "21-22",
                  "marker": {
                    "color": "#6366f1",
                    "pattern": {
                      "shape": ""
                    }
                  },
                  "name": "21-22",
                  "orientation": "v",
                  "showlegend": true,
                  "textposition": "auto",
                  "type": "bar",
                  "x": [
                    "Karim Benzema",
                    "Vinicius Júnior",
                    "Luka Modrić"
                  ],
                  "xaxis": "x",
                  "y": {
                    "bdata": "AAAAAAAAKEAAAAAAAAAkQAAAAAAAACBA",
                    "dtype": "f8"
                  },
                  "yaxis": "y"
                },
                {
                  "hovertemplate": "periodo=22-23<br>Player=%{x}<br>Ast=%{y}<extra></extra>",
                  "legendgroup": "22-23",
                  "marker": {
                    "color": "#8b5cf6",
                    "pattern": {
                      "shape": ""
                    }
                  },
                  "name": "22-23",
                  "orientation": "v",
                  "showlegend": true,
                  "textposition": "auto",
                  "type": "bar",
                  "x": [
                    "Vinicius Júnior",
                    "Rodrygo",
                    "Marco Asensio"
                  ],
                  "xaxis": "x",
                  "y": {
                    "bdata": "AAAAAAAAIkAAAAAAAAAgQAAAAAAAABhA",
                    "dtype": "f8"
                  },
                  "yaxis": "y"
                },
                {
                  "hovertemplate": "periodo=23-24<br>Player=%{x}<br>Ast=%{y}<extra></extra>",
                  "legendgroup": "23-24",
                  "marker": {
                    "color": "#ec4899",
                    "pattern": {
                      "shape": ""
                    }
                  },
                  "name": "23-24",
                  "orientation": "v",
                  "showlegend": true,
                  "textposition": "auto",
                  "type": "bar",
                  "x": [
                    "Toni Kroos",
                    "Federico Valverde"
                  ],
                  "xaxis": "x",
                  "y": {
                    "bdata": "AAAAAAAAIEAAAAAAAAAcQA==",
                    "dtype": "f8"
                  },
                  "yaxis": "y"
                },
                {
                  "hovertemplate": "periodo=24-25<br>Player=%{x}<br>Ast=%{y}<extra></extra>",
                  "legendgroup": "24-25",
                  "marker": {
                    "color": "#f59e0b",
                    "pattern": {
                      "shape": ""
                    }
                  },
                  "name": "24-25",
                  "orientation": "v",
                  "showlegend": true,
                  "textposition": "auto",
                  "type": "bar",
                  "x": [
                    "Jude Bellingham",
                    "Vinicius Júnior"
                  ],
                  "xaxis": "x",
                  "y": {
                    "bdata": "AAAAAAAAIEAAAAAAAAAgQA==",
                    "dtype": "f8"
                  },
                  "yaxis": "y"
                }
              ],
              "layout": {
                "barmode": "relative",
                "legend": {
                  "title": {
                    "text": "periodo"
                  },
                  "tracegroupgap": 0
                },
                "margin": {
                  "t": 60
                },
                "template": {
                  "data": {
                    "bar": [
                      {
                        "error_x": {
                          "color": "#2a3f5f"
                        },
                        "error_y": {
                          "color": "#2a3f5f"
                        },
                        "marker": {
                          "line": {
                            "color": "white",
                            "width": 0.5
                          },
                          "pattern": {
                            "fillmode": "overlay",
                            "size": 10,
                            "solidity": 0.2
                          }
                        },
                        "type": "bar"
                      }
                    ],
                    "barpolar": [
                      {
                        "marker": {
                          "line": {
                            "color": "white",
                            "width": 0.5
                          },
                          "pattern": {
                            "fillmode": "overlay",
                            "size": 10,
                            "solidity": 0.2
                          }
                        },
                        "type": "barpolar"
                      }
                    ],
                    "carpet": [
                      {
                        "aaxis": {
                          "endlinecolor": "#2a3f5f",
                          "gridcolor": "#C8D4E3",
                          "linecolor": "#C8D4E3",
                          "minorgridcolor": "#C8D4E3",
                          "startlinecolor": "#2a3f5f"
                        },
                        "baxis": {
                          "endlinecolor": "#2a3f5f",
                          "gridcolor": "#C8D4E3",
                          "linecolor": "#C8D4E3",
                          "minorgridcolor": "#C8D4E3",
                          "startlinecolor": "#2a3f5f"
                        },
                        "type": "carpet"
                      }
                    ],
                    "choropleth": [
                      {
                        "colorbar": {
                          "outlinewidth": 0,
                          "ticks": ""
                        },
                        "type": "choropleth"
                      }
                    ],
                    "contour": [
                      {
                        "colorbar": {
                          "outlinewidth": 0,
                          "ticks": ""
                        },
                        "colorscale": [
                          [
                            0,
                            "#0d0887"
                          ],
                          [
                            0.1111111111111111,
                            "#46039f"
                          ],
                          [
                            0.2222222222222222,
                            "#7201a8"
                          ],
                          [
                            0.3333333333333333,
                            "#9c179e"
                          ],
                          [
                            0.4444444444444444,
                            "#bd3786"
                          ],
                          [
                            0.5555555555555556,
                            "#d8576b"
                          ],
                          [
                            0.6666666666666666,
                            "#ed7953"
                          ],
                          [
                            0.7777777777777778,
                            "#fb9f3a"
                          ],
                          [
                            0.8888888888888888,
                            "#fdca26"
                          ],
                          [
                            1,
                            "#f0f921"
                          ]
                        ],
                        "type": "contour"
                      }
                    ],
                    "contourcarpet": [
                      {
                        "colorbar": {
                          "outlinewidth": 0,
                          "ticks": ""
                        },
                        "type": "contourcarpet"
                      }
                    ],
                    "heatmap": [
                      {
                        "colorbar": {
                          "outlinewidth": 0,
                          "ticks": ""
                        },
                        "colorscale": [
                          [
                            0,
                            "#0d0887"
                          ],
                          [
                            0.1111111111111111,
                            "#46039f"
                          ],
                          [
                            0.2222222222222222,
                            "#7201a8"
                          ],
                          [
                            0.3333333333333333,
                            "#9c179e"
                          ],
                          [
                            0.4444444444444444,
                            "#bd3786"
                          ],
                          [
                            0.5555555555555556,
                            "#d8576b"
                          ],
                          [
                            0.6666666666666666,
                            "#ed7953"
                          ],
                          [
                            0.7777777777777778,
                            "#fb9f3a"
                          ],
                          [
                            0.8888888888888888,
                            "#fdca26"
                          ],
                          [
                            1,
                            "#f0f921"
                          ]
                        ],
                        "type": "heatmap"
                      }
                    ],
                    "histogram": [
                      {
                        "marker": {
                          "pattern": {
                            "fillmode": "overlay",
                            "size": 10,
                            "solidity": 0.2
                          }
                        },
                        "type": "histogram"
                      }
                    ],
                    "histogram2d": [
                      {
                        "colorbar": {
                          "outlinewidth": 0,
                          "ticks": ""
                        },
                        "colorscale": [
                          [
                            0,
                            "#0d0887"
                          ],
                          [
                            0.1111111111111111,
                            "#46039f"
                          ],
                          [
                            0.2222222222222222,
                            "#7201a8"
                          ],
                          [
                            0.3333333333333333,
                            "#9c179e"
                          ],
                          [
                            0.4444444444444444,
                            "#bd3786"
                          ],
                          [
                            0.5555555555555556,
                            "#d8576b"
                          ],
                          [
                            0.6666666666666666,
                            "#ed7953"
                          ],
                          [
                            0.7777777777777778,
                            "#fb9f3a"
                          ],
                          [
                            0.8888888888888888,
                            "#fdca26"
                          ],
                          [
                            1,
                            "#f0f921"
                          ]
                        ],
                        "type": "histogram2d"
                      }
                    ],
                    "histogram2dcontour": [
                      {
                        "colorbar": {
                          "outlinewidth": 0,
                          "ticks": ""
                        },
                        "colorscale": [
                          [
                            0,
                            "#0d0887"
                          ],
                          [
                            0.1111111111111111,
                            "#46039f"
                          ],
                          [
                            0.2222222222222222,
                            "#7201a8"
                          ],
                          [
                            0.3333333333333333,
                            "#9c179e"
                          ],
                          [
                            0.4444444444444444,
                            "#bd3786"
                          ],
                          [
                            0.5555555555555556,
                            "#d8576b"
                          ],
                          [
                            0.6666666666666666,
                            "#ed7953"
                          ],
                          [
                            0.7777777777777778,
                            "#fb9f3a"
                          ],
                          [
                            0.8888888888888888,
                            "#fdca26"
                          ],
                          [
                            1,
                            "#f0f921"
                          ]
                        ],
                        "type": "histogram2dcontour"
                      }
                    ],
                    "mesh3d": [
                      {
                        "colorbar": {
                          "outlinewidth": 0,
                          "ticks": ""
                        },
                        "type": "mesh3d"
                      }
                    ],
                    "parcoords": [
                      {
                        "line": {
                          "colorbar": {
                            "outlinewidth": 0,
                            "ticks": ""
                          }
                        },
                        "type": "parcoords"
                      }
                    ],
                    "pie": [
                      {
                        "automargin": true,
                        "type": "pie"
                      }
                    ],
                    "scatter": [
                      {
                        "fillpattern": {
                          "fillmode": "overlay",
                          "size": 10,
                          "solidity": 0.2
                        },
                        "type": "scatter"
                      }
                    ],
                    "scatter3d": [
                      {
                        "line": {
                          "colorbar": {
                            "outlinewidth": 0,
                            "ticks": ""
                          }
                        },
                        "marker": {
                          "colorbar": {
                            "outlinewidth": 0,
                            "ticks": ""
                          }
                        },
                        "type": "scatter3d"
                      }
                    ],
                    "scattercarpet": [
                      {
                        "marker": {
                          "colorbar": {
                            "outlinewidth": 0,
                            "ticks": ""
                          }
                        },
                        "type": "scattercarpet"
                      }
                    ],
                    "scattergeo": [
                      {
                        "marker": {
                          "colorbar": {
                            "outlinewidth": 0,
                            "ticks": ""
                          }
                        },
                        "type": "scattergeo"
                      }
                    ],
                    "scattergl": [
                      {
                        "marker": {
                          "colorbar": {
                            "outlinewidth": 0,
                            "ticks": ""
                          }
                        },
                        "type": "scattergl"
                      }
                    ],
                    "scattermap": [
                      {
                        "marker": {
                          "colorbar": {
                            "outlinewidth": 0,
                            "ticks": ""
                          }
                        },
                        "type": "scattermap"
                      }
                    ],
                    "scattermapbox": [
                      {
                        "marker": {
                          "colorbar": {
                            "outlinewidth": 0,
                            "ticks": ""
                          }
                        },
                        "type": "scattermapbox"
                      }
                    ],
                    "scatterpolar": [
                      {
                        "marker": {
                          "colorbar": {
                            "outlinewidth": 0,
                            "ticks": ""
                          }
                        },
                        "type": "scatterpolar"
                      }
                    ],
                    "scatterpolargl": [
                      {
                        "marker": {
                          "colorbar": {
                            "outlinewidth": 0,
                            "ticks": ""
                          }
                        },
                        "type": "scatterpolargl"
                      }
                    ],
                    "scatterternary": [
                      {
                        "marker": {
                          "colorbar": {
                            "outlinewidth": 0,
                            "ticks": ""
                          }
                        },
                        "type": "scatterternary"
                      }
                    ],
                    "surface": [
                      {
                        "colorbar": {
                          "outlinewidth": 0,
                          "ticks": ""
                        },
                        "colorscale": [
                          [
                            0,
                            "#0d0887"
                          ],
                          [
                            0.1111111111111111,
                            "#46039f"
                          ],
                          [
                            0.2222222222222222,
                            "#7201a8"
                          ],
                          [
                            0.3333333333333333,
                            "#9c179e"
                          ],
                          [
                            0.4444444444444444,
                            "#bd3786"
                          ],
                          [
                            0.5555555555555556,
                            "#d8576b"
                          ],
                          [
                            0.6666666666666666,
                            "#ed7953"
                          ],
                          [
                            0.7777777777777778,
                            "#fb9f3a"
                          ],
                          [
                            0.8888888888888888,
                            "#fdca26"
                          ],
                          [
                            1,
                            "#f0f921"
                          ]
                        ],
                        "type": "surface"
                      }
                    ],
                    "table": [
                      {
                        "cells": {
                          "fill": {
                            "color": "#EBF0F8"
                          },
                          "line": {
                            "color": "white"
                          }
                        },
                        "header": {
                          "fill": {
                            "color": "#C8D4E3"
                          },
                          "line": {
                            "color": "white"
                          }
                        },
                        "type": "table"
                      }
                    ]
                  },
                  "layout": {
                    "annotationdefaults": {
                      "arrowcolor": "#2a3f5f",
                      "arrowhead": 0,
                      "arrowwidth": 1
                    },
                    "autotypenumbers": "strict",
                    "coloraxis": {
                      "colorbar": {
                        "outlinewidth": 0,
                        "ticks": ""
                      }
                    },
                    "colorscale": {
                      "diverging": [
                        [
                          0,
                          "#8e0152"
                        ],
                        [
                          0.1,
                          "#c51b7d"
                        ],
                        [
                          0.2,
                          "#de77ae"
                        ],
                        [
                          0.3,
                          "#f1b6da"
                        ],
                        [
                          0.4,
                          "#fde0ef"
                        ],
                        [
                          0.5,
                          "#f7f7f7"
                        ],
                        [
                          0.6,
                          "#e6f5d0"
                        ],
                        [
                          0.7,
                          "#b8e186"
                        ],
                        [
                          0.8,
                          "#7fbc41"
                        ],
                        [
                          0.9,
                          "#4d9221"
                        ],
                        [
                          1,
                          "#276419"
                        ]
                      ],
                      "sequential": [
                        [
                          0,
                          "#0d0887"
                        ],
                        [
                          0.1111111111111111,
                          "#46039f"
                        ],
                        [
                          0.2222222222222222,
                          "#7201a8"
                        ],
                        [
                          0.3333333333333333,
                          "#9c179e"
                        ],
                        [
                          0.4444444444444444,
                          "#bd3786"
                        ],
                        [
                          0.5555555555555556,
                          "#d8576b"
                        ],
                        [
                          0.6666666666666666,
                          "#ed7953"
                        ],
                        [
                          0.7777777777777778,
                          "#fb9f3a"
                        ],
                        [
                          0.8888888888888888,
                          "#fdca26"
                        ],
                        [
                          1,
                          "#f0f921"
                        ]
                      ],
                      "sequentialminus": [
                        [
                          0,
                          "#0d0887"
                        ],
                        [
                          0.1111111111111111,
                          "#46039f"
                        ],
                        [
                          0.2222222222222222,
                          "#7201a8"
                        ],
                        [
                          0.3333333333333333,
                          "#9c179e"
                        ],
                        [
                          0.4444444444444444,
                          "#bd3786"
                        ],
                        [
                          0.5555555555555556,
                          "#d8576b"
                        ],
                        [
                          0.6666666666666666,
                          "#ed7953"
                        ],
                        [
                          0.7777777777777778,
                          "#fb9f3a"
                        ],
                        [
                          0.8888888888888888,
                          "#fdca26"
                        ],
                        [
                          1,
                          "#f0f921"
                        ]
                      ]
                    },
                    "colorway": [
                      "#636efa",
                      "#EF553B",
                      "#00cc96",
                      "#ab63fa",
                      "#FFA15A",
                      "#19d3f3",
                      "#FF6692",
                      "#B6E880",
                      "#FF97FF",
                      "#FECB52"
                    ],
                    "font": {
                      "color": "#2a3f5f"
                    },
                    "geo": {
                      "bgcolor": "white",
                      "lakecolor": "white",
                      "landcolor": "white",
                      "showlakes": true,
                      "showland": true,
                      "subunitcolor": "#C8D4E3"
                    },
                    "hoverlabel": {
                      "align": "left"
                    },
                    "hovermode": "closest",
                    "mapbox": {
                      "style": "light"
                    },
                    "paper_bgcolor": "white",
                    "plot_bgcolor": "white",
                    "polar": {
                      "angularaxis": {
                        "gridcolor": "#EBF0F8",
                        "linecolor": "#EBF0F8",
                        "ticks": ""
                      },
                      "bgcolor": "white",
                      "radialaxis": {
                        "gridcolor": "#EBF0F8",
                        "linecolor": "#EBF0F8",
                        "ticks": ""
                      }
                    },
                    "scene": {
                      "xaxis": {
                        "backgroundcolor": "white",
                        "gridcolor": "#DFE8F3",
                        "gridwidth": 2,
                        "linecolor": "#EBF0F8",
                        "showbackground": true,
                        "ticks": "",
                        "zerolinecolor": "#EBF0F8"
                      },
                      "yaxis": {
                        "backgroundcolor": "white",
                        "gridcolor": "#DFE8F3",
                        "gridwidth": 2,
                        "linecolor": "#EBF0F8",
                        "showbackground": true,
                        "ticks": "",
                        "zerolinecolor": "#EBF0F8"
                      },
                      "zaxis": {
                        "backgroundcolor": "white",
                        "gridcolor": "#DFE8F3",
                        "gridwidth": 2,
                        "linecolor": "#EBF0F8",
                        "showbackground": true,
                        "ticks": "",
                        "zerolinecolor": "#EBF0F8"
                      }
                    },
                    "shapedefaults": {
                      "line": {
                        "color": "#2a3f5f"
                      }
                    },
                    "ternary": {
                      "aaxis": {
                        "gridcolor": "#DFE8F3",
                        "linecolor": "#A2B1C6",
                        "ticks": ""
                      },
                      "baxis": {
                        "gridcolor": "#DFE8F3",
                        "linecolor": "#A2B1C6",
                        "ticks": ""
                      },
                      "bgcolor": "white",
                      "caxis": {
                        "gridcolor": "#DFE8F3",
                        "linecolor": "#A2B1C6",
                        "ticks": ""
                      }
                    },
                    "title": {
                      "x": 0.05
                    },
                    "xaxis": {
                      "automargin": true,
                      "gridcolor": "#EBF0F8",
                      "linecolor": "#EBF0F8",
                      "ticks": "",
                      "title": {
                        "standoff": 15
                      },
                      "zerolinecolor": "#EBF0F8",
                      "zerolinewidth": 2
                    },
                    "yaxis": {
                      "automargin": true,
                      "gridcolor": "#EBF0F8",
                      "linecolor": "#EBF0F8",
                      "ticks": "",
                      "title": {
                        "standoff": 15
                      },
                      "zerolinecolor": "#EBF0F8",
                      "zerolinewidth": 2
                    }
                  }
                },
                "title": {
                  "text": "Top 10 Asistidores"
                },
                "xaxis": {
                  "anchor": "y",
                  "domain": [
                    0,
                    1
                  ],
                  "tickangle": -45,
                  "title": {
                    "text": "Player"
                  }
                },
                "yaxis": {
                  "anchor": "x",
                  "domain": [
                    0,
                    1
                  ],
                  "title": {
                    "text": "Ast"
                  }
                }
              }
            }
          },
          "metadata": {},
          "output_type": "display_data"
        },
        {
          "data": {
            "text/html": [
              "<div>\n",
              "<style scoped>\n",
              "    .dataframe tbody tr th:only-of-type {\n",
              "        vertical-align: middle;\n",
              "    }\n",
              "\n",
              "    .dataframe tbody tr th {\n",
              "        vertical-align: top;\n",
              "    }\n",
              "\n",
              "    .dataframe thead th {\n",
              "        text-align: right;\n",
              "    }\n",
              "</style>\n",
              "<table border=\"1\" class=\"dataframe\">\n",
              "  <thead>\n",
              "    <tr style=\"text-align: right;\">\n",
              "      <th></th>\n",
              "      <th>Player</th>\n",
              "      <th>periodo</th>\n",
              "      <th>Ast</th>\n",
              "      <th>Gls</th>\n",
              "      <th>G+A</th>\n",
              "      <th>MP</th>\n",
              "    </tr>\n",
              "  </thead>\n",
              "  <tbody>\n",
              "    <tr>\n",
              "      <th>3</th>\n",
              "      <td>Karim Benzema</td>\n",
              "      <td>21-22</td>\n",
              "      <td>12.0</td>\n",
              "      <td>27.0</td>\n",
              "      <td>39.0</td>\n",
              "      <td>32</td>\n",
              "    </tr>\n",
              "    <tr>\n",
              "      <th>17</th>\n",
              "      <td>Vinicius Júnior</td>\n",
              "      <td>21-22</td>\n",
              "      <td>10.0</td>\n",
              "      <td>17.0</td>\n",
              "      <td>27.0</td>\n",
              "      <td>35</td>\n",
              "    </tr>\n",
              "    <tr>\n",
              "      <th>51</th>\n",
              "      <td>Vinicius Júnior</td>\n",
              "      <td>22-23</td>\n",
              "      <td>9.0</td>\n",
              "      <td>10.0</td>\n",
              "      <td>19.0</td>\n",
              "      <td>33</td>\n",
              "    </tr>\n",
              "    <tr>\n",
              "      <th>27</th>\n",
              "      <td>Luka Modrić</td>\n",
              "      <td>21-22</td>\n",
              "      <td>8.0</td>\n",
              "      <td>2.0</td>\n",
              "      <td>10.0</td>\n",
              "      <td>28</td>\n",
              "    </tr>\n",
              "    <tr>\n",
              "      <th>66</th>\n",
              "      <td>Rodrygo</td>\n",
              "      <td>22-23</td>\n",
              "      <td>8.0</td>\n",
              "      <td>9.0</td>\n",
              "      <td>17.0</td>\n",
              "      <td>34</td>\n",
              "    </tr>\n",
              "    <tr>\n",
              "      <th>94</th>\n",
              "      <td>Toni Kroos</td>\n",
              "      <td>23-24</td>\n",
              "      <td>8.0</td>\n",
              "      <td>1.0</td>\n",
              "      <td>9.0</td>\n",
              "      <td>33</td>\n",
              "    </tr>\n",
              "    <tr>\n",
              "      <th>118</th>\n",
              "      <td>Jude Bellingham</td>\n",
              "      <td>24-25</td>\n",
              "      <td>8.0</td>\n",
              "      <td>9.0</td>\n",
              "      <td>17.0</td>\n",
              "      <td>31</td>\n",
              "    </tr>\n",
              "    <tr>\n",
              "      <th>131</th>\n",
              "      <td>Vinicius Júnior</td>\n",
              "      <td>24-25</td>\n",
              "      <td>8.0</td>\n",
              "      <td>11.0</td>\n",
              "      <td>19.0</td>\n",
              "      <td>30</td>\n",
              "    </tr>\n",
              "    <tr>\n",
              "      <th>76</th>\n",
              "      <td>Federico Valverde</td>\n",
              "      <td>23-24</td>\n",
              "      <td>7.0</td>\n",
              "      <td>2.0</td>\n",
              "      <td>9.0</td>\n",
              "      <td>37</td>\n",
              "    </tr>\n",
              "    <tr>\n",
              "      <th>40</th>\n",
              "      <td>Marco Asensio</td>\n",
              "      <td>22-23</td>\n",
              "      <td>6.0</td>\n",
              "      <td>9.0</td>\n",
              "      <td>15.0</td>\n",
              "      <td>31</td>\n",
              "    </tr>\n",
              "  </tbody>\n",
              "</table>\n",
              "</div>"
            ],
            "text/plain": [
              "                Player periodo   Ast   Gls   G+A  MP\n",
              "3        Karim Benzema   21-22  12.0  27.0  39.0  32\n",
              "17     Vinicius Júnior   21-22  10.0  17.0  27.0  35\n",
              "51     Vinicius Júnior   22-23   9.0  10.0  19.0  33\n",
              "27         Luka Modrić   21-22   8.0   2.0  10.0  28\n",
              "66             Rodrygo   22-23   8.0   9.0  17.0  34\n",
              "94          Toni Kroos   23-24   8.0   1.0   9.0  33\n",
              "118    Jude Bellingham   24-25   8.0   9.0  17.0  31\n",
              "131    Vinicius Júnior   24-25   8.0  11.0  19.0  30\n",
              "76   Federico Valverde   23-24   7.0   2.0   9.0  37\n",
              "40       Marco Asensio   22-23   6.0   9.0  15.0  31"
            ]
          },
          "execution_count": 132,
          "metadata": {},
          "output_type": "execute_result"
        }
      ],
      "source": [
        "# Top 10 Asistidores\n",
        "top_asistidores = df.nlargest(10, 'Ast')[['Player', 'periodo', 'Ast', 'Gls', 'G+A', 'MP']]\n",
        "fig = px.bar(top_asistidores, x='Player', y='Ast', color='periodo',\n",
        "            color_discrete_sequence=['#6366f1', '#8b5cf6', '#ec4899', '#f59e0b'])\n",
        "fig.update_layout(title='Top 10 Asistidores', template='plotly_white', xaxis_tickangle=-45)\n",
        "fig.show()\n",
        "top_asistidores\n"
      ]
    },
    {
      "cell_type": "code",
      "execution_count": 104,
      "metadata": {},
      "outputs": [
        {
          "data": {
            "text/plain": [
              "Index(['Player', 'periodo', 'Age', 'MP', 'Starts', 'Min', '90s', 'Gls', 'Ast',\n",
              "       'G+A', 'G-PK', 'PK', 'PKatt', 'CrdY', 'CrdR', 'xG', 'npxG', 'xAG',\n",
              "       'npxG+xAG', 'PrgC', 'PrgP', 'PrgR', 'Gls.1', 'Ast.1', 'G+A.1', 'G-PK.1',\n",
              "       'G+A-PK', 'xG.1', 'xAG.1', 'xG+xAG', 'npxG.1', 'npxG+xAG.1', 'Pos_DF',\n",
              "       'Pos_DF,MF', 'Pos_FW', 'Pos_FW,DF', 'Pos_FW,MF', 'Pos_GK', 'Pos_MF',\n",
              "       'Pos_MF,DF', 'Pos_MF,FW'],\n",
              "      dtype='object')"
            ]
          },
          "execution_count": 104,
          "metadata": {},
          "output_type": "execute_result"
        }
      ],
      "source": [
        "df.columns"
      ]
    },
    {
      "cell_type": "code",
      "execution_count": 133,
      "metadata": {},
      "outputs": [
        {
          "data": {
            "application/vnd.plotly.v1+json": {
              "config": {
                "plotlyServerURL": "https://plot.ly"
              },
              "data": [
                {
                  "customdata": [
                    [
                      "David Alaba",
                      "21-22"
                    ],
                    [
                      "Marco Asensio",
                      "21-22"
                    ],
                    [
                      "Gareth Bale",
                      "21-22"
                    ],
                    [
                      "Karim Benzema",
                      "21-22"
                    ],
                    [
                      "Antonio Blanco",
                      "21-22"
                    ],
                    [
                      "Eduardo Camavinga",
                      "21-22"
                    ],
                    [
                      "Dani Carvajal",
                      "21-22"
                    ],
                    [
                      "Casemiro",
                      "21-22"
                    ],
                    [
                      "Dani Ceballos",
                      "21-22"
                    ],
                    [
                      "Thibaut Courtois",
                      "21-22"
                    ],
                    [
                      "Mario Gila",
                      "21-22"
                    ],
                    [
                      "Peter González",
                      "21-22"
                    ],
                    [
                      "Miguel Gutiérrez",
                      "21-22"
                    ],
                    [
                      "Eden Hazard",
                      "21-22"
                    ],
                    [
                      "Isco",
                      "21-22"
                    ],
                    [
                      "Luka Jović",
                      "21-22"
                    ],
                    [
                      "Vinicius Júnior",
                      "21-22"
                    ],
                    [
                      "Toni Kroos",
                      "21-22"
                    ],
                    [
                      "Juanmi Latasa",
                      "21-22"
                    ],
                    [
                      "Andriy Lunin",
                      "21-22"
                    ],
                    [
                      "Marcelo",
                      "21-22"
                    ],
                    [
                      "Mariano",
                      "21-22"
                    ],
                    [
                      "Ferland Mendy",
                      "21-22"
                    ],
                    [
                      "Éder Militão",
                      "21-22"
                    ],
                    [
                      "Luka Modrić",
                      "21-22"
                    ],
                    [
                      "Nacho",
                      "21-22"
                    ],
                    [
                      "Rodrygo",
                      "21-22"
                    ],
                    [
                      "Sergio Santos",
                      "21-22"
                    ],
                    [
                      "Jesús Vallejo",
                      "21-22"
                    ],
                    [
                      "Federico Valverde",
                      "21-22"
                    ],
                    [
                      "Lucas Vázquez",
                      "21-22"
                    ]
                  ],
                  "hovertemplate": "periodo=%{customdata[1]}<br>Gls=%{x}<br>Ast=%{y}<br>size=%{marker.size}<br>Player=%{customdata[0]}<extra></extra>",
                  "legendgroup": "21-22",
                  "marker": {
                    "color": "#6366f1",
                    "size": {
                      "bdata": "tYjsbzhZ6T8c71LWnr/3PzURYf3QhM4/xRmbgav+FUCamZmZmZm5P4Fmolc2feA/m3fHYzfr5D+bd8djN+vkP5qZmZmZmbk/mpmZmZmZuT+amZmZmZm5P5qZmZmZmbk/NRFh/dCEzj81EWH90ITOPzURYf3QhM4/m3fHYzfr5D88AMfeU7MOQJt3x2M36+Q/mpmZmZmZuT+amZmZmZm5P86q+pZqHtg/zqr6lmoe2D+BZqJXNn3gP4Fmolc2feA/HO9S1p6/9z+BZqJXNn3gPwLeLcqdUfM/mpmZmZmZuT+amZmZmZm5PzURYf3QhM4/gWaiVzZ94D8=",
                      "dtype": "f8"
                    },
                    "sizemode": "area",
                    "sizeref": 0.013746752798775656,
                    "symbol": "circle"
                  },
                  "mode": "markers",
                  "name": "21-22",
                  "orientation": "v",
                  "showlegend": true,
                  "type": "scatter",
                  "x": {
                    "bdata": "dVpgEhqKwr8kgZmyGLP1P3TzogM7R9W/5lLABhcvEkDX3Ap/tKTgv3VaYBIaisK/dPOiAztH1b9086IDO0fVv9fcCn+0pOC/19wKf7Sk4L/X3Ap/tKTgv9fcCn+0pOC/19wKf7Sk4L/X3Ap/tKTgv3TzogM7R9W/dPOiAztH1b8FLnGUdFsFQHTzogM7R9W/19wKf7Sk4L/X3Ap/tKTgv9fcCn+0pOC/dPOiAztH1b91WmASGorCv3TzogM7R9W/dVpgEhqKwr/5xxSKB+mlP3K+atedfs0/19wKf7Sk4L/X3Ap/tKTgv9fcCn+0pOC/+ccUigfppT8=",
                    "dtype": "f8"
                  },
                  "xaxis": "x",
                  "y": {
                    "bdata": "wNlLYFpj1j8JNrB5L+zovwk2sHkv7Oi/ZxVqy9DiDUAJNrB5L+zov3b/JoJ2xNm/wNlLYFpj1j/A2UtgWmPWPwk2sHkv7Oi/CTaweS/s6L8JNrB5L+zovwk2sHkv7Oi/dv8mgnbE2b92/yaCdsTZvwk2sHkv7Oi/wNlLYFpj1j9Auhuv1t0HQMDZS2BaY9Y/CTaweS/s6L8JNrB5L+zov7At2Q7hCJu/dv8mgnbE2b92/yaCdsTZv7At2Q7hCJu/GV/NktzYAUAJNrB5L+zovy6jwmihO+c/CTaweS/s6L8JNrB5L+zov3b/JoJ2xNm/CTaweS/s6L8=",
                    "dtype": "f8"
                  },
                  "yaxis": "y"
                },
                {
                  "customdata": [
                    [
                      "David Alaba",
                      "22-23"
                    ],
                    [
                      "Sergio Arribas",
                      "22-23"
                    ],
                    [
                      "Marco Asensio",
                      "22-23"
                    ],
                    [
                      "Karim Benzema",
                      "22-23"
                    ],
                    [
                      "Eduardo Camavinga",
                      "22-23"
                    ],
                    [
                      "Dani Carvajal",
                      "22-23"
                    ],
                    [
                      "Casemiro",
                      "22-23"
                    ],
                    [
                      "Dani Ceballos",
                      "22-23"
                    ],
                    [
                      "Thibaut Courtois",
                      "22-23"
                    ],
                    [
                      "Eden Hazard",
                      "22-23"
                    ],
                    [
                      "Vinicius Júnior",
                      "22-23"
                    ],
                    [
                      "Toni Kroos",
                      "22-23"
                    ],
                    [
                      "Andriy Lunin",
                      "22-23"
                    ],
                    [
                      "Mariano",
                      "22-23"
                    ],
                    [
                      "Ferland Mendy",
                      "22-23"
                    ],
                    [
                      "Éder Militão",
                      "22-23"
                    ],
                    [
                      "Luka Modrić",
                      "22-23"
                    ],
                    [
                      "Nacho",
                      "22-23"
                    ],
                    [
                      "Álvaro Odriozola",
                      "22-23"
                    ],
                    [
                      "Álvaro Rodríguez",
                      "22-23"
                    ],
                    [
                      "Rodrygo",
                      "22-23"
                    ],
                    [
                      "Antonio Rüdiger",
                      "22-23"
                    ],
                    [
                      "Aurélien Tchouaméni",
                      "22-23"
                    ],
                    [
                      "Jesús Vallejo",
                      "22-23"
                    ],
                    [
                      "Federico Valverde",
                      "22-23"
                    ],
                    [
                      "Lucas Vázquez",
                      "22-23"
                    ]
                  ],
                  "hovertemplate": "periodo=%{customdata[1]}<br>Gls=%{x}<br>Ast=%{y}<br>size=%{marker.size}<br>Player=%{customdata[0]}<extra></extra>",
                  "legendgroup": "22-23",
                  "marker": {
                    "color": "#8b5cf6",
                    "size": {
                      "bdata": "m3fHYzfr5D+amZmZmZm5P+/MV7pQaQFA3KqYj9IpCUA1EWH90ITOP86q+pZqHtg/mpmZmZmZuT+bd8djN+vkP5qZmZmZmbk/NRFh/dCEzj8J3nzGUdcFQM+ZEXw5x+0/mpmZmZmZuT+amZmZmZm5PzURYf3QhM4/tYjsbzhZ6T91VRtEnRrxP86q+pZqHtg/mpmZmZmZuT/OqvqWah7YP3xVakBRoANANRFh/dCEzj+bd8djN+vkP5qZmZmZmbk/qXdlXJ/2+T+1iOxvOFnpPw==",
                      "dtype": "f8"
                    },
                    "sizemode": "area",
                    "sizeref": 0.013746752798775656,
                    "symbol": "circle"
                  },
                  "mode": "markers",
                  "name": "22-23",
                  "orientation": "v",
                  "showlegend": true,
                  "type": "scatter",
                  "x": {
                    "bdata": "dPOiAztH1b/X3Ap/tKTgv5bP/DONsvI/k98NEwBcCEDX3Ap/tKTgv9fcCn+0pOC/19wKf7Sk4L/X3Ap/tKTgv9fcCn+0pOC/19wKf7Sk4L8kgZmyGLP1P3VaYBIaisK/19wKf7Sk4L/X3Ap/tKTgv9fcCn+0pOC/cyUo5nzB2j9yvmrXnX7NP3TzogM7R9W/19wKf7Sk4L9086IDO0fVv5bP/DONsvI/dPOiAztH1b/X3Ap/tKTgv9fcCn+0pOC/8tiGbexi6T9yvmrXnX7NPw==",
                    "dtype": "f8"
                  },
                  "xaxis": "x",
                  "y": {
                    "bdata": "wNlLYFpj1j8JNrB5L+zov+UH/uzEp/c/wNlLYFpj1j92/yaCdsTZv7At2Q7hCJu/CTaweS/s6L8uo8JooTvnPwk2sHkv7Oi/dv8mgnbE2b+tjPSgWdsEQC6jwmihO+c/CTaweS/s6L8JNrB5L+zov3b/JoJ2xNm/CTaweS/s6L/A2UtgWmPWP3b/JoJ2xNm/CTaweS/s6L92/yaCdsTZvxlfzZLc2AFACTaweS/s6L8uo8JooTvnPwk2sHkv7Oi/LqPCaKE75z92/yaCdsTZvw==",
                    "dtype": "f8"
                  },
                  "yaxis": "y"
                },
                {
                  "customdata": [
                    [
                      "Lucas Vázquez",
                      "23-24"
                    ],
                    [
                      "Federico Valverde",
                      "23-24"
                    ],
                    [
                      "Aurélien Tchouaméni",
                      "23-24"
                    ],
                    [
                      "Antonio Rüdiger",
                      "23-24"
                    ],
                    [
                      "Rodrygo",
                      "23-24"
                    ],
                    [
                      "Álvaro Rodríguez",
                      "23-24"
                    ],
                    [
                      "Nicolás Paz",
                      "23-24"
                    ],
                    [
                      "Nacho",
                      "23-24"
                    ],
                    [
                      "Luka Modrić",
                      "23-24"
                    ],
                    [
                      "Éder Militão",
                      "23-24"
                    ],
                    [
                      "Ferland Mendy",
                      "23-24"
                    ],
                    [
                      "Mario Martín",
                      "23-24"
                    ],
                    [
                      "Andriy Lunin",
                      "23-24"
                    ],
                    [
                      "Toni Kroos",
                      "23-24"
                    ],
                    [
                      "Vinicius Júnior",
                      "23-24"
                    ],
                    [
                      "Joselu",
                      "23-24"
                    ],
                    [
                      "Arda Güler",
                      "23-24"
                    ],
                    [
                      "Gonzalo García",
                      "23-24"
                    ],
                    [
                      "Fran Garcia",
                      "23-24"
                    ],
                    [
                      "Brahim Díaz",
                      "23-24"
                    ],
                    [
                      "Thibaut Courtois",
                      "23-24"
                    ],
                    [
                      "Dani Ceballos",
                      "23-24"
                    ],
                    [
                      "Dani Carvajal",
                      "23-24"
                    ],
                    [
                      "Eduardo Camavinga",
                      "23-24"
                    ],
                    [
                      "Jude Bellingham",
                      "23-24"
                    ],
                    [
                      "Kepa Arrizabalaga",
                      "23-24"
                    ],
                    [
                      "David Alaba",
                      "23-24"
                    ]
                  ],
                  "hovertemplate": "periodo=%{customdata[1]}<br>Gls=%{x}<br>Ast=%{y}<br>size=%{marker.size}<br>Player=%{customdata[0]}<extra></extra>",
                  "legendgroup": "23-24",
                  "marker": {
                    "color": "#ec4899",
                    "size": {
                      "bdata": "j2ZAUJ6I9T+PZkBQnoj1P5t3x2M36+Q/NRFh/dCEzj/vzFe6UGkBQJqZmZmZmbk/mpmZmZmZuT81EWH90ITOPwLeLcqdUfM/mpmZmZmZuT+amZmZmZm5P5qZmZmZmbk/mpmZmZmZuT+PZkBQnoj1P08ihgnS8gZANgB44p8t/D/PmRF8OcftP5qZmZmZmbk/z5kRfDnH7T+oiE530E0AQJqZmZmZmbk/zqr6lmoe2D91VRtEnRrxP86q+pZqHtg/r3e0WFN8DECamZmZmZm5PzURYf3QhM4/",
                      "dtype": "f8"
                    },
                    "sizemode": "area",
                    "sizeref": 0.013746752798775656,
                    "symbol": "circle"
                  },
                  "mode": "markers",
                  "name": "23-24",
                  "orientation": "v",
                  "showlegend": true,
                  "type": "scatter",
                  "x": {
                    "bdata": "+ccUigfppT91WmASGorCv/nHFIoH6aU/dPOiAztH1b8kgZmyGLP1P9fcCn+0pOC/19wKf7Sk4L/X3Ap/tKTgv3VaYBIaisK/19wKf7Sk4L/X3Ap/tKTgv9fcCn+0pOC/19wKf7Sk4L9086IDO0fVv3Z81BXpWgJAJIGZshiz9T/WdU1w1WHjP9fcCn+0pOC/dPOiAztH1b8PPMBqA2TvP9fcCn+0pOC/19wKf7Sk4L9yvmrXnX7NP9fcCn+0pOC/k98NEwBcCEDX3Ap/tKTgv9fcCn+0pOC/",
                    "dtype": "f8"
                  },
                  "xaxis": "x",
                  "y": {
                    "bdata": "5Qf+7MSn9z8LY0wJv6z9P3b/JoJ2xNm/CTaweS/s6L++rK/QyqLxPwk2sHkv7Oi/CTaweS/s6L92/yaCdsTZv+UH/uzEp/c/CTaweS/s6L8JNrB5L+zovwk2sHkv7Oi/CTaweS/s6L8ZX82S3NgBQL6sr9DKovE/sC3ZDuEIm78JNrB5L+zovwk2sHkv7Oi/vqyv0Mqi8T/lB/7sxKf3Pwk2sHkv7Oi/sC3ZDuEIm7/A2UtgWmPWP7At2Q7hCJu/5Qf+7MSn9z8JNrB5L+zov3b/JoJ2xNm/",
                    "dtype": "f8"
                  },
                  "yaxis": "y"
                },
                {
                  "customdata": [
                    [
                      "Lorenzo Aguado",
                      "24-25"
                    ],
                    [
                      "David Alaba",
                      "24-25"
                    ],
                    [
                      "Raúl Asencio",
                      "24-25"
                    ],
                    [
                      "Jude Bellingham",
                      "24-25"
                    ],
                    [
                      "Eduardo Camavinga",
                      "24-25"
                    ],
                    [
                      "Dani Carvajal",
                      "24-25"
                    ],
                    [
                      "Dani Ceballos",
                      "24-25"
                    ],
                    [
                      "Chema",
                      "24-25"
                    ],
                    [
                      "Thibaut Courtois",
                      "24-25"
                    ],
                    [
                      "Brahim Díaz",
                      "24-25"
                    ],
                    [
                      "Endrick",
                      "24-25"
                    ],
                    [
                      "Fran",
                      "24-25"
                    ],
                    [
                      "Fran Garcia",
                      "24-25"
                    ],
                    [
                      "Gonzalo García",
                      "24-25"
                    ],
                    [
                      "Arda Güler",
                      "24-25"
                    ],
                    [
                      "Vinicius Júnior",
                      "24-25"
                    ],
                    [
                      "Andriy Lunin",
                      "24-25"
                    ],
                    [
                      "Kylian Mbappé",
                      "24-25"
                    ],
                    [
                      "Ferland Mendy",
                      "24-25"
                    ],
                    [
                      "Éder Militão",
                      "24-25"
                    ],
                    [
                      "Luka Modrić",
                      "24-25"
                    ],
                    [
                      "Víctor Muñoz",
                      "24-25"
                    ],
                    [
                      "Jacobo Ramón",
                      "24-25"
                    ],
                    [
                      "Rodrygo",
                      "24-25"
                    ],
                    [
                      "Antonio Rüdiger",
                      "24-25"
                    ],
                    [
                      "Aurélien Tchouaméni",
                      "24-25"
                    ],
                    [
                      "Jesús Vallejo",
                      "24-25"
                    ],
                    [
                      "Federico Valverde",
                      "24-25"
                    ],
                    [
                      "Lucas Vázquez",
                      "24-25"
                    ],
                    [
                      "Daniel Yáñez",
                      "24-25"
                    ]
                  ],
                  "hovertemplate": "periodo=%{customdata[1]}<br>Gls=%{x}<br>Ast=%{y}<br>size=%{marker.size}<br>Player=%{customdata[0]}<extra></extra>",
                  "legendgroup": "24-25",
                  "marker": {
                    "color": "#f59e0b",
                    "size": {
                      "bdata": "mpmZmZmZuT+amZmZmZm5PzURYf3QhM4/fFVqQFGgA0CBZqJXNn3gPzURYf3QhM4/mpmZmZmZuT+amZmZmZm5P5qZmZmZmbk/z5kRfDnH7T81EWH90ITOP5qZmZmZmbk/zqr6lmoe2D81EWH90ITOP3VVG0SdGvE/Cd58xlHXBUA1EWH90ITOPxXvA9rqORNANRFh/dCEzj/OqvqWah7YPwLeLcqdUfM/mpmZmZmZuT81EWH90ITOP6l3ZVyf9vk/mpmZmZmZuT+amZmZmZm5PzURYf3QhM4/HO9S1p6/9z/PmRF8OcftP5qZmZmZmbk/",
                      "dtype": "f8"
                    },
                    "sizemode": "area",
                    "sizeref": 0.013746752798775656,
                    "symbol": "circle"
                  },
                  "mode": "markers",
                  "name": "24-25",
                  "orientation": "v",
                  "showlegend": true,
                  "type": "scatter",
                  "x": {
                    "bdata": "19wKf7Sk4L/X3Ap/tKTgv9fcCn+0pOC/ls/8M42y8j9086IDO0fVv3TzogM7R9W/19wKf7Sk4L/X3Ap/tKTgv9fcCn+0pOC/cr5q151+zT9086IDO0fVv9fcCn+0pOC/19wKf7Sk4L/X3Ap/tKTgv/nHFIoH6aU/szI2MaSz+D/X3Ap/tKTgv3UEXYWiLxVA19wKf7Sk4L9086IDO0fVv3VaYBIaisK/19wKf7Sk4L9086IDO0fVv9Z1TXDVYeM/19wKf7Sk4L/X3Ap/tKTgv9fcCn+0pOC/1nVNcNVh4z9086IDO0fVv9fcCn+0pOC/",
                    "dtype": "f8"
                  },
                  "xaxis": "x",
                  "y": {
                    "bdata": "CTaweS/s6L8JNrB5L+zov3b/JoJ2xNm/GV/NktzYAUCwLdkO4Qibvwk2sHkv7Oi/CTaweS/s6L8JNrB5L+zovwk2sHkv7Oi/sC3ZDuEIm78JNrB5L+zovwk2sHkv7Oi/sC3ZDuEIm792/yaCdsTZvy6jwmihO+c/GV/NktzYAUB2/yaCdsTZv8DZS2BaY9Y/dv8mgnbE2b92/yaCdsTZv+UH/uzEp/c/CTaweS/s6L8JNrB5L+zov76sr9DKovE/CTaweS/s6L8JNrB5L+zov3b/JoJ2xNm/LqPCaKE75z++rK/QyqLxPwk2sHkv7Oi/",
                    "dtype": "f8"
                  },
                  "yaxis": "y"
                }
              ],
              "layout": {
                "legend": {
                  "itemsizing": "constant",
                  "title": {
                    "text": "periodo"
                  },
                  "tracegroupgap": 0
                },
                "margin": {
                  "t": 60
                },
                "template": {
                  "data": {
                    "bar": [
                      {
                        "error_x": {
                          "color": "#2a3f5f"
                        },
                        "error_y": {
                          "color": "#2a3f5f"
                        },
                        "marker": {
                          "line": {
                            "color": "white",
                            "width": 0.5
                          },
                          "pattern": {
                            "fillmode": "overlay",
                            "size": 10,
                            "solidity": 0.2
                          }
                        },
                        "type": "bar"
                      }
                    ],
                    "barpolar": [
                      {
                        "marker": {
                          "line": {
                            "color": "white",
                            "width": 0.5
                          },
                          "pattern": {
                            "fillmode": "overlay",
                            "size": 10,
                            "solidity": 0.2
                          }
                        },
                        "type": "barpolar"
                      }
                    ],
                    "carpet": [
                      {
                        "aaxis": {
                          "endlinecolor": "#2a3f5f",
                          "gridcolor": "#C8D4E3",
                          "linecolor": "#C8D4E3",
                          "minorgridcolor": "#C8D4E3",
                          "startlinecolor": "#2a3f5f"
                        },
                        "baxis": {
                          "endlinecolor": "#2a3f5f",
                          "gridcolor": "#C8D4E3",
                          "linecolor": "#C8D4E3",
                          "minorgridcolor": "#C8D4E3",
                          "startlinecolor": "#2a3f5f"
                        },
                        "type": "carpet"
                      }
                    ],
                    "choropleth": [
                      {
                        "colorbar": {
                          "outlinewidth": 0,
                          "ticks": ""
                        },
                        "type": "choropleth"
                      }
                    ],
                    "contour": [
                      {
                        "colorbar": {
                          "outlinewidth": 0,
                          "ticks": ""
                        },
                        "colorscale": [
                          [
                            0,
                            "#0d0887"
                          ],
                          [
                            0.1111111111111111,
                            "#46039f"
                          ],
                          [
                            0.2222222222222222,
                            "#7201a8"
                          ],
                          [
                            0.3333333333333333,
                            "#9c179e"
                          ],
                          [
                            0.4444444444444444,
                            "#bd3786"
                          ],
                          [
                            0.5555555555555556,
                            "#d8576b"
                          ],
                          [
                            0.6666666666666666,
                            "#ed7953"
                          ],
                          [
                            0.7777777777777778,
                            "#fb9f3a"
                          ],
                          [
                            0.8888888888888888,
                            "#fdca26"
                          ],
                          [
                            1,
                            "#f0f921"
                          ]
                        ],
                        "type": "contour"
                      }
                    ],
                    "contourcarpet": [
                      {
                        "colorbar": {
                          "outlinewidth": 0,
                          "ticks": ""
                        },
                        "type": "contourcarpet"
                      }
                    ],
                    "heatmap": [
                      {
                        "colorbar": {
                          "outlinewidth": 0,
                          "ticks": ""
                        },
                        "colorscale": [
                          [
                            0,
                            "#0d0887"
                          ],
                          [
                            0.1111111111111111,
                            "#46039f"
                          ],
                          [
                            0.2222222222222222,
                            "#7201a8"
                          ],
                          [
                            0.3333333333333333,
                            "#9c179e"
                          ],
                          [
                            0.4444444444444444,
                            "#bd3786"
                          ],
                          [
                            0.5555555555555556,
                            "#d8576b"
                          ],
                          [
                            0.6666666666666666,
                            "#ed7953"
                          ],
                          [
                            0.7777777777777778,
                            "#fb9f3a"
                          ],
                          [
                            0.8888888888888888,
                            "#fdca26"
                          ],
                          [
                            1,
                            "#f0f921"
                          ]
                        ],
                        "type": "heatmap"
                      }
                    ],
                    "histogram": [
                      {
                        "marker": {
                          "pattern": {
                            "fillmode": "overlay",
                            "size": 10,
                            "solidity": 0.2
                          }
                        },
                        "type": "histogram"
                      }
                    ],
                    "histogram2d": [
                      {
                        "colorbar": {
                          "outlinewidth": 0,
                          "ticks": ""
                        },
                        "colorscale": [
                          [
                            0,
                            "#0d0887"
                          ],
                          [
                            0.1111111111111111,
                            "#46039f"
                          ],
                          [
                            0.2222222222222222,
                            "#7201a8"
                          ],
                          [
                            0.3333333333333333,
                            "#9c179e"
                          ],
                          [
                            0.4444444444444444,
                            "#bd3786"
                          ],
                          [
                            0.5555555555555556,
                            "#d8576b"
                          ],
                          [
                            0.6666666666666666,
                            "#ed7953"
                          ],
                          [
                            0.7777777777777778,
                            "#fb9f3a"
                          ],
                          [
                            0.8888888888888888,
                            "#fdca26"
                          ],
                          [
                            1,
                            "#f0f921"
                          ]
                        ],
                        "type": "histogram2d"
                      }
                    ],
                    "histogram2dcontour": [
                      {
                        "colorbar": {
                          "outlinewidth": 0,
                          "ticks": ""
                        },
                        "colorscale": [
                          [
                            0,
                            "#0d0887"
                          ],
                          [
                            0.1111111111111111,
                            "#46039f"
                          ],
                          [
                            0.2222222222222222,
                            "#7201a8"
                          ],
                          [
                            0.3333333333333333,
                            "#9c179e"
                          ],
                          [
                            0.4444444444444444,
                            "#bd3786"
                          ],
                          [
                            0.5555555555555556,
                            "#d8576b"
                          ],
                          [
                            0.6666666666666666,
                            "#ed7953"
                          ],
                          [
                            0.7777777777777778,
                            "#fb9f3a"
                          ],
                          [
                            0.8888888888888888,
                            "#fdca26"
                          ],
                          [
                            1,
                            "#f0f921"
                          ]
                        ],
                        "type": "histogram2dcontour"
                      }
                    ],
                    "mesh3d": [
                      {
                        "colorbar": {
                          "outlinewidth": 0,
                          "ticks": ""
                        },
                        "type": "mesh3d"
                      }
                    ],
                    "parcoords": [
                      {
                        "line": {
                          "colorbar": {
                            "outlinewidth": 0,
                            "ticks": ""
                          }
                        },
                        "type": "parcoords"
                      }
                    ],
                    "pie": [
                      {
                        "automargin": true,
                        "type": "pie"
                      }
                    ],
                    "scatter": [
                      {
                        "fillpattern": {
                          "fillmode": "overlay",
                          "size": 10,
                          "solidity": 0.2
                        },
                        "type": "scatter"
                      }
                    ],
                    "scatter3d": [
                      {
                        "line": {
                          "colorbar": {
                            "outlinewidth": 0,
                            "ticks": ""
                          }
                        },
                        "marker": {
                          "colorbar": {
                            "outlinewidth": 0,
                            "ticks": ""
                          }
                        },
                        "type": "scatter3d"
                      }
                    ],
                    "scattercarpet": [
                      {
                        "marker": {
                          "colorbar": {
                            "outlinewidth": 0,
                            "ticks": ""
                          }
                        },
                        "type": "scattercarpet"
                      }
                    ],
                    "scattergeo": [
                      {
                        "marker": {
                          "colorbar": {
                            "outlinewidth": 0,
                            "ticks": ""
                          }
                        },
                        "type": "scattergeo"
                      }
                    ],
                    "scattergl": [
                      {
                        "marker": {
                          "colorbar": {
                            "outlinewidth": 0,
                            "ticks": ""
                          }
                        },
                        "type": "scattergl"
                      }
                    ],
                    "scattermap": [
                      {
                        "marker": {
                          "colorbar": {
                            "outlinewidth": 0,
                            "ticks": ""
                          }
                        },
                        "type": "scattermap"
                      }
                    ],
                    "scattermapbox": [
                      {
                        "marker": {
                          "colorbar": {
                            "outlinewidth": 0,
                            "ticks": ""
                          }
                        },
                        "type": "scattermapbox"
                      }
                    ],
                    "scatterpolar": [
                      {
                        "marker": {
                          "colorbar": {
                            "outlinewidth": 0,
                            "ticks": ""
                          }
                        },
                        "type": "scatterpolar"
                      }
                    ],
                    "scatterpolargl": [
                      {
                        "marker": {
                          "colorbar": {
                            "outlinewidth": 0,
                            "ticks": ""
                          }
                        },
                        "type": "scatterpolargl"
                      }
                    ],
                    "scatterternary": [
                      {
                        "marker": {
                          "colorbar": {
                            "outlinewidth": 0,
                            "ticks": ""
                          }
                        },
                        "type": "scatterternary"
                      }
                    ],
                    "surface": [
                      {
                        "colorbar": {
                          "outlinewidth": 0,
                          "ticks": ""
                        },
                        "colorscale": [
                          [
                            0,
                            "#0d0887"
                          ],
                          [
                            0.1111111111111111,
                            "#46039f"
                          ],
                          [
                            0.2222222222222222,
                            "#7201a8"
                          ],
                          [
                            0.3333333333333333,
                            "#9c179e"
                          ],
                          [
                            0.4444444444444444,
                            "#bd3786"
                          ],
                          [
                            0.5555555555555556,
                            "#d8576b"
                          ],
                          [
                            0.6666666666666666,
                            "#ed7953"
                          ],
                          [
                            0.7777777777777778,
                            "#fb9f3a"
                          ],
                          [
                            0.8888888888888888,
                            "#fdca26"
                          ],
                          [
                            1,
                            "#f0f921"
                          ]
                        ],
                        "type": "surface"
                      }
                    ],
                    "table": [
                      {
                        "cells": {
                          "fill": {
                            "color": "#EBF0F8"
                          },
                          "line": {
                            "color": "white"
                          }
                        },
                        "header": {
                          "fill": {
                            "color": "#C8D4E3"
                          },
                          "line": {
                            "color": "white"
                          }
                        },
                        "type": "table"
                      }
                    ]
                  },
                  "layout": {
                    "annotationdefaults": {
                      "arrowcolor": "#2a3f5f",
                      "arrowhead": 0,
                      "arrowwidth": 1
                    },
                    "autotypenumbers": "strict",
                    "coloraxis": {
                      "colorbar": {
                        "outlinewidth": 0,
                        "ticks": ""
                      }
                    },
                    "colorscale": {
                      "diverging": [
                        [
                          0,
                          "#8e0152"
                        ],
                        [
                          0.1,
                          "#c51b7d"
                        ],
                        [
                          0.2,
                          "#de77ae"
                        ],
                        [
                          0.3,
                          "#f1b6da"
                        ],
                        [
                          0.4,
                          "#fde0ef"
                        ],
                        [
                          0.5,
                          "#f7f7f7"
                        ],
                        [
                          0.6,
                          "#e6f5d0"
                        ],
                        [
                          0.7,
                          "#b8e186"
                        ],
                        [
                          0.8,
                          "#7fbc41"
                        ],
                        [
                          0.9,
                          "#4d9221"
                        ],
                        [
                          1,
                          "#276419"
                        ]
                      ],
                      "sequential": [
                        [
                          0,
                          "#0d0887"
                        ],
                        [
                          0.1111111111111111,
                          "#46039f"
                        ],
                        [
                          0.2222222222222222,
                          "#7201a8"
                        ],
                        [
                          0.3333333333333333,
                          "#9c179e"
                        ],
                        [
                          0.4444444444444444,
                          "#bd3786"
                        ],
                        [
                          0.5555555555555556,
                          "#d8576b"
                        ],
                        [
                          0.6666666666666666,
                          "#ed7953"
                        ],
                        [
                          0.7777777777777778,
                          "#fb9f3a"
                        ],
                        [
                          0.8888888888888888,
                          "#fdca26"
                        ],
                        [
                          1,
                          "#f0f921"
                        ]
                      ],
                      "sequentialminus": [
                        [
                          0,
                          "#0d0887"
                        ],
                        [
                          0.1111111111111111,
                          "#46039f"
                        ],
                        [
                          0.2222222222222222,
                          "#7201a8"
                        ],
                        [
                          0.3333333333333333,
                          "#9c179e"
                        ],
                        [
                          0.4444444444444444,
                          "#bd3786"
                        ],
                        [
                          0.5555555555555556,
                          "#d8576b"
                        ],
                        [
                          0.6666666666666666,
                          "#ed7953"
                        ],
                        [
                          0.7777777777777778,
                          "#fb9f3a"
                        ],
                        [
                          0.8888888888888888,
                          "#fdca26"
                        ],
                        [
                          1,
                          "#f0f921"
                        ]
                      ]
                    },
                    "colorway": [
                      "#636efa",
                      "#EF553B",
                      "#00cc96",
                      "#ab63fa",
                      "#FFA15A",
                      "#19d3f3",
                      "#FF6692",
                      "#B6E880",
                      "#FF97FF",
                      "#FECB52"
                    ],
                    "font": {
                      "color": "#2a3f5f"
                    },
                    "geo": {
                      "bgcolor": "white",
                      "lakecolor": "white",
                      "landcolor": "white",
                      "showlakes": true,
                      "showland": true,
                      "subunitcolor": "#C8D4E3"
                    },
                    "hoverlabel": {
                      "align": "left"
                    },
                    "hovermode": "closest",
                    "mapbox": {
                      "style": "light"
                    },
                    "paper_bgcolor": "white",
                    "plot_bgcolor": "white",
                    "polar": {
                      "angularaxis": {
                        "gridcolor": "#EBF0F8",
                        "linecolor": "#EBF0F8",
                        "ticks": ""
                      },
                      "bgcolor": "white",
                      "radialaxis": {
                        "gridcolor": "#EBF0F8",
                        "linecolor": "#EBF0F8",
                        "ticks": ""
                      }
                    },
                    "scene": {
                      "xaxis": {
                        "backgroundcolor": "white",
                        "gridcolor": "#DFE8F3",
                        "gridwidth": 2,
                        "linecolor": "#EBF0F8",
                        "showbackground": true,
                        "ticks": "",
                        "zerolinecolor": "#EBF0F8"
                      },
                      "yaxis": {
                        "backgroundcolor": "white",
                        "gridcolor": "#DFE8F3",
                        "gridwidth": 2,
                        "linecolor": "#EBF0F8",
                        "showbackground": true,
                        "ticks": "",
                        "zerolinecolor": "#EBF0F8"
                      },
                      "zaxis": {
                        "backgroundcolor": "white",
                        "gridcolor": "#DFE8F3",
                        "gridwidth": 2,
                        "linecolor": "#EBF0F8",
                        "showbackground": true,
                        "ticks": "",
                        "zerolinecolor": "#EBF0F8"
                      }
                    },
                    "shapedefaults": {
                      "line": {
                        "color": "#2a3f5f"
                      }
                    },
                    "ternary": {
                      "aaxis": {
                        "gridcolor": "#DFE8F3",
                        "linecolor": "#A2B1C6",
                        "ticks": ""
                      },
                      "baxis": {
                        "gridcolor": "#DFE8F3",
                        "linecolor": "#A2B1C6",
                        "ticks": ""
                      },
                      "bgcolor": "white",
                      "caxis": {
                        "gridcolor": "#DFE8F3",
                        "linecolor": "#A2B1C6",
                        "ticks": ""
                      }
                    },
                    "title": {
                      "x": 0.05
                    },
                    "xaxis": {
                      "automargin": true,
                      "gridcolor": "#EBF0F8",
                      "linecolor": "#EBF0F8",
                      "ticks": "",
                      "title": {
                        "standoff": 15
                      },
                      "zerolinecolor": "#EBF0F8",
                      "zerolinewidth": 2
                    },
                    "yaxis": {
                      "automargin": true,
                      "gridcolor": "#EBF0F8",
                      "linecolor": "#EBF0F8",
                      "ticks": "",
                      "title": {
                        "standoff": 15
                      },
                      "zerolinecolor": "#EBF0F8",
                      "zerolinewidth": 2
                    }
                  }
                },
                "title": {
                  "text": "Goles vs Asistencias"
                },
                "xaxis": {
                  "anchor": "y",
                  "domain": [
                    0,
                    1
                  ],
                  "title": {
                    "text": "Gls"
                  }
                },
                "yaxis": {
                  "anchor": "x",
                  "domain": [
                    0,
                    1
                  ],
                  "title": {
                    "text": "Ast"
                  }
                }
              }
            }
          },
          "metadata": {},
          "output_type": "display_data"
        }
      ],
      "source": [
        "plot_df = df_std[['Player', 'periodo', 'Gls', 'Ast', 'G+A']].copy()\n",
        "plot_df[['Gls', 'Ast', 'G+A']] = plot_df[['Gls', 'Ast', 'G+A']].apply(pd.to_numeric, errors='coerce')\n",
        "plot_df = plot_df.dropna(subset=['Gls', 'Ast', 'G+A'])\n",
        "\n",
        "sizes = plot_df['G+A'] - plot_df['G+A'].min() + 0.1\n",
        "\n",
        "fig = px.scatter(\n",
        "    plot_df,\n",
        "    x='Gls',\n",
        "    y='Ast',\n",
        "    hover_data=['Player', 'periodo'],\n",
        "    size=sizes,\n",
        "    color='periodo',\n",
        "    color_discrete_sequence=['#6366f1', '#8b5cf6', '#ec4899', '#f59e0b']\n",
        ")\n",
        "fig.update_layout(title='Goles vs Asistencias', template='plotly_white')\n",
        "fig.show()"
      ]
    },
    {
      "cell_type": "code",
      "execution_count": 134,
      "metadata": {},
      "outputs": [
        {
          "data": {
            "text/plain": [
              "periodo\n",
              "21-22    80.0\n",
              "22-23    73.0\n",
              "23-24    85.0\n",
              "24-25    78.0\n",
              "Name: Gls, dtype: float64"
            ]
          },
          "execution_count": 134,
          "metadata": {},
          "output_type": "execute_result"
        }
      ],
      "source": [
        "df.groupby('periodo').sum()[\"Gls\"]"
      ]
    },
    {
      "cell_type": "code",
      "execution_count": 135,
      "metadata": {},
      "outputs": [
        {
          "data": {
            "application/vnd.plotly.v1+json": {
              "config": {
                "plotlyServerURL": "https://plot.ly"
              },
              "data": [
                {
                  "hovertemplate": "color=21-22<br>x=%{x}<br>y=%{y}<extra></extra>",
                  "legendgroup": "21-22",
                  "marker": {
                    "color": "#6366f1",
                    "pattern": {
                      "shape": ""
                    }
                  },
                  "name": "21-22",
                  "orientation": "v",
                  "showlegend": true,
                  "textposition": "auto",
                  "type": "bar",
                  "x": [
                    "21-22"
                  ],
                  "xaxis": "x",
                  "y": {
                    "bdata": "AAAAAAAAVEA=",
                    "dtype": "f8"
                  },
                  "yaxis": "y"
                },
                {
                  "hovertemplate": "color=22-23<br>x=%{x}<br>y=%{y}<extra></extra>",
                  "legendgroup": "22-23",
                  "marker": {
                    "color": "#8b5cf6",
                    "pattern": {
                      "shape": ""
                    }
                  },
                  "name": "22-23",
                  "orientation": "v",
                  "showlegend": true,
                  "textposition": "auto",
                  "type": "bar",
                  "x": [
                    "22-23"
                  ],
                  "xaxis": "x",
                  "y": {
                    "bdata": "AAAAAABAUkA=",
                    "dtype": "f8"
                  },
                  "yaxis": "y"
                },
                {
                  "hovertemplate": "color=23-24<br>x=%{x}<br>y=%{y}<extra></extra>",
                  "legendgroup": "23-24",
                  "marker": {
                    "color": "#ec4899",
                    "pattern": {
                      "shape": ""
                    }
                  },
                  "name": "23-24",
                  "orientation": "v",
                  "showlegend": true,
                  "textposition": "auto",
                  "type": "bar",
                  "x": [
                    "23-24"
                  ],
                  "xaxis": "x",
                  "y": {
                    "bdata": "AAAAAABAVUA=",
                    "dtype": "f8"
                  },
                  "yaxis": "y"
                },
                {
                  "hovertemplate": "color=24-25<br>x=%{x}<br>y=%{y}<extra></extra>",
                  "legendgroup": "24-25",
                  "marker": {
                    "color": "#f59e0b",
                    "pattern": {
                      "shape": ""
                    }
                  },
                  "name": "24-25",
                  "orientation": "v",
                  "showlegend": true,
                  "textposition": "auto",
                  "type": "bar",
                  "x": [
                    "24-25"
                  ],
                  "xaxis": "x",
                  "y": {
                    "bdata": "AAAAAACAU0A=",
                    "dtype": "f8"
                  },
                  "yaxis": "y"
                }
              ],
              "layout": {
                "barmode": "relative",
                "legend": {
                  "title": {
                    "text": "color"
                  },
                  "tracegroupgap": 0
                },
                "margin": {
                  "t": 60
                },
                "showlegend": false,
                "template": {
                  "data": {
                    "bar": [
                      {
                        "error_x": {
                          "color": "#2a3f5f"
                        },
                        "error_y": {
                          "color": "#2a3f5f"
                        },
                        "marker": {
                          "line": {
                            "color": "white",
                            "width": 0.5
                          },
                          "pattern": {
                            "fillmode": "overlay",
                            "size": 10,
                            "solidity": 0.2
                          }
                        },
                        "type": "bar"
                      }
                    ],
                    "barpolar": [
                      {
                        "marker": {
                          "line": {
                            "color": "white",
                            "width": 0.5
                          },
                          "pattern": {
                            "fillmode": "overlay",
                            "size": 10,
                            "solidity": 0.2
                          }
                        },
                        "type": "barpolar"
                      }
                    ],
                    "carpet": [
                      {
                        "aaxis": {
                          "endlinecolor": "#2a3f5f",
                          "gridcolor": "#C8D4E3",
                          "linecolor": "#C8D4E3",
                          "minorgridcolor": "#C8D4E3",
                          "startlinecolor": "#2a3f5f"
                        },
                        "baxis": {
                          "endlinecolor": "#2a3f5f",
                          "gridcolor": "#C8D4E3",
                          "linecolor": "#C8D4E3",
                          "minorgridcolor": "#C8D4E3",
                          "startlinecolor": "#2a3f5f"
                        },
                        "type": "carpet"
                      }
                    ],
                    "choropleth": [
                      {
                        "colorbar": {
                          "outlinewidth": 0,
                          "ticks": ""
                        },
                        "type": "choropleth"
                      }
                    ],
                    "contour": [
                      {
                        "colorbar": {
                          "outlinewidth": 0,
                          "ticks": ""
                        },
                        "colorscale": [
                          [
                            0,
                            "#0d0887"
                          ],
                          [
                            0.1111111111111111,
                            "#46039f"
                          ],
                          [
                            0.2222222222222222,
                            "#7201a8"
                          ],
                          [
                            0.3333333333333333,
                            "#9c179e"
                          ],
                          [
                            0.4444444444444444,
                            "#bd3786"
                          ],
                          [
                            0.5555555555555556,
                            "#d8576b"
                          ],
                          [
                            0.6666666666666666,
                            "#ed7953"
                          ],
                          [
                            0.7777777777777778,
                            "#fb9f3a"
                          ],
                          [
                            0.8888888888888888,
                            "#fdca26"
                          ],
                          [
                            1,
                            "#f0f921"
                          ]
                        ],
                        "type": "contour"
                      }
                    ],
                    "contourcarpet": [
                      {
                        "colorbar": {
                          "outlinewidth": 0,
                          "ticks": ""
                        },
                        "type": "contourcarpet"
                      }
                    ],
                    "heatmap": [
                      {
                        "colorbar": {
                          "outlinewidth": 0,
                          "ticks": ""
                        },
                        "colorscale": [
                          [
                            0,
                            "#0d0887"
                          ],
                          [
                            0.1111111111111111,
                            "#46039f"
                          ],
                          [
                            0.2222222222222222,
                            "#7201a8"
                          ],
                          [
                            0.3333333333333333,
                            "#9c179e"
                          ],
                          [
                            0.4444444444444444,
                            "#bd3786"
                          ],
                          [
                            0.5555555555555556,
                            "#d8576b"
                          ],
                          [
                            0.6666666666666666,
                            "#ed7953"
                          ],
                          [
                            0.7777777777777778,
                            "#fb9f3a"
                          ],
                          [
                            0.8888888888888888,
                            "#fdca26"
                          ],
                          [
                            1,
                            "#f0f921"
                          ]
                        ],
                        "type": "heatmap"
                      }
                    ],
                    "histogram": [
                      {
                        "marker": {
                          "pattern": {
                            "fillmode": "overlay",
                            "size": 10,
                            "solidity": 0.2
                          }
                        },
                        "type": "histogram"
                      }
                    ],
                    "histogram2d": [
                      {
                        "colorbar": {
                          "outlinewidth": 0,
                          "ticks": ""
                        },
                        "colorscale": [
                          [
                            0,
                            "#0d0887"
                          ],
                          [
                            0.1111111111111111,
                            "#46039f"
                          ],
                          [
                            0.2222222222222222,
                            "#7201a8"
                          ],
                          [
                            0.3333333333333333,
                            "#9c179e"
                          ],
                          [
                            0.4444444444444444,
                            "#bd3786"
                          ],
                          [
                            0.5555555555555556,
                            "#d8576b"
                          ],
                          [
                            0.6666666666666666,
                            "#ed7953"
                          ],
                          [
                            0.7777777777777778,
                            "#fb9f3a"
                          ],
                          [
                            0.8888888888888888,
                            "#fdca26"
                          ],
                          [
                            1,
                            "#f0f921"
                          ]
                        ],
                        "type": "histogram2d"
                      }
                    ],
                    "histogram2dcontour": [
                      {
                        "colorbar": {
                          "outlinewidth": 0,
                          "ticks": ""
                        },
                        "colorscale": [
                          [
                            0,
                            "#0d0887"
                          ],
                          [
                            0.1111111111111111,
                            "#46039f"
                          ],
                          [
                            0.2222222222222222,
                            "#7201a8"
                          ],
                          [
                            0.3333333333333333,
                            "#9c179e"
                          ],
                          [
                            0.4444444444444444,
                            "#bd3786"
                          ],
                          [
                            0.5555555555555556,
                            "#d8576b"
                          ],
                          [
                            0.6666666666666666,
                            "#ed7953"
                          ],
                          [
                            0.7777777777777778,
                            "#fb9f3a"
                          ],
                          [
                            0.8888888888888888,
                            "#fdca26"
                          ],
                          [
                            1,
                            "#f0f921"
                          ]
                        ],
                        "type": "histogram2dcontour"
                      }
                    ],
                    "mesh3d": [
                      {
                        "colorbar": {
                          "outlinewidth": 0,
                          "ticks": ""
                        },
                        "type": "mesh3d"
                      }
                    ],
                    "parcoords": [
                      {
                        "line": {
                          "colorbar": {
                            "outlinewidth": 0,
                            "ticks": ""
                          }
                        },
                        "type": "parcoords"
                      }
                    ],
                    "pie": [
                      {
                        "automargin": true,
                        "type": "pie"
                      }
                    ],
                    "scatter": [
                      {
                        "fillpattern": {
                          "fillmode": "overlay",
                          "size": 10,
                          "solidity": 0.2
                        },
                        "type": "scatter"
                      }
                    ],
                    "scatter3d": [
                      {
                        "line": {
                          "colorbar": {
                            "outlinewidth": 0,
                            "ticks": ""
                          }
                        },
                        "marker": {
                          "colorbar": {
                            "outlinewidth": 0,
                            "ticks": ""
                          }
                        },
                        "type": "scatter3d"
                      }
                    ],
                    "scattercarpet": [
                      {
                        "marker": {
                          "colorbar": {
                            "outlinewidth": 0,
                            "ticks": ""
                          }
                        },
                        "type": "scattercarpet"
                      }
                    ],
                    "scattergeo": [
                      {
                        "marker": {
                          "colorbar": {
                            "outlinewidth": 0,
                            "ticks": ""
                          }
                        },
                        "type": "scattergeo"
                      }
                    ],
                    "scattergl": [
                      {
                        "marker": {
                          "colorbar": {
                            "outlinewidth": 0,
                            "ticks": ""
                          }
                        },
                        "type": "scattergl"
                      }
                    ],
                    "scattermap": [
                      {
                        "marker": {
                          "colorbar": {
                            "outlinewidth": 0,
                            "ticks": ""
                          }
                        },
                        "type": "scattermap"
                      }
                    ],
                    "scattermapbox": [
                      {
                        "marker": {
                          "colorbar": {
                            "outlinewidth": 0,
                            "ticks": ""
                          }
                        },
                        "type": "scattermapbox"
                      }
                    ],
                    "scatterpolar": [
                      {
                        "marker": {
                          "colorbar": {
                            "outlinewidth": 0,
                            "ticks": ""
                          }
                        },
                        "type": "scatterpolar"
                      }
                    ],
                    "scatterpolargl": [
                      {
                        "marker": {
                          "colorbar": {
                            "outlinewidth": 0,
                            "ticks": ""
                          }
                        },
                        "type": "scatterpolargl"
                      }
                    ],
                    "scatterternary": [
                      {
                        "marker": {
                          "colorbar": {
                            "outlinewidth": 0,
                            "ticks": ""
                          }
                        },
                        "type": "scatterternary"
                      }
                    ],
                    "surface": [
                      {
                        "colorbar": {
                          "outlinewidth": 0,
                          "ticks": ""
                        },
                        "colorscale": [
                          [
                            0,
                            "#0d0887"
                          ],
                          [
                            0.1111111111111111,
                            "#46039f"
                          ],
                          [
                            0.2222222222222222,
                            "#7201a8"
                          ],
                          [
                            0.3333333333333333,
                            "#9c179e"
                          ],
                          [
                            0.4444444444444444,
                            "#bd3786"
                          ],
                          [
                            0.5555555555555556,
                            "#d8576b"
                          ],
                          [
                            0.6666666666666666,
                            "#ed7953"
                          ],
                          [
                            0.7777777777777778,
                            "#fb9f3a"
                          ],
                          [
                            0.8888888888888888,
                            "#fdca26"
                          ],
                          [
                            1,
                            "#f0f921"
                          ]
                        ],
                        "type": "surface"
                      }
                    ],
                    "table": [
                      {
                        "cells": {
                          "fill": {
                            "color": "#EBF0F8"
                          },
                          "line": {
                            "color": "white"
                          }
                        },
                        "header": {
                          "fill": {
                            "color": "#C8D4E3"
                          },
                          "line": {
                            "color": "white"
                          }
                        },
                        "type": "table"
                      }
                    ]
                  },
                  "layout": {
                    "annotationdefaults": {
                      "arrowcolor": "#2a3f5f",
                      "arrowhead": 0,
                      "arrowwidth": 1
                    },
                    "autotypenumbers": "strict",
                    "coloraxis": {
                      "colorbar": {
                        "outlinewidth": 0,
                        "ticks": ""
                      }
                    },
                    "colorscale": {
                      "diverging": [
                        [
                          0,
                          "#8e0152"
                        ],
                        [
                          0.1,
                          "#c51b7d"
                        ],
                        [
                          0.2,
                          "#de77ae"
                        ],
                        [
                          0.3,
                          "#f1b6da"
                        ],
                        [
                          0.4,
                          "#fde0ef"
                        ],
                        [
                          0.5,
                          "#f7f7f7"
                        ],
                        [
                          0.6,
                          "#e6f5d0"
                        ],
                        [
                          0.7,
                          "#b8e186"
                        ],
                        [
                          0.8,
                          "#7fbc41"
                        ],
                        [
                          0.9,
                          "#4d9221"
                        ],
                        [
                          1,
                          "#276419"
                        ]
                      ],
                      "sequential": [
                        [
                          0,
                          "#0d0887"
                        ],
                        [
                          0.1111111111111111,
                          "#46039f"
                        ],
                        [
                          0.2222222222222222,
                          "#7201a8"
                        ],
                        [
                          0.3333333333333333,
                          "#9c179e"
                        ],
                        [
                          0.4444444444444444,
                          "#bd3786"
                        ],
                        [
                          0.5555555555555556,
                          "#d8576b"
                        ],
                        [
                          0.6666666666666666,
                          "#ed7953"
                        ],
                        [
                          0.7777777777777778,
                          "#fb9f3a"
                        ],
                        [
                          0.8888888888888888,
                          "#fdca26"
                        ],
                        [
                          1,
                          "#f0f921"
                        ]
                      ],
                      "sequentialminus": [
                        [
                          0,
                          "#0d0887"
                        ],
                        [
                          0.1111111111111111,
                          "#46039f"
                        ],
                        [
                          0.2222222222222222,
                          "#7201a8"
                        ],
                        [
                          0.3333333333333333,
                          "#9c179e"
                        ],
                        [
                          0.4444444444444444,
                          "#bd3786"
                        ],
                        [
                          0.5555555555555556,
                          "#d8576b"
                        ],
                        [
                          0.6666666666666666,
                          "#ed7953"
                        ],
                        [
                          0.7777777777777778,
                          "#fb9f3a"
                        ],
                        [
                          0.8888888888888888,
                          "#fdca26"
                        ],
                        [
                          1,
                          "#f0f921"
                        ]
                      ]
                    },
                    "colorway": [
                      "#636efa",
                      "#EF553B",
                      "#00cc96",
                      "#ab63fa",
                      "#FFA15A",
                      "#19d3f3",
                      "#FF6692",
                      "#B6E880",
                      "#FF97FF",
                      "#FECB52"
                    ],
                    "font": {
                      "color": "#2a3f5f"
                    },
                    "geo": {
                      "bgcolor": "white",
                      "lakecolor": "white",
                      "landcolor": "white",
                      "showlakes": true,
                      "showland": true,
                      "subunitcolor": "#C8D4E3"
                    },
                    "hoverlabel": {
                      "align": "left"
                    },
                    "hovermode": "closest",
                    "mapbox": {
                      "style": "light"
                    },
                    "paper_bgcolor": "white",
                    "plot_bgcolor": "white",
                    "polar": {
                      "angularaxis": {
                        "gridcolor": "#EBF0F8",
                        "linecolor": "#EBF0F8",
                        "ticks": ""
                      },
                      "bgcolor": "white",
                      "radialaxis": {
                        "gridcolor": "#EBF0F8",
                        "linecolor": "#EBF0F8",
                        "ticks": ""
                      }
                    },
                    "scene": {
                      "xaxis": {
                        "backgroundcolor": "white",
                        "gridcolor": "#DFE8F3",
                        "gridwidth": 2,
                        "linecolor": "#EBF0F8",
                        "showbackground": true,
                        "ticks": "",
                        "zerolinecolor": "#EBF0F8"
                      },
                      "yaxis": {
                        "backgroundcolor": "white",
                        "gridcolor": "#DFE8F3",
                        "gridwidth": 2,
                        "linecolor": "#EBF0F8",
                        "showbackground": true,
                        "ticks": "",
                        "zerolinecolor": "#EBF0F8"
                      },
                      "zaxis": {
                        "backgroundcolor": "white",
                        "gridcolor": "#DFE8F3",
                        "gridwidth": 2,
                        "linecolor": "#EBF0F8",
                        "showbackground": true,
                        "ticks": "",
                        "zerolinecolor": "#EBF0F8"
                      }
                    },
                    "shapedefaults": {
                      "line": {
                        "color": "#2a3f5f"
                      }
                    },
                    "ternary": {
                      "aaxis": {
                        "gridcolor": "#DFE8F3",
                        "linecolor": "#A2B1C6",
                        "ticks": ""
                      },
                      "baxis": {
                        "gridcolor": "#DFE8F3",
                        "linecolor": "#A2B1C6",
                        "ticks": ""
                      },
                      "bgcolor": "white",
                      "caxis": {
                        "gridcolor": "#DFE8F3",
                        "linecolor": "#A2B1C6",
                        "ticks": ""
                      }
                    },
                    "title": {
                      "x": 0.05
                    },
                    "xaxis": {
                      "automargin": true,
                      "gridcolor": "#EBF0F8",
                      "linecolor": "#EBF0F8",
                      "ticks": "",
                      "title": {
                        "standoff": 15
                      },
                      "zerolinecolor": "#EBF0F8",
                      "zerolinewidth": 2
                    },
                    "yaxis": {
                      "automargin": true,
                      "gridcolor": "#EBF0F8",
                      "linecolor": "#EBF0F8",
                      "ticks": "",
                      "title": {
                        "standoff": 15
                      },
                      "zerolinecolor": "#EBF0F8",
                      "zerolinewidth": 2
                    }
                  }
                },
                "title": {
                  "text": "Total de Goles por Periodo"
                },
                "xaxis": {
                  "anchor": "y",
                  "domain": [
                    0,
                    1
                  ],
                  "title": {
                    "text": "Periodo"
                  }
                },
                "yaxis": {
                  "anchor": "x",
                  "domain": [
                    0,
                    1
                  ],
                  "title": {
                    "text": "Goles"
                  }
                }
              }
            }
          },
          "metadata": {},
          "output_type": "display_data"
        }
      ],
      "source": [
        "# Evolución de Goles por Periodo\n",
        "goles_periodo = df.groupby('periodo')['Gls'].sum().sort_index()\n",
        "fig = px.bar(x=goles_periodo.index, y=goles_periodo.values,\n",
        "            color=goles_periodo.index,\n",
        "            color_discrete_sequence=['#6366f1', '#8b5cf6', '#ec4899', '#f59e0b'])\n",
        "fig.update_layout(title='Total de Goles por Periodo', xaxis_title='Periodo', \n",
        "                 yaxis_title='Goles', template='plotly_white', showlegend=False)\n",
        "fig.show()"
      ]
    },
    {
      "cell_type": "code",
      "execution_count": 152,
      "metadata": {},
      "outputs": [
        {
          "data": {
            "application/vnd.plotly.v1+json": {
              "config": {
                "plotlyServerURL": "https://plot.ly"
              },
              "data": [
                {
                  "marker": {
                    "color": "#6366f1"
                  },
                  "name": "Gls",
                  "type": "histogram",
                  "x": {
                    "bdata": "AAAAAAAAAEAAAAAAAAAkQAAAAAAAAPA/AAAAAAAAO0AAAAAAAAAAAAAAAAAAAABAAAAAAAAA8D8AAAAAAADwPwAAAAAAAAAAAAAAAAAAAAAAAAAAAAAAAAAAAAAAAAAAAAAAAAAAAAAAAAAAAAAAAAAAAAAAAPA/AAAAAAAA8D8AAAAAAAAxQAAAAAAAAPA/AAAAAAAAAAAAAAAAAAAAAAAAAAAAAAAAAAAAAAAA8D8AAAAAAAAAQAAAAAAAAPA/AAAAAAAAAEAAAAAAAAAIQAAAAAAAABBAAAAAAAAAAAAAAAAAAAAAAAAAAAAAAAAAAAAAAAAACEAAAAAAAADwPwAAAAAAAAAAAAAAAAAAIkAAAAAAAAAzQAAAAAAAAAAAAAAAAAAAAAAAAAAAAAAAAAAAAAAAAAAAAAAAAAAAAAAAAAAAAAAAAAAAAAAAACRAAAAAAAAAAEAAAAAAAAAAAAAAAAAAAAAAAAAAAAAAAAAAAAAAAAAUQAAAAAAAABBAAAAAAAAA8D8AAAAAAAAAAAAAAAAAAPA/AAAAAAAAIkAAAAAAAADwPwAAAAAAAAAAAAAAAAAAAAAAAAAAAAAcQAAAAAAAABBAAAAAAAAACEAAAAAAAAAAQAAAAAAAAAhAAAAAAAAA8D8AAAAAAAAkQAAAAAAAAAAAAAAAAAAAAAAAAAAAAAAAAAAAAAAAAABAAAAAAAAAAAAAAAAAAAAAAAAAAAAAAAAAAAAAAAAAAAAAAAAAAADwPwAAAAAAAC5AAAAAAAAAJEAAAAAAAAAYQAAAAAAAAAAAAAAAAAAA8D8AAAAAAAAgQAAAAAAAAAAAAAAAAAAAAAAAAAAAAAAQQAAAAAAAAAAAAAAAAAAAM0AAAAAAAAAAAAAAAAAAAAAAAAAAAAAAAAAAAAAAAAAAAAAAAAAAAAAAAAAAAAAAIkAAAAAAAADwPwAAAAAAAPA/AAAAAAAAAAAAAAAAAAAAAAAAAAAAAAAAAAAAAAAAEEAAAAAAAADwPwAAAAAAAAAAAAAAAAAAAAAAAAAAAAAAAAAAAAAAAAhAAAAAAAAAJkAAAAAAAAAAAAAAAAAAAD9AAAAAAAAAAAAAAAAAAADwPwAAAAAAAABAAAAAAAAAAAAAAAAAAADwPwAAAAAAABhAAAAAAAAAAAAAAAAAAAAAAAAAAAAAAAAAAAAAAAAAGEAAAAAAAADwPwAAAAAAAAAA",
                    "dtype": "f8"
                  },
                  "xaxis": "x",
                  "yaxis": "y"
                },
                {
                  "marker": {
                    "color": "#8b5cf6"
                  },
                  "name": "Ast",
                  "type": "histogram",
                  "x": {
                    "bdata": "AAAAAAAACEAAAAAAAAAAAAAAAAAAAAAAAAAAAAAAKEAAAAAAAAAAAAAAAAAAAPA/AAAAAAAACEAAAAAAAAAIQAAAAAAAAAAAAAAAAAAAAAAAAAAAAAAAAAAAAAAAAAAAAAAAAAAA8D8AAAAAAADwPwAAAAAAAAAAAAAAAAAACEAAAAAAAAAkQAAAAAAAAAhAAAAAAAAAAAAAAAAAAAAAAAAAAAAAAABAAAAAAAAA8D8AAAAAAADwPwAAAAAAAABAAAAAAAAAIEAAAAAAAAAAAAAAAAAAABBAAAAAAAAAAAAAAAAAAAAAAAAAAAAAAPA/AAAAAAAAAAAAAAAAAAAIQAAAAAAAAAAAAAAAAAAAGEAAAAAAAAAIQAAAAAAAAPA/AAAAAAAAAEAAAAAAAAAAAAAAAAAAABBAAAAAAAAAAAAAAAAAAADwPwAAAAAAACJAAAAAAAAAEEAAAAAAAAAAAAAAAAAAAAAAAAAAAAAA8D8AAAAAAAAAAAAAAAAAAAhAAAAAAAAA8D8AAAAAAAAAAAAAAAAAAPA/AAAAAAAAIEAAAAAAAAAAAAAAAAAAABBAAAAAAAAAAAAAAAAAAAAQQAAAAAAAAPA/AAAAAAAAGEAAAAAAAAAcQAAAAAAAAPA/AAAAAAAAAAAAAAAAAAAUQAAAAAAAAAAAAAAAAAAAAAAAAAAAAADwPwAAAAAAABhAAAAAAAAAAAAAAAAAAAAAAAAAAAAAAAAAAAAAAAAAAAAAAAAAAAAgQAAAAAAAABRAAAAAAAAAAEAAAAAAAAAAAAAAAAAAAAAAAAAAAAAAFEAAAAAAAAAYQAAAAAAAAAAAAAAAAAAAAEAAAAAAAAAIQAAAAAAAAABAAAAAAAAAGEAAAAAAAAAAAAAAAAAAAPA/AAAAAAAAAAAAAAAAAAAAAAAAAAAAAPA/AAAAAAAAIEAAAAAAAAAAQAAAAAAAAAAAAAAAAAAAAAAAAAAAAAAAAAAAAAAAAAAAAAAAAAAAAEAAAAAAAAAAAAAAAAAAAAAAAAAAAAAAAEAAAAAAAADwPwAAAAAAABBAAAAAAAAAIEAAAAAAAADwPwAAAAAAAAhAAAAAAAAA8D8AAAAAAADwPwAAAAAAABhAAAAAAAAAAAAAAAAAAAAAAAAAAAAAABRAAAAAAAAAAAAAAAAAAAAAAAAAAAAAAPA/AAAAAAAAEEAAAAAAAAAUQAAAAAAAAAAA",
                    "dtype": "f8"
                  },
                  "xaxis": "x2",
                  "yaxis": "y2"
                },
                {
                  "marker": {
                    "color": "#ec4899"
                  },
                  "name": "MP",
                  "type": "histogram",
                  "x": {
                    "bdata": "Hh8FIAEaGCALJAIDAxIODyMcAQIMCRYiHBwhAQUfHRcCHxglGwEeHwYhHgcJEiEhGwMGIiEhASIXHSUbISIBBB0gChcCFSEaIgoCGR8EFBwfHA4OAgcXHxMIFwIeHxYBHwMcHgciDgwjAgMeHSAEJCAB",
                    "dtype": "i1"
                  },
                  "xaxis": "x3",
                  "yaxis": "y3"
                }
              ],
              "layout": {
                "annotations": [
                  {
                    "font": {
                      "size": 16
                    },
                    "showarrow": false,
                    "text": "Goles",
                    "x": 0.14444444444444446,
                    "xanchor": "center",
                    "xref": "paper",
                    "y": 1,
                    "yanchor": "bottom",
                    "yref": "paper"
                  },
                  {
                    "font": {
                      "size": 16
                    },
                    "showarrow": false,
                    "text": "Asistencias",
                    "x": 0.5,
                    "xanchor": "center",
                    "xref": "paper",
                    "y": 1,
                    "yanchor": "bottom",
                    "yref": "paper"
                  },
                  {
                    "font": {
                      "size": 16
                    },
                    "showarrow": false,
                    "text": "Partidos",
                    "x": 0.8555555555555556,
                    "xanchor": "center",
                    "xref": "paper",
                    "y": 1,
                    "yanchor": "bottom",
                    "yref": "paper"
                  }
                ],
                "height": 400,
                "showlegend": false,
                "template": {
                  "data": {
                    "bar": [
                      {
                        "error_x": {
                          "color": "#2a3f5f"
                        },
                        "error_y": {
                          "color": "#2a3f5f"
                        },
                        "marker": {
                          "line": {
                            "color": "white",
                            "width": 0.5
                          },
                          "pattern": {
                            "fillmode": "overlay",
                            "size": 10,
                            "solidity": 0.2
                          }
                        },
                        "type": "bar"
                      }
                    ],
                    "barpolar": [
                      {
                        "marker": {
                          "line": {
                            "color": "white",
                            "width": 0.5
                          },
                          "pattern": {
                            "fillmode": "overlay",
                            "size": 10,
                            "solidity": 0.2
                          }
                        },
                        "type": "barpolar"
                      }
                    ],
                    "carpet": [
                      {
                        "aaxis": {
                          "endlinecolor": "#2a3f5f",
                          "gridcolor": "#C8D4E3",
                          "linecolor": "#C8D4E3",
                          "minorgridcolor": "#C8D4E3",
                          "startlinecolor": "#2a3f5f"
                        },
                        "baxis": {
                          "endlinecolor": "#2a3f5f",
                          "gridcolor": "#C8D4E3",
                          "linecolor": "#C8D4E3",
                          "minorgridcolor": "#C8D4E3",
                          "startlinecolor": "#2a3f5f"
                        },
                        "type": "carpet"
                      }
                    ],
                    "choropleth": [
                      {
                        "colorbar": {
                          "outlinewidth": 0,
                          "ticks": ""
                        },
                        "type": "choropleth"
                      }
                    ],
                    "contour": [
                      {
                        "colorbar": {
                          "outlinewidth": 0,
                          "ticks": ""
                        },
                        "colorscale": [
                          [
                            0,
                            "#0d0887"
                          ],
                          [
                            0.1111111111111111,
                            "#46039f"
                          ],
                          [
                            0.2222222222222222,
                            "#7201a8"
                          ],
                          [
                            0.3333333333333333,
                            "#9c179e"
                          ],
                          [
                            0.4444444444444444,
                            "#bd3786"
                          ],
                          [
                            0.5555555555555556,
                            "#d8576b"
                          ],
                          [
                            0.6666666666666666,
                            "#ed7953"
                          ],
                          [
                            0.7777777777777778,
                            "#fb9f3a"
                          ],
                          [
                            0.8888888888888888,
                            "#fdca26"
                          ],
                          [
                            1,
                            "#f0f921"
                          ]
                        ],
                        "type": "contour"
                      }
                    ],
                    "contourcarpet": [
                      {
                        "colorbar": {
                          "outlinewidth": 0,
                          "ticks": ""
                        },
                        "type": "contourcarpet"
                      }
                    ],
                    "heatmap": [
                      {
                        "colorbar": {
                          "outlinewidth": 0,
                          "ticks": ""
                        },
                        "colorscale": [
                          [
                            0,
                            "#0d0887"
                          ],
                          [
                            0.1111111111111111,
                            "#46039f"
                          ],
                          [
                            0.2222222222222222,
                            "#7201a8"
                          ],
                          [
                            0.3333333333333333,
                            "#9c179e"
                          ],
                          [
                            0.4444444444444444,
                            "#bd3786"
                          ],
                          [
                            0.5555555555555556,
                            "#d8576b"
                          ],
                          [
                            0.6666666666666666,
                            "#ed7953"
                          ],
                          [
                            0.7777777777777778,
                            "#fb9f3a"
                          ],
                          [
                            0.8888888888888888,
                            "#fdca26"
                          ],
                          [
                            1,
                            "#f0f921"
                          ]
                        ],
                        "type": "heatmap"
                      }
                    ],
                    "histogram": [
                      {
                        "marker": {
                          "pattern": {
                            "fillmode": "overlay",
                            "size": 10,
                            "solidity": 0.2
                          }
                        },
                        "type": "histogram"
                      }
                    ],
                    "histogram2d": [
                      {
                        "colorbar": {
                          "outlinewidth": 0,
                          "ticks": ""
                        },
                        "colorscale": [
                          [
                            0,
                            "#0d0887"
                          ],
                          [
                            0.1111111111111111,
                            "#46039f"
                          ],
                          [
                            0.2222222222222222,
                            "#7201a8"
                          ],
                          [
                            0.3333333333333333,
                            "#9c179e"
                          ],
                          [
                            0.4444444444444444,
                            "#bd3786"
                          ],
                          [
                            0.5555555555555556,
                            "#d8576b"
                          ],
                          [
                            0.6666666666666666,
                            "#ed7953"
                          ],
                          [
                            0.7777777777777778,
                            "#fb9f3a"
                          ],
                          [
                            0.8888888888888888,
                            "#fdca26"
                          ],
                          [
                            1,
                            "#f0f921"
                          ]
                        ],
                        "type": "histogram2d"
                      }
                    ],
                    "histogram2dcontour": [
                      {
                        "colorbar": {
                          "outlinewidth": 0,
                          "ticks": ""
                        },
                        "colorscale": [
                          [
                            0,
                            "#0d0887"
                          ],
                          [
                            0.1111111111111111,
                            "#46039f"
                          ],
                          [
                            0.2222222222222222,
                            "#7201a8"
                          ],
                          [
                            0.3333333333333333,
                            "#9c179e"
                          ],
                          [
                            0.4444444444444444,
                            "#bd3786"
                          ],
                          [
                            0.5555555555555556,
                            "#d8576b"
                          ],
                          [
                            0.6666666666666666,
                            "#ed7953"
                          ],
                          [
                            0.7777777777777778,
                            "#fb9f3a"
                          ],
                          [
                            0.8888888888888888,
                            "#fdca26"
                          ],
                          [
                            1,
                            "#f0f921"
                          ]
                        ],
                        "type": "histogram2dcontour"
                      }
                    ],
                    "mesh3d": [
                      {
                        "colorbar": {
                          "outlinewidth": 0,
                          "ticks": ""
                        },
                        "type": "mesh3d"
                      }
                    ],
                    "parcoords": [
                      {
                        "line": {
                          "colorbar": {
                            "outlinewidth": 0,
                            "ticks": ""
                          }
                        },
                        "type": "parcoords"
                      }
                    ],
                    "pie": [
                      {
                        "automargin": true,
                        "type": "pie"
                      }
                    ],
                    "scatter": [
                      {
                        "fillpattern": {
                          "fillmode": "overlay",
                          "size": 10,
                          "solidity": 0.2
                        },
                        "type": "scatter"
                      }
                    ],
                    "scatter3d": [
                      {
                        "line": {
                          "colorbar": {
                            "outlinewidth": 0,
                            "ticks": ""
                          }
                        },
                        "marker": {
                          "colorbar": {
                            "outlinewidth": 0,
                            "ticks": ""
                          }
                        },
                        "type": "scatter3d"
                      }
                    ],
                    "scattercarpet": [
                      {
                        "marker": {
                          "colorbar": {
                            "outlinewidth": 0,
                            "ticks": ""
                          }
                        },
                        "type": "scattercarpet"
                      }
                    ],
                    "scattergeo": [
                      {
                        "marker": {
                          "colorbar": {
                            "outlinewidth": 0,
                            "ticks": ""
                          }
                        },
                        "type": "scattergeo"
                      }
                    ],
                    "scattergl": [
                      {
                        "marker": {
                          "colorbar": {
                            "outlinewidth": 0,
                            "ticks": ""
                          }
                        },
                        "type": "scattergl"
                      }
                    ],
                    "scattermap": [
                      {
                        "marker": {
                          "colorbar": {
                            "outlinewidth": 0,
                            "ticks": ""
                          }
                        },
                        "type": "scattermap"
                      }
                    ],
                    "scattermapbox": [
                      {
                        "marker": {
                          "colorbar": {
                            "outlinewidth": 0,
                            "ticks": ""
                          }
                        },
                        "type": "scattermapbox"
                      }
                    ],
                    "scatterpolar": [
                      {
                        "marker": {
                          "colorbar": {
                            "outlinewidth": 0,
                            "ticks": ""
                          }
                        },
                        "type": "scatterpolar"
                      }
                    ],
                    "scatterpolargl": [
                      {
                        "marker": {
                          "colorbar": {
                            "outlinewidth": 0,
                            "ticks": ""
                          }
                        },
                        "type": "scatterpolargl"
                      }
                    ],
                    "scatterternary": [
                      {
                        "marker": {
                          "colorbar": {
                            "outlinewidth": 0,
                            "ticks": ""
                          }
                        },
                        "type": "scatterternary"
                      }
                    ],
                    "surface": [
                      {
                        "colorbar": {
                          "outlinewidth": 0,
                          "ticks": ""
                        },
                        "colorscale": [
                          [
                            0,
                            "#0d0887"
                          ],
                          [
                            0.1111111111111111,
                            "#46039f"
                          ],
                          [
                            0.2222222222222222,
                            "#7201a8"
                          ],
                          [
                            0.3333333333333333,
                            "#9c179e"
                          ],
                          [
                            0.4444444444444444,
                            "#bd3786"
                          ],
                          [
                            0.5555555555555556,
                            "#d8576b"
                          ],
                          [
                            0.6666666666666666,
                            "#ed7953"
                          ],
                          [
                            0.7777777777777778,
                            "#fb9f3a"
                          ],
                          [
                            0.8888888888888888,
                            "#fdca26"
                          ],
                          [
                            1,
                            "#f0f921"
                          ]
                        ],
                        "type": "surface"
                      }
                    ],
                    "table": [
                      {
                        "cells": {
                          "fill": {
                            "color": "#EBF0F8"
                          },
                          "line": {
                            "color": "white"
                          }
                        },
                        "header": {
                          "fill": {
                            "color": "#C8D4E3"
                          },
                          "line": {
                            "color": "white"
                          }
                        },
                        "type": "table"
                      }
                    ]
                  },
                  "layout": {
                    "annotationdefaults": {
                      "arrowcolor": "#2a3f5f",
                      "arrowhead": 0,
                      "arrowwidth": 1
                    },
                    "autotypenumbers": "strict",
                    "coloraxis": {
                      "colorbar": {
                        "outlinewidth": 0,
                        "ticks": ""
                      }
                    },
                    "colorscale": {
                      "diverging": [
                        [
                          0,
                          "#8e0152"
                        ],
                        [
                          0.1,
                          "#c51b7d"
                        ],
                        [
                          0.2,
                          "#de77ae"
                        ],
                        [
                          0.3,
                          "#f1b6da"
                        ],
                        [
                          0.4,
                          "#fde0ef"
                        ],
                        [
                          0.5,
                          "#f7f7f7"
                        ],
                        [
                          0.6,
                          "#e6f5d0"
                        ],
                        [
                          0.7,
                          "#b8e186"
                        ],
                        [
                          0.8,
                          "#7fbc41"
                        ],
                        [
                          0.9,
                          "#4d9221"
                        ],
                        [
                          1,
                          "#276419"
                        ]
                      ],
                      "sequential": [
                        [
                          0,
                          "#0d0887"
                        ],
                        [
                          0.1111111111111111,
                          "#46039f"
                        ],
                        [
                          0.2222222222222222,
                          "#7201a8"
                        ],
                        [
                          0.3333333333333333,
                          "#9c179e"
                        ],
                        [
                          0.4444444444444444,
                          "#bd3786"
                        ],
                        [
                          0.5555555555555556,
                          "#d8576b"
                        ],
                        [
                          0.6666666666666666,
                          "#ed7953"
                        ],
                        [
                          0.7777777777777778,
                          "#fb9f3a"
                        ],
                        [
                          0.8888888888888888,
                          "#fdca26"
                        ],
                        [
                          1,
                          "#f0f921"
                        ]
                      ],
                      "sequentialminus": [
                        [
                          0,
                          "#0d0887"
                        ],
                        [
                          0.1111111111111111,
                          "#46039f"
                        ],
                        [
                          0.2222222222222222,
                          "#7201a8"
                        ],
                        [
                          0.3333333333333333,
                          "#9c179e"
                        ],
                        [
                          0.4444444444444444,
                          "#bd3786"
                        ],
                        [
                          0.5555555555555556,
                          "#d8576b"
                        ],
                        [
                          0.6666666666666666,
                          "#ed7953"
                        ],
                        [
                          0.7777777777777778,
                          "#fb9f3a"
                        ],
                        [
                          0.8888888888888888,
                          "#fdca26"
                        ],
                        [
                          1,
                          "#f0f921"
                        ]
                      ]
                    },
                    "colorway": [
                      "#636efa",
                      "#EF553B",
                      "#00cc96",
                      "#ab63fa",
                      "#FFA15A",
                      "#19d3f3",
                      "#FF6692",
                      "#B6E880",
                      "#FF97FF",
                      "#FECB52"
                    ],
                    "font": {
                      "color": "#2a3f5f"
                    },
                    "geo": {
                      "bgcolor": "white",
                      "lakecolor": "white",
                      "landcolor": "white",
                      "showlakes": true,
                      "showland": true,
                      "subunitcolor": "#C8D4E3"
                    },
                    "hoverlabel": {
                      "align": "left"
                    },
                    "hovermode": "closest",
                    "mapbox": {
                      "style": "light"
                    },
                    "paper_bgcolor": "white",
                    "plot_bgcolor": "white",
                    "polar": {
                      "angularaxis": {
                        "gridcolor": "#EBF0F8",
                        "linecolor": "#EBF0F8",
                        "ticks": ""
                      },
                      "bgcolor": "white",
                      "radialaxis": {
                        "gridcolor": "#EBF0F8",
                        "linecolor": "#EBF0F8",
                        "ticks": ""
                      }
                    },
                    "scene": {
                      "xaxis": {
                        "backgroundcolor": "white",
                        "gridcolor": "#DFE8F3",
                        "gridwidth": 2,
                        "linecolor": "#EBF0F8",
                        "showbackground": true,
                        "ticks": "",
                        "zerolinecolor": "#EBF0F8"
                      },
                      "yaxis": {
                        "backgroundcolor": "white",
                        "gridcolor": "#DFE8F3",
                        "gridwidth": 2,
                        "linecolor": "#EBF0F8",
                        "showbackground": true,
                        "ticks": "",
                        "zerolinecolor": "#EBF0F8"
                      },
                      "zaxis": {
                        "backgroundcolor": "white",
                        "gridcolor": "#DFE8F3",
                        "gridwidth": 2,
                        "linecolor": "#EBF0F8",
                        "showbackground": true,
                        "ticks": "",
                        "zerolinecolor": "#EBF0F8"
                      }
                    },
                    "shapedefaults": {
                      "line": {
                        "color": "#2a3f5f"
                      }
                    },
                    "ternary": {
                      "aaxis": {
                        "gridcolor": "#DFE8F3",
                        "linecolor": "#A2B1C6",
                        "ticks": ""
                      },
                      "baxis": {
                        "gridcolor": "#DFE8F3",
                        "linecolor": "#A2B1C6",
                        "ticks": ""
                      },
                      "bgcolor": "white",
                      "caxis": {
                        "gridcolor": "#DFE8F3",
                        "linecolor": "#A2B1C6",
                        "ticks": ""
                      }
                    },
                    "title": {
                      "x": 0.05
                    },
                    "xaxis": {
                      "automargin": true,
                      "gridcolor": "#EBF0F8",
                      "linecolor": "#EBF0F8",
                      "ticks": "",
                      "title": {
                        "standoff": 15
                      },
                      "zerolinecolor": "#EBF0F8",
                      "zerolinewidth": 2
                    },
                    "yaxis": {
                      "automargin": true,
                      "gridcolor": "#EBF0F8",
                      "linecolor": "#EBF0F8",
                      "ticks": "",
                      "title": {
                        "standoff": 15
                      },
                      "zerolinecolor": "#EBF0F8",
                      "zerolinewidth": 2
                    }
                  }
                },
                "title": {
                  "text": "Distribución de Métricas"
                },
                "xaxis": {
                  "anchor": "y",
                  "domain": [
                    0,
                    0.2888888888888889
                  ]
                },
                "xaxis2": {
                  "anchor": "y2",
                  "domain": [
                    0.35555555555555557,
                    0.6444444444444445
                  ]
                },
                "xaxis3": {
                  "anchor": "y3",
                  "domain": [
                    0.7111111111111111,
                    1
                  ]
                },
                "yaxis": {
                  "anchor": "x",
                  "domain": [
                    0,
                    1
                  ]
                },
                "yaxis2": {
                  "anchor": "x2",
                  "domain": [
                    0,
                    1
                  ]
                },
                "yaxis3": {
                  "anchor": "x3",
                  "domain": [
                    0,
                    1
                  ]
                }
              }
            }
          },
          "metadata": {},
          "output_type": "display_data"
        }
      ],
      "source": [
        "# Distribución de Goles, Asistencias y Partidos\n",
        "fig = make_subplots(rows=1, cols=3, subplot_titles=['Goles', 'Asistencias', 'Partidos'])\n",
        "\n",
        "fig.add_trace(go.Histogram(x=df['Gls'], marker_color='#6366f1', name='Gls'), row=1, col=1)\n",
        "fig.add_trace(go.Histogram(x=df['Ast'], marker_color='#8b5cf6', name='Ast'), row=1, col=2)\n",
        "fig.add_trace(go.Histogram(x=df['MP'], marker_color='#ec4899', name='MP'), row=1, col=3)\n",
        "\n",
        "fig.update_layout(height=400, showlegend=False, title='Distribución de Métricas', template='plotly_white')\n",
        "fig.show()\n"
      ]
    },
    {
      "cell_type": "code",
      "execution_count": 138,
      "metadata": {},
      "outputs": [
        {
          "data": {
            "application/vnd.plotly.v1+json": {
              "config": {
                "plotlyServerURL": "https://plot.ly"
              },
              "data": [
                {
                  "coloraxis": "coloraxis",
                  "hovertemplate": "x: %{x}<br>y: %{y}<br>color: %{z}<extra></extra>",
                  "name": "0",
                  "texttemplate": "%{z:.2f}",
                  "type": "heatmap",
                  "x": [
                    "Gls",
                    "Ast",
                    "G+A",
                    "MP",
                    "Min",
                    "xG",
                    "xAG",
                    "CrdY"
                  ],
                  "xaxis": "x",
                  "y": [
                    "Gls",
                    "Ast",
                    "G+A",
                    "MP",
                    "Min",
                    "xG",
                    "xAG",
                    "CrdY"
                  ],
                  "yaxis": "y",
                  "z": {
                    "bdata": "AAAAAAAA8D84kjoyTOHiP/pOO+0kju4/i8qFWH012j8DbyB4zGnbP66fLOB5ne4/eAF57M7T5j850ThNxq/HPziSOjJM4eI/AAAAAAAA8D9w7N1bD7TpP1qIv08KnuI/+D7t+cVz4T+vFDo/IWjjP+hYa6UMhew/ChTdNf2t1T/6TjvtJI7uP3Ds3VsPtOk/AAAAAAAA8D/kL+BIqYTgPyffDqakiOA/21OatTO67T9IBzPyv1XrPxFMB2vsttA/i8qFWH012j9aiL9PCp7iP+Qv4EiphOA/AAAAAAAA8D/m2WUNKwfpP7nPPzy5jts/06kaFPat5D/FbHFavNLiPwNvIHjMads/+D7t+cVz4T8n3w6mpIjgP+bZZQ0rB+k/AAAAAAAA8D85gilEM6HcP5ghOvA/ceM/XLPfJKAB4j+unyzgeZ3uP68UOj8haOM/21OatTO67T+5zz88uY7bPzmCKUQzodw/AAAAAAAA8D+FheW4+T3nP7B+LtiXdck/eAF57M7T5j/oWGulDIXsP0gHM/K/Ves/06kaFPat5D+YITrwP3HjP4WF5bj5Pec/AAAAAAAA8D/CsGxIWjraPznROE3Gr8c/ChTdNf2t1T8RTAdr7LbQP8VscVq80uI/XLPfJKAB4j+wfi7Yl3XJP8KwbEhaOto/AAAAAAAA8D8=",
                    "dtype": "f8",
                    "shape": "8, 8"
                  }
                }
              ],
              "layout": {
                "coloraxis": {
                  "colorscale": [
                    [
                      0,
                      "rgb(5,48,97)"
                    ],
                    [
                      0.1,
                      "rgb(33,102,172)"
                    ],
                    [
                      0.2,
                      "rgb(67,147,195)"
                    ],
                    [
                      0.3,
                      "rgb(146,197,222)"
                    ],
                    [
                      0.4,
                      "rgb(209,229,240)"
                    ],
                    [
                      0.5,
                      "rgb(247,247,247)"
                    ],
                    [
                      0.6,
                      "rgb(253,219,199)"
                    ],
                    [
                      0.7,
                      "rgb(244,165,130)"
                    ],
                    [
                      0.8,
                      "rgb(214,96,77)"
                    ],
                    [
                      0.9,
                      "rgb(178,24,43)"
                    ],
                    [
                      1,
                      "rgb(103,0,31)"
                    ]
                  ]
                },
                "height": 600,
                "margin": {
                  "t": 60
                },
                "template": {
                  "data": {
                    "bar": [
                      {
                        "error_x": {
                          "color": "#2a3f5f"
                        },
                        "error_y": {
                          "color": "#2a3f5f"
                        },
                        "marker": {
                          "line": {
                            "color": "white",
                            "width": 0.5
                          },
                          "pattern": {
                            "fillmode": "overlay",
                            "size": 10,
                            "solidity": 0.2
                          }
                        },
                        "type": "bar"
                      }
                    ],
                    "barpolar": [
                      {
                        "marker": {
                          "line": {
                            "color": "white",
                            "width": 0.5
                          },
                          "pattern": {
                            "fillmode": "overlay",
                            "size": 10,
                            "solidity": 0.2
                          }
                        },
                        "type": "barpolar"
                      }
                    ],
                    "carpet": [
                      {
                        "aaxis": {
                          "endlinecolor": "#2a3f5f",
                          "gridcolor": "#C8D4E3",
                          "linecolor": "#C8D4E3",
                          "minorgridcolor": "#C8D4E3",
                          "startlinecolor": "#2a3f5f"
                        },
                        "baxis": {
                          "endlinecolor": "#2a3f5f",
                          "gridcolor": "#C8D4E3",
                          "linecolor": "#C8D4E3",
                          "minorgridcolor": "#C8D4E3",
                          "startlinecolor": "#2a3f5f"
                        },
                        "type": "carpet"
                      }
                    ],
                    "choropleth": [
                      {
                        "colorbar": {
                          "outlinewidth": 0,
                          "ticks": ""
                        },
                        "type": "choropleth"
                      }
                    ],
                    "contour": [
                      {
                        "colorbar": {
                          "outlinewidth": 0,
                          "ticks": ""
                        },
                        "colorscale": [
                          [
                            0,
                            "#0d0887"
                          ],
                          [
                            0.1111111111111111,
                            "#46039f"
                          ],
                          [
                            0.2222222222222222,
                            "#7201a8"
                          ],
                          [
                            0.3333333333333333,
                            "#9c179e"
                          ],
                          [
                            0.4444444444444444,
                            "#bd3786"
                          ],
                          [
                            0.5555555555555556,
                            "#d8576b"
                          ],
                          [
                            0.6666666666666666,
                            "#ed7953"
                          ],
                          [
                            0.7777777777777778,
                            "#fb9f3a"
                          ],
                          [
                            0.8888888888888888,
                            "#fdca26"
                          ],
                          [
                            1,
                            "#f0f921"
                          ]
                        ],
                        "type": "contour"
                      }
                    ],
                    "contourcarpet": [
                      {
                        "colorbar": {
                          "outlinewidth": 0,
                          "ticks": ""
                        },
                        "type": "contourcarpet"
                      }
                    ],
                    "heatmap": [
                      {
                        "colorbar": {
                          "outlinewidth": 0,
                          "ticks": ""
                        },
                        "colorscale": [
                          [
                            0,
                            "#0d0887"
                          ],
                          [
                            0.1111111111111111,
                            "#46039f"
                          ],
                          [
                            0.2222222222222222,
                            "#7201a8"
                          ],
                          [
                            0.3333333333333333,
                            "#9c179e"
                          ],
                          [
                            0.4444444444444444,
                            "#bd3786"
                          ],
                          [
                            0.5555555555555556,
                            "#d8576b"
                          ],
                          [
                            0.6666666666666666,
                            "#ed7953"
                          ],
                          [
                            0.7777777777777778,
                            "#fb9f3a"
                          ],
                          [
                            0.8888888888888888,
                            "#fdca26"
                          ],
                          [
                            1,
                            "#f0f921"
                          ]
                        ],
                        "type": "heatmap"
                      }
                    ],
                    "histogram": [
                      {
                        "marker": {
                          "pattern": {
                            "fillmode": "overlay",
                            "size": 10,
                            "solidity": 0.2
                          }
                        },
                        "type": "histogram"
                      }
                    ],
                    "histogram2d": [
                      {
                        "colorbar": {
                          "outlinewidth": 0,
                          "ticks": ""
                        },
                        "colorscale": [
                          [
                            0,
                            "#0d0887"
                          ],
                          [
                            0.1111111111111111,
                            "#46039f"
                          ],
                          [
                            0.2222222222222222,
                            "#7201a8"
                          ],
                          [
                            0.3333333333333333,
                            "#9c179e"
                          ],
                          [
                            0.4444444444444444,
                            "#bd3786"
                          ],
                          [
                            0.5555555555555556,
                            "#d8576b"
                          ],
                          [
                            0.6666666666666666,
                            "#ed7953"
                          ],
                          [
                            0.7777777777777778,
                            "#fb9f3a"
                          ],
                          [
                            0.8888888888888888,
                            "#fdca26"
                          ],
                          [
                            1,
                            "#f0f921"
                          ]
                        ],
                        "type": "histogram2d"
                      }
                    ],
                    "histogram2dcontour": [
                      {
                        "colorbar": {
                          "outlinewidth": 0,
                          "ticks": ""
                        },
                        "colorscale": [
                          [
                            0,
                            "#0d0887"
                          ],
                          [
                            0.1111111111111111,
                            "#46039f"
                          ],
                          [
                            0.2222222222222222,
                            "#7201a8"
                          ],
                          [
                            0.3333333333333333,
                            "#9c179e"
                          ],
                          [
                            0.4444444444444444,
                            "#bd3786"
                          ],
                          [
                            0.5555555555555556,
                            "#d8576b"
                          ],
                          [
                            0.6666666666666666,
                            "#ed7953"
                          ],
                          [
                            0.7777777777777778,
                            "#fb9f3a"
                          ],
                          [
                            0.8888888888888888,
                            "#fdca26"
                          ],
                          [
                            1,
                            "#f0f921"
                          ]
                        ],
                        "type": "histogram2dcontour"
                      }
                    ],
                    "mesh3d": [
                      {
                        "colorbar": {
                          "outlinewidth": 0,
                          "ticks": ""
                        },
                        "type": "mesh3d"
                      }
                    ],
                    "parcoords": [
                      {
                        "line": {
                          "colorbar": {
                            "outlinewidth": 0,
                            "ticks": ""
                          }
                        },
                        "type": "parcoords"
                      }
                    ],
                    "pie": [
                      {
                        "automargin": true,
                        "type": "pie"
                      }
                    ],
                    "scatter": [
                      {
                        "fillpattern": {
                          "fillmode": "overlay",
                          "size": 10,
                          "solidity": 0.2
                        },
                        "type": "scatter"
                      }
                    ],
                    "scatter3d": [
                      {
                        "line": {
                          "colorbar": {
                            "outlinewidth": 0,
                            "ticks": ""
                          }
                        },
                        "marker": {
                          "colorbar": {
                            "outlinewidth": 0,
                            "ticks": ""
                          }
                        },
                        "type": "scatter3d"
                      }
                    ],
                    "scattercarpet": [
                      {
                        "marker": {
                          "colorbar": {
                            "outlinewidth": 0,
                            "ticks": ""
                          }
                        },
                        "type": "scattercarpet"
                      }
                    ],
                    "scattergeo": [
                      {
                        "marker": {
                          "colorbar": {
                            "outlinewidth": 0,
                            "ticks": ""
                          }
                        },
                        "type": "scattergeo"
                      }
                    ],
                    "scattergl": [
                      {
                        "marker": {
                          "colorbar": {
                            "outlinewidth": 0,
                            "ticks": ""
                          }
                        },
                        "type": "scattergl"
                      }
                    ],
                    "scattermap": [
                      {
                        "marker": {
                          "colorbar": {
                            "outlinewidth": 0,
                            "ticks": ""
                          }
                        },
                        "type": "scattermap"
                      }
                    ],
                    "scattermapbox": [
                      {
                        "marker": {
                          "colorbar": {
                            "outlinewidth": 0,
                            "ticks": ""
                          }
                        },
                        "type": "scattermapbox"
                      }
                    ],
                    "scatterpolar": [
                      {
                        "marker": {
                          "colorbar": {
                            "outlinewidth": 0,
                            "ticks": ""
                          }
                        },
                        "type": "scatterpolar"
                      }
                    ],
                    "scatterpolargl": [
                      {
                        "marker": {
                          "colorbar": {
                            "outlinewidth": 0,
                            "ticks": ""
                          }
                        },
                        "type": "scatterpolargl"
                      }
                    ],
                    "scatterternary": [
                      {
                        "marker": {
                          "colorbar": {
                            "outlinewidth": 0,
                            "ticks": ""
                          }
                        },
                        "type": "scatterternary"
                      }
                    ],
                    "surface": [
                      {
                        "colorbar": {
                          "outlinewidth": 0,
                          "ticks": ""
                        },
                        "colorscale": [
                          [
                            0,
                            "#0d0887"
                          ],
                          [
                            0.1111111111111111,
                            "#46039f"
                          ],
                          [
                            0.2222222222222222,
                            "#7201a8"
                          ],
                          [
                            0.3333333333333333,
                            "#9c179e"
                          ],
                          [
                            0.4444444444444444,
                            "#bd3786"
                          ],
                          [
                            0.5555555555555556,
                            "#d8576b"
                          ],
                          [
                            0.6666666666666666,
                            "#ed7953"
                          ],
                          [
                            0.7777777777777778,
                            "#fb9f3a"
                          ],
                          [
                            0.8888888888888888,
                            "#fdca26"
                          ],
                          [
                            1,
                            "#f0f921"
                          ]
                        ],
                        "type": "surface"
                      }
                    ],
                    "table": [
                      {
                        "cells": {
                          "fill": {
                            "color": "#EBF0F8"
                          },
                          "line": {
                            "color": "white"
                          }
                        },
                        "header": {
                          "fill": {
                            "color": "#C8D4E3"
                          },
                          "line": {
                            "color": "white"
                          }
                        },
                        "type": "table"
                      }
                    ]
                  },
                  "layout": {
                    "annotationdefaults": {
                      "arrowcolor": "#2a3f5f",
                      "arrowhead": 0,
                      "arrowwidth": 1
                    },
                    "autotypenumbers": "strict",
                    "coloraxis": {
                      "colorbar": {
                        "outlinewidth": 0,
                        "ticks": ""
                      }
                    },
                    "colorscale": {
                      "diverging": [
                        [
                          0,
                          "#8e0152"
                        ],
                        [
                          0.1,
                          "#c51b7d"
                        ],
                        [
                          0.2,
                          "#de77ae"
                        ],
                        [
                          0.3,
                          "#f1b6da"
                        ],
                        [
                          0.4,
                          "#fde0ef"
                        ],
                        [
                          0.5,
                          "#f7f7f7"
                        ],
                        [
                          0.6,
                          "#e6f5d0"
                        ],
                        [
                          0.7,
                          "#b8e186"
                        ],
                        [
                          0.8,
                          "#7fbc41"
                        ],
                        [
                          0.9,
                          "#4d9221"
                        ],
                        [
                          1,
                          "#276419"
                        ]
                      ],
                      "sequential": [
                        [
                          0,
                          "#0d0887"
                        ],
                        [
                          0.1111111111111111,
                          "#46039f"
                        ],
                        [
                          0.2222222222222222,
                          "#7201a8"
                        ],
                        [
                          0.3333333333333333,
                          "#9c179e"
                        ],
                        [
                          0.4444444444444444,
                          "#bd3786"
                        ],
                        [
                          0.5555555555555556,
                          "#d8576b"
                        ],
                        [
                          0.6666666666666666,
                          "#ed7953"
                        ],
                        [
                          0.7777777777777778,
                          "#fb9f3a"
                        ],
                        [
                          0.8888888888888888,
                          "#fdca26"
                        ],
                        [
                          1,
                          "#f0f921"
                        ]
                      ],
                      "sequentialminus": [
                        [
                          0,
                          "#0d0887"
                        ],
                        [
                          0.1111111111111111,
                          "#46039f"
                        ],
                        [
                          0.2222222222222222,
                          "#7201a8"
                        ],
                        [
                          0.3333333333333333,
                          "#9c179e"
                        ],
                        [
                          0.4444444444444444,
                          "#bd3786"
                        ],
                        [
                          0.5555555555555556,
                          "#d8576b"
                        ],
                        [
                          0.6666666666666666,
                          "#ed7953"
                        ],
                        [
                          0.7777777777777778,
                          "#fb9f3a"
                        ],
                        [
                          0.8888888888888888,
                          "#fdca26"
                        ],
                        [
                          1,
                          "#f0f921"
                        ]
                      ]
                    },
                    "colorway": [
                      "#636efa",
                      "#EF553B",
                      "#00cc96",
                      "#ab63fa",
                      "#FFA15A",
                      "#19d3f3",
                      "#FF6692",
                      "#B6E880",
                      "#FF97FF",
                      "#FECB52"
                    ],
                    "font": {
                      "color": "#2a3f5f"
                    },
                    "geo": {
                      "bgcolor": "white",
                      "lakecolor": "white",
                      "landcolor": "white",
                      "showlakes": true,
                      "showland": true,
                      "subunitcolor": "#C8D4E3"
                    },
                    "hoverlabel": {
                      "align": "left"
                    },
                    "hovermode": "closest",
                    "mapbox": {
                      "style": "light"
                    },
                    "paper_bgcolor": "white",
                    "plot_bgcolor": "white",
                    "polar": {
                      "angularaxis": {
                        "gridcolor": "#EBF0F8",
                        "linecolor": "#EBF0F8",
                        "ticks": ""
                      },
                      "bgcolor": "white",
                      "radialaxis": {
                        "gridcolor": "#EBF0F8",
                        "linecolor": "#EBF0F8",
                        "ticks": ""
                      }
                    },
                    "scene": {
                      "xaxis": {
                        "backgroundcolor": "white",
                        "gridcolor": "#DFE8F3",
                        "gridwidth": 2,
                        "linecolor": "#EBF0F8",
                        "showbackground": true,
                        "ticks": "",
                        "zerolinecolor": "#EBF0F8"
                      },
                      "yaxis": {
                        "backgroundcolor": "white",
                        "gridcolor": "#DFE8F3",
                        "gridwidth": 2,
                        "linecolor": "#EBF0F8",
                        "showbackground": true,
                        "ticks": "",
                        "zerolinecolor": "#EBF0F8"
                      },
                      "zaxis": {
                        "backgroundcolor": "white",
                        "gridcolor": "#DFE8F3",
                        "gridwidth": 2,
                        "linecolor": "#EBF0F8",
                        "showbackground": true,
                        "ticks": "",
                        "zerolinecolor": "#EBF0F8"
                      }
                    },
                    "shapedefaults": {
                      "line": {
                        "color": "#2a3f5f"
                      }
                    },
                    "ternary": {
                      "aaxis": {
                        "gridcolor": "#DFE8F3",
                        "linecolor": "#A2B1C6",
                        "ticks": ""
                      },
                      "baxis": {
                        "gridcolor": "#DFE8F3",
                        "linecolor": "#A2B1C6",
                        "ticks": ""
                      },
                      "bgcolor": "white",
                      "caxis": {
                        "gridcolor": "#DFE8F3",
                        "linecolor": "#A2B1C6",
                        "ticks": ""
                      }
                    },
                    "title": {
                      "x": 0.05
                    },
                    "xaxis": {
                      "automargin": true,
                      "gridcolor": "#EBF0F8",
                      "linecolor": "#EBF0F8",
                      "ticks": "",
                      "title": {
                        "standoff": 15
                      },
                      "zerolinecolor": "#EBF0F8",
                      "zerolinewidth": 2
                    },
                    "yaxis": {
                      "automargin": true,
                      "gridcolor": "#EBF0F8",
                      "linecolor": "#EBF0F8",
                      "ticks": "",
                      "title": {
                        "standoff": 15
                      },
                      "zerolinecolor": "#EBF0F8",
                      "zerolinewidth": 2
                    }
                  }
                },
                "title": {
                  "text": "Correlación entre Métricas de Rendimiento"
                },
                "xaxis": {
                  "anchor": "y",
                  "domain": [
                    0,
                    1
                  ]
                },
                "yaxis": {
                  "anchor": "x",
                  "autorange": "reversed",
                  "domain": [
                    0,
                    1
                  ]
                }
              }
            }
          },
          "metadata": {},
          "output_type": "display_data"
        }
      ],
      "source": [
        "# Correlación entre métricas de rendimiento\n",
        "metricas = ['Gls', 'Ast', 'G+A', 'MP', 'Min', 'xG', 'xAG', 'CrdY']\n",
        "corr = df_std[metricas].corr()\n",
        "fig = px.imshow(corr, text_auto='.2f', color_continuous_scale='RdBu_r', aspect='auto')\n",
        "fig.update_layout(title='Correlación entre Métricas de Rendimiento', template='plotly_white', height=600)\n",
        "fig.show()\n"
      ]
    },
    {
      "cell_type": "code",
      "execution_count": 146,
      "metadata": {},
      "outputs": [
        {
          "name": "stdout",
          "output_type": "stream",
          "text": [
            "<class 'pandas.core.frame.DataFrame'>\n",
            "Index: 114 entries, 0 to 149\n",
            "Data columns (total 41 columns):\n",
            " #   Column      Non-Null Count  Dtype  \n",
            "---  ------      --------------  -----  \n",
            " 0   Player      114 non-null    object \n",
            " 1   periodo     114 non-null    object \n",
            " 2   Age         114 non-null    float64\n",
            " 3   MP          114 non-null    float64\n",
            " 4   Starts      114 non-null    float64\n",
            " 5   Min         114 non-null    float64\n",
            " 6   90s         114 non-null    float64\n",
            " 7   Gls         114 non-null    float64\n",
            " 8   Ast         114 non-null    float64\n",
            " 9   G+A         114 non-null    float64\n",
            " 10  G-PK        114 non-null    float64\n",
            " 11  PK          114 non-null    float64\n",
            " 12  PKatt       114 non-null    float64\n",
            " 13  CrdY        114 non-null    float64\n",
            " 14  CrdR        114 non-null    float64\n",
            " 15  xG          114 non-null    float64\n",
            " 16  npxG        114 non-null    float64\n",
            " 17  xAG         114 non-null    float64\n",
            " 18  npxG+xAG    114 non-null    float64\n",
            " 19  PrgC        114 non-null    float64\n",
            " 20  PrgP        114 non-null    float64\n",
            " 21  PrgR        114 non-null    float64\n",
            " 22  Gls.1       114 non-null    float64\n",
            " 23  Ast.1       114 non-null    float64\n",
            " 24  G+A.1       114 non-null    float64\n",
            " 25  G-PK.1      114 non-null    float64\n",
            " 26  G+A-PK      114 non-null    float64\n",
            " 27  xG.1        114 non-null    float64\n",
            " 28  xAG.1       114 non-null    float64\n",
            " 29  xG+xAG      114 non-null    float64\n",
            " 30  npxG.1      114 non-null    float64\n",
            " 31  npxG+xAG.1  114 non-null    float64\n",
            " 32  Pos_DF      114 non-null    int64  \n",
            " 33  Pos_DF,MF   114 non-null    int64  \n",
            " 34  Pos_FW      114 non-null    int64  \n",
            " 35  Pos_FW,DF   114 non-null    int64  \n",
            " 36  Pos_FW,MF   114 non-null    int64  \n",
            " 37  Pos_GK      114 non-null    int64  \n",
            " 38  Pos_MF      114 non-null    int64  \n",
            " 39  Pos_MF,DF   114 non-null    int64  \n",
            " 40  Pos_MF,FW   114 non-null    int64  \n",
            "dtypes: float64(30), int64(9), object(2)\n",
            "memory usage: 37.4+ KB\n"
          ]
        }
      ],
      "source": [
        "df_std.info()"
      ]
    },
    {
      "cell_type": "code",
      "execution_count": 147,
      "metadata": {},
      "outputs": [
        {
          "data": {
            "text/html": [
              "<div>\n",
              "<style scoped>\n",
              "    .dataframe tbody tr th:only-of-type {\n",
              "        vertical-align: middle;\n",
              "    }\n",
              "\n",
              "    .dataframe tbody tr th {\n",
              "        vertical-align: top;\n",
              "    }\n",
              "\n",
              "    .dataframe thead th {\n",
              "        text-align: right;\n",
              "    }\n",
              "</style>\n",
              "<table border=\"1\" class=\"dataframe\">\n",
              "  <thead>\n",
              "    <tr style=\"text-align: right;\">\n",
              "      <th></th>\n",
              "      <th>Componente</th>\n",
              "      <th>Varianza_Explicada</th>\n",
              "      <th>Varianza_Acumulada</th>\n",
              "    </tr>\n",
              "  </thead>\n",
              "  <tbody>\n",
              "    <tr>\n",
              "      <th>0</th>\n",
              "      <td>PC1</td>\n",
              "      <td>45.38</td>\n",
              "      <td>45.38</td>\n",
              "    </tr>\n",
              "    <tr>\n",
              "      <th>1</th>\n",
              "      <td>PC2</td>\n",
              "      <td>18.35</td>\n",
              "      <td>63.73</td>\n",
              "    </tr>\n",
              "    <tr>\n",
              "      <th>2</th>\n",
              "      <td>PC3</td>\n",
              "      <td>7.84</td>\n",
              "      <td>71.57</td>\n",
              "    </tr>\n",
              "    <tr>\n",
              "      <th>3</th>\n",
              "      <td>PC4</td>\n",
              "      <td>6.01</td>\n",
              "      <td>77.59</td>\n",
              "    </tr>\n",
              "    <tr>\n",
              "      <th>4</th>\n",
              "      <td>PC5</td>\n",
              "      <td>4.41</td>\n",
              "      <td>81.99</td>\n",
              "    </tr>\n",
              "    <tr>\n",
              "      <th>5</th>\n",
              "      <td>PC6</td>\n",
              "      <td>3.41</td>\n",
              "      <td>85.41</td>\n",
              "    </tr>\n",
              "    <tr>\n",
              "      <th>6</th>\n",
              "      <td>PC7</td>\n",
              "      <td>3.04</td>\n",
              "      <td>88.45</td>\n",
              "    </tr>\n",
              "    <tr>\n",
              "      <th>7</th>\n",
              "      <td>PC8</td>\n",
              "      <td>2.11</td>\n",
              "      <td>90.55</td>\n",
              "    </tr>\n",
              "    <tr>\n",
              "      <th>8</th>\n",
              "      <td>PC9</td>\n",
              "      <td>1.89</td>\n",
              "      <td>92.44</td>\n",
              "    </tr>\n",
              "    <tr>\n",
              "      <th>9</th>\n",
              "      <td>PC10</td>\n",
              "      <td>1.62</td>\n",
              "      <td>94.06</td>\n",
              "    </tr>\n",
              "    <tr>\n",
              "      <th>10</th>\n",
              "      <td>PC11</td>\n",
              "      <td>1.34</td>\n",
              "      <td>95.40</td>\n",
              "    </tr>\n",
              "    <tr>\n",
              "      <th>11</th>\n",
              "      <td>PC12</td>\n",
              "      <td>0.92</td>\n",
              "      <td>96.32</td>\n",
              "    </tr>\n",
              "    <tr>\n",
              "      <th>12</th>\n",
              "      <td>PC13</td>\n",
              "      <td>0.65</td>\n",
              "      <td>96.97</td>\n",
              "    </tr>\n",
              "    <tr>\n",
              "      <th>13</th>\n",
              "      <td>PC14</td>\n",
              "      <td>0.56</td>\n",
              "      <td>97.52</td>\n",
              "    </tr>\n",
              "    <tr>\n",
              "      <th>14</th>\n",
              "      <td>PC15</td>\n",
              "      <td>0.51</td>\n",
              "      <td>98.03</td>\n",
              "    </tr>\n",
              "    <tr>\n",
              "      <th>15</th>\n",
              "      <td>PC16</td>\n",
              "      <td>0.35</td>\n",
              "      <td>98.38</td>\n",
              "    </tr>\n",
              "    <tr>\n",
              "      <th>16</th>\n",
              "      <td>PC17</td>\n",
              "      <td>0.30</td>\n",
              "      <td>98.68</td>\n",
              "    </tr>\n",
              "    <tr>\n",
              "      <th>17</th>\n",
              "      <td>PC18</td>\n",
              "      <td>0.28</td>\n",
              "      <td>98.96</td>\n",
              "    </tr>\n",
              "    <tr>\n",
              "      <th>18</th>\n",
              "      <td>PC19</td>\n",
              "      <td>0.24</td>\n",
              "      <td>99.20</td>\n",
              "    </tr>\n",
              "    <tr>\n",
              "      <th>19</th>\n",
              "      <td>PC20</td>\n",
              "      <td>0.21</td>\n",
              "      <td>99.40</td>\n",
              "    </tr>\n",
              "    <tr>\n",
              "      <th>20</th>\n",
              "      <td>PC21</td>\n",
              "      <td>0.13</td>\n",
              "      <td>99.53</td>\n",
              "    </tr>\n",
              "    <tr>\n",
              "      <th>21</th>\n",
              "      <td>PC22</td>\n",
              "      <td>0.12</td>\n",
              "      <td>99.66</td>\n",
              "    </tr>\n",
              "    <tr>\n",
              "      <th>22</th>\n",
              "      <td>PC23</td>\n",
              "      <td>0.11</td>\n",
              "      <td>99.76</td>\n",
              "    </tr>\n",
              "    <tr>\n",
              "      <th>23</th>\n",
              "      <td>PC24</td>\n",
              "      <td>0.09</td>\n",
              "      <td>99.85</td>\n",
              "    </tr>\n",
              "    <tr>\n",
              "      <th>24</th>\n",
              "      <td>PC25</td>\n",
              "      <td>0.06</td>\n",
              "      <td>99.91</td>\n",
              "    </tr>\n",
              "    <tr>\n",
              "      <th>25</th>\n",
              "      <td>PC26</td>\n",
              "      <td>0.03</td>\n",
              "      <td>99.94</td>\n",
              "    </tr>\n",
              "    <tr>\n",
              "      <th>26</th>\n",
              "      <td>PC27</td>\n",
              "      <td>0.03</td>\n",
              "      <td>99.97</td>\n",
              "    </tr>\n",
              "    <tr>\n",
              "      <th>27</th>\n",
              "      <td>PC28</td>\n",
              "      <td>0.02</td>\n",
              "      <td>99.99</td>\n",
              "    </tr>\n",
              "    <tr>\n",
              "      <th>28</th>\n",
              "      <td>PC29</td>\n",
              "      <td>0.01</td>\n",
              "      <td>100.00</td>\n",
              "    </tr>\n",
              "    <tr>\n",
              "      <th>29</th>\n",
              "      <td>PC30</td>\n",
              "      <td>0.00</td>\n",
              "      <td>100.00</td>\n",
              "    </tr>\n",
              "    <tr>\n",
              "      <th>30</th>\n",
              "      <td>PC31</td>\n",
              "      <td>0.00</td>\n",
              "      <td>100.00</td>\n",
              "    </tr>\n",
              "    <tr>\n",
              "      <th>31</th>\n",
              "      <td>PC32</td>\n",
              "      <td>0.00</td>\n",
              "      <td>100.00</td>\n",
              "    </tr>\n",
              "    <tr>\n",
              "      <th>32</th>\n",
              "      <td>PC33</td>\n",
              "      <td>0.00</td>\n",
              "      <td>100.00</td>\n",
              "    </tr>\n",
              "    <tr>\n",
              "      <th>33</th>\n",
              "      <td>PC34</td>\n",
              "      <td>0.00</td>\n",
              "      <td>100.00</td>\n",
              "    </tr>\n",
              "    <tr>\n",
              "      <th>34</th>\n",
              "      <td>PC35</td>\n",
              "      <td>0.00</td>\n",
              "      <td>100.00</td>\n",
              "    </tr>\n",
              "    <tr>\n",
              "      <th>35</th>\n",
              "      <td>PC36</td>\n",
              "      <td>0.00</td>\n",
              "      <td>100.00</td>\n",
              "    </tr>\n",
              "    <tr>\n",
              "      <th>36</th>\n",
              "      <td>PC37</td>\n",
              "      <td>0.00</td>\n",
              "      <td>100.00</td>\n",
              "    </tr>\n",
              "    <tr>\n",
              "      <th>37</th>\n",
              "      <td>PC38</td>\n",
              "      <td>0.00</td>\n",
              "      <td>100.00</td>\n",
              "    </tr>\n",
              "    <tr>\n",
              "      <th>38</th>\n",
              "      <td>PC39</td>\n",
              "      <td>0.00</td>\n",
              "      <td>100.00</td>\n",
              "    </tr>\n",
              "  </tbody>\n",
              "</table>\n",
              "</div>"
            ],
            "text/plain": [
              "   Componente  Varianza_Explicada  Varianza_Acumulada\n",
              "0         PC1               45.38               45.38\n",
              "1         PC2               18.35               63.73\n",
              "2         PC3                7.84               71.57\n",
              "3         PC4                6.01               77.59\n",
              "4         PC5                4.41               81.99\n",
              "5         PC6                3.41               85.41\n",
              "6         PC7                3.04               88.45\n",
              "7         PC8                2.11               90.55\n",
              "8         PC9                1.89               92.44\n",
              "9        PC10                1.62               94.06\n",
              "10       PC11                1.34               95.40\n",
              "11       PC12                0.92               96.32\n",
              "12       PC13                0.65               96.97\n",
              "13       PC14                0.56               97.52\n",
              "14       PC15                0.51               98.03\n",
              "15       PC16                0.35               98.38\n",
              "16       PC17                0.30               98.68\n",
              "17       PC18                0.28               98.96\n",
              "18       PC19                0.24               99.20\n",
              "19       PC20                0.21               99.40\n",
              "20       PC21                0.13               99.53\n",
              "21       PC22                0.12               99.66\n",
              "22       PC23                0.11               99.76\n",
              "23       PC24                0.09               99.85\n",
              "24       PC25                0.06               99.91\n",
              "25       PC26                0.03               99.94\n",
              "26       PC27                0.03               99.97\n",
              "27       PC28                0.02               99.99\n",
              "28       PC29                0.01              100.00\n",
              "29       PC30                0.00              100.00\n",
              "30       PC31                0.00              100.00\n",
              "31       PC32                0.00              100.00\n",
              "32       PC33                0.00              100.00\n",
              "33       PC34                0.00              100.00\n",
              "34       PC35                0.00              100.00\n",
              "35       PC36                0.00              100.00\n",
              "36       PC37                0.00              100.00\n",
              "37       PC38                0.00              100.00\n",
              "38       PC39                0.00              100.00"
            ]
          },
          "execution_count": 147,
          "metadata": {},
          "output_type": "execute_result"
        }
      ],
      "source": [
        "# Aplicar PCA con todas las componentes\n",
        "df_pca = df_std.select_dtypes(include=['number'])\n",
        "\n",
        "pca = PCA()\n",
        "componentes = pca.fit_transform(df_pca)\n",
        "\n",
        "# Varianza explicada\n",
        "varianza_df = pd.DataFrame({\n",
        "    'Componente': [f'PC{i+1}' for i in range(len(pca.explained_variance_ratio_))],\n",
        "    'Varianza_Explicada': pca.explained_variance_ratio_ * 100,\n",
        "    'Varianza_Acumulada': np.cumsum(pca.explained_variance_ratio_) * 100\n",
        "}).round(2)\n",
        "\n",
        "varianza_df\n"
      ]
    },
    {
      "cell_type": "code",
      "execution_count": 148,
      "metadata": {},
      "outputs": [
        {
          "data": {
            "application/vnd.plotly.v1+json": {
              "config": {
                "plotlyServerURL": "https://plot.ly"
              },
              "data": [
                {
                  "marker": {
                    "color": "#6366f1"
                  },
                  "name": "Varianza Explicada",
                  "type": "bar",
                  "x": [
                    "PC1",
                    "PC2",
                    "PC3",
                    "PC4",
                    "PC5",
                    "PC6",
                    "PC7",
                    "PC8",
                    "PC9",
                    "PC10",
                    "PC11",
                    "PC12",
                    "PC13",
                    "PC14",
                    "PC15",
                    "PC16",
                    "PC17",
                    "PC18",
                    "PC19",
                    "PC20",
                    "PC21",
                    "PC22",
                    "PC23",
                    "PC24",
                    "PC25",
                    "PC26",
                    "PC27",
                    "PC28",
                    "PC29",
                    "PC30",
                    "PC31",
                    "PC32",
                    "PC33",
                    "PC34",
                    "PC35",
                    "PC36",
                    "PC37",
                    "PC38",
                    "PC39"
                  ],
                  "y": {
                    "bdata": "irOVybqwRkCMCVZMXlkyQNrXrwftXx9AspQi9t4MGEDKDlpNjaERQM+TaN0aTwtA5gUO/zVTCEBaCEf2fNcAQLreW+AwNv4/wUny98jg+T/cDgpKlGP1PxJBbYYle+0/He8pUunF5D9bm2tMacfhP9YK3a/+UeA/bdOAXbEn1j9U8FyHLR7TP9PSDt9UNNI/hbK23mNOzj9Rzqo9dFTKPxw6231WrsA/oBu/FoSbvz+FHFMIp0W7P1PlE4O1Trc/Tb0BUlVSrT8sBrlSdsSgP4T9HWQu9pk/jC60GxWQlz/KM9IW23d1P/gKFmjz3E0/KBuEC/tsMj/FqzyC0QIdP/vvnsa+qxY/Ywd+5UzyBD8WPX8KcYL2Po1e1LzRCew+W7JtbPuIkTlbsm1s+4iROVuybWz7iJE5",
                    "dtype": "f8"
                  }
                },
                {
                  "line": {
                    "width": 3
                  },
                  "marker": {
                    "color": "#ec4899"
                  },
                  "mode": "lines+markers",
                  "name": "Varianza Acumulada",
                  "type": "scatter",
                  "x": [
                    "PC1",
                    "PC2",
                    "PC3",
                    "PC4",
                    "PC5",
                    "PC6",
                    "PC7",
                    "PC8",
                    "PC9",
                    "PC10",
                    "PC11",
                    "PC12",
                    "PC13",
                    "PC14",
                    "PC15",
                    "PC16",
                    "PC17",
                    "PC18",
                    "PC19",
                    "PC20",
                    "PC21",
                    "PC22",
                    "PC23",
                    "PC24",
                    "PC25",
                    "PC26",
                    "PC27",
                    "PC28",
                    "PC29",
                    "PC30",
                    "PC31",
                    "PC32",
                    "PC33",
                    "PC34",
                    "PC35",
                    "PC36",
                    "PC37",
                    "PC38",
                    "PC39"
                  ],
                  "y": {
                    "bdata": "irOVybqwRkBPuMDvad1PQKVZW8iz5FFA8YK9t4FlU0DeI5OMmn9UQHxofmMTWlVAq9h2E60cVkDuECn7aKNWQGiAqr5BHFdAj0mK4sSDV0DKcbIzU9lXQE1Mv35JFFhAK6BjUdU9WEBid/wjZGFYQHgxXCEIglhATLK50i+YWEA8D0EATqtYQA8eIFWCvVhAaHkPh6nMWEDPTi7B09lYQGw8bewq4lhAM+xyzRHqWED6ADU34/BYQPPFleS29lhAKwZAL2H6WEBLXQq+efxYQCuf8CAZ/lhAblpCIpL/WEC3ta4B6P9YQMNpKPD2/1hApCxni/v/WEDHRJRb/f9YQDExUMb+/1hAXZjibf//WECHXOzH//9YQAAAAAAAAFlAAAAAAAAAWUAAAAAAAABZQAAAAAAAAFlA",
                    "dtype": "f8"
                  }
                }
              ],
              "layout": {
                "height": 500,
                "template": {
                  "data": {
                    "bar": [
                      {
                        "error_x": {
                          "color": "#2a3f5f"
                        },
                        "error_y": {
                          "color": "#2a3f5f"
                        },
                        "marker": {
                          "line": {
                            "color": "white",
                            "width": 0.5
                          },
                          "pattern": {
                            "fillmode": "overlay",
                            "size": 10,
                            "solidity": 0.2
                          }
                        },
                        "type": "bar"
                      }
                    ],
                    "barpolar": [
                      {
                        "marker": {
                          "line": {
                            "color": "white",
                            "width": 0.5
                          },
                          "pattern": {
                            "fillmode": "overlay",
                            "size": 10,
                            "solidity": 0.2
                          }
                        },
                        "type": "barpolar"
                      }
                    ],
                    "carpet": [
                      {
                        "aaxis": {
                          "endlinecolor": "#2a3f5f",
                          "gridcolor": "#C8D4E3",
                          "linecolor": "#C8D4E3",
                          "minorgridcolor": "#C8D4E3",
                          "startlinecolor": "#2a3f5f"
                        },
                        "baxis": {
                          "endlinecolor": "#2a3f5f",
                          "gridcolor": "#C8D4E3",
                          "linecolor": "#C8D4E3",
                          "minorgridcolor": "#C8D4E3",
                          "startlinecolor": "#2a3f5f"
                        },
                        "type": "carpet"
                      }
                    ],
                    "choropleth": [
                      {
                        "colorbar": {
                          "outlinewidth": 0,
                          "ticks": ""
                        },
                        "type": "choropleth"
                      }
                    ],
                    "contour": [
                      {
                        "colorbar": {
                          "outlinewidth": 0,
                          "ticks": ""
                        },
                        "colorscale": [
                          [
                            0,
                            "#0d0887"
                          ],
                          [
                            0.1111111111111111,
                            "#46039f"
                          ],
                          [
                            0.2222222222222222,
                            "#7201a8"
                          ],
                          [
                            0.3333333333333333,
                            "#9c179e"
                          ],
                          [
                            0.4444444444444444,
                            "#bd3786"
                          ],
                          [
                            0.5555555555555556,
                            "#d8576b"
                          ],
                          [
                            0.6666666666666666,
                            "#ed7953"
                          ],
                          [
                            0.7777777777777778,
                            "#fb9f3a"
                          ],
                          [
                            0.8888888888888888,
                            "#fdca26"
                          ],
                          [
                            1,
                            "#f0f921"
                          ]
                        ],
                        "type": "contour"
                      }
                    ],
                    "contourcarpet": [
                      {
                        "colorbar": {
                          "outlinewidth": 0,
                          "ticks": ""
                        },
                        "type": "contourcarpet"
                      }
                    ],
                    "heatmap": [
                      {
                        "colorbar": {
                          "outlinewidth": 0,
                          "ticks": ""
                        },
                        "colorscale": [
                          [
                            0,
                            "#0d0887"
                          ],
                          [
                            0.1111111111111111,
                            "#46039f"
                          ],
                          [
                            0.2222222222222222,
                            "#7201a8"
                          ],
                          [
                            0.3333333333333333,
                            "#9c179e"
                          ],
                          [
                            0.4444444444444444,
                            "#bd3786"
                          ],
                          [
                            0.5555555555555556,
                            "#d8576b"
                          ],
                          [
                            0.6666666666666666,
                            "#ed7953"
                          ],
                          [
                            0.7777777777777778,
                            "#fb9f3a"
                          ],
                          [
                            0.8888888888888888,
                            "#fdca26"
                          ],
                          [
                            1,
                            "#f0f921"
                          ]
                        ],
                        "type": "heatmap"
                      }
                    ],
                    "histogram": [
                      {
                        "marker": {
                          "pattern": {
                            "fillmode": "overlay",
                            "size": 10,
                            "solidity": 0.2
                          }
                        },
                        "type": "histogram"
                      }
                    ],
                    "histogram2d": [
                      {
                        "colorbar": {
                          "outlinewidth": 0,
                          "ticks": ""
                        },
                        "colorscale": [
                          [
                            0,
                            "#0d0887"
                          ],
                          [
                            0.1111111111111111,
                            "#46039f"
                          ],
                          [
                            0.2222222222222222,
                            "#7201a8"
                          ],
                          [
                            0.3333333333333333,
                            "#9c179e"
                          ],
                          [
                            0.4444444444444444,
                            "#bd3786"
                          ],
                          [
                            0.5555555555555556,
                            "#d8576b"
                          ],
                          [
                            0.6666666666666666,
                            "#ed7953"
                          ],
                          [
                            0.7777777777777778,
                            "#fb9f3a"
                          ],
                          [
                            0.8888888888888888,
                            "#fdca26"
                          ],
                          [
                            1,
                            "#f0f921"
                          ]
                        ],
                        "type": "histogram2d"
                      }
                    ],
                    "histogram2dcontour": [
                      {
                        "colorbar": {
                          "outlinewidth": 0,
                          "ticks": ""
                        },
                        "colorscale": [
                          [
                            0,
                            "#0d0887"
                          ],
                          [
                            0.1111111111111111,
                            "#46039f"
                          ],
                          [
                            0.2222222222222222,
                            "#7201a8"
                          ],
                          [
                            0.3333333333333333,
                            "#9c179e"
                          ],
                          [
                            0.4444444444444444,
                            "#bd3786"
                          ],
                          [
                            0.5555555555555556,
                            "#d8576b"
                          ],
                          [
                            0.6666666666666666,
                            "#ed7953"
                          ],
                          [
                            0.7777777777777778,
                            "#fb9f3a"
                          ],
                          [
                            0.8888888888888888,
                            "#fdca26"
                          ],
                          [
                            1,
                            "#f0f921"
                          ]
                        ],
                        "type": "histogram2dcontour"
                      }
                    ],
                    "mesh3d": [
                      {
                        "colorbar": {
                          "outlinewidth": 0,
                          "ticks": ""
                        },
                        "type": "mesh3d"
                      }
                    ],
                    "parcoords": [
                      {
                        "line": {
                          "colorbar": {
                            "outlinewidth": 0,
                            "ticks": ""
                          }
                        },
                        "type": "parcoords"
                      }
                    ],
                    "pie": [
                      {
                        "automargin": true,
                        "type": "pie"
                      }
                    ],
                    "scatter": [
                      {
                        "fillpattern": {
                          "fillmode": "overlay",
                          "size": 10,
                          "solidity": 0.2
                        },
                        "type": "scatter"
                      }
                    ],
                    "scatter3d": [
                      {
                        "line": {
                          "colorbar": {
                            "outlinewidth": 0,
                            "ticks": ""
                          }
                        },
                        "marker": {
                          "colorbar": {
                            "outlinewidth": 0,
                            "ticks": ""
                          }
                        },
                        "type": "scatter3d"
                      }
                    ],
                    "scattercarpet": [
                      {
                        "marker": {
                          "colorbar": {
                            "outlinewidth": 0,
                            "ticks": ""
                          }
                        },
                        "type": "scattercarpet"
                      }
                    ],
                    "scattergeo": [
                      {
                        "marker": {
                          "colorbar": {
                            "outlinewidth": 0,
                            "ticks": ""
                          }
                        },
                        "type": "scattergeo"
                      }
                    ],
                    "scattergl": [
                      {
                        "marker": {
                          "colorbar": {
                            "outlinewidth": 0,
                            "ticks": ""
                          }
                        },
                        "type": "scattergl"
                      }
                    ],
                    "scattermap": [
                      {
                        "marker": {
                          "colorbar": {
                            "outlinewidth": 0,
                            "ticks": ""
                          }
                        },
                        "type": "scattermap"
                      }
                    ],
                    "scattermapbox": [
                      {
                        "marker": {
                          "colorbar": {
                            "outlinewidth": 0,
                            "ticks": ""
                          }
                        },
                        "type": "scattermapbox"
                      }
                    ],
                    "scatterpolar": [
                      {
                        "marker": {
                          "colorbar": {
                            "outlinewidth": 0,
                            "ticks": ""
                          }
                        },
                        "type": "scatterpolar"
                      }
                    ],
                    "scatterpolargl": [
                      {
                        "marker": {
                          "colorbar": {
                            "outlinewidth": 0,
                            "ticks": ""
                          }
                        },
                        "type": "scatterpolargl"
                      }
                    ],
                    "scatterternary": [
                      {
                        "marker": {
                          "colorbar": {
                            "outlinewidth": 0,
                            "ticks": ""
                          }
                        },
                        "type": "scatterternary"
                      }
                    ],
                    "surface": [
                      {
                        "colorbar": {
                          "outlinewidth": 0,
                          "ticks": ""
                        },
                        "colorscale": [
                          [
                            0,
                            "#0d0887"
                          ],
                          [
                            0.1111111111111111,
                            "#46039f"
                          ],
                          [
                            0.2222222222222222,
                            "#7201a8"
                          ],
                          [
                            0.3333333333333333,
                            "#9c179e"
                          ],
                          [
                            0.4444444444444444,
                            "#bd3786"
                          ],
                          [
                            0.5555555555555556,
                            "#d8576b"
                          ],
                          [
                            0.6666666666666666,
                            "#ed7953"
                          ],
                          [
                            0.7777777777777778,
                            "#fb9f3a"
                          ],
                          [
                            0.8888888888888888,
                            "#fdca26"
                          ],
                          [
                            1,
                            "#f0f921"
                          ]
                        ],
                        "type": "surface"
                      }
                    ],
                    "table": [
                      {
                        "cells": {
                          "fill": {
                            "color": "#EBF0F8"
                          },
                          "line": {
                            "color": "white"
                          }
                        },
                        "header": {
                          "fill": {
                            "color": "#C8D4E3"
                          },
                          "line": {
                            "color": "white"
                          }
                        },
                        "type": "table"
                      }
                    ]
                  },
                  "layout": {
                    "annotationdefaults": {
                      "arrowcolor": "#2a3f5f",
                      "arrowhead": 0,
                      "arrowwidth": 1
                    },
                    "autotypenumbers": "strict",
                    "coloraxis": {
                      "colorbar": {
                        "outlinewidth": 0,
                        "ticks": ""
                      }
                    },
                    "colorscale": {
                      "diverging": [
                        [
                          0,
                          "#8e0152"
                        ],
                        [
                          0.1,
                          "#c51b7d"
                        ],
                        [
                          0.2,
                          "#de77ae"
                        ],
                        [
                          0.3,
                          "#f1b6da"
                        ],
                        [
                          0.4,
                          "#fde0ef"
                        ],
                        [
                          0.5,
                          "#f7f7f7"
                        ],
                        [
                          0.6,
                          "#e6f5d0"
                        ],
                        [
                          0.7,
                          "#b8e186"
                        ],
                        [
                          0.8,
                          "#7fbc41"
                        ],
                        [
                          0.9,
                          "#4d9221"
                        ],
                        [
                          1,
                          "#276419"
                        ]
                      ],
                      "sequential": [
                        [
                          0,
                          "#0d0887"
                        ],
                        [
                          0.1111111111111111,
                          "#46039f"
                        ],
                        [
                          0.2222222222222222,
                          "#7201a8"
                        ],
                        [
                          0.3333333333333333,
                          "#9c179e"
                        ],
                        [
                          0.4444444444444444,
                          "#bd3786"
                        ],
                        [
                          0.5555555555555556,
                          "#d8576b"
                        ],
                        [
                          0.6666666666666666,
                          "#ed7953"
                        ],
                        [
                          0.7777777777777778,
                          "#fb9f3a"
                        ],
                        [
                          0.8888888888888888,
                          "#fdca26"
                        ],
                        [
                          1,
                          "#f0f921"
                        ]
                      ],
                      "sequentialminus": [
                        [
                          0,
                          "#0d0887"
                        ],
                        [
                          0.1111111111111111,
                          "#46039f"
                        ],
                        [
                          0.2222222222222222,
                          "#7201a8"
                        ],
                        [
                          0.3333333333333333,
                          "#9c179e"
                        ],
                        [
                          0.4444444444444444,
                          "#bd3786"
                        ],
                        [
                          0.5555555555555556,
                          "#d8576b"
                        ],
                        [
                          0.6666666666666666,
                          "#ed7953"
                        ],
                        [
                          0.7777777777777778,
                          "#fb9f3a"
                        ],
                        [
                          0.8888888888888888,
                          "#fdca26"
                        ],
                        [
                          1,
                          "#f0f921"
                        ]
                      ]
                    },
                    "colorway": [
                      "#636efa",
                      "#EF553B",
                      "#00cc96",
                      "#ab63fa",
                      "#FFA15A",
                      "#19d3f3",
                      "#FF6692",
                      "#B6E880",
                      "#FF97FF",
                      "#FECB52"
                    ],
                    "font": {
                      "color": "#2a3f5f"
                    },
                    "geo": {
                      "bgcolor": "white",
                      "lakecolor": "white",
                      "landcolor": "white",
                      "showlakes": true,
                      "showland": true,
                      "subunitcolor": "#C8D4E3"
                    },
                    "hoverlabel": {
                      "align": "left"
                    },
                    "hovermode": "closest",
                    "mapbox": {
                      "style": "light"
                    },
                    "paper_bgcolor": "white",
                    "plot_bgcolor": "white",
                    "polar": {
                      "angularaxis": {
                        "gridcolor": "#EBF0F8",
                        "linecolor": "#EBF0F8",
                        "ticks": ""
                      },
                      "bgcolor": "white",
                      "radialaxis": {
                        "gridcolor": "#EBF0F8",
                        "linecolor": "#EBF0F8",
                        "ticks": ""
                      }
                    },
                    "scene": {
                      "xaxis": {
                        "backgroundcolor": "white",
                        "gridcolor": "#DFE8F3",
                        "gridwidth": 2,
                        "linecolor": "#EBF0F8",
                        "showbackground": true,
                        "ticks": "",
                        "zerolinecolor": "#EBF0F8"
                      },
                      "yaxis": {
                        "backgroundcolor": "white",
                        "gridcolor": "#DFE8F3",
                        "gridwidth": 2,
                        "linecolor": "#EBF0F8",
                        "showbackground": true,
                        "ticks": "",
                        "zerolinecolor": "#EBF0F8"
                      },
                      "zaxis": {
                        "backgroundcolor": "white",
                        "gridcolor": "#DFE8F3",
                        "gridwidth": 2,
                        "linecolor": "#EBF0F8",
                        "showbackground": true,
                        "ticks": "",
                        "zerolinecolor": "#EBF0F8"
                      }
                    },
                    "shapedefaults": {
                      "line": {
                        "color": "#2a3f5f"
                      }
                    },
                    "ternary": {
                      "aaxis": {
                        "gridcolor": "#DFE8F3",
                        "linecolor": "#A2B1C6",
                        "ticks": ""
                      },
                      "baxis": {
                        "gridcolor": "#DFE8F3",
                        "linecolor": "#A2B1C6",
                        "ticks": ""
                      },
                      "bgcolor": "white",
                      "caxis": {
                        "gridcolor": "#DFE8F3",
                        "linecolor": "#A2B1C6",
                        "ticks": ""
                      }
                    },
                    "title": {
                      "x": 0.05
                    },
                    "xaxis": {
                      "automargin": true,
                      "gridcolor": "#EBF0F8",
                      "linecolor": "#EBF0F8",
                      "ticks": "",
                      "title": {
                        "standoff": 15
                      },
                      "zerolinecolor": "#EBF0F8",
                      "zerolinewidth": 2
                    },
                    "yaxis": {
                      "automargin": true,
                      "gridcolor": "#EBF0F8",
                      "linecolor": "#EBF0F8",
                      "ticks": "",
                      "title": {
                        "standoff": 15
                      },
                      "zerolinecolor": "#EBF0F8",
                      "zerolinewidth": 2
                    }
                  }
                },
                "title": {
                  "text": "Varianza Explicada por Componente Principal"
                },
                "xaxis": {
                  "title": {
                    "text": "Componente"
                  }
                },
                "yaxis": {
                  "title": {
                    "text": "Varianza (%)"
                  }
                }
              }
            }
          },
          "metadata": {},
          "output_type": "display_data"
        }
      ],
      "source": [
        "# Gráfico de varianza explicada por componente\n",
        "fig = go.Figure()\n",
        "fig.add_trace(go.Bar(x=[f'PC{i+1}' for i in range(len(pca.explained_variance_ratio_))], \n",
        "                     y=pca.explained_variance_ratio_ * 100,\n",
        "                     name='Varianza Explicada', marker_color='#6366f1'))\n",
        "fig.add_trace(go.Scatter(x=[f'PC{i+1}' for i in range(len(pca.explained_variance_ratio_))], \n",
        "                         y=np.cumsum(pca.explained_variance_ratio_) * 100,\n",
        "                         name='Varianza Acumulada', mode='lines+markers', \n",
        "                         marker_color='#ec4899', line=dict(width=3)))\n",
        "fig.update_layout(title='Varianza Explicada por Componente Principal',\n",
        "                 xaxis_title='Componente', yaxis_title='Varianza (%)',\n",
        "                 template='plotly_white', height=500)\n",
        "fig.show()\n"
      ]
    },
    {
      "cell_type": "markdown",
      "metadata": {},
      "source": [
        "PCA para ver cuantas variables se necesitan para explicar la variabilidad de los datos"
      ]
    },
    {
      "cell_type": "code",
      "execution_count": 150,
      "metadata": {},
      "outputs": [
        {
          "data": {
            "application/vnd.plotly.v1+json": {
              "config": {
                "plotlyServerURL": "https://plot.ly"
              },
              "data": [
                {
                  "customdata": [
                    [
                      "David Alaba",
                      "21-22"
                    ],
                    [
                      "Marco Asensio",
                      "21-22"
                    ],
                    [
                      "Gareth Bale",
                      "21-22"
                    ],
                    [
                      "Karim Benzema",
                      "21-22"
                    ],
                    [
                      "Antonio Blanco",
                      "21-22"
                    ],
                    [
                      "Eduardo Camavinga",
                      "21-22"
                    ],
                    [
                      "Dani Carvajal",
                      "21-22"
                    ],
                    [
                      "Casemiro",
                      "21-22"
                    ],
                    [
                      "Dani Ceballos",
                      "21-22"
                    ],
                    [
                      "Thibaut Courtois",
                      "21-22"
                    ],
                    [
                      "Mario Gila",
                      "21-22"
                    ],
                    [
                      "Peter González",
                      "21-22"
                    ],
                    [
                      "Miguel Gutiérrez",
                      "21-22"
                    ],
                    [
                      "Eden Hazard",
                      "21-22"
                    ],
                    [
                      "Isco",
                      "21-22"
                    ],
                    [
                      "Luka Jović",
                      "21-22"
                    ],
                    [
                      "Vinicius Júnior",
                      "21-22"
                    ],
                    [
                      "Toni Kroos",
                      "21-22"
                    ],
                    [
                      "Juanmi Latasa",
                      "21-22"
                    ],
                    [
                      "Andriy Lunin",
                      "21-22"
                    ],
                    [
                      "Marcelo",
                      "21-22"
                    ],
                    [
                      "Mariano",
                      "21-22"
                    ],
                    [
                      "Ferland Mendy",
                      "21-22"
                    ],
                    [
                      "Éder Militão",
                      "21-22"
                    ],
                    [
                      "Luka Modrić",
                      "21-22"
                    ],
                    [
                      "Nacho",
                      "21-22"
                    ],
                    [
                      "Rodrygo",
                      "21-22"
                    ],
                    [
                      "Sergio Santos",
                      "21-22"
                    ],
                    [
                      "Jesús Vallejo",
                      "21-22"
                    ],
                    [
                      "Federico Valverde",
                      "21-22"
                    ],
                    [
                      "Lucas Vázquez",
                      "21-22"
                    ]
                  ],
                  "hovertemplate": "periodo=%{customdata[1]}<br>Age=%{x}<br>Gls=%{y}<br>MP=%{marker.size}<br>Player=%{customdata[0]}<extra></extra>",
                  "legendgroup": "21-22",
                  "marker": {
                    "color": "#6366f1",
                    "size": {
                      "bdata": "Hh8FIAEaGCALJAIDAxIODyMcAQIMCRYiHBwhAQUfHQ==",
                      "dtype": "i1"
                    },
                    "sizemode": "area",
                    "sizeref": 0.0925,
                    "symbol": "circle"
                  },
                  "mode": "markers",
                  "name": "21-22",
                  "orientation": "v",
                  "showlegend": true,
                  "type": "scatter",
                  "x": {
                    "bdata": "AAAAAAAAPUAAAAAAAAA5QAAAAAAAAEBAAAAAAACAQEAAAAAAAAA1QAAAAAAAADJAAAAAAAAAPUAAAAAAAAA9QAAAAAAAADhAAAAAAAAAPUAAAAAAAAA0QAAAAAAAADNAAAAAAAAANEAAAAAAAAA+QAAAAAAAAD1AAAAAAAAAN0AAAAAAAAA1QAAAAAAAAD9AAAAAAAAANEAAAAAAAAA2QAAAAAAAgEBAAAAAAAAAO0AAAAAAAAA6QAAAAAAAADdAAAAAAACAQUAAAAAAAAA/QAAAAAAAADRAAAAAAAAANEAAAAAAAAA4QAAAAAAAADdAAAAAAAAAPkA=",
                    "dtype": "f8"
                  },
                  "xaxis": "x",
                  "y": {
                    "bdata": "AAAAAAAAAEAAAAAAAAAkQAAAAAAAAPA/AAAAAAAAO0AAAAAAAAAAAAAAAAAAAABAAAAAAAAA8D8AAAAAAADwPwAAAAAAAAAAAAAAAAAAAAAAAAAAAAAAAAAAAAAAAAAAAAAAAAAAAAAAAAAAAAAAAAAAAAAAAPA/AAAAAAAA8D8AAAAAAAAxQAAAAAAAAPA/AAAAAAAAAAAAAAAAAAAAAAAAAAAAAAAAAAAAAAAA8D8AAAAAAAAAQAAAAAAAAPA/AAAAAAAAAEAAAAAAAAAIQAAAAAAAABBAAAAAAAAAAAAAAAAAAAAAAAAAAAAAAAAAAAAAAAAACEA=",
                    "dtype": "f8"
                  },
                  "yaxis": "y"
                },
                {
                  "hovertemplate": "<b>OLS trendline</b><br>Gls = 0.198437 * Age + -2.51471<br>R<sup>2</sup>=0.029842<br><br>periodo=21-22<br>Age=%{x}<br>Gls=%{y} <b>(trend)</b><extra></extra>",
                  "legendgroup": "21-22",
                  "marker": {
                    "color": "#6366f1",
                    "symbol": "circle"
                  },
                  "mode": "lines",
                  "name": "21-22",
                  "showlegend": false,
                  "type": "scatter",
                  "x": {
                    "bdata": "AAAAAAAAMkAAAAAAAAAzQAAAAAAAADRAAAAAAAAANEAAAAAAAAA0QAAAAAAAADRAAAAAAAAANEAAAAAAAAA1QAAAAAAAADVAAAAAAAAANkAAAAAAAAA3QAAAAAAAADdAAAAAAAAAN0AAAAAAAAA4QAAAAAAAADhAAAAAAAAAOUAAAAAAAAA6QAAAAAAAADtAAAAAAAAAPUAAAAAAAAA9QAAAAAAAAD1AAAAAAAAAPUAAAAAAAAA9QAAAAAAAAD5AAAAAAAAAPkAAAAAAAAA/QAAAAAAAAD9AAAAAAAAAQEAAAAAAAIBAQAAAAAAAgEBAAAAAAACAQUA=",
                    "dtype": "f8"
                  },
                  "xaxis": "x",
                  "y": {
                    "bdata": "uFbbCiHq8D/Ueyxp7Rb0P/Cgfce5Q/c/8KB9x7lD9z/woH3HuUP3P/Cgfce5Q/c/8KB9x7lD9z8Mxs4lhnD6PwzGziWGcPo/KOsfhFKd/T8iiDhxD2UAQCKIOHEPZQBAIog4cQ9lAECwGmGgdfsBQLAaYaB1+wFAPq2Jz9uRA0DMP7L+QSgFQFrS2i2ovgZAdvcrjHTrCUB29yuMdOsJQHb3K4x06wlAdvcrjHTrCUB29yuMdOsJQASKVLvagQtABIpUu9qBC0CSHH3qQBgNQJIcfepAGA1AIK+lGaeuDkDXIGekhiIQQNcgZ6SGIhBAZbOP0+y4EUA=",
                    "dtype": "f8"
                  },
                  "yaxis": "y"
                },
                {
                  "customdata": [
                    [
                      "David Alaba",
                      "22-23"
                    ],
                    [
                      "Sergio Arribas",
                      "22-23"
                    ],
                    [
                      "Marco Asensio",
                      "22-23"
                    ],
                    [
                      "Karim Benzema",
                      "22-23"
                    ],
                    [
                      "Eduardo Camavinga",
                      "22-23"
                    ],
                    [
                      "Dani Carvajal",
                      "22-23"
                    ],
                    [
                      "Casemiro",
                      "22-23"
                    ],
                    [
                      "Dani Ceballos",
                      "22-23"
                    ],
                    [
                      "Thibaut Courtois",
                      "22-23"
                    ],
                    [
                      "Eden Hazard",
                      "22-23"
                    ],
                    [
                      "Vinicius Júnior",
                      "22-23"
                    ],
                    [
                      "Toni Kroos",
                      "22-23"
                    ],
                    [
                      "Andriy Lunin",
                      "22-23"
                    ],
                    [
                      "Mariano",
                      "22-23"
                    ],
                    [
                      "Ferland Mendy",
                      "22-23"
                    ],
                    [
                      "Éder Militão",
                      "22-23"
                    ],
                    [
                      "Luka Modrić",
                      "22-23"
                    ],
                    [
                      "Nacho",
                      "22-23"
                    ],
                    [
                      "Álvaro Odriozola",
                      "22-23"
                    ],
                    [
                      "Álvaro Rodríguez",
                      "22-23"
                    ],
                    [
                      "Rodrygo",
                      "22-23"
                    ],
                    [
                      "Antonio Rüdiger",
                      "22-23"
                    ],
                    [
                      "Aurélien Tchouaméni",
                      "22-23"
                    ],
                    [
                      "Jesús Vallejo",
                      "22-23"
                    ],
                    [
                      "Federico Valverde",
                      "22-23"
                    ],
                    [
                      "Lucas Vázquez",
                      "22-23"
                    ]
                  ],
                  "hovertemplate": "periodo=%{customdata[1]}<br>Age=%{x}<br>Gls=%{y}<br>MP=%{marker.size}<br>Player=%{customdata[0]}<extra></extra>",
                  "legendgroup": "22-23",
                  "marker": {
                    "color": "#8b5cf6",
                    "size": {
                      "bdata": "FwIfGCUbAR4fBiEeBwkSISEbAwYiISEBIhc=",
                      "dtype": "i1"
                    },
                    "sizemode": "area",
                    "sizeref": 0.0925,
                    "symbol": "circle"
                  },
                  "mode": "markers",
                  "name": "22-23",
                  "orientation": "v",
                  "showlegend": true,
                  "type": "scatter",
                  "x": {
                    "bdata": "AAAAAAAAPkAAAAAAAAA0QAAAAAAAADpAAAAAAAAAQUAAAAAAAAAzQAAAAAAAAD5AAAAAAAAAPkAAAAAAAAA5QAAAAAAAAD5AAAAAAAAAP0AAAAAAAAA2QAAAAAAAAEBAAAAAAAAAN0AAAAAAAAA8QAAAAAAAADtAAAAAAAAAOEAAAAAAAABCQAAAAAAAAEBAAAAAAAAAOkAAAAAAAAAyQAAAAAAAADVAAAAAAAAAPUAAAAAAAAA2QAAAAAAAADlAAAAAAAAAOEAAAAAAAAA/QA==",
                    "dtype": "f8"
                  },
                  "xaxis": "x",
                  "y": {
                    "bdata": "AAAAAAAA8D8AAAAAAAAAAAAAAAAAACJAAAAAAAAAM0AAAAAAAAAAAAAAAAAAAAAAAAAAAAAAAAAAAAAAAAAAAAAAAAAAAAAAAAAAAAAAAAAAAAAAAAAkQAAAAAAAAABAAAAAAAAAAAAAAAAAAAAAAAAAAAAAAAAAAAAAAAAAFEAAAAAAAAAQQAAAAAAAAPA/AAAAAAAAAAAAAAAAAADwPwAAAAAAACJAAAAAAAAA8D8AAAAAAAAAAAAAAAAAAAAAAAAAAAAAHEAAAAAAAAAQQA==",
                    "dtype": "f8"
                  },
                  "yaxis": "y"
                },
                {
                  "hovertemplate": "<b>OLS trendline</b><br>Gls = 0.115896 * Age + -0.29031<br>R<sup>2</sup>=0.014520<br><br>periodo=22-23<br>Age=%{x}<br>Gls=%{y} <b>(trend)</b><extra></extra>",
                  "legendgroup": "22-23",
                  "marker": {
                    "color": "#8b5cf6",
                    "symbol": "circle"
                  },
                  "mode": "lines",
                  "name": "22-23",
                  "showlegend": false,
                  "type": "scatter",
                  "x": {
                    "bdata": "AAAAAAAAMkAAAAAAAAAzQAAAAAAAADRAAAAAAAAANUAAAAAAAAA2QAAAAAAAADZAAAAAAAAAN0AAAAAAAAA4QAAAAAAAADhAAAAAAAAAOUAAAAAAAAA5QAAAAAAAADpAAAAAAAAAOkAAAAAAAAA7QAAAAAAAADxAAAAAAAAAPUAAAAAAAAA+QAAAAAAAAD5AAAAAAAAAPkAAAAAAAAA+QAAAAAAAAD9AAAAAAAAAP0AAAAAAAABAQAAAAAAAAEBAAAAAAAAAQUAAAAAAAABCQA==",
                    "dtype": "f8"
                  },
                  "xaxis": "x",
                  "y": {
                    "bdata": "VqVWA7W7/D8yDJ9Ga5b+P4e588SQOABA9eyX5uslAUBjIDwIRxMCQGMgPAhHEwJA0VPgKaIAA0BAh4RL/e0DQECHhEv97QNArroobVjbBECuuihtWNsEQBzuzI6zyAVAHO7MjrPIBUCKIXGwDrYGQPhUFdJpowdAZoi588SQCEDUu10VIH4JQNS7XRUgfglA1LtdFSB+CUDUu10VIH4JQELvATd7awpAQu8BN3trCkCwIqZY1lgLQLAipljWWAtAjInum4wzDUBo8DbfQg4PQA==",
                    "dtype": "f8"
                  },
                  "yaxis": "y"
                },
                {
                  "customdata": [
                    [
                      "Lucas Vázquez",
                      "23-24"
                    ],
                    [
                      "Federico Valverde",
                      "23-24"
                    ],
                    [
                      "Aurélien Tchouaméni",
                      "23-24"
                    ],
                    [
                      "Antonio Rüdiger",
                      "23-24"
                    ],
                    [
                      "Rodrygo",
                      "23-24"
                    ],
                    [
                      "Álvaro Rodríguez",
                      "23-24"
                    ],
                    [
                      "Nicolás Paz",
                      "23-24"
                    ],
                    [
                      "Nacho",
                      "23-24"
                    ],
                    [
                      "Luka Modrić",
                      "23-24"
                    ],
                    [
                      "Éder Militão",
                      "23-24"
                    ],
                    [
                      "Ferland Mendy",
                      "23-24"
                    ],
                    [
                      "Mario Martín",
                      "23-24"
                    ],
                    [
                      "Andriy Lunin",
                      "23-24"
                    ],
                    [
                      "Toni Kroos",
                      "23-24"
                    ],
                    [
                      "Vinicius Júnior",
                      "23-24"
                    ],
                    [
                      "Joselu",
                      "23-24"
                    ],
                    [
                      "Arda Güler",
                      "23-24"
                    ],
                    [
                      "Gonzalo García",
                      "23-24"
                    ],
                    [
                      "Fran Garcia",
                      "23-24"
                    ],
                    [
                      "Brahim Díaz",
                      "23-24"
                    ],
                    [
                      "Thibaut Courtois",
                      "23-24"
                    ],
                    [
                      "Dani Ceballos",
                      "23-24"
                    ],
                    [
                      "Dani Carvajal",
                      "23-24"
                    ],
                    [
                      "Eduardo Camavinga",
                      "23-24"
                    ],
                    [
                      "Jude Bellingham",
                      "23-24"
                    ],
                    [
                      "Kepa Arrizabalaga",
                      "23-24"
                    ],
                    [
                      "David Alaba",
                      "23-24"
                    ]
                  ],
                  "hovertemplate": "periodo=%{customdata[1]}<br>Age=%{x}<br>Gls=%{y}<br>MP=%{marker.size}<br>Player=%{customdata[0]}<extra></extra>",
                  "legendgroup": "23-24",
                  "marker": {
                    "color": "#ec4899",
                    "size": {
                      "bdata": "HSUbISIBBB0gChcCFSEaIgoCGR8EFBwfHA4O",
                      "dtype": "i1"
                    },
                    "sizemode": "area",
                    "sizeref": 0.0925,
                    "symbol": "circle"
                  },
                  "mode": "markers",
                  "name": "23-24",
                  "orientation": "v",
                  "showlegend": true,
                  "type": "scatter",
                  "x": {
                    "bdata": "AAAAAAAAQEAAAAAAAAA5QAAAAAAAADdAAAAAAAAAPkAAAAAAAAA2QAAAAAAAADNAAAAAAAAAMkAAAAAAAIBAQAAAAAAAgEJAAAAAAAAAOUAAAAAAAAA8QAAAAAAAADNAAAAAAAAAOEAAAAAAAIBAQAAAAAAAADdAAAAAAACAQEAAAAAAAAAyQAAAAAAAADNAAAAAAAAAN0AAAAAAAAA3QAAAAAAAAD9AAAAAAAAAOkAAAAAAAAA/QAAAAAAAADRAAAAAAAAANEAAAAAAAAA8QAAAAAAAAD9A",
                    "dtype": "f8"
                  },
                  "xaxis": "x",
                  "y": {
                    "bdata": "AAAAAAAACEAAAAAAAAAAQAAAAAAAAAhAAAAAAAAA8D8AAAAAAAAkQAAAAAAAAAAAAAAAAAAAAAAAAAAAAAAAAAAAAAAAAABAAAAAAAAAAAAAAAAAAAAAAAAAAAAAAAAAAAAAAAAAAAAAAAAAAADwPwAAAAAAAC5AAAAAAAAAJEAAAAAAAAAYQAAAAAAAAAAAAAAAAAAA8D8AAAAAAAAgQAAAAAAAAAAAAAAAAAAAAAAAAAAAAAAQQAAAAAAAAAAAAAAAAAAAM0AAAAAAAAAAAAAAAAAAAAAA",
                    "dtype": "f8"
                  },
                  "yaxis": "y"
                },
                {
                  "hovertemplate": "<b>OLS trendline</b><br>Gls = -0.147481 * Age + 6.93895<br>R<sup>2</sup>=0.026413<br><br>periodo=23-24<br>Age=%{x}<br>Gls=%{y} <b>(trend)</b><extra></extra>",
                  "legendgroup": "23-24",
                  "marker": {
                    "color": "#ec4899",
                    "symbol": "circle"
                  },
                  "mode": "lines",
                  "name": "23-24",
                  "showlegend": false,
                  "type": "scatter",
                  "x": {
                    "bdata": "AAAAAAAAMkAAAAAAAAAyQAAAAAAAADNAAAAAAAAAM0AAAAAAAAAzQAAAAAAAADRAAAAAAAAANEAAAAAAAAA2QAAAAAAAADdAAAAAAAAAN0AAAAAAAAA3QAAAAAAAADdAAAAAAAAAOEAAAAAAAAA5QAAAAAAAADlAAAAAAAAAOkAAAAAAAAA8QAAAAAAAADxAAAAAAAAAPkAAAAAAAAA/QAAAAAAAAD9AAAAAAAAAP0AAAAAAAABAQAAAAAAAgEBAAAAAAACAQEAAAAAAAIBAQAAAAAAAgEJA",
                    "dtype": "f8"
                  },
                  "xaxis": "x",
                  "y": {
                    "bdata": "bSFDaR4jEUBtIUNpHiMRQIwvmTsZjBBAjC+ZOxmMEECML5k7GYwQQFd73hso6g9AV3veGyjqD0DUszZlE44NQBPQ4gkJYAxAE9DiCQlgDEAT0OIJCWAMQBPQ4gkJYAxAUuyOrv4xC0CQCDtT9AMKQJAIO1P0AwpAzyTn9+nVCEBMXT9B1XkGQExdP0HVeQZAyJWXisAdBEAIskMvtu8CQAiyQy+27wJACLJDL7bvAkBGzu/Tq8EBQITqm3ihkwBAhOqbeKGTAECE6pt4oZMAQPy2mBbwtvc/",
                    "dtype": "f8"
                  },
                  "yaxis": "y"
                },
                {
                  "customdata": [
                    [
                      "Lorenzo Aguado",
                      "24-25"
                    ],
                    [
                      "David Alaba",
                      "24-25"
                    ],
                    [
                      "Raúl Asencio",
                      "24-25"
                    ],
                    [
                      "Jude Bellingham",
                      "24-25"
                    ],
                    [
                      "Eduardo Camavinga",
                      "24-25"
                    ],
                    [
                      "Dani Carvajal",
                      "24-25"
                    ],
                    [
                      "Dani Ceballos",
                      "24-25"
                    ],
                    [
                      "Chema",
                      "24-25"
                    ],
                    [
                      "Thibaut Courtois",
                      "24-25"
                    ],
                    [
                      "Brahim Díaz",
                      "24-25"
                    ],
                    [
                      "Endrick",
                      "24-25"
                    ],
                    [
                      "Fran",
                      "24-25"
                    ],
                    [
                      "Fran Garcia",
                      "24-25"
                    ],
                    [
                      "Gonzalo García",
                      "24-25"
                    ],
                    [
                      "Arda Güler",
                      "24-25"
                    ],
                    [
                      "Vinicius Júnior",
                      "24-25"
                    ],
                    [
                      "Andriy Lunin",
                      "24-25"
                    ],
                    [
                      "Kylian Mbappé",
                      "24-25"
                    ],
                    [
                      "Ferland Mendy",
                      "24-25"
                    ],
                    [
                      "Éder Militão",
                      "24-25"
                    ],
                    [
                      "Luka Modrić",
                      "24-25"
                    ],
                    [
                      "Víctor Muñoz",
                      "24-25"
                    ],
                    [
                      "Jacobo Ramón",
                      "24-25"
                    ],
                    [
                      "Rodrygo",
                      "24-25"
                    ],
                    [
                      "Antonio Rüdiger",
                      "24-25"
                    ],
                    [
                      "Aurélien Tchouaméni",
                      "24-25"
                    ],
                    [
                      "Jesús Vallejo",
                      "24-25"
                    ],
                    [
                      "Federico Valverde",
                      "24-25"
                    ],
                    [
                      "Lucas Vázquez",
                      "24-25"
                    ],
                    [
                      "Daniel Yáñez",
                      "24-25"
                    ]
                  ],
                  "hovertemplate": "periodo=%{customdata[1]}<br>Age=%{x}<br>Gls=%{y}<br>MP=%{marker.size}<br>Player=%{customdata[0]}<extra></extra>",
                  "legendgroup": "24-25",
                  "marker": {
                    "color": "#f59e0b",
                    "size": {
                      "bdata": "AgcXHxMIFwIeHxYBHwMcHgciDgwjAgMeHSAEJCAB",
                      "dtype": "i1"
                    },
                    "sizemode": "area",
                    "sizeref": 0.0925,
                    "symbol": "circle"
                  },
                  "mode": "markers",
                  "name": "24-25",
                  "orientation": "v",
                  "showlegend": true,
                  "type": "scatter",
                  "x": {
                    "bdata": "AAAAAAAANUAAAAAAAABAQAAAAAAAADVAAAAAAAAANUAAAAAAAAA1QAAAAAAAAEBAAAAAAAAAO0AAAAAAAAAzQAAAAAAAAEBAAAAAAAAAOEAAAAAAAAAyQAAAAAAAADNAAAAAAAAAOEAAAAAAAAA0QAAAAAAAADNAAAAAAAAAOEAAAAAAAAA5QAAAAAAAADlAAAAAAAAAPUAAAAAAAAA6QAAAAAAAAENAAAAAAAAANUAAAAAAAAAzQAAAAAAAADdAAAAAAAAAP0AAAAAAAAA4QAAAAAAAADtAAAAAAAAAOkAAAAAAAIBAQAAAAAAAADFA",
                    "dtype": "f8"
                  },
                  "xaxis": "x",
                  "y": {
                    "bdata": "AAAAAAAAAAAAAAAAAAAAAAAAAAAAAAAAAAAAAAAAIkAAAAAAAADwPwAAAAAAAPA/AAAAAAAAAAAAAAAAAAAAAAAAAAAAAAAAAAAAAAAAEEAAAAAAAADwPwAAAAAAAAAAAAAAAAAAAAAAAAAAAAAAAAAAAAAAAAhAAAAAAAAAJkAAAAAAAAAAAAAAAAAAAD9AAAAAAAAAAAAAAAAAAADwPwAAAAAAAABAAAAAAAAAAAAAAAAAAADwPwAAAAAAABhAAAAAAAAAAAAAAAAAAAAAAAAAAAAAAAAAAAAAAAAAGEAAAAAAAADwPwAAAAAAAAAA",
                    "dtype": "f8"
                  },
                  "yaxis": "y"
                },
                {
                  "hovertemplate": "<b>OLS trendline</b><br>Gls = -0.0232904 * Age + 3.17294<br>R<sup>2</sup>=0.000410<br><br>periodo=24-25<br>Age=%{x}<br>Gls=%{y} <b>(trend)</b><extra></extra>",
                  "legendgroup": "24-25",
                  "marker": {
                    "color": "#f59e0b",
                    "symbol": "circle"
                  },
                  "mode": "lines",
                  "name": "24-25",
                  "showlegend": false,
                  "type": "scatter",
                  "x": {
                    "bdata": "AAAAAAAAMUAAAAAAAAAyQAAAAAAAADNAAAAAAAAAM0AAAAAAAAAzQAAAAAAAADNAAAAAAAAANEAAAAAAAAA1QAAAAAAAADVAAAAAAAAANUAAAAAAAAA1QAAAAAAAADVAAAAAAAAAN0AAAAAAAAA4QAAAAAAAADhAAAAAAAAAOEAAAAAAAAA4QAAAAAAAADlAAAAAAAAAOUAAAAAAAAA6QAAAAAAAADpAAAAAAAAAO0AAAAAAAAA7QAAAAAAAAD1AAAAAAAAAP0AAAAAAAABAQAAAAAAAAEBAAAAAAAAAQEAAAAAAAIBAQAAAAAAAAENA",
                    "dtype": "f8"
                  },
                  "xaxis": "x",
                  "y": {
                    "bdata": "zb/MaU83BkAyYwmLnAcGQJYGRqzp1wVAlgZGrOnXBUCWBkas6dcFQJYGRqzp1wVA+6mCzTaoBUBgTb/ug3gFQGBNv+6DeAVAYE2/7oN4BUBgTb/ug3gFQGBNv+6DeAVAKpQ4MR4ZBUCON3VSa+kEQI43dVJr6QRAjjd1UmvpBECON3VSa+kEQPTasXO4uQRA9Nqxc7i5BEBYfu6UBYoEQFh+7pQFigRAvSErtlJaBEC9ISu2UloEQIdopPjs+gNAUa8dO4ebA0C2Ulpc1GsDQLZSWlzUawNAtlJaXNRrA0Aa9pZ9ITwDQBMnxiOjTQJA",
                    "dtype": "f8"
                  },
                  "yaxis": "y"
                }
              ],
              "layout": {
                "legend": {
                  "itemsizing": "constant",
                  "title": {
                    "text": "periodo"
                  },
                  "tracegroupgap": 0
                },
                "margin": {
                  "t": 60
                },
                "template": {
                  "data": {
                    "bar": [
                      {
                        "error_x": {
                          "color": "#2a3f5f"
                        },
                        "error_y": {
                          "color": "#2a3f5f"
                        },
                        "marker": {
                          "line": {
                            "color": "white",
                            "width": 0.5
                          },
                          "pattern": {
                            "fillmode": "overlay",
                            "size": 10,
                            "solidity": 0.2
                          }
                        },
                        "type": "bar"
                      }
                    ],
                    "barpolar": [
                      {
                        "marker": {
                          "line": {
                            "color": "white",
                            "width": 0.5
                          },
                          "pattern": {
                            "fillmode": "overlay",
                            "size": 10,
                            "solidity": 0.2
                          }
                        },
                        "type": "barpolar"
                      }
                    ],
                    "carpet": [
                      {
                        "aaxis": {
                          "endlinecolor": "#2a3f5f",
                          "gridcolor": "#C8D4E3",
                          "linecolor": "#C8D4E3",
                          "minorgridcolor": "#C8D4E3",
                          "startlinecolor": "#2a3f5f"
                        },
                        "baxis": {
                          "endlinecolor": "#2a3f5f",
                          "gridcolor": "#C8D4E3",
                          "linecolor": "#C8D4E3",
                          "minorgridcolor": "#C8D4E3",
                          "startlinecolor": "#2a3f5f"
                        },
                        "type": "carpet"
                      }
                    ],
                    "choropleth": [
                      {
                        "colorbar": {
                          "outlinewidth": 0,
                          "ticks": ""
                        },
                        "type": "choropleth"
                      }
                    ],
                    "contour": [
                      {
                        "colorbar": {
                          "outlinewidth": 0,
                          "ticks": ""
                        },
                        "colorscale": [
                          [
                            0,
                            "#0d0887"
                          ],
                          [
                            0.1111111111111111,
                            "#46039f"
                          ],
                          [
                            0.2222222222222222,
                            "#7201a8"
                          ],
                          [
                            0.3333333333333333,
                            "#9c179e"
                          ],
                          [
                            0.4444444444444444,
                            "#bd3786"
                          ],
                          [
                            0.5555555555555556,
                            "#d8576b"
                          ],
                          [
                            0.6666666666666666,
                            "#ed7953"
                          ],
                          [
                            0.7777777777777778,
                            "#fb9f3a"
                          ],
                          [
                            0.8888888888888888,
                            "#fdca26"
                          ],
                          [
                            1,
                            "#f0f921"
                          ]
                        ],
                        "type": "contour"
                      }
                    ],
                    "contourcarpet": [
                      {
                        "colorbar": {
                          "outlinewidth": 0,
                          "ticks": ""
                        },
                        "type": "contourcarpet"
                      }
                    ],
                    "heatmap": [
                      {
                        "colorbar": {
                          "outlinewidth": 0,
                          "ticks": ""
                        },
                        "colorscale": [
                          [
                            0,
                            "#0d0887"
                          ],
                          [
                            0.1111111111111111,
                            "#46039f"
                          ],
                          [
                            0.2222222222222222,
                            "#7201a8"
                          ],
                          [
                            0.3333333333333333,
                            "#9c179e"
                          ],
                          [
                            0.4444444444444444,
                            "#bd3786"
                          ],
                          [
                            0.5555555555555556,
                            "#d8576b"
                          ],
                          [
                            0.6666666666666666,
                            "#ed7953"
                          ],
                          [
                            0.7777777777777778,
                            "#fb9f3a"
                          ],
                          [
                            0.8888888888888888,
                            "#fdca26"
                          ],
                          [
                            1,
                            "#f0f921"
                          ]
                        ],
                        "type": "heatmap"
                      }
                    ],
                    "histogram": [
                      {
                        "marker": {
                          "pattern": {
                            "fillmode": "overlay",
                            "size": 10,
                            "solidity": 0.2
                          }
                        },
                        "type": "histogram"
                      }
                    ],
                    "histogram2d": [
                      {
                        "colorbar": {
                          "outlinewidth": 0,
                          "ticks": ""
                        },
                        "colorscale": [
                          [
                            0,
                            "#0d0887"
                          ],
                          [
                            0.1111111111111111,
                            "#46039f"
                          ],
                          [
                            0.2222222222222222,
                            "#7201a8"
                          ],
                          [
                            0.3333333333333333,
                            "#9c179e"
                          ],
                          [
                            0.4444444444444444,
                            "#bd3786"
                          ],
                          [
                            0.5555555555555556,
                            "#d8576b"
                          ],
                          [
                            0.6666666666666666,
                            "#ed7953"
                          ],
                          [
                            0.7777777777777778,
                            "#fb9f3a"
                          ],
                          [
                            0.8888888888888888,
                            "#fdca26"
                          ],
                          [
                            1,
                            "#f0f921"
                          ]
                        ],
                        "type": "histogram2d"
                      }
                    ],
                    "histogram2dcontour": [
                      {
                        "colorbar": {
                          "outlinewidth": 0,
                          "ticks": ""
                        },
                        "colorscale": [
                          [
                            0,
                            "#0d0887"
                          ],
                          [
                            0.1111111111111111,
                            "#46039f"
                          ],
                          [
                            0.2222222222222222,
                            "#7201a8"
                          ],
                          [
                            0.3333333333333333,
                            "#9c179e"
                          ],
                          [
                            0.4444444444444444,
                            "#bd3786"
                          ],
                          [
                            0.5555555555555556,
                            "#d8576b"
                          ],
                          [
                            0.6666666666666666,
                            "#ed7953"
                          ],
                          [
                            0.7777777777777778,
                            "#fb9f3a"
                          ],
                          [
                            0.8888888888888888,
                            "#fdca26"
                          ],
                          [
                            1,
                            "#f0f921"
                          ]
                        ],
                        "type": "histogram2dcontour"
                      }
                    ],
                    "mesh3d": [
                      {
                        "colorbar": {
                          "outlinewidth": 0,
                          "ticks": ""
                        },
                        "type": "mesh3d"
                      }
                    ],
                    "parcoords": [
                      {
                        "line": {
                          "colorbar": {
                            "outlinewidth": 0,
                            "ticks": ""
                          }
                        },
                        "type": "parcoords"
                      }
                    ],
                    "pie": [
                      {
                        "automargin": true,
                        "type": "pie"
                      }
                    ],
                    "scatter": [
                      {
                        "fillpattern": {
                          "fillmode": "overlay",
                          "size": 10,
                          "solidity": 0.2
                        },
                        "type": "scatter"
                      }
                    ],
                    "scatter3d": [
                      {
                        "line": {
                          "colorbar": {
                            "outlinewidth": 0,
                            "ticks": ""
                          }
                        },
                        "marker": {
                          "colorbar": {
                            "outlinewidth": 0,
                            "ticks": ""
                          }
                        },
                        "type": "scatter3d"
                      }
                    ],
                    "scattercarpet": [
                      {
                        "marker": {
                          "colorbar": {
                            "outlinewidth": 0,
                            "ticks": ""
                          }
                        },
                        "type": "scattercarpet"
                      }
                    ],
                    "scattergeo": [
                      {
                        "marker": {
                          "colorbar": {
                            "outlinewidth": 0,
                            "ticks": ""
                          }
                        },
                        "type": "scattergeo"
                      }
                    ],
                    "scattergl": [
                      {
                        "marker": {
                          "colorbar": {
                            "outlinewidth": 0,
                            "ticks": ""
                          }
                        },
                        "type": "scattergl"
                      }
                    ],
                    "scattermap": [
                      {
                        "marker": {
                          "colorbar": {
                            "outlinewidth": 0,
                            "ticks": ""
                          }
                        },
                        "type": "scattermap"
                      }
                    ],
                    "scattermapbox": [
                      {
                        "marker": {
                          "colorbar": {
                            "outlinewidth": 0,
                            "ticks": ""
                          }
                        },
                        "type": "scattermapbox"
                      }
                    ],
                    "scatterpolar": [
                      {
                        "marker": {
                          "colorbar": {
                            "outlinewidth": 0,
                            "ticks": ""
                          }
                        },
                        "type": "scatterpolar"
                      }
                    ],
                    "scatterpolargl": [
                      {
                        "marker": {
                          "colorbar": {
                            "outlinewidth": 0,
                            "ticks": ""
                          }
                        },
                        "type": "scatterpolargl"
                      }
                    ],
                    "scatterternary": [
                      {
                        "marker": {
                          "colorbar": {
                            "outlinewidth": 0,
                            "ticks": ""
                          }
                        },
                        "type": "scatterternary"
                      }
                    ],
                    "surface": [
                      {
                        "colorbar": {
                          "outlinewidth": 0,
                          "ticks": ""
                        },
                        "colorscale": [
                          [
                            0,
                            "#0d0887"
                          ],
                          [
                            0.1111111111111111,
                            "#46039f"
                          ],
                          [
                            0.2222222222222222,
                            "#7201a8"
                          ],
                          [
                            0.3333333333333333,
                            "#9c179e"
                          ],
                          [
                            0.4444444444444444,
                            "#bd3786"
                          ],
                          [
                            0.5555555555555556,
                            "#d8576b"
                          ],
                          [
                            0.6666666666666666,
                            "#ed7953"
                          ],
                          [
                            0.7777777777777778,
                            "#fb9f3a"
                          ],
                          [
                            0.8888888888888888,
                            "#fdca26"
                          ],
                          [
                            1,
                            "#f0f921"
                          ]
                        ],
                        "type": "surface"
                      }
                    ],
                    "table": [
                      {
                        "cells": {
                          "fill": {
                            "color": "#EBF0F8"
                          },
                          "line": {
                            "color": "white"
                          }
                        },
                        "header": {
                          "fill": {
                            "color": "#C8D4E3"
                          },
                          "line": {
                            "color": "white"
                          }
                        },
                        "type": "table"
                      }
                    ]
                  },
                  "layout": {
                    "annotationdefaults": {
                      "arrowcolor": "#2a3f5f",
                      "arrowhead": 0,
                      "arrowwidth": 1
                    },
                    "autotypenumbers": "strict",
                    "coloraxis": {
                      "colorbar": {
                        "outlinewidth": 0,
                        "ticks": ""
                      }
                    },
                    "colorscale": {
                      "diverging": [
                        [
                          0,
                          "#8e0152"
                        ],
                        [
                          0.1,
                          "#c51b7d"
                        ],
                        [
                          0.2,
                          "#de77ae"
                        ],
                        [
                          0.3,
                          "#f1b6da"
                        ],
                        [
                          0.4,
                          "#fde0ef"
                        ],
                        [
                          0.5,
                          "#f7f7f7"
                        ],
                        [
                          0.6,
                          "#e6f5d0"
                        ],
                        [
                          0.7,
                          "#b8e186"
                        ],
                        [
                          0.8,
                          "#7fbc41"
                        ],
                        [
                          0.9,
                          "#4d9221"
                        ],
                        [
                          1,
                          "#276419"
                        ]
                      ],
                      "sequential": [
                        [
                          0,
                          "#0d0887"
                        ],
                        [
                          0.1111111111111111,
                          "#46039f"
                        ],
                        [
                          0.2222222222222222,
                          "#7201a8"
                        ],
                        [
                          0.3333333333333333,
                          "#9c179e"
                        ],
                        [
                          0.4444444444444444,
                          "#bd3786"
                        ],
                        [
                          0.5555555555555556,
                          "#d8576b"
                        ],
                        [
                          0.6666666666666666,
                          "#ed7953"
                        ],
                        [
                          0.7777777777777778,
                          "#fb9f3a"
                        ],
                        [
                          0.8888888888888888,
                          "#fdca26"
                        ],
                        [
                          1,
                          "#f0f921"
                        ]
                      ],
                      "sequentialminus": [
                        [
                          0,
                          "#0d0887"
                        ],
                        [
                          0.1111111111111111,
                          "#46039f"
                        ],
                        [
                          0.2222222222222222,
                          "#7201a8"
                        ],
                        [
                          0.3333333333333333,
                          "#9c179e"
                        ],
                        [
                          0.4444444444444444,
                          "#bd3786"
                        ],
                        [
                          0.5555555555555556,
                          "#d8576b"
                        ],
                        [
                          0.6666666666666666,
                          "#ed7953"
                        ],
                        [
                          0.7777777777777778,
                          "#fb9f3a"
                        ],
                        [
                          0.8888888888888888,
                          "#fdca26"
                        ],
                        [
                          1,
                          "#f0f921"
                        ]
                      ]
                    },
                    "colorway": [
                      "#636efa",
                      "#EF553B",
                      "#00cc96",
                      "#ab63fa",
                      "#FFA15A",
                      "#19d3f3",
                      "#FF6692",
                      "#B6E880",
                      "#FF97FF",
                      "#FECB52"
                    ],
                    "font": {
                      "color": "#2a3f5f"
                    },
                    "geo": {
                      "bgcolor": "white",
                      "lakecolor": "white",
                      "landcolor": "white",
                      "showlakes": true,
                      "showland": true,
                      "subunitcolor": "#C8D4E3"
                    },
                    "hoverlabel": {
                      "align": "left"
                    },
                    "hovermode": "closest",
                    "mapbox": {
                      "style": "light"
                    },
                    "paper_bgcolor": "white",
                    "plot_bgcolor": "white",
                    "polar": {
                      "angularaxis": {
                        "gridcolor": "#EBF0F8",
                        "linecolor": "#EBF0F8",
                        "ticks": ""
                      },
                      "bgcolor": "white",
                      "radialaxis": {
                        "gridcolor": "#EBF0F8",
                        "linecolor": "#EBF0F8",
                        "ticks": ""
                      }
                    },
                    "scene": {
                      "xaxis": {
                        "backgroundcolor": "white",
                        "gridcolor": "#DFE8F3",
                        "gridwidth": 2,
                        "linecolor": "#EBF0F8",
                        "showbackground": true,
                        "ticks": "",
                        "zerolinecolor": "#EBF0F8"
                      },
                      "yaxis": {
                        "backgroundcolor": "white",
                        "gridcolor": "#DFE8F3",
                        "gridwidth": 2,
                        "linecolor": "#EBF0F8",
                        "showbackground": true,
                        "ticks": "",
                        "zerolinecolor": "#EBF0F8"
                      },
                      "zaxis": {
                        "backgroundcolor": "white",
                        "gridcolor": "#DFE8F3",
                        "gridwidth": 2,
                        "linecolor": "#EBF0F8",
                        "showbackground": true,
                        "ticks": "",
                        "zerolinecolor": "#EBF0F8"
                      }
                    },
                    "shapedefaults": {
                      "line": {
                        "color": "#2a3f5f"
                      }
                    },
                    "ternary": {
                      "aaxis": {
                        "gridcolor": "#DFE8F3",
                        "linecolor": "#A2B1C6",
                        "ticks": ""
                      },
                      "baxis": {
                        "gridcolor": "#DFE8F3",
                        "linecolor": "#A2B1C6",
                        "ticks": ""
                      },
                      "bgcolor": "white",
                      "caxis": {
                        "gridcolor": "#DFE8F3",
                        "linecolor": "#A2B1C6",
                        "ticks": ""
                      }
                    },
                    "title": {
                      "x": 0.05
                    },
                    "xaxis": {
                      "automargin": true,
                      "gridcolor": "#EBF0F8",
                      "linecolor": "#EBF0F8",
                      "ticks": "",
                      "title": {
                        "standoff": 15
                      },
                      "zerolinecolor": "#EBF0F8",
                      "zerolinewidth": 2
                    },
                    "yaxis": {
                      "automargin": true,
                      "gridcolor": "#EBF0F8",
                      "linecolor": "#EBF0F8",
                      "ticks": "",
                      "title": {
                        "standoff": 15
                      },
                      "zerolinecolor": "#EBF0F8",
                      "zerolinewidth": 2
                    }
                  }
                },
                "title": {
                  "text": "Edad vs Goles (Correlación: 0.03)"
                },
                "xaxis": {
                  "anchor": "y",
                  "domain": [
                    0,
                    1
                  ],
                  "title": {
                    "text": "Edad"
                  }
                },
                "yaxis": {
                  "anchor": "x",
                  "domain": [
                    0,
                    1
                  ],
                  "title": {
                    "text": "Goles"
                  }
                }
              }
            }
          },
          "metadata": {},
          "output_type": "display_data"
        }
      ],
      "source": [
        "# Edad vs Goles\n",
        "fig = px.scatter(df, x='Age', y='Gls', hover_data=['Player', 'periodo'],\n",
        "                size='MP', color='periodo', trendline='ols',\n",
        "                color_discrete_sequence=['#6366f1', '#8b5cf6', '#ec4899', '#f59e0b'])\n",
        "fig.update_layout(title=f'Edad vs Goles (Correlación: {df[\"Age\"].corr(df[\"Gls\"]):.2f})',\n",
        "                 xaxis_title='Edad', yaxis_title='Goles', template='plotly_white')\n",
        "fig.show()\n"
      ]
    },
    {
      "cell_type": "code",
      "execution_count": 151,
      "metadata": {},
      "outputs": [
        {
          "data": {
            "application/vnd.plotly.v1+json": {
              "config": {
                "plotlyServerURL": "https://plot.ly"
              },
              "data": [
                {
                  "customdata": [
                    [
                      "David Alaba",
                      "21-22"
                    ],
                    [
                      "Marco Asensio",
                      "21-22"
                    ],
                    [
                      "Gareth Bale",
                      "21-22"
                    ],
                    [
                      "Karim Benzema",
                      "21-22"
                    ],
                    [
                      "Antonio Blanco",
                      "21-22"
                    ],
                    [
                      "Eduardo Camavinga",
                      "21-22"
                    ],
                    [
                      "Dani Carvajal",
                      "21-22"
                    ],
                    [
                      "Casemiro",
                      "21-22"
                    ],
                    [
                      "Dani Ceballos",
                      "21-22"
                    ],
                    [
                      "Thibaut Courtois",
                      "21-22"
                    ],
                    [
                      "Mario Gila",
                      "21-22"
                    ],
                    [
                      "Peter González",
                      "21-22"
                    ],
                    [
                      "Miguel Gutiérrez",
                      "21-22"
                    ],
                    [
                      "Eden Hazard",
                      "21-22"
                    ],
                    [
                      "Isco",
                      "21-22"
                    ],
                    [
                      "Luka Jović",
                      "21-22"
                    ],
                    [
                      "Vinicius Júnior",
                      "21-22"
                    ],
                    [
                      "Toni Kroos",
                      "21-22"
                    ],
                    [
                      "Juanmi Latasa",
                      "21-22"
                    ],
                    [
                      "Andriy Lunin",
                      "21-22"
                    ],
                    [
                      "Marcelo",
                      "21-22"
                    ],
                    [
                      "Mariano",
                      "21-22"
                    ],
                    [
                      "Ferland Mendy",
                      "21-22"
                    ],
                    [
                      "Éder Militão",
                      "21-22"
                    ],
                    [
                      "Luka Modrić",
                      "21-22"
                    ],
                    [
                      "Nacho",
                      "21-22"
                    ],
                    [
                      "Rodrygo",
                      "21-22"
                    ],
                    [
                      "Sergio Santos",
                      "21-22"
                    ],
                    [
                      "Jesús Vallejo",
                      "21-22"
                    ],
                    [
                      "Federico Valverde",
                      "21-22"
                    ],
                    [
                      "Lucas Vázquez",
                      "21-22"
                    ]
                  ],
                  "hovertemplate": "periodo=%{customdata[1]}<br>Age=%{x}<br>Ast=%{y}<br>MP=%{marker.size}<br>Player=%{customdata[0]}<extra></extra>",
                  "legendgroup": "21-22",
                  "marker": {
                    "color": "#6366f1",
                    "size": {
                      "bdata": "Hh8FIAEaGCALJAIDAxIODyMcAQIMCRYiHBwhAQUfHQ==",
                      "dtype": "i1"
                    },
                    "sizemode": "area",
                    "sizeref": 0.0925,
                    "symbol": "circle"
                  },
                  "mode": "markers",
                  "name": "21-22",
                  "orientation": "v",
                  "showlegend": true,
                  "type": "scatter",
                  "x": {
                    "bdata": "AAAAAAAAPUAAAAAAAAA5QAAAAAAAAEBAAAAAAACAQEAAAAAAAAA1QAAAAAAAADJAAAAAAAAAPUAAAAAAAAA9QAAAAAAAADhAAAAAAAAAPUAAAAAAAAA0QAAAAAAAADNAAAAAAAAANEAAAAAAAAA+QAAAAAAAAD1AAAAAAAAAN0AAAAAAAAA1QAAAAAAAAD9AAAAAAAAANEAAAAAAAAA2QAAAAAAAgEBAAAAAAAAAO0AAAAAAAAA6QAAAAAAAADdAAAAAAACAQUAAAAAAAAA/QAAAAAAAADRAAAAAAAAANEAAAAAAAAA4QAAAAAAAADdAAAAAAAAAPkA=",
                    "dtype": "f8"
                  },
                  "xaxis": "x",
                  "y": {
                    "bdata": "AAAAAAAACEAAAAAAAAAAAAAAAAAAAAAAAAAAAAAAKEAAAAAAAAAAAAAAAAAAAPA/AAAAAAAACEAAAAAAAAAIQAAAAAAAAAAAAAAAAAAAAAAAAAAAAAAAAAAAAAAAAAAAAAAAAAAA8D8AAAAAAADwPwAAAAAAAAAAAAAAAAAACEAAAAAAAAAkQAAAAAAAAAhAAAAAAAAAAAAAAAAAAAAAAAAAAAAAAABAAAAAAAAA8D8AAAAAAADwPwAAAAAAAABAAAAAAAAAIEAAAAAAAAAAAAAAAAAAABBAAAAAAAAAAAAAAAAAAAAAAAAAAAAAAPA/AAAAAAAAAAA=",
                    "dtype": "f8"
                  },
                  "yaxis": "y"
                },
                {
                  "hovertemplate": "<b>OLS trendline</b><br>Ast = 0.176969 * Age + -2.64088<br>R<sup>2</sup>=0.085005<br><br>periodo=21-22<br>Age=%{x}<br>Ast=%{y} <b>(trend)</b><extra></extra>",
                  "legendgroup": "21-22",
                  "marker": {
                    "color": "#6366f1",
                    "symbol": "circle"
                  },
                  "mode": "lines",
                  "name": "21-22",
                  "showlegend": false,
                  "type": "scatter",
                  "x": {
                    "bdata": "AAAAAAAAMkAAAAAAAAAzQAAAAAAAADRAAAAAAAAANEAAAAAAAAA0QAAAAAAAADRAAAAAAAAANEAAAAAAAAA1QAAAAAAAADVAAAAAAAAANkAAAAAAAAA3QAAAAAAAADdAAAAAAAAAN0AAAAAAAAA4QAAAAAAAADhAAAAAAAAAOUAAAAAAAAA6QAAAAAAAADtAAAAAAAAAPUAAAAAAAAA9QAAAAAAAAD1AAAAAAAAAPUAAAAAAAAA9QAAAAAAAAD5AAAAAAAAAPkAAAAAAAAA/QAAAAAAAAD9AAAAAAAAAQEAAAAAAAIBAQAAAAAAAgEBAAAAAAACAQUA=",
                    "dtype": "f8"
                  },
                  "xaxis": "x",
                  "y": {
                    "bdata": "RLM3Ogpt4T84rmwhxRbnPyipoQiAwOw/KKmhCIDA7D8oqaEIgMDsPyipoQiAwOw/KKmhCIDA7D8MUut3HTXxPwxS63cdNfE/hs+F6/oJ9D/+TCBf2N72P/5MIF/Y3vY//kwgX9je9j92yrrStbP5P3bKutK1s/k/7kdVRpOI/D9mxe+5cF3/P28hxRYnGQFA6Z5figTuA0Dpnl+KBO4DQOmeX4oE7gNA6Z5figTuA0Dpnl+KBO4DQKXdLERzWAVApd0sRHNYBUBhHPr94cIGQGEc+v3hwgZAHVvHt1AtCEDZmZRxv5cJQNmZlHG/lwlAURcv5ZxsDEA=",
                    "dtype": "f8"
                  },
                  "yaxis": "y"
                },
                {
                  "customdata": [
                    [
                      "David Alaba",
                      "22-23"
                    ],
                    [
                      "Sergio Arribas",
                      "22-23"
                    ],
                    [
                      "Marco Asensio",
                      "22-23"
                    ],
                    [
                      "Karim Benzema",
                      "22-23"
                    ],
                    [
                      "Eduardo Camavinga",
                      "22-23"
                    ],
                    [
                      "Dani Carvajal",
                      "22-23"
                    ],
                    [
                      "Casemiro",
                      "22-23"
                    ],
                    [
                      "Dani Ceballos",
                      "22-23"
                    ],
                    [
                      "Thibaut Courtois",
                      "22-23"
                    ],
                    [
                      "Eden Hazard",
                      "22-23"
                    ],
                    [
                      "Vinicius Júnior",
                      "22-23"
                    ],
                    [
                      "Toni Kroos",
                      "22-23"
                    ],
                    [
                      "Andriy Lunin",
                      "22-23"
                    ],
                    [
                      "Mariano",
                      "22-23"
                    ],
                    [
                      "Ferland Mendy",
                      "22-23"
                    ],
                    [
                      "Éder Militão",
                      "22-23"
                    ],
                    [
                      "Luka Modrić",
                      "22-23"
                    ],
                    [
                      "Nacho",
                      "22-23"
                    ],
                    [
                      "Álvaro Odriozola",
                      "22-23"
                    ],
                    [
                      "Álvaro Rodríguez",
                      "22-23"
                    ],
                    [
                      "Rodrygo",
                      "22-23"
                    ],
                    [
                      "Antonio Rüdiger",
                      "22-23"
                    ],
                    [
                      "Aurélien Tchouaméni",
                      "22-23"
                    ],
                    [
                      "Jesús Vallejo",
                      "22-23"
                    ],
                    [
                      "Federico Valverde",
                      "22-23"
                    ],
                    [
                      "Lucas Vázquez",
                      "22-23"
                    ]
                  ],
                  "hovertemplate": "periodo=%{customdata[1]}<br>Age=%{x}<br>Ast=%{y}<br>MP=%{marker.size}<br>Player=%{customdata[0]}<extra></extra>",
                  "legendgroup": "22-23",
                  "marker": {
                    "color": "#8b5cf6",
                    "size": {
                      "bdata": "FwIfGCUbAR4fBiEeBwkSISEbAwYiISEBIhc=",
                      "dtype": "i1"
                    },
                    "sizemode": "area",
                    "sizeref": 0.0925,
                    "symbol": "circle"
                  },
                  "mode": "markers",
                  "name": "22-23",
                  "orientation": "v",
                  "showlegend": true,
                  "type": "scatter",
                  "x": {
                    "bdata": "AAAAAAAAPkAAAAAAAAA0QAAAAAAAADpAAAAAAAAAQUAAAAAAAAAzQAAAAAAAAD5AAAAAAAAAPkAAAAAAAAA5QAAAAAAAAD5AAAAAAAAAP0AAAAAAAAA2QAAAAAAAAEBAAAAAAAAAN0AAAAAAAAA8QAAAAAAAADtAAAAAAAAAOEAAAAAAAABCQAAAAAAAAEBAAAAAAAAAOkAAAAAAAAAyQAAAAAAAADVAAAAAAAAAPUAAAAAAAAA2QAAAAAAAADlAAAAAAAAAOEAAAAAAAAA/QA==",
                    "dtype": "f8"
                  },
                  "xaxis": "x",
                  "y": {
                    "bdata": "AAAAAAAACEAAAAAAAAAAAAAAAAAAABhAAAAAAAAACEAAAAAAAADwPwAAAAAAAABAAAAAAAAAAAAAAAAAAAAQQAAAAAAAAAAAAAAAAAAA8D8AAAAAAAAiQAAAAAAAABBAAAAAAAAAAAAAAAAAAAAAAAAAAAAAAPA/AAAAAAAAAAAAAAAAAAAIQAAAAAAAAPA/AAAAAAAAAAAAAAAAAADwPwAAAAAAACBAAAAAAAAAAAAAAAAAAAAQQAAAAAAAAAAAAAAAAAAAEEAAAAAAAADwPw==",
                    "dtype": "f8"
                  },
                  "yaxis": "y"
                },
                {
                  "hovertemplate": "<b>OLS trendline</b><br>Ast = -0.0781114 * Age + 4.24182<br>R<sup>2</sup>=0.021743<br><br>periodo=22-23<br>Age=%{x}<br>Ast=%{y} <b>(trend)</b><extra></extra>",
                  "legendgroup": "22-23",
                  "marker": {
                    "color": "#8b5cf6",
                    "symbol": "circle"
                  },
                  "mode": "lines",
                  "name": "22-23",
                  "showlegend": false,
                  "type": "scatter",
                  "x": {
                    "bdata": "AAAAAAAAMkAAAAAAAAAzQAAAAAAAADRAAAAAAAAANUAAAAAAAAA2QAAAAAAAADZAAAAAAAAAN0AAAAAAAAA4QAAAAAAAADhAAAAAAAAAOUAAAAAAAAA5QAAAAAAAADpAAAAAAAAAOkAAAAAAAAA7QAAAAAAAADxAAAAAAAAAPUAAAAAAAAA+QAAAAAAAAD5AAAAAAAAAPkAAAAAAAAA+QAAAAAAAAD9AAAAAAAAAP0AAAAAAAABAQAAAAAAAAEBAAAAAAAAAQUAAAAAAAABCQA==",
                    "dtype": "f8"
                  },
                  "xaxis": "x",
                  "y": {
                    "bdata": "BCWs0cGvBkDqwOrwyA8GQNBcKRDQbwVAtvhnL9fPBECclKZO3i8EQJyUpk7eLwRAgjDlbeWPA0BozCON7O8CQGjMI43s7wJATmhirPNPAkBOaGKs808CQDUEocv6rwFANQShy/qvAUAboN/qARABQAE8HgoJcABAzq+5UiCg/z+c5zaRLmD+P5znNpEuYP4/nOc2kS5g/j+c5zaRLmD+P2gftM88IP0/aB+0zzwg/T80VzEOS+D7PzRXMQ5L4Ps/zMYri2dg+T9mNiYIhOD2Pw==",
                    "dtype": "f8"
                  },
                  "yaxis": "y"
                },
                {
                  "customdata": [
                    [
                      "Lucas Vázquez",
                      "23-24"
                    ],
                    [
                      "Federico Valverde",
                      "23-24"
                    ],
                    [
                      "Aurélien Tchouaméni",
                      "23-24"
                    ],
                    [
                      "Antonio Rüdiger",
                      "23-24"
                    ],
                    [
                      "Rodrygo",
                      "23-24"
                    ],
                    [
                      "Álvaro Rodríguez",
                      "23-24"
                    ],
                    [
                      "Nicolás Paz",
                      "23-24"
                    ],
                    [
                      "Nacho",
                      "23-24"
                    ],
                    [
                      "Luka Modrić",
                      "23-24"
                    ],
                    [
                      "Éder Militão",
                      "23-24"
                    ],
                    [
                      "Ferland Mendy",
                      "23-24"
                    ],
                    [
                      "Mario Martín",
                      "23-24"
                    ],
                    [
                      "Andriy Lunin",
                      "23-24"
                    ],
                    [
                      "Toni Kroos",
                      "23-24"
                    ],
                    [
                      "Vinicius Júnior",
                      "23-24"
                    ],
                    [
                      "Joselu",
                      "23-24"
                    ],
                    [
                      "Arda Güler",
                      "23-24"
                    ],
                    [
                      "Gonzalo García",
                      "23-24"
                    ],
                    [
                      "Fran Garcia",
                      "23-24"
                    ],
                    [
                      "Brahim Díaz",
                      "23-24"
                    ],
                    [
                      "Thibaut Courtois",
                      "23-24"
                    ],
                    [
                      "Dani Ceballos",
                      "23-24"
                    ],
                    [
                      "Dani Carvajal",
                      "23-24"
                    ],
                    [
                      "Eduardo Camavinga",
                      "23-24"
                    ],
                    [
                      "Jude Bellingham",
                      "23-24"
                    ],
                    [
                      "Kepa Arrizabalaga",
                      "23-24"
                    ],
                    [
                      "David Alaba",
                      "23-24"
                    ]
                  ],
                  "hovertemplate": "periodo=%{customdata[1]}<br>Age=%{x}<br>Ast=%{y}<br>MP=%{marker.size}<br>Player=%{customdata[0]}<extra></extra>",
                  "legendgroup": "23-24",
                  "marker": {
                    "color": "#ec4899",
                    "size": {
                      "bdata": "HSUbISIBBB0gChcCFSEaIgoCGR8EFBwfHA4O",
                      "dtype": "i1"
                    },
                    "sizemode": "area",
                    "sizeref": 0.0925,
                    "symbol": "circle"
                  },
                  "mode": "markers",
                  "name": "23-24",
                  "orientation": "v",
                  "showlegend": true,
                  "type": "scatter",
                  "x": {
                    "bdata": "AAAAAAAAQEAAAAAAAAA5QAAAAAAAADdAAAAAAAAAPkAAAAAAAAA2QAAAAAAAADNAAAAAAAAAMkAAAAAAAIBAQAAAAAAAgEJAAAAAAAAAOUAAAAAAAAA8QAAAAAAAADNAAAAAAAAAOEAAAAAAAIBAQAAAAAAAADdAAAAAAACAQEAAAAAAAAAyQAAAAAAAADNAAAAAAAAAN0AAAAAAAAA3QAAAAAAAAD9AAAAAAAAAOkAAAAAAAAA/QAAAAAAAADRAAAAAAAAANEAAAAAAAAA8QAAAAAAAAD9A",
                    "dtype": "f8"
                  },
                  "xaxis": "x",
                  "y": {
                    "bdata": "AAAAAAAAGEAAAAAAAAAcQAAAAAAAAPA/AAAAAAAAAAAAAAAAAAAUQAAAAAAAAAAAAAAAAAAAAAAAAAAAAADwPwAAAAAAABhAAAAAAAAAAAAAAAAAAAAAAAAAAAAAAAAAAAAAAAAAAAAAAAAAAAAgQAAAAAAAABRAAAAAAAAAAEAAAAAAAAAAAAAAAAAAAAAAAAAAAAAAFEAAAAAAAAAYQAAAAAAAAAAAAAAAAAAAAEAAAAAAAAAIQAAAAAAAAABAAAAAAAAAGEAAAAAAAAAAAAAAAAAAAPA/",
                    "dtype": "f8"
                  },
                  "yaxis": "y"
                },
                {
                  "hovertemplate": "<b>OLS trendline</b><br>Ast = 0.114886 * Age + -0.508551<br>R<sup>2</sup>=0.054623<br><br>periodo=23-24<br>Age=%{x}<br>Ast=%{y} <b>(trend)</b><extra></extra>",
                  "legendgroup": "23-24",
                  "marker": {
                    "color": "#ec4899",
                    "symbol": "circle"
                  },
                  "mode": "lines",
                  "name": "23-24",
                  "showlegend": false,
                  "type": "scatter",
                  "x": {
                    "bdata": "AAAAAAAAMkAAAAAAAAAyQAAAAAAAADNAAAAAAAAAM0AAAAAAAAAzQAAAAAAAADRAAAAAAAAANEAAAAAAAAA2QAAAAAAAADdAAAAAAAAAN0AAAAAAAAA3QAAAAAAAADdAAAAAAAAAOEAAAAAAAAA5QAAAAAAAADlAAAAAAAAAOkAAAAAAAAA8QAAAAAAAADxAAAAAAAAAPkAAAAAAAAA/QAAAAAAAAD9AAAAAAAAAP0AAAAAAAABAQAAAAAAAgEBAAAAAAACAQEAAAAAAAIBAQAAAAAAAgEJA",
                    "dtype": "f8"
                  },
                  "xaxis": "x",
                  "y": {
                    "bdata": "emQLGUrz+D96ZAsZSvP4Pw5gfMncyfo/DmB8ydzJ+j8OYHzJ3Mn6P6Bb7XlvoPw/oFvteW+g/D9kqWdtyiYAQC0noMUTEgFALSegxRMSAUAtJ6DFExIBQC0noMUTEgFA96TYHV39AUDBIhF2pugCQMEiEXam6AJAiqBJzu/TA0AenLp+gqoFQB6cun6CqgVAsZcrLxWBB0B6FWSHXmwIQHoVZIdebAhAehVkh15sCEBEk5zfp1cJQA4R1TfxQgpADhHVN/FCCkAOEdU38UIKQDQIt5gW8A1A",
                    "dtype": "f8"
                  },
                  "yaxis": "y"
                },
                {
                  "customdata": [
                    [
                      "Lorenzo Aguado",
                      "24-25"
                    ],
                    [
                      "David Alaba",
                      "24-25"
                    ],
                    [
                      "Raúl Asencio",
                      "24-25"
                    ],
                    [
                      "Jude Bellingham",
                      "24-25"
                    ],
                    [
                      "Eduardo Camavinga",
                      "24-25"
                    ],
                    [
                      "Dani Carvajal",
                      "24-25"
                    ],
                    [
                      "Dani Ceballos",
                      "24-25"
                    ],
                    [
                      "Chema",
                      "24-25"
                    ],
                    [
                      "Thibaut Courtois",
                      "24-25"
                    ],
                    [
                      "Brahim Díaz",
                      "24-25"
                    ],
                    [
                      "Endrick",
                      "24-25"
                    ],
                    [
                      "Fran",
                      "24-25"
                    ],
                    [
                      "Fran Garcia",
                      "24-25"
                    ],
                    [
                      "Gonzalo García",
                      "24-25"
                    ],
                    [
                      "Arda Güler",
                      "24-25"
                    ],
                    [
                      "Vinicius Júnior",
                      "24-25"
                    ],
                    [
                      "Andriy Lunin",
                      "24-25"
                    ],
                    [
                      "Kylian Mbappé",
                      "24-25"
                    ],
                    [
                      "Ferland Mendy",
                      "24-25"
                    ],
                    [
                      "Éder Militão",
                      "24-25"
                    ],
                    [
                      "Luka Modrić",
                      "24-25"
                    ],
                    [
                      "Víctor Muñoz",
                      "24-25"
                    ],
                    [
                      "Jacobo Ramón",
                      "24-25"
                    ],
                    [
                      "Rodrygo",
                      "24-25"
                    ],
                    [
                      "Antonio Rüdiger",
                      "24-25"
                    ],
                    [
                      "Aurélien Tchouaméni",
                      "24-25"
                    ],
                    [
                      "Jesús Vallejo",
                      "24-25"
                    ],
                    [
                      "Federico Valverde",
                      "24-25"
                    ],
                    [
                      "Lucas Vázquez",
                      "24-25"
                    ],
                    [
                      "Daniel Yáñez",
                      "24-25"
                    ]
                  ],
                  "hovertemplate": "periodo=%{customdata[1]}<br>Age=%{x}<br>Ast=%{y}<br>MP=%{marker.size}<br>Player=%{customdata[0]}<extra></extra>",
                  "legendgroup": "24-25",
                  "marker": {
                    "color": "#f59e0b",
                    "size": {
                      "bdata": "AgcXHxMIFwIeHxYBHwMcHgciDgwjAgMeHSAEJCAB",
                      "dtype": "i1"
                    },
                    "sizemode": "area",
                    "sizeref": 0.0925,
                    "symbol": "circle"
                  },
                  "mode": "markers",
                  "name": "24-25",
                  "orientation": "v",
                  "showlegend": true,
                  "type": "scatter",
                  "x": {
                    "bdata": "AAAAAAAANUAAAAAAAABAQAAAAAAAADVAAAAAAAAANUAAAAAAAAA1QAAAAAAAAEBAAAAAAAAAO0AAAAAAAAAzQAAAAAAAAEBAAAAAAAAAOEAAAAAAAAAyQAAAAAAAADNAAAAAAAAAOEAAAAAAAAA0QAAAAAAAADNAAAAAAAAAOEAAAAAAAAA5QAAAAAAAADlAAAAAAAAAPUAAAAAAAAA6QAAAAAAAAENAAAAAAAAANUAAAAAAAAAzQAAAAAAAADdAAAAAAAAAP0AAAAAAAAA4QAAAAAAAADtAAAAAAAAAOkAAAAAAAIBAQAAAAAAAADFA",
                    "dtype": "f8"
                  },
                  "xaxis": "x",
                  "y": {
                    "bdata": "AAAAAAAAAAAAAAAAAAAAAAAAAAAAAPA/AAAAAAAAIEAAAAAAAAAAQAAAAAAAAAAAAAAAAAAAAAAAAAAAAAAAAAAAAAAAAAAAAAAAAAAAAEAAAAAAAAAAAAAAAAAAAAAAAAAAAAAAAEAAAAAAAADwPwAAAAAAABBAAAAAAAAAIEAAAAAAAADwPwAAAAAAAAhAAAAAAAAA8D8AAAAAAADwPwAAAAAAABhAAAAAAAAAAAAAAAAAAAAAAAAAAAAAABRAAAAAAAAAAAAAAAAAAAAAAAAAAAAAAPA/AAAAAAAAEEAAAAAAAAAUQAAAAAAAAAAA",
                    "dtype": "f8"
                  },
                  "yaxis": "y"
                },
                {
                  "hovertemplate": "<b>OLS trendline</b><br>Ast = 0.0693756 * Age + 0.126693<br>R<sup>2</sup>=0.022566<br><br>periodo=24-25<br>Age=%{x}<br>Ast=%{y} <b>(trend)</b><extra></extra>",
                  "legendgroup": "24-25",
                  "marker": {
                    "color": "#f59e0b",
                    "symbol": "circle"
                  },
                  "mode": "lines",
                  "name": "24-25",
                  "showlegend": false,
                  "type": "scatter",
                  "x": {
                    "bdata": "AAAAAAAAMUAAAAAAAAAyQAAAAAAAADNAAAAAAAAAM0AAAAAAAAAzQAAAAAAAADNAAAAAAAAANEAAAAAAAAA1QAAAAAAAADVAAAAAAAAANUAAAAAAAAA1QAAAAAAAADVAAAAAAAAAN0AAAAAAAAA4QAAAAAAAADhAAAAAAAAAOEAAAAAAAAA4QAAAAAAAADlAAAAAAAAAOUAAAAAAAAA6QAAAAAAAADpAAAAAAAAAO0AAAAAAAAA7QAAAAAAAAD1AAAAAAAAAP0AAAAAAAABAQAAAAAAAAEBAAAAAAAAAQEAAAAAAAIBAQAAAAAAAAENA",
                    "dtype": "f8"
                  },
                  "xaxis": "x",
                  "y": {
                    "bdata": "CFF2s7Ll9D9Ic39P3AH2P4mViOsFHvc/iZWI6wUe9z+JlYjrBR73P4mViOsFHvc/ybeRhy86+D8K2pojWVb5PwramiNZVvk/CtqaI1lW+T8K2pojWVb5PwramiNZVvk/ix6tW6yO+z/MQLb31ar8P8xAtvfVqvw/zEC299Wq/D/MQLb31ar8Pwxjv5P/xv0/DGO/k//G/T9NhcgvKeP+P02FyC8p4/4/jafRy1L//z+Np9HLUv//Pwf28QHTGwFASBj7nfw3AkBoqf9rEcYCQGip/2sRxgJAaKn/axHGAkCIOgQ6JlQDQCoQG0COGgZA",
                    "dtype": "f8"
                  },
                  "yaxis": "y"
                }
              ],
              "layout": {
                "legend": {
                  "itemsizing": "constant",
                  "title": {
                    "text": "periodo"
                  },
                  "tracegroupgap": 0
                },
                "margin": {
                  "t": 60
                },
                "template": {
                  "data": {
                    "bar": [
                      {
                        "error_x": {
                          "color": "#2a3f5f"
                        },
                        "error_y": {
                          "color": "#2a3f5f"
                        },
                        "marker": {
                          "line": {
                            "color": "white",
                            "width": 0.5
                          },
                          "pattern": {
                            "fillmode": "overlay",
                            "size": 10,
                            "solidity": 0.2
                          }
                        },
                        "type": "bar"
                      }
                    ],
                    "barpolar": [
                      {
                        "marker": {
                          "line": {
                            "color": "white",
                            "width": 0.5
                          },
                          "pattern": {
                            "fillmode": "overlay",
                            "size": 10,
                            "solidity": 0.2
                          }
                        },
                        "type": "barpolar"
                      }
                    ],
                    "carpet": [
                      {
                        "aaxis": {
                          "endlinecolor": "#2a3f5f",
                          "gridcolor": "#C8D4E3",
                          "linecolor": "#C8D4E3",
                          "minorgridcolor": "#C8D4E3",
                          "startlinecolor": "#2a3f5f"
                        },
                        "baxis": {
                          "endlinecolor": "#2a3f5f",
                          "gridcolor": "#C8D4E3",
                          "linecolor": "#C8D4E3",
                          "minorgridcolor": "#C8D4E3",
                          "startlinecolor": "#2a3f5f"
                        },
                        "type": "carpet"
                      }
                    ],
                    "choropleth": [
                      {
                        "colorbar": {
                          "outlinewidth": 0,
                          "ticks": ""
                        },
                        "type": "choropleth"
                      }
                    ],
                    "contour": [
                      {
                        "colorbar": {
                          "outlinewidth": 0,
                          "ticks": ""
                        },
                        "colorscale": [
                          [
                            0,
                            "#0d0887"
                          ],
                          [
                            0.1111111111111111,
                            "#46039f"
                          ],
                          [
                            0.2222222222222222,
                            "#7201a8"
                          ],
                          [
                            0.3333333333333333,
                            "#9c179e"
                          ],
                          [
                            0.4444444444444444,
                            "#bd3786"
                          ],
                          [
                            0.5555555555555556,
                            "#d8576b"
                          ],
                          [
                            0.6666666666666666,
                            "#ed7953"
                          ],
                          [
                            0.7777777777777778,
                            "#fb9f3a"
                          ],
                          [
                            0.8888888888888888,
                            "#fdca26"
                          ],
                          [
                            1,
                            "#f0f921"
                          ]
                        ],
                        "type": "contour"
                      }
                    ],
                    "contourcarpet": [
                      {
                        "colorbar": {
                          "outlinewidth": 0,
                          "ticks": ""
                        },
                        "type": "contourcarpet"
                      }
                    ],
                    "heatmap": [
                      {
                        "colorbar": {
                          "outlinewidth": 0,
                          "ticks": ""
                        },
                        "colorscale": [
                          [
                            0,
                            "#0d0887"
                          ],
                          [
                            0.1111111111111111,
                            "#46039f"
                          ],
                          [
                            0.2222222222222222,
                            "#7201a8"
                          ],
                          [
                            0.3333333333333333,
                            "#9c179e"
                          ],
                          [
                            0.4444444444444444,
                            "#bd3786"
                          ],
                          [
                            0.5555555555555556,
                            "#d8576b"
                          ],
                          [
                            0.6666666666666666,
                            "#ed7953"
                          ],
                          [
                            0.7777777777777778,
                            "#fb9f3a"
                          ],
                          [
                            0.8888888888888888,
                            "#fdca26"
                          ],
                          [
                            1,
                            "#f0f921"
                          ]
                        ],
                        "type": "heatmap"
                      }
                    ],
                    "histogram": [
                      {
                        "marker": {
                          "pattern": {
                            "fillmode": "overlay",
                            "size": 10,
                            "solidity": 0.2
                          }
                        },
                        "type": "histogram"
                      }
                    ],
                    "histogram2d": [
                      {
                        "colorbar": {
                          "outlinewidth": 0,
                          "ticks": ""
                        },
                        "colorscale": [
                          [
                            0,
                            "#0d0887"
                          ],
                          [
                            0.1111111111111111,
                            "#46039f"
                          ],
                          [
                            0.2222222222222222,
                            "#7201a8"
                          ],
                          [
                            0.3333333333333333,
                            "#9c179e"
                          ],
                          [
                            0.4444444444444444,
                            "#bd3786"
                          ],
                          [
                            0.5555555555555556,
                            "#d8576b"
                          ],
                          [
                            0.6666666666666666,
                            "#ed7953"
                          ],
                          [
                            0.7777777777777778,
                            "#fb9f3a"
                          ],
                          [
                            0.8888888888888888,
                            "#fdca26"
                          ],
                          [
                            1,
                            "#f0f921"
                          ]
                        ],
                        "type": "histogram2d"
                      }
                    ],
                    "histogram2dcontour": [
                      {
                        "colorbar": {
                          "outlinewidth": 0,
                          "ticks": ""
                        },
                        "colorscale": [
                          [
                            0,
                            "#0d0887"
                          ],
                          [
                            0.1111111111111111,
                            "#46039f"
                          ],
                          [
                            0.2222222222222222,
                            "#7201a8"
                          ],
                          [
                            0.3333333333333333,
                            "#9c179e"
                          ],
                          [
                            0.4444444444444444,
                            "#bd3786"
                          ],
                          [
                            0.5555555555555556,
                            "#d8576b"
                          ],
                          [
                            0.6666666666666666,
                            "#ed7953"
                          ],
                          [
                            0.7777777777777778,
                            "#fb9f3a"
                          ],
                          [
                            0.8888888888888888,
                            "#fdca26"
                          ],
                          [
                            1,
                            "#f0f921"
                          ]
                        ],
                        "type": "histogram2dcontour"
                      }
                    ],
                    "mesh3d": [
                      {
                        "colorbar": {
                          "outlinewidth": 0,
                          "ticks": ""
                        },
                        "type": "mesh3d"
                      }
                    ],
                    "parcoords": [
                      {
                        "line": {
                          "colorbar": {
                            "outlinewidth": 0,
                            "ticks": ""
                          }
                        },
                        "type": "parcoords"
                      }
                    ],
                    "pie": [
                      {
                        "automargin": true,
                        "type": "pie"
                      }
                    ],
                    "scatter": [
                      {
                        "fillpattern": {
                          "fillmode": "overlay",
                          "size": 10,
                          "solidity": 0.2
                        },
                        "type": "scatter"
                      }
                    ],
                    "scatter3d": [
                      {
                        "line": {
                          "colorbar": {
                            "outlinewidth": 0,
                            "ticks": ""
                          }
                        },
                        "marker": {
                          "colorbar": {
                            "outlinewidth": 0,
                            "ticks": ""
                          }
                        },
                        "type": "scatter3d"
                      }
                    ],
                    "scattercarpet": [
                      {
                        "marker": {
                          "colorbar": {
                            "outlinewidth": 0,
                            "ticks": ""
                          }
                        },
                        "type": "scattercarpet"
                      }
                    ],
                    "scattergeo": [
                      {
                        "marker": {
                          "colorbar": {
                            "outlinewidth": 0,
                            "ticks": ""
                          }
                        },
                        "type": "scattergeo"
                      }
                    ],
                    "scattergl": [
                      {
                        "marker": {
                          "colorbar": {
                            "outlinewidth": 0,
                            "ticks": ""
                          }
                        },
                        "type": "scattergl"
                      }
                    ],
                    "scattermap": [
                      {
                        "marker": {
                          "colorbar": {
                            "outlinewidth": 0,
                            "ticks": ""
                          }
                        },
                        "type": "scattermap"
                      }
                    ],
                    "scattermapbox": [
                      {
                        "marker": {
                          "colorbar": {
                            "outlinewidth": 0,
                            "ticks": ""
                          }
                        },
                        "type": "scattermapbox"
                      }
                    ],
                    "scatterpolar": [
                      {
                        "marker": {
                          "colorbar": {
                            "outlinewidth": 0,
                            "ticks": ""
                          }
                        },
                        "type": "scatterpolar"
                      }
                    ],
                    "scatterpolargl": [
                      {
                        "marker": {
                          "colorbar": {
                            "outlinewidth": 0,
                            "ticks": ""
                          }
                        },
                        "type": "scatterpolargl"
                      }
                    ],
                    "scatterternary": [
                      {
                        "marker": {
                          "colorbar": {
                            "outlinewidth": 0,
                            "ticks": ""
                          }
                        },
                        "type": "scatterternary"
                      }
                    ],
                    "surface": [
                      {
                        "colorbar": {
                          "outlinewidth": 0,
                          "ticks": ""
                        },
                        "colorscale": [
                          [
                            0,
                            "#0d0887"
                          ],
                          [
                            0.1111111111111111,
                            "#46039f"
                          ],
                          [
                            0.2222222222222222,
                            "#7201a8"
                          ],
                          [
                            0.3333333333333333,
                            "#9c179e"
                          ],
                          [
                            0.4444444444444444,
                            "#bd3786"
                          ],
                          [
                            0.5555555555555556,
                            "#d8576b"
                          ],
                          [
                            0.6666666666666666,
                            "#ed7953"
                          ],
                          [
                            0.7777777777777778,
                            "#fb9f3a"
                          ],
                          [
                            0.8888888888888888,
                            "#fdca26"
                          ],
                          [
                            1,
                            "#f0f921"
                          ]
                        ],
                        "type": "surface"
                      }
                    ],
                    "table": [
                      {
                        "cells": {
                          "fill": {
                            "color": "#EBF0F8"
                          },
                          "line": {
                            "color": "white"
                          }
                        },
                        "header": {
                          "fill": {
                            "color": "#C8D4E3"
                          },
                          "line": {
                            "color": "white"
                          }
                        },
                        "type": "table"
                      }
                    ]
                  },
                  "layout": {
                    "annotationdefaults": {
                      "arrowcolor": "#2a3f5f",
                      "arrowhead": 0,
                      "arrowwidth": 1
                    },
                    "autotypenumbers": "strict",
                    "coloraxis": {
                      "colorbar": {
                        "outlinewidth": 0,
                        "ticks": ""
                      }
                    },
                    "colorscale": {
                      "diverging": [
                        [
                          0,
                          "#8e0152"
                        ],
                        [
                          0.1,
                          "#c51b7d"
                        ],
                        [
                          0.2,
                          "#de77ae"
                        ],
                        [
                          0.3,
                          "#f1b6da"
                        ],
                        [
                          0.4,
                          "#fde0ef"
                        ],
                        [
                          0.5,
                          "#f7f7f7"
                        ],
                        [
                          0.6,
                          "#e6f5d0"
                        ],
                        [
                          0.7,
                          "#b8e186"
                        ],
                        [
                          0.8,
                          "#7fbc41"
                        ],
                        [
                          0.9,
                          "#4d9221"
                        ],
                        [
                          1,
                          "#276419"
                        ]
                      ],
                      "sequential": [
                        [
                          0,
                          "#0d0887"
                        ],
                        [
                          0.1111111111111111,
                          "#46039f"
                        ],
                        [
                          0.2222222222222222,
                          "#7201a8"
                        ],
                        [
                          0.3333333333333333,
                          "#9c179e"
                        ],
                        [
                          0.4444444444444444,
                          "#bd3786"
                        ],
                        [
                          0.5555555555555556,
                          "#d8576b"
                        ],
                        [
                          0.6666666666666666,
                          "#ed7953"
                        ],
                        [
                          0.7777777777777778,
                          "#fb9f3a"
                        ],
                        [
                          0.8888888888888888,
                          "#fdca26"
                        ],
                        [
                          1,
                          "#f0f921"
                        ]
                      ],
                      "sequentialminus": [
                        [
                          0,
                          "#0d0887"
                        ],
                        [
                          0.1111111111111111,
                          "#46039f"
                        ],
                        [
                          0.2222222222222222,
                          "#7201a8"
                        ],
                        [
                          0.3333333333333333,
                          "#9c179e"
                        ],
                        [
                          0.4444444444444444,
                          "#bd3786"
                        ],
                        [
                          0.5555555555555556,
                          "#d8576b"
                        ],
                        [
                          0.6666666666666666,
                          "#ed7953"
                        ],
                        [
                          0.7777777777777778,
                          "#fb9f3a"
                        ],
                        [
                          0.8888888888888888,
                          "#fdca26"
                        ],
                        [
                          1,
                          "#f0f921"
                        ]
                      ]
                    },
                    "colorway": [
                      "#636efa",
                      "#EF553B",
                      "#00cc96",
                      "#ab63fa",
                      "#FFA15A",
                      "#19d3f3",
                      "#FF6692",
                      "#B6E880",
                      "#FF97FF",
                      "#FECB52"
                    ],
                    "font": {
                      "color": "#2a3f5f"
                    },
                    "geo": {
                      "bgcolor": "white",
                      "lakecolor": "white",
                      "landcolor": "white",
                      "showlakes": true,
                      "showland": true,
                      "subunitcolor": "#C8D4E3"
                    },
                    "hoverlabel": {
                      "align": "left"
                    },
                    "hovermode": "closest",
                    "mapbox": {
                      "style": "light"
                    },
                    "paper_bgcolor": "white",
                    "plot_bgcolor": "white",
                    "polar": {
                      "angularaxis": {
                        "gridcolor": "#EBF0F8",
                        "linecolor": "#EBF0F8",
                        "ticks": ""
                      },
                      "bgcolor": "white",
                      "radialaxis": {
                        "gridcolor": "#EBF0F8",
                        "linecolor": "#EBF0F8",
                        "ticks": ""
                      }
                    },
                    "scene": {
                      "xaxis": {
                        "backgroundcolor": "white",
                        "gridcolor": "#DFE8F3",
                        "gridwidth": 2,
                        "linecolor": "#EBF0F8",
                        "showbackground": true,
                        "ticks": "",
                        "zerolinecolor": "#EBF0F8"
                      },
                      "yaxis": {
                        "backgroundcolor": "white",
                        "gridcolor": "#DFE8F3",
                        "gridwidth": 2,
                        "linecolor": "#EBF0F8",
                        "showbackground": true,
                        "ticks": "",
                        "zerolinecolor": "#EBF0F8"
                      },
                      "zaxis": {
                        "backgroundcolor": "white",
                        "gridcolor": "#DFE8F3",
                        "gridwidth": 2,
                        "linecolor": "#EBF0F8",
                        "showbackground": true,
                        "ticks": "",
                        "zerolinecolor": "#EBF0F8"
                      }
                    },
                    "shapedefaults": {
                      "line": {
                        "color": "#2a3f5f"
                      }
                    },
                    "ternary": {
                      "aaxis": {
                        "gridcolor": "#DFE8F3",
                        "linecolor": "#A2B1C6",
                        "ticks": ""
                      },
                      "baxis": {
                        "gridcolor": "#DFE8F3",
                        "linecolor": "#A2B1C6",
                        "ticks": ""
                      },
                      "bgcolor": "white",
                      "caxis": {
                        "gridcolor": "#DFE8F3",
                        "linecolor": "#A2B1C6",
                        "ticks": ""
                      }
                    },
                    "title": {
                      "x": 0.05
                    },
                    "xaxis": {
                      "automargin": true,
                      "gridcolor": "#EBF0F8",
                      "linecolor": "#EBF0F8",
                      "ticks": "",
                      "title": {
                        "standoff": 15
                      },
                      "zerolinecolor": "#EBF0F8",
                      "zerolinewidth": 2
                    },
                    "yaxis": {
                      "automargin": true,
                      "gridcolor": "#EBF0F8",
                      "linecolor": "#EBF0F8",
                      "ticks": "",
                      "title": {
                        "standoff": 15
                      },
                      "zerolinecolor": "#EBF0F8",
                      "zerolinewidth": 2
                    }
                  }
                },
                "title": {
                  "text": "Edad vs Asistencias (Correlación: 0.16)"
                },
                "xaxis": {
                  "anchor": "y",
                  "domain": [
                    0,
                    1
                  ],
                  "title": {
                    "text": "Edad"
                  }
                },
                "yaxis": {
                  "anchor": "x",
                  "domain": [
                    0,
                    1
                  ],
                  "title": {
                    "text": "Asistencias"
                  }
                }
              }
            }
          },
          "metadata": {},
          "output_type": "display_data"
        }
      ],
      "source": [
        "# Edad vs Asistencias\n",
        "fig = px.scatter(df, x='Age', y='Ast', hover_data=['Player', 'periodo'],\n",
        "                size='MP', color='periodo', trendline='ols',\n",
        "                color_discrete_sequence=['#6366f1', '#8b5cf6', '#ec4899', '#f59e0b'])\n",
        "fig.update_layout(title=f'Edad vs Asistencias (Correlación: {df[\"Age\"].corr(df[\"Ast\"]):.2f})',\n",
        "                 xaxis_title='Edad', yaxis_title='Asistencias', template='plotly_white')\n",
        "fig.show()\n"
      ]
    },
    {
      "cell_type": "markdown",
      "metadata": {},
      "source": [
        "df # Para datos que no estan estandarizados (hacer graficos)\n",
        "df_std # Datos estandarizados (ver correlaciones, pca, hacer modelos)"
      ]
    }
  ],
  "metadata": {
    "kernelspec": {
      "display_name": ".venv",
      "language": "python",
      "name": "python3"
    },
    "language_info": {
      "codemirror_mode": {
        "name": "ipython",
        "version": 3
      },
      "file_extension": ".py",
      "mimetype": "text/x-python",
      "name": "python",
      "nbconvert_exporter": "python",
      "pygments_lexer": "ipython3",
      "version": "3.12.3"
    }
  },
  "nbformat": 4,
  "nbformat_minor": 2
}
